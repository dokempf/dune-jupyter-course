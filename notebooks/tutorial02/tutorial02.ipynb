{
 "cells": [
  {
   "cell_type": "markdown",
   "id": "41c8b026",
   "metadata": {},
   "source": [
    "# Tutorial 02: Cell-Centered Finite Volume Method"
   ]
  },
  {
   "cell_type": "markdown",
   "id": "acec5401",
   "metadata": {},
   "source": [
    "This tutorial solves the same partial differential equation (PDE) as tutorial 01, namely\n",
    "a nonlinear Poisson equation, with the following differences:\n",
    "\n",
    "1. Implements a cell-centered finite volume method with two-point flux approximation as an example of a non-conforming scheme.\n",
    "2. Implements *all* possible methods of a local operator.\n"
   ]
  },
  {
   "cell_type": "markdown",
   "id": "e281412e",
   "metadata": {
    "heading_collapsed": true
   },
   "source": [
    "# PDE Problem"
   ]
  },
  {
   "cell_type": "markdown",
   "id": "09c0ad82",
   "metadata": {
    "hidden": true
   },
   "source": [
    "Consider the following nonlinear Poisson equation (the same as in tutorial 01) with Dirichlet and Neumann boundary conditions:\n",
    "\\begin{equation} \\label{eq:ProblemStrong}\n",
    "\\begin{aligned}\n",
    "-\\Delta u + q(u) &= f &&\\text{in $\\Omega$},\\\\\n",
    "u &= g &&\\text{on $\\Gamma_D\\subseteq\\partial\\Omega$},\\\\\n",
    "-\\nabla u\\cdot \\nu &= j &&\\text{on $\\Gamma_N=\\partial\\Omega\\setminus\\Gamma_D$}.\n",
    "\\end{aligned}\n",
    "\\end{equation}\n",
    "$\\Omega\\subset\\mathbb{R}^d$ is a domain, $q:\\mathbb{R}\\to\\mathbb{R}$ is a given, possibly\n",
    "nonlinear function and $f: \\Omega\\to\\mathbb{R}$ is the source term and\n",
    "$\\nu$ denotes the unit outer normal to the domain."
   ]
  },
  {
   "cell_type": "markdown",
   "id": "28b226e6",
   "metadata": {
    "heading_collapsed": true
   },
   "source": [
    "# Cell-centered Finite Volume Method"
   ]
  },
  {
   "cell_type": "markdown",
   "id": "5672e1da",
   "metadata": {
    "hidden": true
   },
   "source": [
    "The application of the cell-centered finite volume method as presented here is\n",
    "restricted to *axiparallel meshes*. We assume that  the domain $\\Omega$ is covered by a mesh\n",
    "$\\mathcal{T}_h = \\{T_1, \\ldots, T_M\\}$ consisting of elements\n",
    "which are closed sets satisfying\n",
    "\\begin{equation}\n",
    "\\bigcup_{T\\in \\mathcal{T}_h} T = \\overline{\\Omega}, \\quad\n",
    "\\forall T, T' \\in \\mathcal{T}_h, T\\neq T' : \\mathring{T} \\cap \\mathring{T}' = \\emptyset .\n",
    "\\end{equation}\n",
    "In order to describe the method some further notation is needed.\n",
    "The nonempty intersections $F = T_F^-\\cap T_F^+$\n",
    "of codimension 1 form the interior skeleton $\\mathcal{F}_h^i=\\{F_1,\\ldots,F_N\\}$.\n",
    "Each intersection is equipped with a unit normal vector $\\nu_F$ pointing from $T_F^-$ to $T_F^+$.\n",
    "The intersections of an element $F=T_F^-\\cap\\partial\\Omega$ with the domain\n",
    "boundary form the set of boundary intersections $\\mathcal{F}_h^{\\partial\\Omega}=\n",
    "\\{F_1,\\ldots,F_L\\}$ which can be further partitioned into\n",
    "Dirichlet boundary intersections $\\mathcal{F}_h^{\\Gamma_D}$\n",
    "and Neumann boundary intersections $\\mathcal{F}_h^{\\Gamma_N}$.\n",
    "Each boundary intersection is equipped with a unit normal vector\n",
    "$\\nu_F$ which coincides with the unit outer normal to the domain.\n",
    "Furthermore, $x_T$, $x_F$ denotes the center point of an element or face.\n",
    "This notation is illustrated graphically in Figure \\ref{fig:MeshNotation}."
   ]
  },
  {
   "cell_type": "markdown",
   "id": "ea91f9fe",
   "metadata": {
    "hidden": true
   },
   "source": [
    "For the cell-centered finite volume method the discrete function space involved\n",
    "is the space of piecewise constant functions on the mesh:\n",
    "\\begin{equation*}\n",
    "W_h = \\{w\\in L^2(\\Omega) \\,:\\,  \\text{$w|_T=$ const for all $T\\in\\mathcal{T}_h$}\\} .\n",
    "\\end{equation*}\n",
    "\n",
    "In order to derive the residual form we proceed as follows: multiply\n",
    "equation \\eqref{eq:ProblemStrong} with a test function $v\\in W_h$, i.e. \\textit{from\n",
    "the discrete space}, and use integration by parts:\n",
    "\\begin{align*}\n",
    "\\int_{\\Omega} f v \\,dx &= \\int_{\\Omega} [-\\Delta u + q(u)] v\\,dx\\\\\n",
    "&= \\sum_{T\\in\\mathcal{T}_h} v \\int_T -\\Delta u + q(u) \\,dx &&\\text{($v$ const on $T$)}\\\\\n",
    "&= \\sum_{T\\in\\mathcal{T}_h} \\left[\\int_T q(u) v \\,dx - \\int_{\\partial T} \\nabla u \\cdot \\nu v \\,ds\n",
    "\\right] &&\\text{(Gauss' thm.)} \\\\\n",
    "&= \\sum_{T\\in\\mathcal{T}_h} \\int_T q(u) v \\,dx\n",
    "-\\sum_{F\\in\\mathcal{F}_h^i} \\int_F \\nabla u \\cdot \\nu_F \\bigl[v(x_{T_F^-}) - v(x_{T_F^+})\\bigr] \\,ds \\\\\n",
    "& \\hspace{10mm}-\\sum_{F\\in\\mathcal{F}_h^{\\partial\\Omega}} \\int_F \\nabla u \\cdot \\nu_F \\,ds .\n",
    "&&\\text{(rearrange)}\n",
    "\\end{align*}\n",
    "At this point, the normal derivative $\\partial_{\\nu_F} u = \\nabla u\\cdot \\nu_F$\n",
    "is approximated by a difference quotient\n",
    "\\begin{equation*}\n",
    "\\nabla u\\cdot \\nu_F = \\frac{u_h(x_{T_F^+})-u_h(x_{T_F^-})}{\\|x_{T_F^+} - x_{T_F^-}\\|}\n",
    " + \\text{ error}\n",
    "\\end{equation*}\n",
    "and all integrals are approximated by the midpoint rule\n",
    "\\begin{equation*}\n",
    "\\int_T f \\,dx = f(x_T)|T| + \\text{ error}\n",
    "\\end{equation*}\n",
    "where $|T|$ is the measure of $T$.\n",
    "\n",
    "Put together the cell-centered finite volume method can be stated\n",
    "in its abstract form suitable for implementation in PDELab:\n",
    "\\begin{equation}\n",
    "\\boxed{ \\text{Find $u_h\\in W_h$ s.t.:} \\quad r_h^{\\text{CCFV}}(u_h,v) = 0 \\quad \\forall v \\in W_h }\n",
    "\\end{equation}\n",
    "where the residual form is\n",
    "\\begin{equation}\n",
    "\\label{eq:res_form_final}\n",
    "\\begin{split}\n",
    "r_h^{\\text{CCFV}}(u_h,v)\n",
    "& = \\sum_{T\\in\\mathcal{T}_h} q(u_h(x_T)) v(x_T) |T|\n",
    "- \\sum_{T\\in\\mathcal{T}_h} f(x_T) v(x_T) |T|\\\\\n",
    "&\\ - \\sum_{F\\in\\mathcal{F}_h^i}\n",
    "\\frac{u_h(x_{T_F^+})-u_h(x_{T_F^-})}{\\|x_{T_F^+} - x_{T_F^-}\\|}\n",
    "\\bigl[v(x_{T_F^-}) - v(x_{T_F^+})\\bigr] |F|\\\\\n",
    "&\\ + \\sum_{F\\in\\mathcal{F}_h^{\\partial\\Omega}\\cap\\Gamma_D}\n",
    "\\frac{u_h(x_{T_F^-})}{\\|x_{F} - x_{T_F^-}\\|} v(x_{T_F^-}) |F| \\\\\n",
    "&\\ - \\sum_{F\\in\\mathcal{F}_h^{\\partial\\Omega}\\cap\\Gamma_D}\n",
    "\\frac{g(x_{F})}{\\|x_{F} - x_{T_F^-}\\|} v(x_{T_F^-}) |F|\n",
    "+ \\sum_{F\\in\\mathcal{F}_h^{\\partial\\Omega}\\cap\\Gamma_N} j(x_{F}) v(x_{T_F^-}) |F| .\n",
    "\\end{split}\n",
    "\\end{equation}\n",
    "In this case *five* different types of integrals are involved in the\n",
    "residual form:\n",
    "\n",
    "1. Volume integral depending on trial and test function.\n",
    "2. Volume integral depending on test function only.\n",
    "3. Interior intersection integral depending on trial and test function.\n",
    "4. Boundary intersection integral depending on trial and test function.\n",
    "5. Boundary intersection integral depending on test function only.\n",
    "\n",
    "Also note that no constraints on the function space are necessary in this case.\n",
    "Dirichlet as well as Neumann boundary conditions are built weakly into the\n",
    "residual form!\n",
    "\n",
    "Finally, many types of discontinuous Galerkin finite element methods (DGFEM)\n",
    "lead to the same five types of integrals and can be applied on general unstructured\n",
    "conforming as well as nonconforming meshes."
   ]
  },
  {
   "cell_type": "markdown",
   "id": "aa806abb",
   "metadata": {
    "hidden": true
   },
   "source": [
    "## General Residual Form"
   ]
  },
  {
   "cell_type": "markdown",
   "id": "6f49b76a",
   "metadata": {
    "hidden": true
   },
   "source": [
    "The residual form of the cell-centered finite volume method suggests that\n",
    "all residual forms could be composed of five different types of terms\n",
    "in the following way:\n",
    "\\begin{equation}\n",
    "\\begin{split}\n",
    "r(u,v) &=\n",
    "\\sum_{T\\in\\mathcal{T}_h} \\alpha_T^V(R_T u, R_T v)\n",
    "+ \\sum_{T\\in\\mathcal{T}_h} \\lambda_T^V(R_T v) \\\\\n",
    "&\\qquad+ \\sum_{F\\in\\mathcal{F}_h^i} \\alpha_F^S(R_{T_F^-} u,R_{T_F^+} u, R_{T_F^-} v, R_{T_F^+} v)\\\\\n",
    "&\\qquad+ \\sum_{F\\in\\mathcal{F}_h^{\\partial\\Omega}} \\alpha_F^B(R_{T_F^-} u, R_{T_F^-} v)\n",
    "+ \\sum_{F\\in\\mathcal{F}_h^{\\partial\\Omega}} \\lambda_F^B(R_{T_F^-} v) .\n",
    "\\end{split}\\label{eq:GeneralResidualForm}\n",
    "\\end{equation}\n",
    "Here, we define the restriction\n",
    "of a function $u\\in U$ to an element by\n",
    "\\begin{equation*}\n",
    "(R_T u)(x) = u(x) \\quad \\forall x\\in\\mathring{T} .\n",
    "\\end{equation*}\n",
    "Note that the restriction of a function to element $T$ is only defined in\n",
    "the interior of $T$. On interior intersections $F$, functions may be two-valued\n",
    "and limits from within the elements $T_F^-, T_F^+$ need to be defined\n",
    "(when $U$ is the space of element-wise constants that is trivial).\n",
    "\n",
    "The five terms comprise volume integrals (superscript $V$), interior skeleton integrals\n",
    "(superscript $S$) and boundary integrals (superscript $B$). Furthermore, the\n",
    "$\\alpha$-terms depend on trial and test functions whereas the $\\lambda$-terms only\n",
    "depend on the test function and involve the data of the PDE.\n",
    "\n",
    "Each of the five terms $\\alpha_T^V$, $\\alpha_F^S$, $\\alpha_F^B$,\n",
    "$\\lambda_T^V$, $\\lambda_F^B$ corresponds to one method on the\n",
    "local operator.\n",
    "In addition to the evaluation of residuals also Jacobians and\n",
    "matrix-free application of Jacobians are needed. This gives rise\n",
    "to in total $5+3+3=11$ possible methods on a local operator given in the following table:"
   ]
  },
  {
   "cell_type": "markdown",
   "id": "54d7e7f8",
   "metadata": {
    "hidden": true
   },
   "source": [
    "|    | volume | skeleton | boundary |\n",
    "|----|----|-----|-----|\n",
    "|  residual  | `alpha_volume`  <br> `lambda_volume` |`alpha_skeleton` | `alpha_boundary` <br> `lambda_boundary`|\n",
    "|  Jacobian  | `jacobian_volume`       |`jacobian_skeleton`        | `jacobian_boundary`        |\n",
    "|  Jac. app. | `jacobian_apply_volume` |`jacobian_apply_skeleton`  | `jacobian_apply_boundary`  |"
   ]
  },
  {
   "cell_type": "markdown",
   "id": "faa81491",
   "metadata": {},
   "source": [
    "# Realization in PDELab"
   ]
  },
  {
   "cell_type": "markdown",
   "id": "83355db8",
   "metadata": {},
   "source": [
    "## Function `main`"
   ]
  },
  {
   "cell_type": "markdown",
   "id": "a6806c25",
   "metadata": {},
   "source": [
    "The function `main` is very similar to the one in tutorials 00 and 01 and need not be repeated here."
   ]
  },
  {
   "cell_type": "markdown",
   "id": "7eca36d3",
   "metadata": {},
   "source": [
    "## Function `driver`"
   ]
  },
  {
   "cell_type": "markdown",
   "id": "8ddee807",
   "metadata": {},
   "source": [
    "Also the function `driver` is very similar in structure to the one in tutorial 00 and 01. Here we just point out the differences.\n",
    "The cell-centered finite volume method is based on the space of piecewise constant functions on the mesh $W_h$. The following code segment constructs this function space using the class `P0LocalFiniteElementMap`:"
   ]
  },
  {
   "cell_type": "markdown",
   "id": "1f699703",
   "metadata": {},
   "source": [
    "```c++\n",
    " // Make grid function space\n",
    "  typedef Dune::PDELab::P0LocalFiniteElementMap<DF,RF,dim> FEM;\n",
    "  FEM fem(Dune::GeometryTypes::cube(dim));\n",
    "  typedef Dune::PDELab::NoConstraints CON;\n",
    "  typedef Dune::PDELab::ISTL::VectorBackend<> VBE;\n",
    "  typedef Dune::PDELab::GridFunctionSpace<GV,FEM,CON,VBE> GFS;\n",
    "  GFS gfs(gv,fem);\n",
    "  gfs.name(\"Q0\");\n",
    "```"
   ]
  },
  {
   "cell_type": "markdown",
   "id": "cd5c9c82",
   "metadata": {},
   "source": [
    "The constraints class `NoConstraints` is used to express that there are no constraints on the function space.\n",
    "Now no constraints container type is exported by the grid function space. Instead the class `EmptyTransformation` is used in the grid operator:"
   ]
  },
  {
   "cell_type": "markdown",
   "id": "0ec58938",
   "metadata": {},
   "source": [
    "```c++\n",
    " // Make a global operator\n",
    "  typedef Dune::PDELab::ISTL::BCRSMatrixBackend<> MBE;\n",
    "  MBE mbe(2*dim+1); // guess nonzeros per row\n",
    "  typedef Dune::PDELab::EmptyTransformation CC;\n",
    "  typedef Dune::PDELab::GridOperator<\n",
    "    GFS,GFS,  /* ansatz and test space */\n",
    "    LOP,      /* local operator */\n",
    "    MBE,      /* matrix backend */\n",
    "    RF,RF,RF, /* domain, range, jacobian field type*/\n",
    "    CC,CC     /* constraints for ansatz and test space */\n",
    "    > GO;\n",
    "  GO go(gfs,gfs,lop,mbe);\n",
    "```"
   ]
  },
  {
   "cell_type": "markdown",
   "id": "f16e266c",
   "metadata": {},
   "source": [
    "Cell-wise data is passed to the `VTKWriter` using its method `addCellData`:"
   ]
  },
  {
   "cell_type": "markdown",
   "id": "b8c9748e",
   "metadata": {},
   "source": [
    "```c++\n",
    " // Write VTK output file\n",
    "  Dune::VTKWriter<GV> vtkwriter(gv,Dune::VTK::conforming);\n",
    "  typedef Dune::PDELab::VTKGridFunctionAdapter<ZDGF> VTKF;\n",
    "  vtkwriter.addCellData(std::shared_ptr<VTKF>(new\n",
    "                                         VTKF(zdgf,\"fesol\")));\n",
    "  vtkwriter.write(ptree.get(\"output.filename\",\"output\"),\n",
    "                  Dune::VTK::appendedraw);\n",
    "```"
   ]
  },
  {
   "cell_type": "markdown",
   "id": "b436e467",
   "metadata": {},
   "source": [
    "These are the only changes to the driver!"
   ]
  },
  {
   "cell_type": "markdown",
   "id": "b578acc5",
   "metadata": {},
   "source": [
    "## The `Problem` Class"
   ]
  },
  {
   "cell_type": "markdown",
   "id": "8a807f34",
   "metadata": {},
   "source": [
    "The class `NonlinearPoissonFV` explained below usesvthe same problem class as the class `NonlinearPoissonFEM`. This means that the same problem can be easily solved using the two different methods."
   ]
  },
  {
   "cell_type": "markdown",
   "id": "ff56f033",
   "metadata": {},
   "source": [
    "## Local Operator `NonlinearPoissonFV`"
   ]
  },
  {
   "cell_type": "markdown",
   "id": "899b5090",
   "metadata": {},
   "source": [
    "The class `NonlinearPoissonFV` implements the element-wise computations of the cell-centered finite volume method. In particular, it provides a full implementation of all possible methods on a local operator including analytic Jacobians. The class has the problem class as a template parameter:"
   ]
  },
  {
   "cell_type": "markdown",
   "id": "a262340d",
   "metadata": {},
   "source": [
    "```c++\n",
    "template<typename Param>\n",
    "class NonlinearPoissonFV :\n",
    "  public Dune::PDELab::FullVolumePattern,\n",
    "  public Dune::PDELab::FullSkeletonPattern,\n",
    "  public Dune::PDELab::LocalOperatorDefaultFlags\n",
    "```"
   ]
  },
  {
   "cell_type": "markdown",
   "id": "2f7545e1",
   "metadata": {},
   "source": [
    "The base class `FullSkeletonPattern` provides the local operator with a method coupling all degrees of freedom of two elements sharing an intersection.\n",
    "In combination with `FullVolumePattern` this provides the sparsity pattern of the matrix.\n",
    "\n",
    "The only private data member is a reference to an object to the parameter class:"
   ]
  },
  {
   "cell_type": "markdown",
   "id": "76e6561c",
   "metadata": {},
   "source": [
    "```c++\n",
    " Param& param;        // parameter functions\n",
    "```"
   ]
  },
  {
   "cell_type": "markdown",
   "id": "ca8f07a2",
   "metadata": {},
   "source": [
    "The public section begins with a definition of flags controlling assembly of the sparsity pattern"
   ]
  },
  {
   "cell_type": "markdown",
   "id": "153afe0f",
   "metadata": {},
   "source": [
    "```c++\n",
    "  // pattern assembly flags\n",
    "  enum { doPatternVolume = true };\n",
    "  enum { doPatternSkeleton = true };\n",
    "```"
   ]
  },
  {
   "cell_type": "markdown",
   "id": "4ca808e8",
   "metadata": {},
   "source": [
    "as well as element contributions:"
   ]
  },
  {
   "cell_type": "markdown",
   "id": "49b469e9",
   "metadata": {},
   "source": [
    "```c++\n",
    " // residual assembly flags\n",
    "  enum { doLambdaVolume = true };\n",
    "  enum { doLambdaBoundary = true };\n",
    "  enum { doAlphaVolume = true };\n",
    "  enum { doAlphaSkeleton  = true };\n",
    "  enum { doAlphaBoundary  = true };\n",
    "```"
   ]
  },
  {
   "cell_type": "markdown",
   "id": "94d97623",
   "metadata": {},
   "source": [
    "These five flags specify that all five contributions will be provided. The constructor just gets a reference of the parameter object:"
   ]
  },
  {
   "cell_type": "markdown",
   "id": "1eed8c35",
   "metadata": {},
   "source": [
    "```c++\n",
    "  NonlinearPoissonFV (Param& param_)\n",
    "```"
   ]
  },
  {
   "cell_type": "markdown",
   "id": "5947c4e7",
   "metadata": {},
   "source": [
    "### Method `lambda_volume`"
   ]
  },
  {
   "cell_type": "markdown",
   "id": "ddc30f31",
   "metadata": {},
   "source": [
    "continue here "
   ]
  },
  {
   "cell_type": "markdown",
   "id": "f59e86fb",
   "metadata": {},
   "source": [
    "# Exercises"
   ]
  },
  {
   "cell_type": "markdown",
   "id": "7d08010f",
   "metadata": {},
   "source": [
    "- [ ] use outlook suggestions\n",
    "- [ ] somewhere there were exercises for CCFV"
   ]
  },
  {
   "cell_type": "code",
   "execution_count": null,
   "id": "7ced4595",
   "metadata": {},
   "outputs": [],
   "source": []
  }
 ],
 "metadata": {
  "kernelspec": {
   "display_name": "C++17 (DUNE)",
   "language": "C++17",
   "name": "90f694aa-4041-547e-bba1-934968691da0"
  },
  "language_info": {
   "codemirror_mode": "text/x-c++src",
   "file_extension": ".cpp",
   "mimetype": "text/x-c++src",
   "name": "c++",
   "version": "17"
  },
  "toc": {
   "base_numbering": 1,
   "nav_menu": {},
   "number_sections": true,
   "sideBar": true,
   "skip_h1_title": false,
   "title_cell": "Table of Contents",
   "title_sidebar": "Contents",
   "toc_cell": false,
   "toc_position": {},
   "toc_section_display": true,
   "toc_window_display": false
  }
 },
 "nbformat": 4,
 "nbformat_minor": 5
}
