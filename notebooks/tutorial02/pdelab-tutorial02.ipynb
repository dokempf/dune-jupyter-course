{
 "cells": [
  {
   "cell_type": "markdown",
   "id": "41c8b026",
   "metadata": {},
   "source": [
    "# Tutorial 02: Cell-Centered Finite Volume Method"
   ]
  },
  {
   "cell_type": "markdown",
   "id": "acec5401",
   "metadata": {},
   "source": [
    "This tutorial solves the same partial differential equation (PDE) as tutorial 01, namely\n",
    "a nonlinear Poisson equation, with the following differences:\n",
    "\n",
    "1. Implements a cell-centered finite volume method with two-point flux approximation as an example of a non-conforming scheme.\n",
    "2. Implements *all* possible methods of a local operator.\n"
   ]
  },
  {
   "cell_type": "markdown",
   "id": "84bfde14",
   "metadata": {
    "heading_collapsed": true
   },
   "source": [
    "# PDE Problem"
   ]
  },
  {
   "cell_type": "markdown",
   "id": "ccb8fdc4",
   "metadata": {
    "hidden": true
   },
   "source": [
    "Consider the following nonlinear Poisson equation (the same as in tutorial 01) with Dirichlet and Neumann boundary conditions:\n",
    "\\begin{equation} \\label{eq:ProblemStrong}\n",
    "\\begin{aligned}\n",
    "-\\Delta u + q(u) &= f &&\\text{in $\\Omega$},\\\\\n",
    "u &= g &&\\text{on $\\Gamma_D\\subseteq\\partial\\Omega$},\\\\\n",
    "-\\nabla u\\cdot \\nu &= j &&\\text{on $\\Gamma_N=\\partial\\Omega\\setminus\\Gamma_D$}.\n",
    "\\end{aligned}\n",
    "\\end{equation}\n",
    "$\\Omega\\subset\\mathbb{R}^d$ is a domain, $q:\\mathbb{R}\\to\\mathbb{R}$ is a given, possibly\n",
    "nonlinear function and $f: \\Omega\\to\\mathbb{R}$ is the source term and\n",
    "$\\nu$ denotes the unit outer normal to the domain."
   ]
  },
  {
   "cell_type": "markdown",
   "id": "f4560a5d",
   "metadata": {
    "heading_collapsed": true
   },
   "source": [
    "# Cell-centered Finite Volume Method"
   ]
  },
  {
   "cell_type": "markdown",
   "id": "3e06d41a",
   "metadata": {
    "hidden": true
   },
   "source": [
    "The application of the cell-centered finite volume method as presented here is\n",
    "restricted to *axiparallel meshes*. We assume that  the domain $\\Omega$ is covered by a mesh\n",
    "$\\mathcal{T}_h = \\{T_1, \\ldots, T_M\\}$ consisting of elements\n",
    "which are closed sets satisfying\n",
    "\\begin{equation}\n",
    "\\bigcup_{T\\in \\mathcal{T}_h} T = \\overline{\\Omega}, \\quad\n",
    "\\forall T, T' \\in \\mathcal{T}_h, T\\neq T' : \\mathring{T} \\cap \\mathring{T}' = \\emptyset .\n",
    "\\end{equation}\n",
    "In order to describe the method some further notation is needed.\n",
    "The nonempty intersections $F = T_F^-\\cap T_F^+$\n",
    "of codimension 1 form the interior skeleton $\\mathcal{F}_h^i=\\{F_1,\\ldots,F_N\\}$.\n",
    "Each intersection is equipped with a unit normal vector $\\nu_F$ pointing from $T_F^-$ to $T_F^+$.\n",
    "The intersections of an element $F=T_F^-\\cap\\partial\\Omega$ with the domain\n",
    "boundary form the set of boundary intersections $\\mathcal{F}_h^{\\partial\\Omega}=\n",
    "\\{F_1,\\ldots,F_L\\}$ which can be further partitioned into\n",
    "Dirichlet boundary intersections $\\mathcal{F}_h^{\\Gamma_D}$\n",
    "and Neumann boundary intersections $\\mathcal{F}_h^{\\Gamma_N}$.\n",
    "Each boundary intersection is equipped with a unit normal vector\n",
    "$\\nu_F$ which coincides with the unit outer normal to the domain.\n",
    "Furthermore, $x_T$, $x_F$ denotes the center point of an element or face.\n",
    "This notation is illustrated graphically in the Figure below."
   ]
  },
  {
   "cell_type": "markdown",
   "id": "a6f096fe",
   "metadata": {
    "hidden": true
   },
   "source": [
    "![fvnotation](fv.png)\n",
    "*Figure 1: Illustration of quantities associated with eements and intersections.*"
   ]
  },
  {
   "cell_type": "markdown",
   "id": "732d4688",
   "metadata": {
    "hidden": true
   },
   "source": [
    "For the cell-centered finite volume method the discrete function space involved\n",
    "is the space of piecewise constant functions on the mesh:\n",
    "\\begin{equation*}\n",
    "W_h = \\{w\\in L^2(\\Omega) \\,:\\,  \\text{$w|_T=$ const for all $T\\in\\mathcal{T}_h$}\\} .\n",
    "\\end{equation*}\n",
    "\n",
    "In order to derive the residual form we proceed as follows: multiply\n",
    "equation \\eqref{eq:ProblemStrong} with a test function $v\\in W_h$, i.e. *from\n",
    "the discrete space*, and use integration by parts:\n",
    "\\begin{align*}\n",
    "\\int_{\\Omega} f v \\,dx &= \\int_{\\Omega} [-\\Delta u + q(u)] v\\,dx\\\\\n",
    "&= \\sum_{T\\in\\mathcal{T}_h} v \\int_T -\\Delta u + q(u) \\,dx &&\\text{($v$ const on $T$)}\\\\\n",
    "&= \\sum_{T\\in\\mathcal{T}_h} \\left[\\int_T q(u) v \\,dx - \\int_{\\partial T} \\nabla u \\cdot \\nu v \\,ds\n",
    "\\right] &&\\text{(Gauss' thm.)} \\\\\n",
    "&= \\sum_{T\\in\\mathcal{T}_h} \\int_T q(u) v \\,dx\n",
    "-\\sum_{F\\in\\mathcal{F}_h^i} \\int_F \\nabla u \\cdot \\nu_F \\bigl[v(x_{T_F^-}) - v(x_{T_F^+})\\bigr] \\,ds \\\\\n",
    "& \\hspace{10mm}-\\sum_{F\\in\\mathcal{F}_h^{\\partial\\Omega}} \\int_F \\nabla u \\cdot \\nu_F \\,ds .\n",
    "&&\\text{(rearrange)}\n",
    "\\end{align*}\n",
    "At this point, the normal derivative $\\partial_{\\nu_F} u = \\nabla u\\cdot \\nu_F$\n",
    "is approximated by a difference quotient\n",
    "\\begin{equation*}\n",
    "\\nabla u\\cdot \\nu_F = \\frac{u_h(x_{T_F^+})-u_h(x_{T_F^-})}{\\|x_{T_F^+} - x_{T_F^-}\\|}\n",
    " + \\text{ error}\n",
    "\\end{equation*}\n",
    "and all integrals are approximated by the midpoint rule\n",
    "\\begin{equation*}\n",
    "\\int_T f \\,dx = f(x_T)|T| + \\text{ error}\n",
    "\\end{equation*}\n",
    "where $|T|$ is the measure of $T$.\n",
    "\n",
    "Put together the cell-centered finite volume method can be stated\n",
    "in its abstract form suitable for implementation in PDELab:\n",
    "\\begin{equation}\n",
    "\\boxed{ \\text{Find $u_h\\in W_h$ s.t.:} \\quad r_h^{\\text{CCFV}}(u_h,v) = 0 \\quad \\forall v \\in W_h }\n",
    "\\end{equation}\n",
    "where the residual form is\n",
    "\\begin{equation}\n",
    "\\label{eq:res_form_final}\n",
    "\\begin{split}\n",
    "r_h^{\\text{CCFV}}(u_h,v)\n",
    "& = \\sum_{T\\in\\mathcal{T}_h} q(u_h(x_T)) v(x_T) |T|\n",
    "- \\sum_{T\\in\\mathcal{T}_h} f(x_T) v(x_T) |T|\\\\\n",
    "&\\ - \\sum_{F\\in\\mathcal{F}_h^i}\n",
    "\\frac{u_h(x_{T_F^+})-u_h(x_{T_F^-})}{\\|x_{T_F^+} - x_{T_F^-}\\|}\n",
    "\\bigl[v(x_{T_F^-}) - v(x_{T_F^+})\\bigr] |F|\\\\\n",
    "&\\ + \\sum_{F\\in\\mathcal{F}_h^{\\partial\\Omega}\\cap\\Gamma_D}\n",
    "\\frac{u_h(x_{T_F^-})}{\\|x_{F} - x_{T_F^-}\\|} v(x_{T_F^-}) |F| \\\\\n",
    "&\\ - \\sum_{F\\in\\mathcal{F}_h^{\\partial\\Omega}\\cap\\Gamma_D}\n",
    "\\frac{g(x_{F})}{\\|x_{F} - x_{T_F^-}\\|} v(x_{T_F^-}) |F|\n",
    "+ \\sum_{F\\in\\mathcal{F}_h^{\\partial\\Omega}\\cap\\Gamma_N} j(x_{F}) v(x_{T_F^-}) |F| .\n",
    "\\end{split}\n",
    "\\end{equation}\n",
    "In this case *five* different types of integrals are involved in the\n",
    "residual form:\n",
    "\n",
    "1. Volume integral depending on trial and test function.\n",
    "2. Volume integral depending on test function only.\n",
    "3. Interior intersection integral depending on trial and test function.\n",
    "4. Boundary intersection integral depending on trial and test function.\n",
    "5. Boundary intersection integral depending on test function only.\n",
    "\n",
    "Also note that no constraints on the function space are necessary in this case.\n",
    "Dirichlet as well as Neumann boundary conditions are built weakly into the\n",
    "residual form!\n",
    "\n",
    "Finally, many types of discontinuous Galerkin finite element methods (DGFEM)\n",
    "lead to the same five types of integrals and can be applied on general unstructured\n",
    "conforming as well as nonconforming meshes."
   ]
  },
  {
   "cell_type": "markdown",
   "id": "cc9b62b6",
   "metadata": {
    "heading_collapsed": true,
    "hidden": true
   },
   "source": [
    "## General Residual Form"
   ]
  },
  {
   "cell_type": "markdown",
   "id": "0f9407bf",
   "metadata": {
    "hidden": true
   },
   "source": [
    "The residual form of the cell-centered finite volume method suggests that\n",
    "all residual forms could be composed of five different types of terms\n",
    "in the following way:\n",
    "\\begin{equation}\n",
    "\\begin{split}\n",
    "r(u,v) &=\n",
    "\\sum_{T\\in\\mathcal{T}_h} \\alpha_T^V(R_T u, R_T v)\n",
    "+ \\sum_{T\\in\\mathcal{T}_h} \\lambda_T^V(R_T v) \\\\\n",
    "&\\qquad+ \\sum_{F\\in\\mathcal{F}_h^i} \\alpha_F^S(R_{T_F^-} u,R_{T_F^+} u, R_{T_F^-} v, R_{T_F^+} v)\\\\\n",
    "&\\qquad+ \\sum_{F\\in\\mathcal{F}_h^{\\partial\\Omega}} \\alpha_F^B(R_{T_F^-} u, R_{T_F^-} v)\n",
    "+ \\sum_{F\\in\\mathcal{F}_h^{\\partial\\Omega}} \\lambda_F^B(R_{T_F^-} v) .\n",
    "\\end{split}\\label{eq:GeneralResidualForm}\n",
    "\\end{equation}\n",
    "Here, we define the restriction\n",
    "of a function $u\\in U$ to an element by\n",
    "\\begin{equation*}\n",
    "(R_T u)(x) = u(x) \\quad \\forall x\\in\\mathring{T} .\n",
    "\\end{equation*}\n",
    "Note that the restriction of a function to element $T$ is only defined in\n",
    "the interior of $T$. On interior intersections $F$, functions may be two-valued\n",
    "and limits from within the elements $T_F^-, T_F^+$ need to be defined\n",
    "(when $U$ is the space of element-wise constants that is trivial).\n",
    "\n",
    "The five terms comprise volume integrals (superscript $V$), interior skeleton integrals\n",
    "(superscript $S$) and boundary integrals (superscript $B$). Furthermore, the\n",
    "$\\alpha$-terms depend on trial and test functions whereas the $\\lambda$-terms only\n",
    "depend on the test function and involve the data of the PDE.\n",
    "\n",
    "Each of the five terms $\\alpha_T^V$, $\\alpha_F^S$, $\\alpha_F^B$,\n",
    "$\\lambda_T^V$, $\\lambda_F^B$ corresponds to one method on the\n",
    "local operator.\n",
    "In addition to the evaluation of residuals also Jacobians and\n",
    "matrix-free application of Jacobians are needed. This gives rise\n",
    "to in total $5+3+3=11$ possible methods on a local operator given in the following table:"
   ]
  },
  {
   "cell_type": "markdown",
   "id": "448ddde8",
   "metadata": {
    "hidden": true
   },
   "source": [
    "|    | volume | skeleton | boundary |\n",
    "|----|----|-----|-----|\n",
    "|  residual  | `alpha_volume`  <br> `lambda_volume` |`alpha_skeleton` | `alpha_boundary` <br> `lambda_boundary`|\n",
    "|  Jacobian  | `jacobian_volume`       |`jacobian_skeleton`        | `jacobian_boundary`        |\n",
    "|  Jac. app. | `jacobian_apply_volume` |`jacobian_apply_skeleton`  | `jacobian_apply_boundary`  |"
   ]
  },
  {
   "cell_type": "markdown",
   "id": "69bb8860",
   "metadata": {
    "heading_collapsed": true
   },
   "source": [
    "# Realization in PDELab"
   ]
  },
  {
   "cell_type": "markdown",
   "id": "6b2241d1",
   "metadata": {
    "hidden": true
   },
   "source": [
    "The instantiation of the grid is very similar to tutorials 00 and 01 and thus is not explained in detail here."
   ]
  },
  {
   "cell_type": "code",
   "execution_count": null,
   "id": "bf751c5d",
   "metadata": {
    "hidden": true
   },
   "outputs": [],
   "source": [
    "#include <dune/jupyter.hh>\n",
    "#include \"problem.hh\" \n",
    "#include \"nonlinearpoissonfv.hh\""
   ]
  },
  {
   "cell_type": "code",
   "execution_count": null,
   "id": "47cf4f45",
   "metadata": {
    "hidden": true
   },
   "outputs": [],
   "source": [
    "// open ini file\n",
    "Dune::ParameterTree ptree;\n",
    "Dune::ParameterTreeParser ptreeparser;\n",
    "ptreeparser.readINITree(\"tutorial02.ini\",ptree);\n",
    "\n",
    "const int dim = 2;\n",
    "const int refinement = ptree.get<int>(\"grid.refinement\");"
   ]
  },
  {
   "cell_type": "code",
   "execution_count": null,
   "id": "fa2cf93e",
   "metadata": {
    "hidden": true
   },
   "outputs": [],
   "source": [
    "using Grid = Dune::YaspGrid<dim>;\n",
    "\n",
    "// define the extensions of the domain: a unit square with N by N cells\n",
    "Dune::FieldVector<double,dim> lowerleft(0.0);\n",
    "Dune::FieldVector<double,dim> upperright(1.0);\n",
    "auto N = Dune::filledArray<dim, unsigned int>(25);\n",
    "\n",
    "// build a structured grid\n",
    "auto grid = Dune::StructuredGridFactory<Grid>::createCubeGrid(lowerleft, upperright, N);\n",
    "grid->globalRefine(refinement);\n",
    "using GV = Grid::LeafGridView;\n",
    "GV gv = grid->leafGridView();"
   ]
  },
  {
   "cell_type": "markdown",
   "id": "8b82ef0b",
   "metadata": {
    "hidden": true
   },
   "source": [
    "Also the rest is very similar in structure to tutorial 00 and 01. Here we just point out the differences."
   ]
  },
  {
   "cell_type": "code",
   "execution_count": null,
   "id": "a886bb42",
   "metadata": {
    "hidden": true
   },
   "outputs": [],
   "source": [
    "using DF = GV::Grid::ctype;           // type for ccordinates\n",
    "using RF = double;                   // type for computations\n",
    "\n",
    "// make user functions\n",
    "RF eta = ptree.get(\"problem.eta\",(RF)1.0);\n",
    "Problem<RF> problem(eta);\n",
    "auto g = Dune::PDELab::makeGridFunctionFromCallable(\n",
    "    gv,\n",
    "    [&](const auto& e, const auto& x){\n",
    "        return problem.g(e,x);\n",
    "    }\n",
    ");;"
   ]
  },
  {
   "cell_type": "markdown",
   "id": "ec34747a",
   "metadata": {
    "hidden": true
   },
   "source": [
    "The cell-centered finite volume method is based on the space of piecewise constant functions on the mesh $W_h$. The following code segment constructs this function space using the class `P0LocalFiniteElementMap`:"
   ]
  },
  {
   "cell_type": "code",
   "execution_count": null,
   "id": "592dfceb",
   "metadata": {
    "hidden": true
   },
   "outputs": [],
   "source": [
    "// Make grid function space\n",
    "using FEM = Dune::PDELab::P0LocalFiniteElementMap<DF,RF,dim>;\n",
    "FEM fem(Dune::GeometryTypes::cube(dim));\n",
    "using CON = Dune::PDELab::NoConstraints;\n",
    "using VBE = Dune::PDELab::ISTL::VectorBackend<>;\n",
    "using GFS = Dune::PDELab::GridFunctionSpace<GV,FEM,CON,VBE>;\n",
    "GFS gfs(gv,fem);\n",
    "gfs.name(\"Q0\");"
   ]
  },
  {
   "cell_type": "markdown",
   "id": "45208fd1",
   "metadata": {
    "hidden": true
   },
   "source": [
    "The following is the same as before:"
   ]
  },
  {
   "cell_type": "code",
   "execution_count": null,
   "id": "fda76086",
   "metadata": {
    "hidden": true
   },
   "outputs": [],
   "source": [
    "// A coefficient vector\n",
    "using Z = Dune::PDELab::Backend::Vector<GFS,RF>;\n",
    "Z z(gfs); // initial value\n",
    "\n",
    "// Make a grid function out of it\n",
    "using ZDGF = Dune::PDELab::DiscreteGridFunction<GFS,Z>;\n",
    "ZDGF zdgf(gfs,z);\n",
    "\n",
    "// Fill the coefficient vector\n",
    "Dune::PDELab::interpolate(g,gfs,z);\n",
    "\n",
    "// Make a local operator\n",
    "using LOP = NonlinearPoissonFV<Problem<RF> >;\n",
    "LOP lop(problem);"
   ]
  },
  {
   "cell_type": "markdown",
   "id": "a2eb7d5b",
   "metadata": {
    "hidden": true
   },
   "source": [
    "The constraints class `NoConstraints` is used to express that there are no constraints on the function space.\n",
    "Now no constraints container type is exported by the grid function space. Instead the class `EmptyTransformation` is used in the grid operator:"
   ]
  },
  {
   "cell_type": "code",
   "execution_count": null,
   "id": "85a510e6",
   "metadata": {
    "hidden": true
   },
   "outputs": [],
   "source": [
    " // Make a global operator\n",
    "using MBE = Dune::PDELab::ISTL::BCRSMatrixBackend<>;\n",
    "MBE mbe(2*dim+1); // guess nonzeros per row\n",
    "using CC = Dune::PDELab::EmptyTransformation;\n",
    "using GO = Dune::PDELab::GridOperator<\n",
    "  GFS,GFS,  /* ansatz and test space */\n",
    "  LOP,      /* local operator */\n",
    "  MBE,      /* matrix backend */\n",
    "  RF,RF,RF, /* domain, range, jacobian field type*/\n",
    "  CC,CC     /* constraints for ansatz and test space */\n",
    "  > ;\n",
    "GO go(gfs,gfs,lop,mbe);"
   ]
  },
  {
   "cell_type": "code",
   "execution_count": null,
   "id": "fd6af7ca",
   "metadata": {
    "hidden": true
   },
   "outputs": [],
   "source": [
    "// Select a linear solver backend\n",
    "using LS = Dune::PDELab::ISTLBackend_SEQ_CG_AMG_SSOR<GO>;\n",
    "LS ls(100,2);\n",
    "\n",
    "// solve nonlinear problem\n",
    "Dune::PDELab::Newton<GO,LS,Z> newton(go,z,ls);\n",
    "newton.setReassembleThreshold(0.0);\n",
    "newton.setVerbosityLevel(3);\n",
    "newton.setReduction(1e-10);\n",
    "newton.setMinLinearReduction(1e-4);\n",
    "newton.setMaxIterations(25);\n",
    "newton.setLineSearchMaxIterations(10);\n",
    "newton.apply();"
   ]
  },
  {
   "cell_type": "markdown",
   "id": "d2c5c256",
   "metadata": {
    "hidden": true
   },
   "source": [
    "Cell-wise data is passed to the `VTKWriter` using its method `addCellData`:"
   ]
  },
  {
   "cell_type": "code",
   "execution_count": null,
   "id": "e35d251c",
   "metadata": {
    "hidden": true
   },
   "outputs": [],
   "source": [
    "// Write VTK output file\n",
    "Dune::VTKWriter<GV> vtkwriter(gv,Dune::VTK::conforming);\n",
    "using VTKF = Dune::PDELab::VTKGridFunctionAdapter<ZDGF> ;\n",
    "vtkwriter.addCellData(std::shared_ptr<VTKF>(new\n",
    "                                      VTKF(zdgf,\"fesol\")));"
   ]
  },
  {
   "cell_type": "markdown",
   "id": "362d1889",
   "metadata": {
    "hidden": true
   },
   "source": [
    "These are the only changes to the driver!"
   ]
  },
  {
   "cell_type": "code",
   "execution_count": null,
   "id": "efa24c9c",
   "metadata": {
    "hidden": true
   },
   "outputs": [],
   "source": [
    "vtkwriter"
   ]
  },
  {
   "cell_type": "markdown",
   "id": "6847a06f",
   "metadata": {
    "heading_collapsed": true,
    "hidden": true
   },
   "source": [
    "## The `Problem` Class"
   ]
  },
  {
   "cell_type": "markdown",
   "id": "5fce9ca9",
   "metadata": {
    "hidden": true
   },
   "source": [
    "The class `NonlinearPoissonFV` explained below uses the same problem class as the class `NonlinearPoissonFEM`. This means that the same problem can be easily solved using the two different methods."
   ]
  },
  {
   "cell_type": "markdown",
   "id": "3ac7e67b",
   "metadata": {
    "heading_collapsed": true,
    "hidden": true
   },
   "source": [
    "## Local Operator `NonlinearPoissonFV`"
   ]
  },
  {
   "cell_type": "markdown",
   "id": "543d2eb0",
   "metadata": {
    "hidden": true
   },
   "source": [
    "The class `NonlinearPoissonFV` implements the element-wise computations of the cell-centered finite volume method. In particular, it provides a full implementation of all possible methods on a local operator including analytic Jacobians. The class has the problem class as a template parameter:"
   ]
  },
  {
   "cell_type": "markdown",
   "id": "f6c54000",
   "metadata": {
    "hidden": true
   },
   "source": [
    "```c++\n",
    "template<typename Param>\n",
    "class NonlinearPoissonFV :\n",
    "  public Dune::PDELab::FullVolumePattern,\n",
    "  public Dune::PDELab::FullSkeletonPattern,\n",
    "  public Dune::PDELab::LocalOperatorDefaultFlags\n",
    "```"
   ]
  },
  {
   "cell_type": "markdown",
   "id": "a8558c2c",
   "metadata": {
    "hidden": true
   },
   "source": [
    "The base class `FullSkeletonPattern` provides the local operator with a method coupling all degrees of freedom of two elements sharing an intersection.\n",
    "In combination with `FullVolumePattern` this provides the sparsity pattern of the matrix.\n",
    "\n",
    "The only private data member is a reference to an object to the parameter class:"
   ]
  },
  {
   "cell_type": "markdown",
   "id": "7eb2d595",
   "metadata": {
    "hidden": true
   },
   "source": [
    "```c++\n",
    " Param& param;        // parameter functions\n",
    "```"
   ]
  },
  {
   "cell_type": "markdown",
   "id": "e38eee52",
   "metadata": {
    "hidden": true
   },
   "source": [
    "The public section begins with a definition of flags controlling assembly of the sparsity pattern"
   ]
  },
  {
   "cell_type": "markdown",
   "id": "a165e0f6",
   "metadata": {
    "hidden": true
   },
   "source": [
    "```c++\n",
    "  // pattern assembly flags\n",
    "  enum { doPatternVolume = true };\n",
    "  enum { doPatternSkeleton = true };\n",
    "```"
   ]
  },
  {
   "cell_type": "markdown",
   "id": "41923091",
   "metadata": {
    "hidden": true
   },
   "source": [
    "as well as element contributions:"
   ]
  },
  {
   "cell_type": "markdown",
   "id": "5b908ecb",
   "metadata": {
    "hidden": true
   },
   "source": [
    "```c++\n",
    " // residual assembly flags\n",
    "  enum { doLambdaVolume = true };\n",
    "  enum { doLambdaBoundary = true };\n",
    "  enum { doAlphaVolume = true };\n",
    "  enum { doAlphaSkeleton  = true };\n",
    "  enum { doAlphaBoundary  = true };\n",
    "```"
   ]
  },
  {
   "cell_type": "markdown",
   "id": "1a96e18e",
   "metadata": {
    "hidden": true
   },
   "source": [
    "These five flags specify that all five contributions will be provided. The constructor just gets a reference of the parameter object:"
   ]
  },
  {
   "cell_type": "markdown",
   "id": "1567088a",
   "metadata": {
    "hidden": true
   },
   "source": [
    "```c++\n",
    "  NonlinearPoissonFV (Param& param_)\n",
    "```"
   ]
  },
  {
   "cell_type": "markdown",
   "id": "542033b8",
   "metadata": {
    "heading_collapsed": true,
    "hidden": true
   },
   "source": [
    "### Method `lambda_volume`"
   ]
  },
  {
   "cell_type": "markdown",
   "id": "5686fa55",
   "metadata": {
    "hidden": true
   },
   "source": [
    "This method was already present in the finite element method aand corresponds\n",
    "to sum number two on the right hand side of equation \\eqref{eq:res_form_final}. <font color = 'red'> X </font>.\n",
    "The element contributions for the cell-centered finite volume method are particularly simple to implement. Here is the right hand side contribution:"
   ]
  },
  {
   "cell_type": "markdown",
   "id": "03065961",
   "metadata": {
    "hidden": true
   },
   "source": [
    "$$ \\lambda_T^V(R_T v) = - f(x_T) v(x_T) |T| $$"
   ]
  },
  {
   "cell_type": "markdown",
   "id": "c2d647ce",
   "metadata": {
    "hidden": true
   },
   "source": [
    "```c++  \n",
    "  template<typename EG, typename LFSV, typename R>\n",
    "  void lambda_volume (const EG& eg, const LFSV& lfsv,\n",
    "                      R& r) const\n",
    "  {\n",
    "    // center of reference element\n",
    "    auto cellgeo = eg.geometry();\n",
    "    auto cellcenterlocal =\n",
    "      referenceElement(cellgeo).position(0,0);\n",
    "\n",
    "    // accumulate residual\n",
    "    auto f = param.f(eg.entity(),cellcenterlocal);\n",
    "    r.accumulate(lfsv,0,-f*cellgeo.volume());\n",
    "  }\n",
    "```"
   ]
  },
  {
   "cell_type": "markdown",
   "id": "5e30853e",
   "metadata": {
    "hidden": true
   },
   "source": [
    "Note that throughout the whole class we assume that the basis functions of the space $W_h$ are one on one element and zero on all others, i.e.\n",
    "\\begin{equation}\n",
    "\\phi_i(x) = \\left\\{ \\begin{array}{ll} 1 & x\\in T_i \\\\ 0 & \\text{else} \\end{array}\n",
    "\\right . .\n",
    "\\end{equation}\n",
    "This means that basis functions will never be evaluated!"
   ]
  },
  {
   "cell_type": "markdown",
   "id": "5c0a561b",
   "metadata": {
    "heading_collapsed": true,
    "hidden": true
   },
   "source": [
    "### Method `lambda_boundary`"
   ]
  },
  {
   "cell_type": "markdown",
   "id": "c5441290",
   "metadata": {
    "hidden": true
   },
   "source": [
    "This method was also already present in the finite element method\n",
    "and corresponds to sums five \\textit{and} six on the right hand side of equation \\eqref{eq:res_form_final}.<font color = 'red'> X </font>.\n",
    "$$ \\lambda_F^B(R_{T_F^{-}v}) = -\n",
    "\\frac{g(x_{F})}{\\|x_{F} - x_{T_F^-}\\|} v(x_{T_F^-}) |F| +  j(x_{F}) v(x_{T_F^-}) |F| $$\n",
    "It assembles contributions from Dirichlet and Neumann\n",
    "boundary conditions and has the interface"
   ]
  },
  {
   "cell_type": "markdown",
   "id": "a6444e65",
   "metadata": {
    "hidden": true
   },
   "source": [
    "```c++\n",
    "  template<typename IG, typename LFSV, typename R>\n",
    "  void lambda_boundary (const IG& ig, const LFSV& lfsv_i,\n",
    "                        R& r_i) const\n",
    "  {\n",
    "```   "
   ]
  },
  {
   "cell_type": "markdown",
   "id": "352d2ca1",
   "metadata": {
    "hidden": true
   },
   "source": [
    "First  the center of the reference element of the intersection is extracted and the boundary condition type is evaluated:"
   ]
  },
  {
   "cell_type": "markdown",
   "id": "1a8b6dc6",
   "metadata": {
    "hidden": true
   },
   "source": [
    "```c++\n",
    "    // face volume for integration\n",
    "    auto facegeo = ig.geometry();\n",
    "    auto facecenterlocal =\n",
    "      referenceElement(facegeo).position(0,0);\n",
    "\n",
    "    // evaluate boundary condition and quit on Dirichlet\n",
    "    bool isdirichlet =\n",
    "      param.b(ig.intersection(),facecenterlocal);\n",
    "\n",
    "```"
   ]
  },
  {
   "cell_type": "markdown",
   "id": "5cc277f0",
   "metadata": {
    "hidden": true
   },
   "source": [
    "Now comes the part for the Dirichlet boundary conditions where we need to compute the distance from the face center to the element center,\n",
    "the value of the Dirichlet boundary condition and the measure of the face:"
   ]
  },
  {
   "cell_type": "markdown",
   "id": "b6f7f264",
   "metadata": {
    "hidden": true
   },
   "source": [
    "```c++\n",
    "if (isdirichlet)\n",
    "      {\n",
    "        // inside cell center\n",
    "        auto insidecenterglobal=ig.inside().geometry().center();\n",
    "\n",
    "        // face center in global coordinates\n",
    "        auto facecenterglobal = facegeo.center();\n",
    "\n",
    "        // compute distance of these two points\n",
    "        insidecenterglobal -= facecenterglobal;\n",
    "        auto distance = insidecenterglobal.two_norm();\n",
    "\n",
    "        // face center in local coordinates of the element\n",
    "        auto facecenterinelement=ig.geometryInInside().center();\n",
    "\n",
    "        // evaluate Dirichlet condition\n",
    "        auto g = param.g(ig.inside(),facecenterinelement);\n",
    "\n",
    "        // face volume for integration\n",
    "        auto face_volume = facegeo.volume();\n",
    "\n",
    "        // contribution to residual\n",
    "        r_i.accumulate(lfsv_i,0,-g/distance*face_volume);\n",
    "      }\n",
    "```"
   ]
  },
  {
   "cell_type": "markdown",
   "id": "ca825b4e",
   "metadata": {
    "hidden": true
   },
   "source": [
    "The Neumann part is much simpler:"
   ]
  },
  {
   "cell_type": "markdown",
   "id": "6ce06511",
   "metadata": {
    "hidden": true
   },
   "source": [
    "```c++\n",
    "  else\n",
    "      {\n",
    "        // contribution to residual from Neumann boundary\n",
    "        auto j = param.j(ig.intersection(),facecenterlocal);\n",
    "        r_i.accumulate(lfsv_i,0,j*facegeo.volume());\n",
    "      }\n",
    "```"
   ]
  },
  {
   "cell_type": "markdown",
   "id": "459f8317",
   "metadata": {
    "heading_collapsed": true,
    "hidden": true
   },
   "source": [
    "### Method `alpha_volume`"
   ]
  },
  {
   "cell_type": "markdown",
   "id": "caa6c091",
   "metadata": {
    "hidden": true
   },
   "source": [
    "Now `alpha_volume` has also been presented before and corresponds to the first sum on the right hand side of equation \\eqref{eq:res_form_final}. \n",
    "$$ \\alpha_T^V(R_Tu,R_Tv) = q(u_h(x_T)) v(x_T) |T| $$\n",
    "Here it just contains the evaluation of the reaction term with the midpoint rule:"
   ]
  },
  {
   "cell_type": "markdown",
   "id": "6de16cce",
   "metadata": {
    "hidden": true
   },
   "source": [
    "```c++\n",
    " template<typename EG, typename LFSU, typename X,\n",
    "           typename LFSV, typename R>\n",
    "  void alpha_volume (const EG& eg, const LFSU& lfsu, const X& x,\n",
    "                     const LFSV& lfsv, R& r) const\n",
    "  {\n",
    "    // get cell value\n",
    "    auto u = x(lfsu,0);\n",
    "\n",
    "    // evaluate reaction term\n",
    "    auto q = param.q(u);\n",
    "\n",
    "    // and accumulate\n",
    "    r.accumulate(lfsv,0,q*eg.geometry().volume());\n",
    "  }\n",
    "```"
   ]
  },
  {
   "cell_type": "markdown",
   "id": "e978f266",
   "metadata": {
    "heading_collapsed": true,
    "hidden": true
   },
   "source": [
    "### Method `jacobian_volume`"
   ]
  },
  {
   "cell_type": "markdown",
   "id": "049f97d7",
   "metadata": {
    "hidden": true
   },
   "source": [
    "Now we come to the first method that has not been implemented in previous examples. The method `jacobian_volume` will assemble the entries of the Jacobian coupling all degrees of the given element. As there is only one degree of freedom per element there is only one matrix entry to assemble. The matrix entries are returned in the container which is the last argument of the method:"
   ]
  },
  {
   "cell_type": "markdown",
   "id": "6bb36349",
   "metadata": {
    "hidden": true
   },
   "source": [
    "```c++  \n",
    "  template<typename EG, typename LFSU, typename X,\n",
    "           typename LFSV, typename M>\n",
    "  void jacobian_volume (const EG& eg, const LFSU& lfsu, const X& x,\n",
    "                        const LFSV& lfsv, M& mat) const\n",
    "```"
   ]
  },
  {
   "cell_type": "markdown",
   "id": "a0459638",
   "metadata": {
    "hidden": true
   },
   "source": [
    "First the derivative of the nonlinearity is evaluated"
   ]
  },
  {
   "cell_type": "markdown",
   "id": "9cc5e936",
   "metadata": {
    "hidden": true
   },
   "source": [
    "```c++\n",
    "    auto u = x(lfsu,0);\n",
    "    auto qprime = param.qprime(u);\n",
    "```"
   ]
  },
  {
   "cell_type": "markdown",
   "id": "195e1aa5",
   "metadata": {
    "hidden": true
   },
   "source": [
    "and the matrix entry is written into the container"
   ]
  },
  {
   "cell_type": "markdown",
   "id": "11d48ad5",
   "metadata": {
    "hidden": true
   },
   "source": [
    "```c++\n",
    "    mat.accumulate(lfsv,0,lfsu,0,qprime*eg.geometry().volume());\n",
    "```"
   ]
  },
  {
   "cell_type": "markdown",
   "id": "e7bd6123",
   "metadata": {
    "hidden": true
   },
   "source": [
    "`mat.accumulate` has five arguments:\n",
    "the *matrix row* given by local test space and number of the test function, the *matrix column* given by local trial space and number of the trial function and, as last argument, the contribution to the matrix entry which is added to the global Jacobian matrix."
   ]
  },
  {
   "cell_type": "markdown",
   "id": "ee29c977",
   "metadata": {
    "heading_collapsed": true,
    "hidden": true
   },
   "source": [
    "### Method `jacobian_apply_volume`"
   ]
  },
  {
   "cell_type": "markdown",
   "id": "e324fbc1",
   "metadata": {
    "hidden": true
   },
   "source": [
    "This method is very similar to the previous method except that\n",
    "it multiplies the local Jacobian contribution immediately with a vector\n",
    "and accumulates the result.\n",
    "\n",
    "The method has the following interface:"
   ]
  },
  {
   "cell_type": "markdown",
   "id": "80c198e8",
   "metadata": {
    "hidden": true
   },
   "source": [
    "```c++\n",
    "  template<typename EG, typename LFSU, typename X,\n",
    "           typename LFSV, typename R>\n",
    "  void jacobian_apply_volume (const EG& eg, const LFSU& lfsu,\n",
    "                              const X& x, const X& z,\n",
    "                              const LFSV& lfsv, R& r) const\n",
    "```"
   ]
  },
  {
   "cell_type": "markdown",
   "id": "a43cece7",
   "metadata": {
    "hidden": true
   },
   "source": [
    "`x` are the coefficients of the linearization point and `z` are the entries of the vector to be multiplied with the Jacobian. The result is accumulated to the container `r`. Here is the implementation:"
   ]
  },
  {
   "cell_type": "markdown",
   "id": "a409a7d3",
   "metadata": {
    "hidden": true
   },
   "source": [
    "```c++\n",
    "  // evaluate derivative reaction term\n",
    "    auto u = x(lfsu,0);\n",
    "    auto qprime = param.qprime(u);\n",
    "\n",
    "    // and accumulate\n",
    "    r.accumulate(lfsv,0,qprime*z(lfsu,0)*eg.geometry().volume());\n",
    "```"
   ]
  },
  {
   "cell_type": "markdown",
   "id": "8dd75a33",
   "metadata": {
    "hidden": true
   },
   "source": [
    "Comparison with `jacobian_volume` shows that the Jacobian entry is multiplied with the entry of `z`."
   ]
  },
  {
   "cell_type": "markdown",
   "id": "b692c023",
   "metadata": {
    "heading_collapsed": true,
    "hidden": true
   },
   "source": [
    "### Method `alpha_skeleton`"
   ]
  },
  {
   "cell_type": "markdown",
   "id": "be740239",
   "metadata": {
    "hidden": true
   },
   "source": [
    "This is the major new method needed to implement the flux terms\n",
    "in finite volume and discontinuous Galerkin methods. Note that `alpha_skeleton` needs to assemble\n",
    "residual contributions for all test functions involved with *both*\n",
    "elements next to the intersection and corresponds to sum number three on the right hand side of equation \\eqref{eq:res_form_final}.\n",
    "\n",
    " $$ \\alpha_F^S(R_{T_F^-}u,R_{T_F^+}u,R_{T_F^-}v,R_{T_F^+}v) =- \\\n",
    "\\frac{u_h(x_{T_F^+})-u_h(x_{T_F^-})}{\\|x_{T_F^+} - x_{T_F^-}\\|}\n",
    "\\bigl[v(x_{T_F^-}) - v(x_{T_F^+})\\bigr] |F| $$   \n",
    "It has the following interface:"
   ]
  },
  {
   "cell_type": "markdown",
   "id": "1e5fedc9",
   "metadata": {
    "hidden": true
   },
   "source": [
    "```c++\n",
    "  template<typename IG, typename LFSU, typename X,\n",
    "           typename LFSV, typename R>\n",
    "  void alpha_skeleton (const IG& ig,\n",
    "         const LFSU& lfsu_i, const X& x_i, const LFSV& lfsv_i,\n",
    "         const LFSU& lfsu_o, const X& x_o, const LFSV& lfsv_o,\n",
    "         R& r_i, R& r_o) const\n",
    "```"
   ]
  },
  {
   "cell_type": "markdown",
   "id": "24a1c183",
   "metadata": {
    "hidden": true
   },
   "source": [
    "The arguments comprise an intersection, local trial function and local test space for both elements adjacent to the intersection\n",
    "and containers for the local residual contributions in both elements.\n",
    "The subscripts `_i` and `_o` correspond to \"inside\" and \"outside\". W.r.t. our notation above \"inside\" corresponds to \"-\" and \"outside\" corresponds to \"+\".\n",
    "\n",
    "It starts by extracting the elements adjacent to the intersection"
   ]
  },
  {
   "cell_type": "markdown",
   "id": "33bc3f81",
   "metadata": {
    "hidden": true
   },
   "source": [
    "```c++\n",
    "    auto cell_inside = ig.inside();\n",
    "    auto cell_outside = ig.outside();\n",
    "```"
   ]
  },
  {
   "cell_type": "markdown",
   "id": "1b101333",
   "metadata": {
    "hidden": true
   },
   "source": [
    "and then extracts their geometries"
   ]
  },
  {
   "cell_type": "markdown",
   "id": "3329456a",
   "metadata": {
    "hidden": true
   },
   "source": [
    "```c++\n",
    "    auto insidegeo = cell_inside.geometry();\n",
    "    auto outsidegeo = cell_outside.geometry();\n",
    "```"
   ]
  },
  {
   "cell_type": "markdown",
   "id": "d3fc630b",
   "metadata": {
    "hidden": true
   },
   "source": [
    "and the centers"
   ]
  },
  {
   "cell_type": "markdown",
   "id": "40f9196f",
   "metadata": {
    "hidden": true
   },
   "source": [
    "```c++\n",
    "    auto inside_global = insidegeo.center();\n",
    "    auto outside_global = outsidegeo.center();\n",
    "```"
   ]
  },
  {
   "cell_type": "markdown",
   "id": "3048707c",
   "metadata": {
    "hidden": true
   },
   "source": [
    "Now the distance of the centers can be computed"
   ]
  },
  {
   "cell_type": "markdown",
   "id": "b17397f9",
   "metadata": {
    "hidden": true
   },
   "source": [
    "```c++\n",
    "    inside_global -= outside_global;\n",
    "    auto distance = inside_global.two_norm();\n",
    "```"
   ]
  },
  {
   "cell_type": "markdown",
   "id": "fb259a65",
   "metadata": {
    "hidden": true
   },
   "source": [
    "and the measure of the face is extracted"
   ]
  },
  {
   "cell_type": "markdown",
   "id": "6ebd3ea5",
   "metadata": {
    "hidden": true
   },
   "source": [
    "```c++\n",
    "    auto facegeo = ig.geometry();\n",
    "    auto face_volume = facegeo.volume();\n",
    "```"
   ]
  },
  {
   "cell_type": "markdown",
   "id": "2a685046",
   "metadata": {
    "hidden": true
   },
   "source": [
    "which puts us in the position to accumulate the residual contributions"
   ]
  },
  {
   "cell_type": "markdown",
   "id": "0e3d5a41",
   "metadata": {
    "hidden": true
   },
   "source": [
    "```c++\n",
    "    auto dudn = (x_o(lfsu_o,0)-x_i(lfsu_i,0))/distance;\n",
    "    r_i.accumulate(lfsv_i,0,-dudn*face_volume);\n",
    "    r_o.accumulate(lfsv_o,0, dudn*face_volume);\n",
    "```"
   ]
  },
  {
   "cell_type": "markdown",
   "id": "48cc37c3",
   "metadata": {
    "hidden": true
   },
   "source": [
    "In fact, the contribution to the inside element, i.e. to `r_i` is the flux from the inside to the outside element. The contribution to the outside element residual is exactly the negative value, i.e. we have local conservation."
   ]
  },
  {
   "cell_type": "markdown",
   "id": "6059e2f2",
   "metadata": {
    "heading_collapsed": true,
    "hidden": true
   },
   "source": [
    "### Method `jacobian_skeleton`"
   ]
  },
  {
   "cell_type": "markdown",
   "id": "25eff03e",
   "metadata": {
    "hidden": true
   },
   "source": [
    "In the computation of the Jacobian w.r.t. skeleton terms we can exploit the fact that the discrete residual form is actually linear in these terms as the nonlinearity is restricted to the volume term only.\n",
    "\n",
    "An interior face contributes to four matrix parts of the global matrix as there are test functions on the inside and outside elements (corresponding to rows in the matrix) as well as trial functions on the inside and outside element (corresponding to columns of the matrix). In the case of the cell-centered finite volume method for the nonlinear Poisson equations there is only one degree of freedom and test function per element, so there are four matrix entries which the face contributes. In case of higher order discontinuous Galerkin schemes and/or systems of PDEs there are four blocks of the matrix where the face contributes to. The following figure illustrates the matrix structure and the corresponding submatrices. For ease of drawing it is assumed that all trial and test functions of one element are numbered consecutively but this need not be the case!"
   ]
  },
  {
   "cell_type": "markdown",
   "id": "8bba0c98",
   "metadata": {
    "hidden": true
   },
   "source": [
    "![jacobianskeleton](jacobianSkeleton.png)\n",
    "*Figure 1: Matrix block contributions computed by `jacobian_skeleton`*"
   ]
  },
  {
   "cell_type": "markdown",
   "id": "fd71b662",
   "metadata": {
    "hidden": true
   },
   "source": [
    "The method has the following interface:\n",
    "```c++\n",
    "  template<typename IG, typename LFSU, typename X,\n",
    "           typename LFSV, typename M>\n",
    "  void jacobian_skeleton (const IG& ig,\n",
    "         const LFSU& lfsu_i, const X& x_i, const LFSV& lfsv_i,\n",
    "         const LFSU& lfsu_o, const X& x_o, const LFSV& lfsv_o,\n",
    "         M& mat_ii, M& mat_io,\n",
    "         M& mat_oi, M& mat_oo) const\n",
    "  {\n",
    "```"
   ]
  },
  {
   "cell_type": "markdown",
   "id": "ff046903",
   "metadata": {
    "hidden": true
   },
   "source": [
    "It is very similar to `alpha_skeleton` except that four containers are passed where the matrix entries of the four blocks need to be stored. The computation of distance of cell centers and the face volume are\n",
    "exactly the same as in `alpha_skeleton`. Then the matrix entries are given by:"
   ]
  },
  {
   "cell_type": "markdown",
   "id": "3fb6ef5d",
   "metadata": {
    "hidden": true
   },
   "source": [
    "```c++\n",
    "   mat_ii.accumulate(lfsv_i,0,lfsv_i,0, face_volume/distance);\n",
    "   mat_io.accumulate(lfsv_i,0,lfsv_o,0,-face_volume/distance);\n",
    "   mat_oi.accumulate(lfsv_o,0,lfsv_i,0,-face_volume/distance);\n",
    "   mat_oo.accumulate(lfsv_o,0,lfsv_o,0, face_volume/distance);\n",
    "```"
   ]
  },
  {
   "cell_type": "markdown",
   "id": "e14c4ec4",
   "metadata": {
    "heading_collapsed": true,
    "hidden": true
   },
   "source": [
    "### Method `jacobian_apply_skeleton`"
   ]
  },
  {
   "cell_type": "markdown",
   "id": "f0ef6799",
   "metadata": {
    "hidden": true
   },
   "source": [
    "The `jacobian_apply_skeleton` method needs to compute the local Jacobian contributions and multiply them with a given coefficient vector. It has the following interface"
   ]
  },
  {
   "cell_type": "markdown",
   "id": "ce38385a",
   "metadata": {
    "hidden": true
   },
   "source": [
    "```c++\n",
    "  template<typename IG, typename LFSU, typename X, typename LFSV,\n",
    "           typename Y>\n",
    "  void jacobian_apply_skeleton\n",
    "  ( const IG& ig,\n",
    "    const LFSU& lfsu_i, const X& x_i, const X& z_i, const LFSV& lfsv_i,\n",
    "    const LFSU& lfsu_o, const X& x_o, const X& z_o, const LFSV& lfsv_o,\n",
    "    Y& y_i, Y& y_o) const\n",
    "```"
   ]
  },
  {
   "cell_type": "markdown",
   "id": "17ca4581",
   "metadata": {
    "hidden": true
   },
   "source": [
    "`x_i`, `x_o` are the linearization point and `z_i`, `z_o` are the coefficients to multiply with. As the skeleton terms are linear with respect to degrees of freedom the Jacobian does not depend on the linearization point and we may reuse the `alpha_skeleton` method here:"
   ]
  },
  {
   "cell_type": "markdown",
   "id": "271ba306",
   "metadata": {
    "hidden": true
   },
   "source": [
    "```c++\n",
    " alpha_skeleton(ig,lfsu_i,z_i,lfsv_i,lfsu_o,z_o,lfsv_o,y_i,y_o);\n",
    "```"
   ]
  },
  {
   "cell_type": "markdown",
   "id": "3563ebd2",
   "metadata": {
    "heading_collapsed": true,
    "hidden": true
   },
   "source": [
    "### Method `alpha_boundary`"
   ]
  },
  {
   "cell_type": "markdown",
   "id": "43f2e843",
   "metadata": {
    "hidden": true
   },
   "source": [
    "The`alpha_boundary` method is also new. It corresponds\n",
    "to the fourth sum on the right hand side of equation \\eqref{eq:res_form_final}\n",
    "$$ \\alpha_F^B(R_{T_F^-}u,R_{T_F^-}v) =\n",
    "\\frac{u_h(x_{T_F^-})}{\\|x_{F} - x_{T_F^-}\\|} v(x_{T_F^-}) |F| $$\n",
    "which is again linear in the degrees of freedom.\n",
    "The interface is now:"
   ]
  },
  {
   "cell_type": "markdown",
   "id": "7d0c8b32",
   "metadata": {
    "hidden": true
   },
   "source": [
    "```c++\n",
    "  template<typename IG, typename LFSU, typename X,\n",
    "           typename LFSV, typename R>\n",
    "  void alpha_boundary (const IG& ig,\n",
    "                       const LFSU& lfsu_i, const X& x_i,\n",
    "                       const LFSV& lfsv_i, R& r_i) const\n",
    "```\n",
    "The residual contribution depends only on quantities on the inside element of the intersection.\n",
    "First we need to check whether the face is on the Dirichlet boundary:"
   ]
  },
  {
   "cell_type": "markdown",
   "id": "6e83e84c",
   "metadata": {
    "hidden": true
   },
   "source": [
    "```c++\n",
    "   auto facegeo = ig.geometry();\n",
    "    auto facecenterlocal =\n",
    "      referenceElement(facegeo).position(0,0);\n",
    "    bool isdirichlet = param.b(ig.intersection(),facecenterlocal);\n",
    "    if (!isdirichlet) return;\n",
    "```"
   ]
  },
  {
   "cell_type": "markdown",
   "id": "eebe4fe2",
   "metadata": {
    "hidden": true
   },
   "source": [
    "Then the distance from face center to cell center is computed:"
   ]
  },
  {
   "cell_type": "markdown",
   "id": "054f59f1",
   "metadata": {
    "hidden": true
   },
   "source": [
    "```c++\n",
    "   // inside cell center\n",
    "    auto insidecenterglobal = ig.inside().geometry().center();\n",
    "\n",
    "    // face center in global coordinates\n",
    "    auto facecenterglobal = facegeo.center();\n",
    "\n",
    "    // compute distance of these two points\n",
    "    insidecenterglobal -= facecenterglobal;\n",
    "    auto distance = insidecenterglobal.two_norm();\n",
    "```"
   ]
  },
  {
   "cell_type": "markdown",
   "id": "b04bfddb",
   "metadata": {
    "hidden": true
   },
   "source": [
    "and the residual contribution can be accumulated:"
   ]
  },
  {
   "cell_type": "markdown",
   "id": "945a29ee",
   "metadata": {
    "hidden": true
   },
   "source": [
    "```c++\n",
    "    // face volume for integration\n",
    "    auto face_volume = facegeo.volume();\n",
    "\n",
    "    // contribution to residual\n",
    "    r_i.accumulate(lfsv_i,0,x_i(lfsu_i,0)/distance*face_volume);\n",
    "```"
   ]
  },
  {
   "cell_type": "markdown",
   "id": "e4e0b26e",
   "metadata": {
    "heading_collapsed": true,
    "hidden": true
   },
   "source": [
    "### Method `jacobian_boundary`"
   ]
  },
  {
   "cell_type": "markdown",
   "id": "328e6744",
   "metadata": {
    "hidden": true
   },
   "source": [
    "The`jacobian_boundary` method computes the Jacobian contributions resulting from boundary face integrals and has the following interface:\n",
    "```c++\n",
    "template<typename IG, typename LFSU, typename X,\n",
    "           typename LFSV, typename M>\n",
    "  void jacobian_boundary (const IG& ig,\n",
    "                          const LFSU& lfsu_i, const X& x_i,\n",
    "                          const LFSV& lfsv_i, M& mat_ii) const\n",
    "```\n",
    "The interface is the same as for `alpha_boundary` except that a matrix container is passed as the last argument.\n",
    "\n",
    "As the contributions only depend on test and trial functions of the inside element there is only contribution to one matrix entry:\n",
    "\n",
    "```c++\n",
    " mat_ii.accumulate(lfsv_i,0,lfsv_i,0,face_volume/distance);\n",
    "```"
   ]
  },
  {
   "cell_type": "markdown",
   "id": "f4546304",
   "metadata": {
    "heading_collapsed": true,
    "hidden": true
   },
   "source": [
    "### Method `apply_jacobian_boundary`"
   ]
  },
  {
   "cell_type": "markdown",
   "id": "0f8fe9f3",
   "metadata": {
    "hidden": true
   },
   "source": [
    "Finally, the `jacobian_apply_boundary` does a matrix-free Jacobian times vector multiplication. Due to linearity we can reuse the `alpha_boundary` method:\n",
    "```c++\n",
    "  template<typename IG, typename LFSU, typename X,\n",
    "           typename LFSV, typename Y>\n",
    "  void jacobian_apply_boundary\n",
    "  ( const IG& ig,\n",
    "    const LFSU& lfsu_i, const X& x_i, const X& z_i,\n",
    "    const LFSV& lfsv_i, Y& y_i) const\n",
    "  {\n",
    "    // reuse alpha_boundary because it is linear\n",
    "    alpha_boundary(ig,lfsu_i,z_i,lfsv_i,y_i);\n",
    "  }\n",
    "```"
   ]
  }
 ],
 "metadata": {
  "kernelspec": {
   "display_name": "C++17 (DUNE)",
   "language": "C++17",
   "name": "90f694aa-4041-547e-bba1-934968691da0"
  },
  "language_info": {
   "codemirror_mode": "text/x-c++src",
   "file_extension": ".cpp",
   "mimetype": "text/x-c++src",
   "name": "c++",
   "version": "17"
  },
  "toc": {
   "base_numbering": 1,
   "nav_menu": {},
   "number_sections": true,
   "sideBar": true,
   "skip_h1_title": false,
   "title_cell": "Table of Contents",
   "title_sidebar": "Contents",
   "toc_cell": false,
   "toc_position": {},
   "toc_section_display": true,
   "toc_window_display": true
  }
 },
 "nbformat": 4,
 "nbformat_minor": 5
}
