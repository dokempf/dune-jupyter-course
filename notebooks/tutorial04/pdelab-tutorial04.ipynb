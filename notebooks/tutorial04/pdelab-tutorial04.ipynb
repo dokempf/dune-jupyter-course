{
 "cells": [
  {
   "cell_type": "markdown",
   "id": "1fcf2d84",
   "metadata": {},
   "source": [
    "# Tutorial 04: Finite Elements for the Wave Equation"
   ]
  },
  {
   "cell_type": "markdown",
   "id": "8c9c7031",
   "metadata": {},
   "source": [
    "In this tutorial we solve the wave equation formulated as a first order in time system. This way the example serves as a model for the treatment of systems of partial differential equations in PDELab. This tutorial depends on tutorial 01 and 03."
   ]
  },
  {
   "cell_type": "markdown",
   "id": "4bb40dac",
   "metadata": {},
   "source": [
    "# PDE Problem"
   ]
  },
  {
   "cell_type": "markdown",
   "id": "2209cd91",
   "metadata": {},
   "source": [
    " - [x] subequations Latex - no\n",
    " - [x] cover also 1D case\n",
    "   - [x] maybe vtkwriter needs to be adjusted (vtp instead of vtu) -no changes were necessary\n",
    " - [ ] try direct solver\n",
    "   - [ ] combination of DS + 1D fast enough?\n",
    " - [x] directory mit c++ anlegen (statt C) \n",
    "   - [x] header in jupyter header includen\n",
    " - [x] maybe: replace STRINGIZE makro with std::to_string\n",
    " - [ ] make sequenceWriter downloadable as well - compressable?\n",
    " - [ ] nicer citations? extension `sphinxcontrib.bibtex`"
   ]
  },
  {
   "cell_type": "markdown",
   "id": "9204f36a",
   "metadata": {},
   "source": [
    " Discuss:\n",
    " - [ ] enable  ENABLE_SUITESPARSE in CMake\n",
    " - [ ] no if/else in create directory, because function will give error on failure\n",
    " - [ ] Append Atributes Filter"
   ]
  },
  {
   "cell_type": "markdown",
   "id": "10a51979",
   "metadata": {},
   "source": [
    "$$\\require{amsmath}$$"
   ]
  },
  {
   "cell_type": "markdown",
   "id": "230213c9",
   "metadata": {},
   "source": [
    "As an example for a system we consider the wave equation with reflective boundary conditions:\n",
    "}\n",
    "\\begin{align} \\label{eq:WaveEquation}\n",
    "\\partial_{tt} u-c^2\\Delta u  &= 0 &&\\text{in $\\Omega\\times\\Sigma$},\\\\\n",
    "u &= 0 &&\\text{on $\\partial\\Omega$},\\\\\n",
    "u &= q &&\\text{at $t=0$},\\\\\n",
    "\\partial_t u &= w &&\\text{at $t=0$},\n",
    "\\end{align}\n",
    "\n",
    "\n",
    "where $c$ is the speed of sound.\n",
    "Renaming $u_0=u$ and introducing $u_1=\\partial_t u_0 =\\partial_t u$ we can write the wave equation as a system of two equations:\n"
   ]
  },
  {
   "cell_type": "markdown",
   "id": "f3e28dc9",
   "metadata": {},
   "source": [
    "\\begin{align} \n",
    "\\partial_t u_1 - c^2\\Delta u_0 &=0 &&\\text{in $\\Omega\\times\\Sigma$}, \\label{eq:2a}\\\\\n",
    "\\partial_t u_0 - u_1 &= 0 &&\\text{in $\\Omega\\times\\Sigma$},  \\label{eq:2b}\\\\\n",
    "u_0 &= 0 &&\\text{on $\\partial\\Omega$},\\\\\n",
    "u_1 &= 0 &&\\text{on $\\partial\\Omega$},\\\\\n",
    "u_0 &= q &&\\text{at $t=0$},\\\\\n",
    "u_1 &= w &&\\text{at $t=0$}.\\label{eq:2f}\n",
    "\\end{align}"
   ]
  },
  {
   "cell_type": "markdown",
   "id": "67df896d",
   "metadata": {},
   "source": [
    "Since $u_0=u=0$ on the boundary we also have $\\partial_t u = u_1 = 0$ on the boundary.\n",
    "But one may also omit the boundary condition on $u_1$.\n",
    "\n",
    "Note that there are several alternative ways how to write the scalar equation\n",
    "\\eqref{eq:WaveEquation} as a system of PDEs:\n",
    "\n",
    "1. [Eriksson et al.](#cit1) apply the Laplacian to equation \\eqref{eq:2b}\n",
    "\\begin{equation}  \\label{eq:Eriksson}\n",
    "\\Delta \\partial_t u_0 - \\Delta u_1 = 0\n",
    "\\end{equation} \n",
    "which has advantages for energy conservation but requires additional smoothness properties.\n",
    "2. Alternatively, we may introduce the abbreviations $q=\\partial_t u$ and $w=-\\nabla u$, so $\\partial_{tt} u - c^2 \\Delta u =\\partial_{tt} u - c^2 \\nabla\\cdot\\nabla u = \\partial_{t} q + c^2 \\nabla\\cdot w = 0$. Taking partial derivatives of the introduced variables we obtain $\\partial_{x_i} q=\\partial_{x_i} \\partial_t u = \\partial_t \\partial_{x_i}  u = - \\partial_t w_i$. This results in a first-order hyperbolic system of PDEs for $q$ and $w$\n",
    "\\begin{align*}\n",
    "\\partial_t q + c^2 \\nabla\\cdot w &= 0\\\\\n",
    "\\partial_t w + \\nabla q &= 0\n",
    "\\end{align*}\n",
    "which are called equations of linear acoustics. This formulation is physically more relevant. It can be modified to handle discontinuous material properties and upwind finite volume methods can be used for numerical treatment.\n",
    "\n",
    "Here we will stay, however, with the simplest formulation \\eqref{eq:2a} - \\eqref{eq:2f} for simplicity."
   ]
  },
  {
   "cell_type": "markdown",
   "id": "1c51e22e",
   "metadata": {},
   "source": [
    "## Weak Formulation"
   ]
  },
  {
   "cell_type": "markdown",
   "id": "ca50a5ec",
   "metadata": {},
   "source": [
    "Multiplying \\eqref{eq:2a}\n",
    "with the test function $v_0$ and \\eqref{eq:2b} with the test function $v_1$\n",
    "and using integration by parts we arrive at the weak formulation: Find $(u_0(t),u_1(t))\\in\n",
    "U_0\\times U_1$ s.t.\n",
    "\\begin{align}\n",
    "  d_t (u_1,v_0)_{0,\\Omega} + c^2 (\\nabla u_0, \\nabla v_0)_{0,\\Omega} &=\n",
    "  0 \\quad \\forall v_0 \\in U_0 \\notag \\\\\n",
    "  d_t (u_0,v_1)_{0,\\Omega} - (u_1,v_1)_{0,\\Omega} &= 0 \\quad \\forall\n",
    "  v_1 \\in U_1 \\label{eq:WeakFormSystem}\n",
    "\\end{align}\n",
    "where we used the notation of the $L^2$ inner product $(u,v)_{0,\\Omega} = \\int_\\Omega\n",
    "u v \\, dx$. An equivalent formulation to (\\ref{eq:WeakFormSystem}) that hides the system structure reads as follows:\n",
    "\\begin{equation}\n",
    "\\label{eq:WeakForm}\n",
    "\\begin{split}\n",
    "d_t &\\left[ (u_0,v_1)_{0,\\Omega} + (u_1,v_0)_{0,\\Omega}\\right] \\\\\n",
    "&\\hspace{20mm}+ \\left[ c^2 (\\nabla u_0,\\nabla v_0)_{0,\\Omega} -(u_1,v_1)_{0,\\Omega} \\right] = 0\n",
    "\\quad \\forall (v_0,v_1)\\in U_0\\times U_1\n",
    "\\end{split}\n",
    "\\end{equation}\n",
    "With the latter we readily identify the temporal and spatial residual forms:\n",
    "\\begin{align}\n",
    "m^{\\text{WAVE}}((u_0,u_1),(v_0,v_1)) &= (u_0,v_1)_{0,\\Omega} + (u_1,v_0)_{0,\\Omega},\n",
    "\\label{eq:TemporalResForm}\\\\\n",
    "r^{\\text{WAVE}}((u_0,u_1),(v_0,v_1)) &= c^2 (\\nabla u_0,\\nabla\n",
    "v_0)_{0,\\Omega} - (u_1,v_1)_{0,\\Omega} \\; , \\label{eq:SpatialResForm}\n",
    "\\end{align}\n",
    "while with the former the system structure is more visible which might help to understand the implementation presented in section\n",
    "[Realization in PDELab](#implementation).\n",
    "The spaces $U_0$ and $U_1$ can differ as different types of boundary conditions can be incorporated into the ansatz spaces. But here both spaces are constrained by homogeneous Dirichlet boundary conditions."
   ]
  },
  {
   "cell_type": "markdown",
   "id": "257210d9",
   "metadata": {},
   "source": [
    "## Generalization"
   ]
  },
  {
   "cell_type": "markdown",
   "id": "658aca8c",
   "metadata": {},
   "source": [
    "The abstract setting of PDELab with its weighted residual formulation carries over to the case of systems of\n",
    "partial differential equations when cartesian products of functions spaces are introduced, i.e. the abstract *stationary* problem then reads\n",
    "\\begin{equation}\n",
    "\\text{Find $u_h\\in U_h=U_h^1\\times \\ldots \\times U_h^s$ s.t.:} \\quad r_h(u_h,v)=0\n",
    "\\quad \\forall v\\in V_h=V_h^1\\times\\ldots\\times V_h^s\n",
    "\\label{Eq:BasicSystemBuildingBlock}\n",
    "\\end{equation}\n",
    "with $s$ the number of components in the system. Again the concepts are completely orthogonal meaning that $r_h$ might be affine linear or nonlinear in its first argument and the instationary case works as well.\n",
    "\n",
    "From an organizational point of view it makes sense to allow that a component space $U_h^i$ in the cartesian product is itself a product space. This naturally leads to a *tree structure* in the\n",
    "function spaces.\n",
    "\n",
    "Consider as an example the Stokes equation in $d$ space dimensions.There one has pressure $p$ and velocity $v$ with components $v_1,\\ldots,v_d$ as unknowns. An appropriate function space then would be $$ U = (P,(V^1,\\ldots,V^d)).$$"
   ]
  },
  {
   "cell_type": "markdown",
   "id": "e526144f",
   "metadata": {},
   "source": [
    "# Finite Element Method"
   ]
  },
  {
   "cell_type": "markdown",
   "id": "4c94757a",
   "metadata": {},
   "source": [
    "The finite element method applied to \\eqref{eq:WeakForm} is straightforward. We may use the conforming space $V_h^{k,d}(\\mathcal{T}_h)$ of degree $k$ in dimension $d$ for each of the components. Typically one would choose\n",
    "the same polynomial degree for both components."
   ]
  },
  {
   "cell_type": "markdown",
   "id": "bc6fd728",
   "metadata": {},
   "source": [
    "# Realization in PDELab\n",
    "<a id= \"implementation\"> </a>"
   ]
  },
  {
   "cell_type": "code",
   "execution_count": null,
   "id": "3a27cea9",
   "metadata": {},
   "outputs": [],
   "source": [
    "//#define ENABLE_SUITESPARSE true"
   ]
  },
  {
   "cell_type": "code",
   "execution_count": null,
   "id": "feaddddc",
   "metadata": {},
   "outputs": [],
   "source": [
    "#include<dune/jupyter.hh>\n",
    "#include \"wavefem.hh\""
   ]
  },
  {
   "cell_type": "code",
   "execution_count": null,
   "id": "39aa0eb1",
   "metadata": {},
   "outputs": [],
   "source": [
    "// open ini file\n",
    "Dune::ParameterTree ptree;\n",
    "Dune::ParameterTreeParser ptreeparser;\n",
    "ptreeparser.readINITree(\"exercise04.ini\",ptree);\n",
    "\n",
    "// read ini file\n",
    "const int refinement = ptree.get<int>(\"grid.refinement\");"
   ]
  },
  {
   "cell_type": "markdown",
   "id": "d6ab1634",
   "metadata": {},
   "source": [
    "Choose polynomial degree:"
   ]
  },
  {
   "cell_type": "code",
   "execution_count": null,
   "id": "7c4d9488",
   "metadata": {},
   "outputs": [],
   "source": [
    "const int degree = 2;"
   ]
  },
  {
   "cell_type": "markdown",
   "id": "e6b30430",
   "metadata": {},
   "source": [
    "Instantiation of a 1D grid, which allows for a faster execution time compared to the 2D grid."
   ]
  },
  {
   "cell_type": "code",
   "execution_count": null,
   "id": "52562895",
   "metadata": {},
   "outputs": [],
   "source": [
    "\n",
    "static const int dim = 1;\n",
    "// read grid parameters from input file\n",
    "using DF = Dune::OneDGrid::ctype;\n",
    "auto a = ptree.get<DF>(\"grid.oned.a\");\n",
    "auto b = ptree.get<DF>(\"grid.oned.b\");\n",
    "auto N = ptree.get<unsigned int>(\"grid.oned.elements\");\n",
    "\n",
    "// create equidistant intervals\n",
    "using Intervals = std::vector<DF>;\n",
    "Intervals intervals(N+1);\n",
    "for(unsigned int i=0; i<N+1; ++i)\n",
    "intervals[i] = a + DF(i)*(b-a)/DF(N);\n",
    "\n",
    "// Construct grid\n",
    "using Grid = Dune::OneDGrid;\n",
    "Grid grid(intervals);\n",
    "grid.globalRefine(refinement);\n",
    "\n",
    "// call generic function\n",
    "using GV = Dune::OneDGrid::LeafGridView;\n",
    "GV gv = grid.leafGridView();\n"
   ]
  },
  {
   "cell_type": "markdown",
   "id": "f23a97bb",
   "metadata": {},
   "source": [
    "Instantiate a 2D UGGrid, as used in previous tutorials."
   ]
  },
  {
   "cell_type": "code",
   "execution_count": null,
   "id": "28b233c1",
   "metadata": {},
   "outputs": [],
   "source": [
    "/*\n",
    "static const int dim = 2;\n",
    "using Grid = Dune::UGGrid<dim>;\n",
    "using DF = Grid::ctype;\n",
    "Dune::FieldVector<DF,dim> L;\n",
    "//upper right\n",
    "L[0] = ptree.get(\"grid.structured.LX\",(double)1.0);\n",
    "L[1] = ptree.get(\"grid.structured.LY\",(double)1.0);\n",
    "std::array<unsigned int,dim> N;\n",
    "N[0] = ptree.get(\"grid.structured.NX\",(unsigned int)10);\n",
    "N[1] = ptree.get(\"grid.structured.NY\",(unsigned int)10);\n",
    "//lower left\n",
    "Dune::FieldVector<double,dim> lowerleft(0.0);\n",
    "\n",
    "// build a structured simplex grid\n",
    "auto gridp = Dune::StructuredGridFactory<Grid>::createSimplexGrid(lowerleft, L, N);\n",
    "\n",
    "gridp->globalRefine(refinement);\n",
    "using GV = Grid::LeafGridView;\n",
    "GV gv=gridp->leafGridView();\n",
    "*/"
   ]
  },
  {
   "cell_type": "code",
   "execution_count": null,
   "id": "8015aa28",
   "metadata": {},
   "outputs": [],
   "source": [
    "using FEM = Dune::PDELab::PkLocalFiniteElementMap<GV,DF,double,degree>;\n",
    "FEM fem(gv);"
   ]
  },
  {
   "cell_type": "markdown",
   "id": "0d767fdd",
   "metadata": {},
   "source": [
    "There are several changes now in the driver due to the system of PDEs.The first step is to set up the grid function space using the given finite element map:"
   ]
  },
  {
   "cell_type": "code",
   "execution_count": null,
   "id": "2f6705d7",
   "metadata": {},
   "outputs": [],
   "source": [
    "using RF = double;\n",
    "\n",
    "// Make grid function space used per component\n",
    "using CON = Dune::PDELab::ConformingDirichletConstraints;\n",
    "using VBE0 = Dune::PDELab::ISTL::VectorBackend<>;\n",
    "using GFS0 = Dune::PDELab::GridFunctionSpace<GV,FEM,CON,VBE0>;\n",
    "GFS0 gfs0(gv,fem);"
   ]
  },
  {
   "cell_type": "code",
   "execution_count": null,
   "id": "426c3cfe",
   "metadata": {
    "solution2": "hidden",
    "solution2_first": true
   },
   "outputs": [],
   "source": [
    "// Make grid function space for the system\n",
    "using VBE =\n",
    "  Dune::PDELab::ISTL::VectorBackend<\n",
    "    Dune::PDELab::ISTL::Blocking::fixed\n",
    "  >;\n",
    "using OrderingTag = Dune::PDELab::EntityBlockedOrderingTag;\n",
    "using GFS =\n",
    "  Dune::PDELab::PowerGridFunctionSpace<GFS0,2,VBE,OrderingTag>;\n",
    "GFS gfs(gfs0);"
   ]
  },
  {
   "cell_type": "markdown",
   "id": "c7b7d4bd",
   "metadata": {
    "solution2": "hidden"
   },
   "source": [
    "- *exercise 3:*"
   ]
  },
  {
   "cell_type": "code",
   "execution_count": null,
   "id": "96914965",
   "metadata": {
    "solution2": "hidden"
   },
   "outputs": [],
   "source": [
    "/*\n",
    "using VBE = Dune::PDELab::ISTL::VectorBackend <\n",
    "              Dune::PDELab::ISTL::Blocking::none\n",
    "            >;\n",
    "*/"
   ]
  },
  {
   "cell_type": "markdown",
   "id": "36f0d146",
   "metadata": {},
   "source": [
    "The next step is to set up the product space containing two components. This is done by the following code section:"
   ]
  },
  {
   "cell_type": "markdown",
   "id": "12f84f36",
   "metadata": {},
   "source": [
    "PDELab offers two different class templates to build product spaces. The one used here is `PowerGridFunctionSpace` which creates a product of a compile-time given number (2 here)\n",
    "of *identical* function spaces (`GFS0` here) which may only differ in the constraints. With the class template`CompositeGridFunctionSpace` you can create a product space where all components might be different spaces.\n",
    "We also have to set up names for the child spaces to facilitate VTK output later on:"
   ]
  },
  {
   "cell_type": "code",
   "execution_count": null,
   "id": "e23cd97a",
   "metadata": {},
   "outputs": [],
   "source": [
    "using namespace Dune::TypeTree::Indices;\n",
    "gfs.child(_0).name(\"u0\");\n",
    "gfs.child(_1).name(\"u1\");"
   ]
  },
  {
   "cell_type": "markdown",
   "id": "e6867d20",
   "metadata": {},
   "source": [
    "<a id=\"ordering\"> </a>"
   ]
  },
  {
   "cell_type": "markdown",
   "id": "e1d6f26a",
   "metadata": {},
   "source": [
    "An important aspect of product spaces is the ordering of the corresponding degrees of freedom. Often the solvers need to exploit an underlying block structure of the matrices.\n",
    "\n",
    "This works in two stages: An ordering has first to be specified when creating product spaces\n",
    "which is then subsequently exploited in the backend. Here we use the `EntityBlockedOrderingTag` to specify that all degrees of freedom related to a geometric entity should be numbered consecutively in the coefficient vector. Other options are the `LexicographicOrderingTag` ordering first all degrees of freedom of the first component space, then all of the second component space and so on. With the Iterative Solver Template Library ISTL it is now possible to exploit the block structure at compile-time.\n",
    "Here we use the tag `fixed` in the ISTL vector backend to indicate that at this level we want to create blocks of fixed size (in this case the block size will be two --\n",
    "corresponding to the degrees of freedom per entity). Another option would be the tag `none` which is the default. Then the degrees of freedom are still ordered in the specified way but no block structure is introduced on the ISTL level. *Important notice:* Using fixed block structure in ISTL requires that there is the same number of degrees of freedom per entity. This is true for polynomial degrees one and two but *not* for higher polynomial degree!\n",
    "\n",
    "In order to define a function that specifies the initial value we can use the same techniques as in the scalar case. A PDELab grid function\n",
    "is be constructed from the lambda closure\n"
   ]
  },
  {
   "cell_type": "code",
   "execution_count": null,
   "id": "a1ecaf8e",
   "metadata": {},
   "outputs": [],
   "source": [
    "auto u = Dune::PDELab::makeGridFunctionFromCallable(\n",
    "    gv,\n",
    "    [](const auto& x){\n",
    "      Dune::FieldVector<RF,dim> rv(0.0);\n",
    "      for (int i=0; i<dim; i++) rv[0] += (x[i]-0.375)*(x[i]-0.375);\n",
    "      rv[0] = std::max(0.0,1.0-8.0*sqrt(rv[0]));\n",
    "      return rv;\n",
    "   }\n",
    ");;"
   ]
  },
  {
   "cell_type": "markdown",
   "id": "b90198c3",
   "metadata": {},
   "source": [
    "The lambda closure is now returning two components in a `FieldVector`. The first component is the initial value for $u$ and the second component\n",
    "is the initial value for $\\partial_t u$. "
   ]
  },
  {
   "cell_type": "markdown",
   "id": "8357511f",
   "metadata": {},
   "source": [
    "Using the grid function a coefficient vector can now be initialized:"
   ]
  },
  {
   "cell_type": "code",
   "execution_count": null,
   "id": "71de303b",
   "metadata": {},
   "outputs": [],
   "source": [
    "using Z = Dune::PDELab::Backend::Vector<GFS,RF>;\n",
    "Z z(gfs); // initial value\n",
    "Dune::PDELab::interpolate(u,gfs,z);"
   ]
  },
  {
   "cell_type": "markdown",
   "id": "4117256b",
   "metadata": {},
   "source": [
    "The next step is to assemble the constraints container for the composite function space. Unfortunately there is currently no way to define the constraints for both components in one go. We need to set up a separate lambda closure for each component:"
   ]
  },
  {
   "cell_type": "code",
   "execution_count": null,
   "id": "c35226fa",
   "metadata": {},
   "outputs": [],
   "source": [
    "auto b0 = Dune::PDELab::\n",
    "  makeBoundaryConditionFromCallable(\n",
    "    gv,\n",
    "    [](const auto& x){return true;} \n",
    "  );;"
   ]
  },
  {
   "cell_type": "code",
   "execution_count": null,
   "id": "a7eee6d5",
   "metadata": {},
   "outputs": [],
   "source": [
    "auto b1 = Dune::PDELab::\n",
    "  makeBoundaryConditionFromCallable(\n",
    "    gv,\n",
    "    [](const auto& x){return true;}\n",
    "  );;"
   ]
  },
  {
   "cell_type": "markdown",
   "id": "6c148170",
   "metadata": {},
   "source": [
    "and then combine it using:"
   ]
  },
  {
   "cell_type": "code",
   "execution_count": null,
   "id": "eec4e18a",
   "metadata": {},
   "outputs": [],
   "source": [
    "using B = Dune::PDELab::CompositeConstraintsParameters<\n",
    "  decltype(b0),decltype(b1)\n",
    "  >;\n",
    "B b(b0,b1);"
   ]
  },
  {
   "cell_type": "markdown",
   "id": "6f47b040",
   "metadata": {},
   "source": [
    "Note that you could define different constraints for each component space although it is the same underlying function space. \n",
    "Now the constraints container can be assembled as before:"
   ]
  },
  {
   "cell_type": "code",
   "execution_count": null,
   "id": "4a614dcf",
   "metadata": {},
   "outputs": [],
   "source": [
    "using CC = typename GFS::template ConstraintsContainer<RF>::Type;\n",
    "CC cc;\n",
    "Dune::PDELab::constraints(b,gfs,cc);"
   ]
  },
  {
   "cell_type": "code",
   "execution_count": null,
   "id": "8b051e6b",
   "metadata": {},
   "outputs": [],
   "source": [
    "std::cout << \"constrained dofs=\" << cc.size() << \" of \"\n",
    "          << gfs.globalSize() << std::endl;\n",
    "set_constrained_dofs(cc,0.0,z); // set zero Dirichlet boundary conditions"
   ]
  },
  {
   "cell_type": "markdown",
   "id": "17e0bbb4",
   "metadata": {},
   "source": [
    "Then the VTK writer is prepared and the first file is written."
   ]
  },
  {
   "cell_type": "code",
   "execution_count": null,
   "id": "f78671d4",
   "metadata": {},
   "outputs": [],
   "source": [
    "int subsampling=ptree.get(\"output.subsampling\",(int)1);\n",
    "using VTKWRITER = Dune::SubsamplingVTKWriter<GV>;\n",
    "VTKWRITER vtkwriter(gv,Dune::refinementIntervals(subsampling));\n",
    "std::string filename=ptree.get(\"output.filename\",\"output\") + std::to_string(dim) + \"d\";\n",
    "\n",
    "std::filesystem::create_directory(filename);\n",
    "\n",
    "using VTKSEQUENCEWRITER = Dune::VTKSequenceWriter<GV>;\n",
    "VTKSEQUENCEWRITER vtkSequenceWriter(\n",
    "  std::make_shared<VTKWRITER>(vtkwriter),filename,filename,\"\");"
   ]
  },
  {
   "cell_type": "markdown",
   "id": "f6d3c0db",
   "metadata": {},
   "source": [
    "As we do not want to manually extract the subspaces for $u_0$ and $u_1$ from the overall space to add to them to the VTK writer, we call a PDELab helper function that handles this automatically:"
   ]
  },
  {
   "cell_type": "code",
   "execution_count": null,
   "id": "3a328883",
   "metadata": {},
   "outputs": [],
   "source": [
    "// add data field for all components of the space to the VTK writer\n",
    "Dune::PDELab::addSolutionToVTKWriter(vtkSequenceWriter,gfs,z);"
   ]
  },
  {
   "cell_type": "markdown",
   "id": "27cb57be",
   "metadata": {},
   "source": [
    "The rest of the is the same as for tutorial 03 except that a linear solver is used instead of Newton's method."
   ]
  },
  {
   "cell_type": "code",
   "execution_count": null,
   "id": "36de8832",
   "metadata": {},
   "outputs": [],
   "source": [
    "vtkSequenceWriter.write(0.0,Dune::VTK::appendedraw);\n",
    "\n",
    "// Make instationary grid operator\n",
    "double speedofsound=ptree.get(\"problem.speedofsound\",(double)1.0);\n",
    "using LOP = WaveFEM<FEM>;\n",
    "// using LOP = WaveFEMElip<FEM>;\n",
    "LOP lop(speedofsound);\n",
    "using TLOP = WaveL2<FEM>;\n",
    "// using TLOP = WaveElip<FEM>;\n",
    "TLOP tlop;\n",
    "using MBE = Dune::PDELab::ISTL::BCRSMatrixBackend<>;\n",
    "int degree = ptree.get(\"fem.degree\",(int)1);\n",
    "MBE mbe((int)pow(1+2*degree,dim));\n",
    "using GO0 = Dune::PDELab::GridOperator<GFS,GFS,LOP,MBE,RF,RF,RF,CC,CC>;\n",
    "GO0 go0(gfs,cc,gfs,cc,lop,mbe);\n",
    "using GO1 = Dune::PDELab::GridOperator<GFS,GFS,TLOP,MBE,RF,RF,RF,CC,CC>;\n",
    "GO1 go1(gfs,cc,gfs,cc,tlop,mbe);\n",
    "using IGO = Dune::PDELab::OneStepGridOperator<GO0,GO1>;\n",
    "IGO igo(go0,go1);\n",
    "\n",
    "// Linear problem solver\n",
    "//--iterative solver\n",
    "using LS = Dune::PDELab::ISTLBackend_SEQ_BCGS_SSOR;\n",
    "LS ls(5000,false);\n",
    "using SLP = Dune::PDELab::StationaryLinearProblemSolver<IGO,LS,Z>;\n",
    "SLP slp(igo,ls,1e-8);\n",
    "//--direct solver\n",
    "//using LDS = Dune::PDELab::ISTLBackend_SEQ_UMFPack;\n",
    "//LDS lds;\n",
    "//using SLP = Dune::PDELab::StationaryLinearProblemSolver<IGO,LDS,Z>;\n",
    "//SLP slp(igo,lds,1e-8);\n",
    "//---\n",
    "\n",
    "// select and prepare time-stepping scheme\n",
    "int torder = ptree.get(\"fem.torder\",(int)1);\n",
    "Dune::PDELab::OneStepThetaParameter<RF> method1(1.0);\n",
    "Dune::PDELab::Alexander2Parameter<RF> method2;\n",
    "Dune::PDELab::Alexander3Parameter<RF> method3;\n",
    "Dune::PDELab::TimeSteppingParameterInterface<RF>* pmethod=&method1;\n",
    "if (torder==1) pmethod = &method1;\n",
    "if (torder==2) pmethod = &method2;\n",
    "if (torder==3) pmethod = &method3;\n",
    "if (torder<1||torder>3) std::cout<<\"torder should be in [1,3]\"<<std::endl;\n",
    "Dune::PDELab::OneStepMethod<RF,IGO,SLP,Z,Z> osm(*pmethod,igo,slp);\n",
    "osm.setVerbosityLevel(2);\n",
    "\n",
    "// subspaces\n",
    "using U0SUB = Dune::PDELab::GridFunctionSubSpace<GFS,Dune::TypeTree::TreePath<0> >;\n",
    "U0SUB u0sub(gfs);\n",
    "using U1SUB = Dune::PDELab::GridFunctionSubSpace<GFS,Dune::TypeTree::TreePath<1> >;\n",
    "U1SUB u1sub(gfs);\n",
    "\n",
    "// Make discrete grid functions for components\n",
    "using U0DGF = Dune::PDELab::DiscreteGridFunction<U0SUB,Z>;\n",
    "U0DGF u0dgf(u0sub,z);\n",
    "using U1DGF = Dune::PDELab::DiscreteGridFunction<U1SUB,Z>;\n",
    "U1DGF u1dgf(u1sub,z);\n",
    "\n",
    "// initialize simulation time\n",
    "RF time = 0.0;"
   ]
  },
  {
   "cell_type": "code",
   "execution_count": null,
   "id": "94c38d3c",
   "metadata": {},
   "outputs": [],
   "source": [
    "// time loop\n",
    "RF T = ptree.get(\"problem.T\",(RF)1.0);\n",
    "RF dt = ptree.get(\"fem.dt\",(RF)0.1);\n",
    "while (time<T-1e-8)\n",
    "{\n",
    "  // do time step\n",
    "  Z znew(z);\n",
    "  osm.apply(time,dt,z,znew);\n",
    "\n",
    "  // accept time step\n",
    "  z = znew;\n",
    "  time+=dt;\n",
    "\n",
    "  //exercise 5: put your code here\n",
    "\n",
    "  // output to VTK file\n",
    "  vtkSequenceWriter.write(time,Dune::VTK::appendedraw);\n",
    "}"
   ]
  },
  {
   "cell_type": "code",
   "execution_count": null,
   "id": "c5c36d22",
   "metadata": {},
   "outputs": [],
   "source": [
    "Dune::TestStruct<GV> test1 = {vtkSequenceWriter,filename};"
   ]
  },
  {
   "cell_type": "code",
   "execution_count": null,
   "id": "dab80035",
   "metadata": {},
   "outputs": [],
   "source": [
    "test1"
   ]
  },
  {
   "cell_type": "markdown",
   "id": "eb44dd1e",
   "metadata": {},
   "source": [
    "# Execution Times"
   ]
  },
  {
   "cell_type": "markdown",
   "id": "8c64f30f",
   "metadata": {},
   "source": [
    "dim | solver  | dt | degree | torder |T_tot   | *duration*|\n",
    "----|---------|----|--------|--------|------------|-----------|\n",
    "1   |iterative|0.01|  2.0   |   2    |   3        |**1min40s**|\n",
    "2   |    -\"-  | -\"-|   -\"-  |   -\"-  |     -\"-     |**>30min**|"
   ]
  },
  {
   "cell_type": "markdown",
   "id": "3000cd50",
   "metadata": {
    "heading_collapsed": true
   },
   "source": [
    "# Local Operator"
   ]
  },
  {
   "cell_type": "markdown",
   "id": "c0736f4b",
   "metadata": {
    "heading_collapsed": true,
    "hidden": true
   },
   "source": [
    "## Spatial Local Operator"
   ]
  },
  {
   "cell_type": "markdown",
   "id": "6bf28e24",
   "metadata": {
    "hidden": true
   },
   "source": [
    "The spatial residual form \\eqref{eq:SpatialResForm} is implemented by the local operator `WaveFEM` in file `wavefem.hh`. Cache construction and flags settings are the same as in tutorial 01 and 03. Only volume terms are used here. Note also that no parameter object is necessary as the only parameter is the speed of sound $c$."
   ]
  },
  {
   "cell_type": "markdown",
   "id": "c2e99dcf",
   "metadata": {
    "heading_collapsed": true,
    "hidden": true
   },
   "source": [
    "### `alpha_volume` Method"
   ]
  },
  {
   "cell_type": "markdown",
   "id": "6cc64ca7",
   "metadata": {
    "hidden": true
   },
   "source": [
    "The method `alpha_volume` has the *same* interface as in the scalar case:"
   ]
  },
  {
   "cell_type": "markdown",
   "id": "aa01ee5e",
   "metadata": {
    "hidden": true
   },
   "source": [
    "```c++\n",
    "template<typename EG, typename LFSU, typename X, typename LFSV, typename R>\n",
    "  void alpha_volume (const EG& eg, const LFSU& lfsu, const X& x, const LFSV& lfsv, R& r) const\n",
    "```\n",
    "However the trial and test function spaces `LFSU` and `LFSV` now reflect the component structure of the global function space, i.e. they consist of two components. *Important notice: Here we assume that trial and test space are identical (up to constraints) and that also both components are identical!*\n",
    "The two components can be extracted with the following code\n",
    "```c++\n",
    "// select the two components (but assume Galerkin scheme U=V)\n",
    "using namespace Dune::TypeTree::Indices;\n",
    "auto lfsu0 = lfsu.child(_0);\n",
    "auto lfsu1 = lfsu.child(_1);\n",
    "```\n",
    "The function spaces `lfsu0` and `lfsu1` are now scalar spaces (which we assume to be identical)."
   ]
  },
  {
   "cell_type": "markdown",
   "id": "8dd7462a",
   "metadata": {
    "hidden": true
   },
   "source": [
    "After extracting the dimension\n",
    "```c++\n",
    "const int dim = EG::Entity::dimension;\n",
    "```\n",
    "we select a quadrature rule\n",
    "```c++\n",
    "auto geo = eg.geometry();\n",
    "const int order = 2*lfsu0.finiteElement().localBasis().order();\n",
    "auto rule = Dune::PDELab::quadratureRule(geo,order);\n",
    "```\n",
    "and may now loop over the quadrature points.\n",
    "For each quadrature point, evaluate the basis function of the first component:    \n",
    "```c++   \n",
    "for (const auto& ip : rule)\n",
    "  {\n",
    "    auto& phihat = \n",
    "    cache.evaluateFunction(ip.position(),lfsu0.finiteElement().localBasis());\n",
    "```\n",
    "As the components are identical we need only evaluate the basis once and can compute the value of $u_1$ at the quadrature point\n",
    "```c++\n",
    "    // evaluate u1\n",
    "    RF u1=0.0;\n",
    "    for (std::size_t i=0; i<lfsu0.size(); i++) u1 += x(lfsu1,i)*phihat[i];\n",
    "```\n",
    "Then we evaluate the gradients of the basis functions\n",
    "```c++\n",
    "    auto& gradphihat = \n",
    "    cache.evaluateJacobian(ip.position(),lfsu0.finiteElement().localBasis());\n",
    "```        \n",
    "transform them from the reference element to the real element\n",
    "```c++\n",
    "    const auto S = geo.jacobianInverseTransposed(ip.position());\n",
    "    auto gradphi = makeJacobianContainer(lfsu0);\n",
    "    for (std::size_t i=0; i<lfsu0.size(); i++)\n",
    "       S.mv(gradphihat[i][0],gradphi[i][0]);\n",
    "```         \n",
    "and compute the gradient of $u_0$:\n",
    "```c++\n",
    "    Dune::FieldVector<RF,dim> gradu0(0.0);\n",
    "    for (std::size_t i=0; i<lfsu0.size(); i++)\n",
    "      gradu0.axpy(x(lfsu0,i),gradphi[i][0]);\n",
    "```          \n",
    "With the integration factor\n",
    "```c++\n",
    "    RF factor = ip.weight() * geo.integrationElement(ip.position());\n",
    " ```   \n",
    "the residuals can now be accumulated:    \n",
    "```c++\n",
    "   for (std::size_t i=0; i<lfsu0.size(); i++) {\n",
    "     r.accumulate(lfsu0,i,c*c*(gradu0*gradphi[i][0])*factor);\n",
    "     r.accumulate(lfsu1,i,-u1*phihat[i]*factor);\n",
    "```"
   ]
  },
  {
   "cell_type": "markdown",
   "id": "3dba9246",
   "metadata": {
    "heading_collapsed": true,
    "hidden": true
   },
   "source": [
    "### `jacobian_volume` Method"
   ]
  },
  {
   "cell_type": "markdown",
   "id": "ed714c33",
   "metadata": {
    "hidden": true
   },
   "source": [
    "As the problem is linear it is advisable to also implement the `jacobian_volume` method for efficiency and accuracy.\n",
    "The interface is the same as in the scalar case:\n",
    "```c++\n",
    "template<typename EG, typename LFSU, typename X, typename LFSV, typename M>\n",
    "void jacobian_volume (const EG& eg, const LFSU& lfsu, const X& x, const LFSV& lfsv,\n",
    "                      M& mat) const\n",
    "```                      \n",
    "Component selection, quadrature rule selection and basis evaluation are the same as in `alpha_volume`.\n",
    "We only consider the accumulation of the Jacobian entries here:\n",
    "```c++\n",
    "// integrate both equations\n",
    "RF factor = ip.weight() * geo.integrationElement(ip.position());\n",
    "for (std::size_t j=0; j<lfsu0.size(); j++)\n",
    "  for (std::size_t i=0; i<lfsu0.size(); i++) {\n",
    "    mat.accumulate(lfsu0,i,lfsu0,j,c*c*(gradphi[j][0]*gradphi[i][0])*factor);\n",
    "    mat.accumulate(lfsu1,i,lfsu1,j,-phihat[j]*phihat[i]*factor);\n",
    "  }\n",
    "```  \n",
    "Note how the diagonal sub-blocks of the Jacobian with respect to the first and second component are accessed. Finally, `WaveFEM` also implements the matrix-free versions\n",
    "for Jacobian application.  "
   ]
  },
  {
   "cell_type": "markdown",
   "id": "897ce102",
   "metadata": {
    "heading_collapsed": true,
    "hidden": true
   },
   "source": [
    "## Temporal Local Operator"
   ]
  },
  {
   "cell_type": "markdown",
   "id": "c805656c",
   "metadata": {
    "hidden": true
   },
   "source": [
    "The temporal residual form \\eqref{eq:TemporalResForm} is implemented by the local operator `WaveL2` in file `wavefem.hh`. Cache construction and flags settings are the same as in tutorial 01 and 03. Only volume terms are used here."
   ]
  },
  {
   "cell_type": "markdown",
   "id": "42a4b641",
   "metadata": {
    "heading_collapsed": true,
    "hidden": true
   },
   "source": [
    "### `alpha_volume` Method"
   ]
  },
  {
   "cell_type": "markdown",
   "id": "ef5f16eb",
   "metadata": {
    "hidden": true
   },
   "source": [
    "The `alpha_volume` method is pretty similar\n",
    "to the one in the spatial operator, except that the value of $u_0$ is needed instead of the gradient. Here we just show the residual accumulation:\n",
    "```c++\n",
    " // integration factor\n",
    "RF factor = ip.weight() * geo.integrationElement(ip.position());\n",
    "\n",
    "// integrate u*phi_i\n",
    "for (std::size_t i=0; i<lfsu0.size(); i++) {\n",
    "  r.accumulate(lfsu0,i,u1*phihat[i]*factor);\n",
    "  r.accumulate(lfsu1,i,u0*phihat[i]*factor);\n",
    "}\n",
    "```\n",
    "Note that $u_1$ is integrated with respect to test function $v_0$\n",
    "and vice versa."
   ]
  },
  {
   "cell_type": "markdown",
   "id": "b31402a2",
   "metadata": {
    "heading_collapsed": true,
    "hidden": true
   },
   "source": [
    "### `jacobian_volume` Method"
   ]
  },
  {
   "cell_type": "markdown",
   "id": "e5bb5b0f",
   "metadata": {
    "hidden": true
   },
   "source": [
    "The corresponding Jacobian entries are accumulated in the `jacobian_volume` method:\n",
    "```c++\n",
    "// integration factor\n",
    "RF factor = ip.weight() * geo.integrationElement(ip.position());\n",
    "\n",
    "// loop over all components\n",
    "for (std::size_t j=0; j<lfsu0.size(); j++)\n",
    "  for (std::size_t i=0; i<lfsu0.size(); i++) {\n",
    "    mat.accumulate(lfsu0,i,lfsu1,j,phihat[j]*phihat[i]*factor);\n",
    "    mat.accumulate(lfsu1,i,lfsu0,j,phihat[j]*phihat[i]*factor);\n",
    "  }\n",
    "```\n",
    "That's it! 293 lines of code to implement the finite element method for the wave equation."
   ]
  },
  {
   "cell_type": "markdown",
   "id": "ded1b9a7",
   "metadata": {},
   "source": [
    "# Exercise"
   ]
  },
  {
   "cell_type": "markdown",
   "id": "49bd1b70",
   "metadata": {},
   "source": [
    "## Getting to Know the Code"
   ]
  },
  {
   "cell_type": "markdown",
   "id": "b447a309",
   "metadata": {},
   "source": [
    "The code of this exercise solves the wave equation formulated as a first order in time system. As already explained above, we can write the wave equation as a system of two equations by substituting $u_0=u$ and introducing $u_1=\\partial_t u_0 =\\partial_t u$.\n",
    "  \n",
    "As in the previous exercises you can control most of the settings through the ini-file `exercise04.ini`. Get an overview of the configurable settings, compile and run `exercise04`.\n",
    "\n",
    "The program writes output with the extension `pvd`. This is one of several ways to write VTK output for the instationary case, c.f. the documentation of tutorial03. The `pvd`-file can be visualized by ParaView and consists of a collection of the corresponding `vtu`-files. <font color='red'>In order to visualize a 1D solution, one can apply the \"Plot Over Line\" filter.</font> Note that our solution is always given by $u_0$."
   ]
  },
  {
   "cell_type": "markdown",
   "id": "42ff6db4",
   "metadata": {},
   "source": [
    "- *1d solution of wave equation*\n",
    "\n",
    "<video src=\"wave1d.ogv\" controls width=\"60%\">"
   ]
  },
  {
   "cell_type": "markdown",
   "id": "81a16780",
   "metadata": {},
   "source": [
    "- *2d solution of wave equation*\n",
    "\n",
    "<video src=\"wave2d.ogv\" controls width=\"100%\">"
   ]
  },
  {
   "cell_type": "markdown",
   "id": "10dae1d0",
   "metadata": {},
   "source": [
    "## Try various time integrators, in particular the Crank-Nicolson method"
   ]
  },
  {
   "cell_type": "markdown",
   "id": "6ff12608",
   "metadata": {},
   "source": [
    "We want to examine the numerical solution under different time discretization schemes, eg. Implicit Euler or Crank-Nicolson. In order to change the time discretization scheme you will have to search for the line\n",
    "```c++\n",
    "Dune::PDELab::Alexander2Parameter<RF> pmethod;\n",
    "```\n",
    "\n",
    "Recall the previous `exercise03` and change the one step $\\theta$ scheme in a way that corresponds to the Crank-Nicolson method.\n",
    "\n",
    " **Note that** you can compare the solutions in ParaView. To do that you have to <font color = 'red'>rename the second solution in `exercise04.ini` and use the \"Append Attributes\" filter </font>\n",
    " before \"Plot Over Line\". Do not forget to change the parameter `torder` in `exercise04.ini` in order to get the correct scheme.\n",
    "\n",
    " **Remark** You can decide which dimension to investigate. A 2D simulation will give you nicer pictures at the cost of longer run times."
   ]
  },
  {
   "cell_type": "markdown",
   "id": "7bddd31e",
   "metadata": {},
   "source": [
    "- *Crank-Nicolson method:*\n",
    "```c++\n",
    " Dune::PDELab::OneStepThetaParameter<RF> method1(0.5);\n",
    "```"
   ]
  },
  {
   "cell_type": "markdown",
   "id": "5dde7a9b",
   "metadata": {},
   "source": [
    "<video src=\"wave1dCNIE.ogv\" controls width=\"60%\">"
   ]
  },
  {
   "cell_type": "markdown",
   "id": "fe4ad974",
   "metadata": {},
   "source": [
    "## Explore polynomial degrees greater than $2$ by changing the blocking to`none`."
   ]
  },
  {
   "cell_type": "markdown",
   "id": "bde43264",
   "metadata": {
    "solution2": "hidden",
    "solution2_first": true
   },
   "source": [
    "**Step 1:** Find the place where your Local Finite Element Maps are created and make it possible to use polynomial degree 3\n",
    "\n",
    "```c++\n",
    "Dune::PDELab::PkLocalFiniteElementMap<GV,DF,double,deg> FEM;\n",
    "```\n",
    "\n",
    "Compile your program and check the results.\n",
    "\n",
    "**Note that** `deg` is a static template parameter."
   ]
  },
  {
   "cell_type": "markdown",
   "id": "0f487d2c",
   "metadata": {
    "solution2": "hidden"
   },
   "source": [
    " - *Program should compile and give a segmentation error when started.*\n",
    " - *For the notebook: The initialization of the coefficient vector fails.*\n"
   ]
  },
  {
   "cell_type": "markdown",
   "id": "26ad89d1",
   "metadata": {},
   "source": [
    "**Step 2:**\n",
    "\n",
    "Before we start read the part that describes the specification of an ordering when creating product spaces ([here](#ordering)). Using fixed block structure in ISTL requires that the number of degrees of freedom per entity is constant for each geometry type. This is true for polynomial degrees one and two but not for higher polynomial degree!\n",
    "\n",
    "To avoid segfaults you need to change\n",
    "```c++\n",
    "Dune::PDELab::istl::VectorBackend<Dune::PDELab::istl::Blocking::fixed> VBE;\n",
    "```\n",
    "  to\n",
    "```c++\n",
    "Dune::PDELab::istl::VectorBackend<Dune::PDELab::istl::Blocking::none> VBE;\n",
    "```\n",
    "within the notebook."
   ]
  },
  {
   "cell_type": "markdown",
   "id": "991ce9ae",
   "metadata": {},
   "source": [
    "## Changing the Local Operator"
   ]
  },
  {
   "cell_type": "markdown",
   "id": "7652013c",
   "metadata": {
    "solution2": "hidden",
    "solution2_first": true
   },
   "source": [
    " Now consider the elliptic projection as in Eriksson et al. \\cite{Eriksson}, namely applying the Laplacian to equation \\eqref{eq:2b}\n",
    "  \\begin{equation}\\label{eq:elip}\n",
    "    -\\Delta \\partial_t u_0 + \\Delta u_1 = 0,\n",
    "  \\end{equation}\n",
    "which has the advantage of energy conservation but requires additional smoothness properties.\n",
    "\n",
    "The main work is now to change the local operators given in the file `wavefem.hh`. This is done in several steps:\n",
    "\n",
    "1. Copy the file `wavefem.hh` to a new file and rename it.\n",
    "2. Rename the local operators in the new file, e.g. change`WaveL2` to `WaveElip`.\n",
    "3. Include your new file in `exercise04.cc` and change the types of `LOP` and `TLOP` in\n",
    "   the notebook.\n",
    "```c++\n",
    "// Make instationary grid operator\n",
    "double speedofsound = ptree.get(\"problem.speedofsound\",1.0);\n",
    "typedef WaveFEM<FEM> LOP;\n",
    "LOP lop(speedofsound);\n",
    "typedef WaveL2<FEM> TLOP;\n",
    "TLOP tlop;\n",
    "```\n",
    "After these preparations you need to implement the following change:\n",
    "$$ \\partial_t u_0 - u_1 = 0 \\Rightarrow \\Delta \\partial_t u_0 -\n",
    "  \\Delta u_1 = 0.$$\n",
    "\n",
    "1. In the spatial local operator, change:\n",
    "    $$ - u_1 = 0 \\Rightarrow -  \\Delta u_1 = 0$$\n",
    "\n",
    "    See how it is done for the $\\Delta u_0$, we recall the\n",
    "    corresponding part of `WaveFEM::alpha_volume()`:\n",
    "```c++\n",
    "// integrate both equations\n",
    "RF factor = ip.weight() * geo.integrationElement(ip.position());\n",
    "for (size_t i=0; i<lfsu0.size(); i++) {\n",
    "\tr.accumulate(lfsu0,i,c*c*(gradu0*gradphi[i][0])*factor);\n",
    "\tr.accumulate(lfsu1,i,-u1*phihat[i]*factor);\n",
    "}\n",
    "```"
   ]
  },
  {
   "cell_type": "markdown",
   "id": "daba9b2c",
   "metadata": {
    "solution2": "hidden"
   },
   "source": [
    "- *solution for `WaveFEMElip::alpha_volume`*\n",
    "\n",
    "```c++\n",
    "...\n",
    "// compute gradient of u1\n",
    "Dune::FieldVector<RF,dim> gradu1(0.0);\n",
    "for (size_t i=0; i<lfsu1.size(); i++)\n",
    "  gradu1.axpy(x(lfsu1,i),gradphi[i][0]);\n",
    "\n",
    "// integrate both equations\n",
    "RF factor = ip.weight() * geo.integrationElement(ip.position());\n",
    "for (size_t i=0; i<lfsu0.size(); i++) {\n",
    "  r.accumulate(lfsu0,i,c*c*(gradu0*gradphi[i][0])*factor);\n",
    "  r.accumulate(lfsu1,i,-(gradu1*gradphi[i][0])*factor);            \n",
    "```\n"
   ]
  },
  {
   "cell_type": "markdown",
   "id": "5a74b4fe",
   "metadata": {
    "solution2": "hidden",
    "solution2_first": true
   },
   "source": [
    "2. In the temporal local operator, change:\n",
    "    $$ \\partial_t u_0  = 0 \\Rightarrow \\Delta \\partial_t u_0= 0$$\n",
    "\n",
    "    See how it is done for the $\\Delta u_0$, we recall the\n",
    "    corresponding part of `WaveL2::alpha_volume()`:\n",
    "```c++\n",
    "// integrate u*phi_i\n",
    "for (size_t i=0; i<lfsu0.size(); i++) {\n",
    "\tr.accumulate(lfsu0,i,u1*phihat[i]*factor);\n",
    "\tr.accumulate(lfsu1,i,u0*phihat[i]*factor);\n",
    "}\n",
    "```"
   ]
  },
  {
   "cell_type": "markdown",
   "id": "bd3fe124",
   "metadata": {
    "solution2": "hidden"
   },
   "source": [
    " - *solution for `WaveElip::alpha_volume`*\n",
    " \n",
    "```c++\n",
    "// integrate u*phi_i\n",
    "for (size_t i=0; i<lfsu0.size(); i++) {\n",
    "  r.accumulate(lfsu0,i,u1*phihat[i]*factor);\n",
    "  r.accumulate(lfsu1,i,(gradu0*gradphi[i][0])*factor);\n",
    "```"
   ]
  },
  {
   "cell_type": "markdown",
   "id": "1250fc7b",
   "metadata": {
    "solution2": "hidden",
    "solution2_first": true
   },
   "source": [
    "3. Do not forget to update the `jacobian_volume()` methods accordingly. As the problem is linear, this should not be too difficult."
   ]
  },
  {
   "cell_type": "markdown",
   "id": "b9338e4f",
   "metadata": {
    "solution2": "hidden"
   },
   "source": [
    "- *solution for `WaveFEMElip::jacobian_volume`*\n",
    "\n",
    "```c++\n",
    "for (size_t i=0; i<lfsu0.size(); i++) {\n",
    "  mat.accumulate(lfsu0,i,lfsu0,j,c*c*(gradphi[j][0]*gradphi[i]   [0])*factor);\n",
    "  mat.accumulate(lfsu1,i,lfsu1,j,-(gradphi[j][0]*gradphi[i][0])*factor);\n",
    "}\n",
    " ```\n",
    "\n",
    "- *solution for `WaveElip::jacobian_volume`*\n",
    " \n",
    " ```c++\n",
    "for (size_t i=0; i<lfsu0.size(); i++)\n",
    "  S.mv(gradphihat[i][0],gradphi[i][0]);\n",
    "// loop over all components\n",
    "for (size_t j=0; j<lfsu0.size(); j++)\n",
    "  for (size_t i=0; i<lfsu0.size(); i++) {\n",
    "    mat.accumulate(lfsu0,i,lfsu1,j,phihat[j]*phihat[i]*factor);\n",
    "    mat.accumulate(lfsu1,i,lfsu0,j,(gradphi[j][0]*gradphi[i][0])*factor);\n",
    "    }\n",
    "```"
   ]
  },
  {
   "cell_type": "markdown",
   "id": "c963d53f",
   "metadata": {},
   "source": [
    "## Energy Conservation"
   ]
  },
  {
   "cell_type": "markdown",
   "id": "06dd6e7a",
   "metadata": {
    "solution2": "hidden",
    "solution2_first": true
   },
   "source": [
    " If we multiply \\eqref{eq:2a} by $u_1$ and \\eqref{eq:elip} by $u_0$ and add, the terms $-(\\Delta u_0,u_1 )$ and $(\\Delta u_1,u_0 )$ cancel out, leading to the conclusion that the energy $$E(t) = \\|u_1\\|^2 + \\| \\nabla u_0\\|^2 $$ is constant in time.\n",
    "\n",
    "Your task is to check the energy conservation for the elliptic projection and Crank-Nicolson in time. You can use the following PDELab utilities:\n",
    "```c++\n",
    "Dune::PDELab::SqrGridFunctionAdapter\n",
    "Dune::PDELab::integrateGridFunction\n",
    "Dune::PDELab::DiscreteGridFunctionGradient\n",
    "Dune::PDELab::SqrGridFunctionAdapter\n",
    "```\n",
    "\n",
    "If you have problems with this task check the online documentation https://www.dune-project.org/doxygen/pdelab/master/ or the solution."
   ]
  },
  {
   "cell_type": "markdown",
   "id": "566ef7cd",
   "metadata": {
    "solution2": "hidden"
   },
   "source": [
    " - *solution for energy conservation*\n",
    " \n",
    "```c++\n",
    "// Energy - integrate u square\n",
    "typedef Dune::PDELab::SqrGridFunctionAdapter<U1DGF> SQRU1DGF;\n",
    "SQRU1DGF u1sqrdgf(u1dgf);\n",
    "\n",
    "typename SQRU1DGF::Traits::RangeType sqru1(0.0);\n",
    "Dune::PDELab::integrateGridFunction(u1sqrdgf, sqru1, 2*degree);\n",
    "\n",
    "using DGFU0G = Dune::PDELab::DiscreteGridFunctionGradient<U0SUB, Z>;\n",
    "DGFU0G dgfu0g(u0sub,z);\n",
    "//gradient square\n",
    "using SQRDGFU0G = Dune::PDELab::SqrGridFunctionAdapter<DGFU0G>;\n",
    "SQRDGFU0G sqrdgfu0g(dgfu0g);\n",
    "//integrate gradient square\n",
    "typename SQRDGFU0G::Traits::RangeType sqru0g(0.0);\n",
    "Dune::PDELab::integrateGridFunction(sqrdgfu0g, sqru0g, 2*degree);\n",
    "\n",
    "std::cout << \"::: energy          \" << sqru1 + sqru0g << std::endl;\n",
    "```"
   ]
  },
  {
   "cell_type": "markdown",
   "id": "5f2ddb41",
   "metadata": {},
   "source": [
    "## Additional Task"
   ]
  },
  {
   "cell_type": "markdown",
   "id": "f2c97351",
   "metadata": {},
   "source": [
    "If you are done with these exercises, you can play with the initial conditions. Use the following setting in one space dimension:\n",
    "\n",
    " - Change the initial conditions to $\\sin(2x)$ (implement it as a lambda function)\n",
    " - Change the domain size to $[0,\\pi]$"
   ]
  },
  {
   "cell_type": "markdown",
   "id": "2911f580",
   "metadata": {},
   "source": [
    "# Bibliographie"
   ]
  },
  {
   "cell_type": "markdown",
   "id": "9c5f706d",
   "metadata": {},
   "source": [
    " [1] K. Eriksson and D. Estep and P. Hansbo and C. Johnson. *Computational Differential Equations*. Cambridge University Press, 1996. <a id =\"cit1\"> </a>"
   ]
  },
  {
   "cell_type": "markdown",
   "id": "c3514b7a",
   "metadata": {},
   "source": [
    "[2] P. G. Ciarlet. *The finite element method for elliptic problems*. SIAM, Classics in Applied Mathematics, 2002.\n",
    "\n",
    "[3] D. Braess. *Finite Elemente*. Springer, 3. edition, 2003.\n",
    "\n",
    "[4] S. C. Brenner and L. R. Scott. *The mathematical theory of finite element methods*, Springer, 1994.\n",
    "\n",
    "[5] H. Elman, D. Silvester and A. Wathen. *Finite Elements and Fast Iterative Solvers*. Oxford University Press,2005.\n",
    "\n",
    "[6] C. Großmann and H.-G. Roos.*Numerische Behandlung partieller Differentialgleichungen*. Teubner, 2006.\n",
    "\n",
    "[7] W. Hackbusch. *Theorie und Numerik elliptischer Differentialgleichungen*. Teubner, 1986. http://www.mis.mpg.de/preprints/ln/lecturenote-2805.pdf.\n",
    "\n",
    "[8] R. Rannacher. *Einführung in die Numerische Mathematik II (Numerik partieller Differentialgleichungen)*. Heidelberg University, 2006. http://numerik.iwr.uni-heidelberg.de/~lehre/notes.\n",
    "\n",
    "[9] P. Bastian. *Lecture Notes on Scientific Computing with Partial Differential Equations*. Heidelberg University, 2014. http://conan.iwr.uni-heidelberg.de/teaching/numerik2_ss2014/num2.pdf."
   ]
  }
 ],
 "metadata": {
  "kernelspec": {
   "display_name": "C++17 (DUNE)",
   "language": "C++17",
   "name": "90f694aa-4041-547e-bba1-934968691da0"
  },
  "language_info": {
   "codemirror_mode": "text/x-c++src",
   "file_extension": ".cpp",
   "mimetype": "text/x-c++src",
   "name": "c++",
   "version": "17"
  },
  "toc": {
   "base_numbering": 1,
   "nav_menu": {},
   "number_sections": true,
   "sideBar": true,
   "skip_h1_title": false,
   "title_cell": "Table of Contents",
   "title_sidebar": "Contents",
   "toc_cell": false,
   "toc_position": {},
   "toc_section_display": true,
   "toc_window_display": false
  }
 },
 "nbformat": 4,
 "nbformat_minor": 5
}
