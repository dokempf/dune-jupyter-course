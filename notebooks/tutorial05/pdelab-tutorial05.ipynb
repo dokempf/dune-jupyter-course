{
 "cells": [
  {
   "cell_type": "markdown",
   "id": "8c21b866",
   "metadata": {},
   "source": [
    "# Adaptive Finite Element Method for a Nonlinear Poisson Equation"
   ]
  },
  {
   "cell_type": "markdown",
   "id": "cd9fd136",
   "metadata": {},
   "source": [
    "In this tutorial we solve the nonlinear Poisson equation from tutorial 01 using\n",
    "adaptive grid refinement. The finite element solution on a given mesh is used to\n",
    "compute local error indicators that can be used to iteratively reduce the\n",
    "discretization error. It is assumed that the nonlinearity of the PDE is not too\n",
    "strong, so that it may be approximated by linearizing around the current finite\n",
    "element solution. This allows the calculation of local error estimates\n",
    "that quantify the discretization error on each element of the mesh.\n",
    "\n",
    "This tutorial depends on tutorial 01 which discusses\n",
    "the solution of the considered partial differential equation. It is assumed that\n",
    "you have worked through tutorial 01 before. Additionally, the error estimator has\n",
    "to assemble skeleton terms, which are explained in greater detail in tutorial 02.\n",
    "It may therefore be useful to have worked through that tutorial as well, but the\n",
    "actual method discussed there is not relevant here."
   ]
  },
  {
   "cell_type": "markdown",
   "id": "6f96c326",
   "metadata": {
    "heading_collapsed": true
   },
   "source": [
    "# Problem Formulation"
   ]
  },
  {
   "cell_type": "markdown",
   "id": "a0280bac",
   "metadata": {
    "hidden": true
   },
   "source": [
    "We consider the following nonlinear Poisson equation with\n",
    "Dirichlet and Neumann boundary conditions as introduced in tutorial 01:\n",
    "\n",
    "\\begin{align}  \\label{eq:ProblemStrong}\n",
    "-\\Delta u + q(u) &= f &&\\text{in $\\Omega$},\\\\\n",
    "u &= g &&\\text{on $\\Gamma_D\\subseteq\\partial\\Omega$},\\\\\n",
    "-\\nabla u\\cdot \\nu &= j &&\\text{on $\\Gamma_N=\\partial\\Omega\\setminus\\Gamma_D$}.\n",
    "\\end{align}\n",
    "\n",
    "\n",
    "$\\Omega\\subset\\mathbb{R}^d$ is a domain, $q:\\mathbb{R}\\to\\mathbb{R}$ is a given, possibly nonlinear function and $f: \\Omega\\to\\mathbb{R}$ is the source term and $\\nu$ denotes the unit outer normal to the domain.\n",
    "\n",
    "The weak formulation of this problem is derived by multiplication with an appropriate test function and integrating by parts. This results in the abstract problem:\n",
    "\n",
    "\\begin{equation}\n",
    "\\text{Find $u\\in U$ s.t.:} \\quad r^{\\text{NLP}}(u,v)=0 \\quad \\forall v\\in V,\n",
    "\\label{Eq:BasicBuildingBlock}\n",
    "\\end{equation}\n",
    "\n",
    "with the continuous residual form\n",
    "\n",
    "\\begin{equation*}\n",
    "r^{\\text{NLP}}(u,v) = \\int_\\Omega \\nabla u \\cdot \\nabla v + (q(u)-f)v\\,dx + \\int_{\\Gamma_N} jv\\,ds\n",
    "\\label{eq:ResidualForm}\n",
    "\\end{equation*}\n",
    "\n",
    "and the function spaces $U= \\{v\\in H^1(\\Omega) \\,:\\, \\text{''$v=g$'' on $\\Gamma_D$}\\}$ and $V= \\{v\\in H^1(\\Omega) \\,:\\, \\text{''$v=0$'' on $\\Gamma_D$}\\}$. We assume that $q$ is such that this problem has a unique solution.\n",
    "\n",
    "The example application uses a domain $\\Omega$ that is L-shaped and given by\n",
    "\\begin{equation*}\n",
    "  \\Omega = \\left\\{ (x,y) \\in \\mathbb{R}^2 \\colon |x| < 1, |y| < 1, (x < 0 \\lor y > 0) \\right\\}.\n",
    "\\end{equation*}\n",
    "We set $f = 0$ and $q(u) = 0$, and only consider Dirichlet boundary conditions.\n",
    "The resulting PDE in residual form is\n",
    "\\begin{equation*}\n",
    "r^{\\text{NLP}}(u,v) = \\int_\\Omega \\nabla u \\cdot \\nabla v \\,dx,\n",
    "\\end{equation*}\n",
    "and  the function\n",
    "\\begin{equation*}\n",
    "  u(r,\\theta) = r^{2/3} \\cdot \\text{sin}\\left(\\frac{2}{3} \\theta\\right)\n",
    "\\end{equation*}\n",
    "in polar coordinates is one of its solutions on the given domain. We choose the restriction of this function to the boundary of $\\Omega$ for the Dirichlet boundary condition.\n"
   ]
  },
  {
   "cell_type": "markdown",
   "id": "5c6cdeb2",
   "metadata": {
    "heading_collapsed": true
   },
   "source": [
    "# Adaptive Grid Refinement\n",
    "<a id= \"AdaptiveGridRef\">"
   ]
  },
  {
   "cell_type": "markdown",
   "id": "e19b53e9",
   "metadata": {
    "hidden": true
   },
   "source": [
    "In the previous tutorials a fixed finite element space $V_h$ was used, based on a fixed finite element mesh with an ordered set\n",
    "\n",
    "\\begin{equation}\n",
    "\\mathcal{X}_h = \\{x_1,\\ldots,x_N\\}\n",
    "\\end{equation}\n",
    "of vertices and an ordered set\n",
    "\\begin{equation}\n",
    "\\mathcal{T}_h = \\{T_1, \\ldots, T_M\\}\n",
    "\\end{equation}\n",
    "of elements. The task of choosing an appropriate mesh was not discussed in detail.\n",
    "\n",
    "Any choice of finite element space will lead to discretization errors due to the finite-dimensional approximation of the true solution of the PDE, but the size of this error can be controlled by choosing an adequate mesh. Let $u_h \\in V_h$ be the finite\n",
    "element solution and $\\|\\cdot\\|$ an appropriate norm. The goal is then\n",
    "\\begin{equation*}\n",
    "  \\|u - u_h\\| \\leq \\text{TOL}\n",
    "\\end{equation*}\n",
    "with a given tolerance $\\text{TOL}$, while keeping the complexity and size of $V_h$ as low as possible.\n",
    "\n",
    "The *a-priori* error estimates of formal proofs are not uitable for this task, since they contain a constant $C$ that is typically unknown and don't provide information about the spatial distribution of the error. For this reason one is interested in **a-posteriori** error\n",
    "estimates of the form\n",
    "\n",
    "\\begin{equation}\n",
    "  \\|u - u_h\\| \\leq \\gamma(u_h) = \\left( \\sum_{T \\in {\\mathcal T}_h} \\gamma_T^2(u_h) \\right)^{1/2},\n",
    "\\end{equation}\n",
    "\n",
    "where $\\gamma_T(u_h)$ is a **local error estimator** for the element $T$. Such an error estimate should:\n",
    "1. have comparatively low cost of calculation to make an adaptive approach feasible\n",
    "2. accurately describe the spatial distribution and size of the discretization error\n",
    "\n",
    "The local estimates $\\gamma_T(u_h)$ can then be used in a strategy that tries to minimize $\\gamma(u_h)$\n",
    "for fixed $\\text{dim}(V_h)$ and thereby find a mesh with low discretization error $\\|u - u_h\\|$.\n",
    "\n",
    "If the considered PDE is linear, i.e. $q(u)$ is an affine linear function, then it can be shown [[1]](#ref)\n",
    "that such an estimate of the discretization error is given by\n",
    "\n",
    "\\begin{equation*}\n",
    "  \\gamma_T^2(u_h) = h_T^2 \\| R_T(u_h) \\|_{0,T}^2 + \\sum_{F \\in \\mathcal{F}_h \\cap \\partial T} h_T \\| R_F(u_h) \\|_{0,F}^2\n",
    "\\end{equation*}\n",
    "\n",
    "with the **element residuals**\n",
    "\n",
    "\\begin{equation*}\n",
    "  R_T(u_h) = f + \\Delta u_h - q(u_h)\n",
    "\\end{equation*}\n",
    "\n",
    "and the **face residuals**\n",
    "\\begin{equation*}\n",
    "  R_F(u_h) = \\begin{cases} 2^{-1/2} [-(\\nabla u_h) \\cdot \\nu] & F \\in \\mathcal{F}_h^i \\\\ - (\\nabla u_h) \\cdot \\nu - j & F \\in \\mathcal{F}_h^N \\end{cases}\n",
    "\\end{equation*}\n",
    "\n",
    "Here $h_T$ is the local mesh width of the element $T$, $\\mathcal{F}_h$ the set of faces of the elements\n",
    "in $\\mathcal{T}_h$, $\\partial T$ the boundary of element $T$, $\\mathcal{F}_h^i \\subset \\mathcal{F}_h$\n",
    "the set of interior faces, $\\mathcal{F}_h^N \\subset \\mathcal{F}_h$ the set of Neumann boundary faces and $\\nu$ the unit normal vector of the face $F$ pointing from one of the elements $T_F^-$ that belong to $F$ to the other $T_F^+$. $\\|\\cdot\\|_{0,T}$ is the $L^2$ norm on $T$, $\\|\\cdot\\|_{0,F}$ that on $F$, and $[\\cdot]$ the jump of the given expression across the face $F$ in the direction of $\\nu$. Broadly speaking, the element residual $R_T$ measures to which degree $u_h$ solves the PDE on the element $T$, and the face residual $R_F$ measures the consistency of the flux $-(\\nabla u_h)\\cdot \\nu$ between the elements. \n",
    "\n",
    "With these definitions one can show that\n",
    "\\begin{equation*}\n",
    "  \\|u - u_h\\|_{1,\\Omega} \\leq C \\gamma(u_h) = C \\left( \\sum_{T \\in {\\mathcal T}_h} \\gamma_T^2(u_h) \\right)^{1/2}\n",
    "\\end{equation*}\n",
    "with $\\|\\cdot\\|_{1,\\Omega}$ the $H^1$ norm on $\\Omega$. The right hand side of this inequality does not\n",
    "depend on $u$, which means it can be evaluated and used to control the discretization error.\n",
    "\n",
    "Several aspects have to be considered:\n",
    " - The derivation of the error estimator given above does not require additional regularity beyond $u \\in H^1(\\Omega)$. This is critical, since error control is especially important in problems with low regularity.\n",
    " - The constant $C$ in the estimate is usually not known exactly, and this should be taken into account when defining the tolerance $\\text{TOL}$.\n",
    " - The error estimate may converge with a lower order than the actual discretization error which yields a very pessimistic stopping criterion. If the error estimate converges with the same order, then the estimator is called *efficient*. The lowest applicable constant $C$ is then the *efficiency index*.\n",
    "\n",
    "All of these considerations only hold if the PDE is linear. If the function $q(u)$ is nonlinear, then the estimate $\\gamma(u_h)$ is no longer guaranteed to be an upper bound for the discretization error $\\|u-u_h\\|_{1,\\Omega}$. However, it may still be used as an error indicator that is used to refine a given mesh. This can produce misleading results, and therefore the conclusions drawn from the estimate should be rather conservative. The error estimate will become more reliable the closer the finite element solution $u_h$ is to the exact solution $u$, as long as the function $q(u)$ is regular enough to be linearized around the exact solution."
   ]
  },
  {
   "cell_type": "markdown",
   "id": "2466c1c4",
   "metadata": {
    "heading_collapsed": true
   },
   "source": [
    "# Realization in PDELab"
   ]
  },
  {
   "cell_type": "markdown",
   "id": "51d0cb91",
   "metadata": {
    "hidden": true
   },
   "source": [
    "The `fem` section in the ini-file provides the parameters for the finite element method. The new parameters control the adaptive refinement: `steps` specifies the maximum number of iterations for the refinement loop, `uniformlevel` the number of iterations that should use global refinement in the beginning, `tol` denotes the error tolerance\n",
    "used as a stopping criterion, and `fraction` allows setting the number of elements that should be marked in each step.\n",
    "\n",
    "```ini\n",
    "[fem]\n",
    "steps=200\n",
    "uniformlevel=0\n",
    "tol=0.01\n",
    "fraction=0.7\n",
    "```"
   ]
  },
  {
   "cell_type": "markdown",
   "id": "857f6199",
   "metadata": {
    "hidden": true
   },
   "source": [
    "The following includes again the necessary headers."
   ]
  },
  {
   "cell_type": "code",
   "execution_count": null,
   "id": "d8b52557",
   "metadata": {
    "hidden": true
   },
   "outputs": [],
   "source": [
    "#include <dune/jupyter.hh>\n",
    "#include \"nonlinearpoissonfemestimator.hh\"\n",
    "#include \"problem.hh\"\n",
    "#include \"../tutorial01/nonlinearpoissonfem.hh\""
   ]
  },
  {
   "cell_type": "markdown",
   "id": "f2539c16",
   "metadata": {
    "hidden": true
   },
   "source": [
    "As described in the previous tutorials, a grid is instantiated in the following cell:"
   ]
  },
  {
   "cell_type": "code",
   "execution_count": null,
   "id": "36604869",
   "metadata": {
    "hidden": true
   },
   "outputs": [],
   "source": [
    "// open ini file\n",
    "Dune::ParameterTree ptree;\n",
    "Dune::ParameterTreeParser ptreeparser;\n",
    "ptreeparser.readINITree(\"tutorial05.ini\",ptree);\n",
    "\n",
    "// read ini file\n",
    "const int dim = 2;\n",
    "const int degree = 1;\n",
    "\n",
    "using Grid = Dune::UGGrid<2>;\n",
    "std::string filename = ptree.get(\"grid.twod.filename\",\n",
    "                                 \"ldomain.msh\");\n",
    "Dune::GridFactory<Grid> factory;\n",
    "Dune::GmshReader<Grid>::read(factory,filename,true,true);\n",
    "std::shared_ptr<Grid> gridp(factory.createGrid());"
   ]
  },
  {
   "cell_type": "code",
   "execution_count": null,
   "id": "169c0769",
   "metadata": {
    "hidden": true
   },
   "outputs": [],
   "source": [
    "// get leaf gridview\n",
    "auto gv = gridp->leafGridView();\n",
    "typedef decltype(gv) GV;\n",
    "\n",
    "// dimension and important types\n",
    "const int dim = GV::dimension;\n",
    "typedef typename GV::Grid::ctype DF; // type for coordinates\n",
    "typedef double RF;                   // type for computations"
   ]
  },
  {
   "cell_type": "markdown",
   "id": "18ae7ae2",
   "metadata": {
    "hidden": true
   },
   "source": [
    "The code alternates between solving the problem on the current mesh and using the current solution for adaptive refinement. These two steps are repeated until the error estimate is below the prescribed tolerance or the maximum number of iterations is reached. The parts of the problem that are not affected by the changing mesh are instantiated outside of the loop."
   ]
  },
  {
   "cell_type": "code",
   "execution_count": null,
   "id": "735249da",
   "metadata": {
    "hidden": true
   },
   "outputs": [],
   "source": [
    "// make user functions\n",
    "RF eta = ptree.get(\"problem.eta\",(RF)1.0);\n",
    "Problem<RF> problem(eta);"
   ]
  },
  {
   "cell_type": "code",
   "execution_count": null,
   "id": "2dcc3699",
   "metadata": {
    "hidden": true
   },
   "outputs": [],
   "source": [
    "auto g = Dune::PDELab::makeGridFunctionFromCallable(\n",
    "    gv,\n",
    "    [&](const auto& e, const auto& x){return problem.g(e,x);}\n",
    ");;"
   ]
  },
  {
   "cell_type": "code",
   "execution_count": null,
   "id": "81949c87",
   "metadata": {
    "hidden": true
   },
   "outputs": [],
   "source": [
    "auto b = Dune::PDELab::makeBoundaryConditionFromCallable(\n",
    "  gv,\n",
    "  [&](const auto& i, const auto& x){return problem.b(i,x);}\n",
    ");;"
   ]
  },
  {
   "cell_type": "markdown",
   "id": "a9054884",
   "metadata": {
    "hidden": true
   },
   "source": [
    "The parameter class `Problem` defines functions for the right hand side $f$, the source term $q$ and the value of the Dirichlet boundary condition $g$. These functions are independent of the chosen discretization. This also holds for the lambda functions that encapsulate the Dirichlet boundary condition and its value.\n",
    "\n",
    "The grid function space `GFS` is a representation of the finite element space $V_h$. Most of its internals are independent of the actual mesh. The basis functions defined by the finite element map `FEM`, the constraints container `CON` and the vector backend `VBE` do not need to be modified when the mesh is refined. The only\n",
    "parts of the grid function space that have to be updated are the local to global map and the constrained indices, which will be considered later. "
   ]
  },
  {
   "cell_type": "code",
   "execution_count": null,
   "id": "8203a0e8",
   "metadata": {
    "hidden": true
   },
   "outputs": [],
   "source": [
    "// Make grid function space\n",
    "using FEM = Dune::PDELab::PkLocalFiniteElementMap<GV,DF,RF,degree>;\n",
    "FEM fem(gv);\n",
    "using CON = Dune::PDELab::ConformingDirichletConstraints;\n",
    "using VBE = Dune::PDELab::ISTL::VectorBackend<>;\n",
    "using GFS = Dune::PDELab::GridFunctionSpace<GV,FEM,CON,VBE> ;\n",
    "GFS gfs(gv,fem);\n",
    "gfs.name(\"Vh\");"
   ]
  },
  {
   "cell_type": "markdown",
   "id": "bbae817e",
   "metadata": {
    "hidden": true
   },
   "source": [
    "Then the constraints of the initial mesh and an initial guess for the finite element solution are assembled."
   ]
  },
  {
   "cell_type": "code",
   "execution_count": null,
   "id": "a8453720",
   "metadata": {
    "hidden": true
   },
   "outputs": [],
   "source": [
    "// Assemble constraints\n",
    "typedef typename GFS::template ConstraintsContainer<RF>::Type CC;\n",
    "CC cc;\n",
    "Dune::PDELab::constraints(b,gfs,cc); // assemble constraints\n",
    "\n",
    "// A coefficient vector\n",
    "using Z = Dune::PDELab::Backend::Vector<GFS,RF>;\n",
    "Z z(gfs); // initial value\n",
    "\n",
    "// Fill the coefficient vector\n",
    "Dune::PDELab::interpolate(g,gfs,z);"
   ]
  },
  {
   "cell_type": "markdown",
   "id": "b568c628",
   "metadata": {
    "hidden": true
   },
   "source": [
    "The central loop of the function starts by reading in the maximum number of refinement iterations and the number of steps that should use global refinement. This can be used to guarantee a maximum diameter of the elements of the resulting meshes. From this point on all statements are part of the loop that is repeated until the error estimate is small enough or the maximum number of iterations is reached."
   ]
  },
  {
   "cell_type": "code",
   "execution_count": null,
   "id": "c2b3d07e",
   "metadata": {
    "hidden": true
   },
   "outputs": [],
   "source": [
    "// adaptation loop\n",
    "// only grid function space and coefficient vector\n",
    "// live outside this loop\n",
    "int steps = ptree.get(\"fem.steps\",(int)3);\n",
    "int uniformlevel = ptree.get(\"fem.uniformlevel\",(int)2);\n",
    "for (int i=0; i<steps; i++)\n",
    "{\n",
    "  std::stringstream s;\n",
    "  s << i;\n",
    "  std::string iter;\n",
    "  s >> iter;\n",
    "  std::cout << \"Iteration: \" << iter\n",
    "  //---   << \"\\thighest level in grid: \" << grid.maxLevel()\n",
    "  << \"\\thighest level in grid: \" << gridp->maxLevel()\n",
    "    << std::endl;\n",
    "  std::cout << \"constrained dofs=\" << cc.size()\n",
    "    << \" of \" << gfs.globalSize() << std::endl;\n",
    "\n",
    "  // Make local operator\n",
    "  typedef NonlinearPoissonFEM<Problem<RF>,FEM> LOP;\n",
    "  LOP lop(problem);\n",
    "\n",
    "  // Make a global operator\n",
    "  typedef Dune::PDELab::ISTL::BCRSMatrixBackend<> MBE;\n",
    "  MBE mbe((int)pow(1+2*degree,dim));\n",
    "  typedef Dune::PDELab::GridOperator<\n",
    "    GFS,GFS,  /* ansatz and test space */\n",
    "    LOP,      /* local operator */\n",
    "    MBE,      /* matrix backend */\n",
    "    RF,RF,RF, /* domain, range, jacobian field type */\n",
    "    CC,CC     /* constraints for ansatz and test space */\n",
    "    > GO;\n",
    "  GO go(gfs,cc,gfs,cc,lop,mbe);\n",
    "\n",
    "  // Select a linear solver backend\n",
    "  typedef Dune::PDELab::ISTLBackend_SEQ_CG_AMG_SSOR<GO> LS;\n",
    "  LS ls(100,0);\n",
    "\n",
    "  // solve nonlinear problem\n",
    "  Dune::PDELab::Newton<GO,LS,Z> newton(go,z,ls);\n",
    "  newton.setReassembleThreshold(0.0);\n",
    "  newton.setVerbosityLevel(2);\n",
    "  newton.setReduction(1e-6);\n",
    "  newton.setMinLinearReduction(1e-6);\n",
    "  newton.setMaxIterations(25);\n",
    "  newton.setLineSearchMaxIterations(10);\n",
    "  newton.apply();\n",
    "\n",
    "  // set up error estimator\n",
    "  typedef Dune::PDELab::P0LocalFiniteElementMap<DF,RF,dim> P0FEM;\n",
    "  P0FEM p0fem(Dune::GeometryTypes::simplex(dim));\n",
    "  typedef Dune::PDELab::NoConstraints NCON;\n",
    "  typedef Dune::PDELab::GridFunctionSpace<GV,P0FEM,NCON,VBE> P0GFS;\n",
    "  P0GFS p0gfs(gv,p0fem);\n",
    "  typedef NonlinearPoissonFEMEstimator<Problem<RF>,FEM> ESTLOP;\n",
    "  ESTLOP estlop(problem);\n",
    "  typedef Dune::PDELab::EmptyTransformation NCC;\n",
    "  typedef Dune::PDELab::GridOperator<\n",
    "    GFS,P0GFS,    /* one value per element */\n",
    "    ESTLOP,       /* operator for error estimate */\n",
    "    MBE,RF,RF,RF, /* same as before */\n",
    "    NCC,NCC       /* no constraints */\n",
    "    > ESTGO;\n",
    "  ESTGO estgo(gfs,p0gfs,estlop,mbe);\n",
    "\n",
    "  // compute local error contribution and global error\n",
    "  using Z0 = Dune::PDELab::Backend::Vector<P0GFS,RF>;\n",
    "  Z0 z0(p0gfs,0.0);\n",
    "  estgo.residual(z,z0);\n",
    "  auto estimated_error = sqrt(z0.one_norm());\n",
    "  std::cout << \"Estimated error in step \" << i\n",
    "    << \" is \" << estimated_error << std::endl;\n",
    "\n",
    "  // =========================\n",
    "  // compute true L2 error\n",
    "  // =========================\n",
    "  typedef Dune::PDELab::DiscreteGridFunction<GFS,Z> ZDGF;\n",
    "  ZDGF zdgf(gfs,z); // the FE function as a grid function; moved from below\n",
    "  // put your code here !!!\n",
    "\n",
    "  // vtk output\n",
    "  std::cout << \"VTK output\" << std::endl;\n",
    "  Dune::SubsamplingVTKWriter<GV>\n",
    "    vtkwriter(gv,Dune::refinementIntervals(ptree.get(\"output.subsampling\",(int)1)));\n",
    "  typedef Dune::PDELab::VTKGridFunctionAdapter<ZDGF> VTKF;\n",
    "  vtkwriter.addVertexData( // the FE solution\n",
    "      std::shared_ptr<VTKF>(new VTKF(zdgf,\"fesol\")));\n",
    "  // =========================\n",
    "  // output error function from above\n",
    "  // your code here !!!\n",
    "\n",
    "  // =========================\n",
    "  // output squares of the local estimator\n",
    "  typedef Dune::PDELab::DiscreteGridFunction<P0GFS,Z0> Z0DGF;\n",
    "  Z0DGF z0dgf(p0gfs,z0);\n",
    "  typedef Dune::PDELab::VTKGridFunctionAdapter<Z0DGF> VTKF0;\n",
    "  vtkwriter.addCellData(\n",
    "      std::shared_ptr<VTKF0>(new VTKF0(z0dgf,\"gammaT^2\")));\n",
    "  // now write the file\n",
    "  vtkwriter.write(ptree.get(\"output.filename\",\n",
    "        (std::string)\"output\")+iter, Dune::VTK::appendedraw);\n",
    "\n",
    "  // error control\n",
    "  auto tol = ptree.get(\"fem.tol\",(double)0.0);\n",
    "  if (estimated_error<=tol) break;\n",
    "  if (i==steps-1) break;\n",
    "\n",
    "  // mark elements for refinement\n",
    "  std::cout << \"mark elements\" << std::endl;\n",
    "  auto fraction = ptree.get(\"fem.fraction\",(double)0.5);\n",
    "  RF eta_refine,eta_coarsen;\n",
    "  Dune::PDELab::error_fraction(\n",
    "      z0,fraction,0.0,eta_refine,eta_coarsen);\n",
    "  if (fraction>=1.0 || i<uniformlevel) eta_refine=0.0;\n",
    "  //--- Dune::PDELab::mark_grid(grid,z0,eta_refine,0.0,2);\n",
    "  Dune::PDELab::mark_grid(*gridp,z0,eta_refine,0.0,2);\n",
    "\n",
    "  // do refinement\n",
    "  std::cout << \"adapt grid and solution\" << std::endl;\n",
    "  //--- Dune::PDELab::adapt_grid(grid,gfs,z,2*(degree+1));\n",
    "  Dune::PDELab::adapt_grid(*gridp,gfs,z,2*(degree+1));\n",
    "\n",
    "  // recompute constraints\n",
    "  std::cout << \"constraints and stuff\" << std::endl;\n",
    "  Dune::PDELab::constraints(b,gfs,cc);\n",
    "\n",
    "  // write correct boundary conditions in new vector\n",
    "  Z znew(gfs);\n",
    "  Dune::PDELab::interpolate(g,gfs,znew);\n",
    "\n",
    "  // copy Dirichlet boundary to interpolated solution\n",
    "  Dune::PDELab::copy_constrained_dofs(cc,znew,z);\n",
    "}"
   ]
  },
  {
   "cell_type": "markdown",
   "id": "6e1a033a",
   "metadata": {
    "hidden": true
   },
   "source": [
    "Figure 1 shows the final mesh and the corresponding solution $u_h$. The discretization error is almost completely restricted to the elements that touch the reentrant corner in the point $(0,0)$ and therefore hard to visualize.\n"
   ]
  },
  {
   "cell_type": "markdown",
   "id": "8b7cb533",
   "metadata": {
    "hidden": true
   },
   "source": [
    "<table>\n",
    "  <tr>\n",
    "    <th> <img src= \"images/solution.png\"></th> \n",
    "    <th> <img src= \"images/refined_mesh.png\"></th>  \n",
    "  </tr>  \n",
    "</table>\n",
    "<font color = \"grey\"> Figure 1: Solution on the finest mesh and underlying elements. The colormap for the solution uses discrete intervals to make the large gradients in the reentrant corner visible. Refinement has mainly occurred in this area, as can be seen on the right.</font>"
   ]
  },
  {
   "cell_type": "markdown",
   "id": "e9e5421f",
   "metadata": {
    "heading_collapsed": true,
    "hidden": true
   },
   "source": [
    "### Loop Explanation"
   ]
  },
  {
   "cell_type": "markdown",
   "id": "6463d67f",
   "metadata": {
    "hidden": true
   },
   "source": [
    "Information about the refinement level and dimension of the current finite element space is printed at the beginning of each iteration.\n"
   ]
  },
  {
   "cell_type": "markdown",
   "id": "8902a103",
   "metadata": {
    "hidden": true
   },
   "source": [
    "Then the local operator and global operator of the nonlinear Poisson equation are created. The local operator is identical to the one of tutorial 01. It does not store information about the mesh and could therefore also be created outside of the loop. The global operator,\n",
    "however, has to take the discretization into account and therefore has to be updated after each iteration."
   ]
  },
  {
   "cell_type": "markdown",
   "id": "451999e4",
   "metadata": {
    "hidden": true
   },
   "source": [
    "The next few lines construct a linear solver backend and an instance of the Newton solver and solve the nonlinear problem on the current mesh."
   ]
  },
  {
   "cell_type": "markdown",
   "id": "33d14915",
   "metadata": {
    "hidden": true
   },
   "source": [
    "These lines construct the error estimator and local error indicators. Each of these indicators is a single value $\\gamma_T$ that is associated with one of the elements $T$, and we use a finite element map `P0FEM` for piecewise constant functions to\n",
    "store these values. The function space does not need additional constraints, similar to the finite volume space of tutorial 02, and therefore the `NoConstraints` class is passed to the grid function space. Then a local operator for the error estimator is\n",
    "constructed. The parameter class of the PDE is passed as a template argument, since the estimator needs access to the problem definition. These components are then used to construct a grid operator of type `ESTGO` which is a representation of the\n",
    "element-wise computation of the error estimate.\n",
    "```c++\n",
    "// set up error estimator\n",
    "typedef Dune::PDELab::P0LocalFiniteElementMap<DF,RF,dim> P0FEM;\n",
    "P0FEM p0fem(Dune::GeometryTypes::simplex(dim));\n",
    "typedef Dune::PDELab::NoConstraints NCON;\n",
    "typedef Dune::PDELab::GridFunctionSpace<GV,P0FEM,NCON,VBE> P0GFS;\n",
    "P0GFS p0gfs(gv,p0fem);\n",
    "typedef NonlinearPoissonFEMEstimator<Problem<RF>,FEM> ESTLOP;\n",
    "ESTLOP estlop(problem);\n",
    "typedef Dune::PDELab::EmptyTransformation NCC;\n",
    "typedef Dune::PDELab::GridOperator<\n",
    "  GFS,P0GFS,    /* one value per element */\n",
    "  ESTLOP,       /* operator for error estimate */\n",
    "  MBE,RF,RF,RF, /* same as before */\n",
    "  NCC,NCC       /* no constraints */\n",
    "  > ESTGO;\n",
    "ESTGO estgo(gfs,p0gfs,estlop,mbe);\n",
    "```"
   ]
  },
  {
   "cell_type": "markdown",
   "id": "c6ee78b5",
   "metadata": {
    "hidden": true
   },
   "source": [
    "A vector `z0` for the local estimates is created, and the error estimate is computed as the residual of the estimation grid operator. This way, the infrastructure of the assembler for the residual form of the PDE can be reused for this task. The result is\n",
    "a vector containing the squared values of the local error estimates. The norm of the estimated error is then printed to provide feedback about the refinement process.\n",
    "```c++\n",
    "    // compute local error contribution and global error\n",
    "    using Z0 = Dune::PDELab::Backend::Vector<P0GFS,RF>;\n",
    "    Z0 z0(p0gfs,0.0);\n",
    "    estgo.residual(z,z0);\n",
    "    auto estimated_error = sqrt(z0.one_norm());\n",
    "    std::cout << \"Estimated error in step \" << i\n",
    "      << \" is \" << estimated_error << std::endl;\n",
    "```"
   ]
  },
  {
   "cell_type": "markdown",
   "id": "12858f2e",
   "metadata": {
    "hidden": true
   },
   "source": [
    "A VTK output of the finite element solution and the squared error is created. This allows\n",
    "careful inspection of the estimated error and how it changes in the course of the\n",
    "adaptive refinement.\n",
    "```c++\n",
    "   // vtk output\n",
    "    std::cout << \"VTK output\" << std::endl;\n",
    "    Dune::SubsamplingVTKWriter<GV>\n",
    "      vtkwriter(gv,Dune::refinementIntervals(ptree.get(\"output.subsampling\",(int)1)));\n",
    "    typedef Dune::PDELab::VTKGridFunctionAdapter<ZDGF> VTKF;\n",
    "    vtkwriter.addVertexData( // the FE solution\n",
    "        std::shared_ptr<VTKF>(new VTKF(zdgf,\"fesol\")));\n",
    "    // output squares of the local estimator\n",
    "    typedef Dune::PDELab::DiscreteGridFunction<P0GFS,Z0> Z0DGF;\n",
    "    Z0DGF z0dgf(p0gfs,z0);\n",
    "    typedef Dune::PDELab::VTKGridFunctionAdapter<Z0DGF> VTKF0;\n",
    "    vtkwriter.addCellData(\n",
    "        std::shared_ptr<VTKF0>(new VTKF0(z0dgf,\"gammaT^2\")));\n",
    "    // now write the file\n",
    "    vtkwriter.write(ptree.get(\"output.filename\",\n",
    "          (std::string)\"output\")+iter, Dune::VTK::appendedraw);\n",
    "```"
   ]
  },
  {
   "cell_type": "markdown",
   "id": "66c4e37c",
   "metadata": {
    "hidden": true
   },
   "source": [
    "If the norm of the estimated error is below the desired tolerance, then the finite element\n",
    "solution can be accepted. Additional refinement is unnecessary and the loop is exited. This\n",
    "also happens if the last iteration is reached, since the modified mesh would not be\n",
    "used for further computations.\n",
    "```c++\n",
    "    // error control\n",
    "    auto tol = ptree.get(\"fem.tol\",(double)0.0);\n",
    "    if (estimated_error<=tol) break;\n",
    "    if (i==steps-1) break;\n",
    "```"
   ]
  },
  {
   "cell_type": "markdown",
   "id": "a8b9d48c",
   "metadata": {
    "hidden": true
   },
   "source": [
    "If the norm of the error estimate is still too large, then it has to be decided which of the elements should be refined and which should be kept. The fraction of elements that should be refined is read from the ini-file. The function `error_fraction` is called to\n",
    "translate this fraction of elements into a threshold `eta_refine` of the value of the local indicator that separates the elements that should be refined from those that should remain the same. It is also possible to request a fraction of elements that should be coarsened, but this value is zero here for simplicity. If the chosen fraction contains all elements or the loop is still in an iteration that should refine globally, then this threshold is set to zero. Afterwards the function `mark_grid` is called and marks\n",
    "all elements which have a value in `z0` that is larger than `eta_refine` to request their refinement.\n",
    "```c++\n",
    "    // mark elements for refinement\n",
    "    std::cout << \"mark elements\" << std::endl;\n",
    "    auto fraction = ptree.get(\"fem.fraction\",(double)0.5);\n",
    "    RF eta_refine,eta_coarsen;\n",
    "    Dune::PDELab::error_fraction(\n",
    "        z0,fraction,0.0,eta_refine,eta_coarsen);\n",
    "    if (fraction>=1.0 || i<uniformlevel) eta_refine=0.0;\n",
    "    Dune::PDELab::mark_grid(grid,z0,eta_refine,0.0,2);\n",
    "```"
   ]
  },
  {
   "cell_type": "markdown",
   "id": "64cab426",
   "metadata": {
    "hidden": true
   },
   "source": [
    "The next line is the central line that calls `adapt_grid` and modifies the mesh. In contrast to most other functions in PDELab, this function requires the grid as an argument, and not a `GridView`. Grid views are a read only concept, and `adapt_grid` has to modify its argument. The marks on the elements are passed to the grid manager, which decides how it can best achieve the requested refinement. Depending on the capabilities and restrictions of the grid manager, the resulting mesh may not be exactly as requested.\n",
    "Additional refinement may be necessary to keep the mesh conforming, for example. However, the level that is requested is a lower bound for the resulting level at each point in the domain, i.e. elements are only coarsened if requested and any marked element is refined. The function `adapt_grid` also receives the grid function space `gfs` and the solution `z` as arguments. The grid function space is updated to reflect the changes of the underlying mesh, and the solution is transferred to the new grid function space, by default\n",
    "through local $L^2$ projection onto the elements of the new mesh. The last argument specifies the order of the quadrature rule that is used in this process.\n",
    "```c++\n",
    "    // do refinement\n",
    "    std::cout << \"adapt grid and solution\" << std::endl;\n",
    "    Dune::PDELab::adapt_grid(grid,gfs,z,2*(degree+1));\n",
    "\n",
    "```"
   ]
  },
  {
   "cell_type": "markdown",
   "id": "e8e61f74",
   "metadata": {
    "hidden": true
   },
   "source": [
    "The function `adapt_grid` has updated the grid function space and transferred the solution to the new mesh, but the Dirichlet boundary condition requires manual intervention. The function `constraints` is called again, which updates the list of constrained degrees of freedom on the Dirichlet boundary. Then the corresponding values of the Dirichlet boundary condition are computed and copied onto the constrained degrees of freedom of `z`. This guarantees that the function `g` of Dirichlet boundary values is always represented in the most accurate way possible on the mesh. With these last steps\n",
    "the iteration is finished, and the next one begins.\n",
    "```c++\n",
    "    // recompute constraints\n",
    "    std::cout << \"constraints and stuff\" << std::endl;\n",
    "    Dune::PDELab::constraints(b,gfs,cc);\n",
    "\n",
    "    // write correct boundary conditions in new vector\n",
    "    Z znew(gfs);\n",
    "    Dune::PDELab::interpolate(g,gfs,znew);\n",
    "\n",
    "    // copy Dirichlet boundary to interpolated solution\n",
    "    Dune::PDELab::copy_constrained_dofs(cc,znew,z);\n",
    "```"
   ]
  },
  {
   "cell_type": "markdown",
   "id": "bcce3998",
   "metadata": {
    "heading_collapsed": true,
    "hidden": true
   },
   "source": [
    "### Output"
   ]
  },
  {
   "cell_type": "markdown",
   "id": "fcc55f2f",
   "metadata": {
    "hidden": true
   },
   "source": [
    "Then the mesh file is read and some statistics about it are reported:\n",
    "\n",
    "```bash\n",
    "Reading 2d Gmsh grid...\n",
    "version 2.2 Gmsh file detected\n",
    "file contains 375 nodes\n",
    "file contains 754 elements\n",
    "number of real vertices = 375\n",
    "number of boundary elements = 74\n",
    "number of elements = 674\n",
    "```\n",
    "Now an instance of a DUNE grid is created, the initial setup is performed, and the refinement loop is started. The problem is solved on the initial mesh:\n",
    "\n",
    "```bash\n",
    "Iteration: 0\thighest level in grid: 0\n",
    "constrained dofs=74 of 375\n",
    "  Initial defect:   2.9656e-02\n",
    "  Newton iteration  1.  New defect:   2.9206e-11.  Reduction\n",
    "    (this): 9.8481e-10.  Reduction (total):   9.8481e-10\n",
    "```\n",
    "\n",
    "Due to the missing reaction term $q$ the problem is actually linear, and therefore it is solved after just one Newton iteration. The program runs the error estimator and reports an estimate for the error $\\|u - u_h\\|$ using the $L^2$ norm:\n",
    "\n",
    "```bash\n",
    "Estimated error in step 0 is 0.285625\n",
    "```\n",
    "\n",
    "Then the program states that it performs the remaining tasks of the first iteration:\n",
    "\n",
    "```bash\n",
    "VTK output\n",
    "mark elements\n",
    "adapt grid and solution\n",
    "Updating entity set\n",
    "constraints and stuff\n",
    "```\n",
    "\n",
    "The current solution $u_h$ and the squared local error estimates are written out to a VTK file. Then the elements are marked for refinement based on the chosen fraction of elements and error estimate, the grid\n",
    "manager modifies the grid, and the solution $u_h$ and the grid function space are updated to reflect these changes. This includes a reevaluation of the constraints and the values of the Dirichlet boundary condition.\n",
    "Then the solution vector can be used as an initial guess for the next iteration.\n",
    "\n",
    "The loop runs for several iterations and produces similar output in each step. The reported error estimates are:\n",
    "\n",
    "```bash\n",
    "Estimated error in step 0 is 0.285625\n",
    "Estimated error in step 1 is 0.209272\n",
    "Estimated error in step 2 is 0.145672\n",
    "Estimated error in step 3 is 0.09893\n",
    "Estimated error in step 4 is 0.0672581\n",
    "Estimated error in step 5 is 0.0446733\n",
    "```\n",
    "\n",
    "The program also reports the number of elements after each refinement:\n",
    "\n",
    "```bash\n",
    "constrained dofs=74 of 375\n",
    "constrained dofs=78 of 419\n",
    "constrained dofs=90 of 647\n",
    "constrained dofs=117 of 1409\n",
    "constrained dofs=171 of 2957\n",
    "constrained dofs=244 of 6804\n",
    "```\n",
    "\n",
    "These numbers can be collected in a table containing the refinement level, the estimated error, the experimental order of convergence (EOC) for the error, the number of elements, and the number of elements a globally refined mesh would have:\n",
    "\n",
    "<table class='fixed'>\n",
    "    <col width=\"50px\" />\n",
    "    <col width=\"50px\" />\n",
    "    <col width=\"50px\" />\n",
    "    <col width=\"50px\" />\n",
    "  <tr>\n",
    "    <th> level </th> \n",
    "    <th > $\\gamma(u_h)$ </th> \n",
    "    <th> $\\#T$ </th>\n",
    "    <th> $\\#T_\\text{global}$ </th> \n",
    "  </tr> \n",
    "  <tr>  \n",
    "    <td> 0 </td>\n",
    "    <td> 0.286 </td>\n",
    "    <td> 375 </td>\n",
    "    <td> 375</td>\n",
    "  </tr>\n",
    "  <tr>  \n",
    "    <td> 1 </td>\n",
    "    <td> 0.209 </td>\n",
    "    <td> 419 </td>\n",
    "    <td> 1.5e3 </td>\n",
    "  </tr>\n",
    "  <tr>  \n",
    "    <td> 2 </td>\n",
    "    <td> 0.146 </td>\n",
    "    <td>  647 </td>\n",
    "    <td> 6.0e3 </td>\n",
    "  </tr>\n",
    "      <tr>  \n",
    "    <td> 3 </td>\n",
    "    <td> 0.099 </td>\n",
    "    <td> 1409 </td>\n",
    "    <td> 2.4e4 </td>\n",
    "  </tr>\n",
    "  <tr>  \n",
    "    <td> 4 </td>\n",
    "    <td> 0.067 </td>\n",
    "    <td> 2957 </td>\n",
    "    <td> 9.6e4</td>\n",
    "  </tr>\n",
    "  <tr>  \n",
    "    <td> 5 </td>\n",
    "    <td> 0.045 </td>\n",
    "    <td> 6804 </td>\n",
    "    <td> 3.8e5 </td>\n",
    "  </tr>    \n",
    "</table>"
   ]
  },
  {
   "cell_type": "markdown",
   "id": "9e512b2e",
   "metadata": {
    "heading_collapsed": true,
    "hidden": true
   },
   "source": [
    "## Classes `Problem` and `NonlinearPoissonFEM`"
   ]
  },
  {
   "cell_type": "markdown",
   "id": "53e82e40",
   "metadata": {
    "hidden": true
   },
   "source": [
    "These two classes are nearly identical to those of tutorial 01 and are therefore skipped. The only differences are the definitions of the right hand side and Dirichlet boundary condition. The example application of the tutorial solves the Laplace equation for a known reference solution, and therefore we set $f = 0$.\n",
    "```c++\n",
    "  template<typename E, typename X>\n",
    "  Number f (const E& e, const X& x) const\n",
    "  {\n",
    "    return 0.0;\n",
    "  }\n",
    "```"
   ]
  },
  {
   "cell_type": "markdown",
   "id": "020b7536",
   "metadata": {
    "hidden": true
   },
   "source": [
    "The value of the Dirichlet boundary condition is the restriction of the reference solution to the boundary, which is given by\n",
    "\\begin{equation*}\n",
    "  u (r, \\theta) = r^{2/3} \\cdot \\sin\\left(\\frac{2}{3} \\theta\\right)\n",
    "\\end{equation*}\n",
    "in polar coordinates.\n",
    "\n",
    "```c++\n",
    " //! Dirichlet extension\n",
    "  template<typename E, typename X>\n",
    "  Number g (const E& e, const X& xlocal) const\n",
    "  {\n",
    "    auto x = e.geometry().global(xlocal);\n",
    "    double theta = std::atan2(x[1],x[0]);\n",
    "    if(theta < 0.0) theta += 2*M_PI;\n",
    "    auto r = x.two_norm();\n",
    "    return pow(r,2.0/3.0)*std::sin(theta*2.0/3.0);\n",
    "  }\n",
    "```"
   ]
  },
  {
   "cell_type": "markdown",
   "id": "84386120",
   "metadata": {
    "heading_collapsed": true,
    "hidden": true
   },
   "source": [
    "## Local Operator `NonlinearPoissonFEMEstimator`"
   ]
  },
  {
   "cell_type": "markdown",
   "id": "e9aa0927",
   "metadata": {
    "hidden": true
   },
   "source": [
    "The class `NonlinearPoissonFEMEstimator` implements the element-wise computations of the error estimate introduced in [Section 3](#AdaptiveGridRef). The computation of the error estimate is then implemented as a grid operator that returns the square of the estimated error as its residual. The contributions $R_T$ for the elements are provided by an `alpha_volume` term, while the contributions $R_F$ for the faces are provided by `alpha_skeleton` and `alpha_boundary` terms.\n",
    "\n",
    "The definition of class `NonlinearPoissonFEMEstimator` starts as follows:\n",
    "```c++\n",
    "template<typename Param, typename FEM>\n",
    "class NonlinearPoissonFEMEstimator\n",
    "  : public Dune::PDELab::LocalOperatorDefaultFlags\n",
    "```"
   ]
  },
  {
   "cell_type": "markdown",
   "id": "0152c7ff",
   "metadata": {
    "hidden": true
   },
   "source": [
    "The class is parametrized by a parameter class and a finite element map, just as the `NonlinearPoissonFEM` class. The parameter class is the same in both cases and provides access to the problem definition. The finite element map is expected to provide element-wise constant functions that match the geometry of the mesh elements, since the calculated error estimate contains one value per\n",
    "element. The class does not contain methods for the Jacobian and matrix-free Jacobian evaluation, as only the residual has to be assembled for the error estimator. Therefore, only the `LocalOperatorDefaultFlags` are inherited.\n",
    "\n",
    "Just as the class `NonlinearPoissonFEM`, the local operator contains\n",
    "three private data members, a cache for evaluation of the basis functions on the reference element:\n",
    "\n",
    "```c++\n",
    "  typedef typename FEM::Traits::FiniteElementType\n",
    "    ::Traits::LocalBasisType LocalBasis;\n",
    "  Dune::PDELab::LocalBasisCache<LocalBasis> cache;\n",
    "```\n",
    "a reference to the parameter object:\n",
    "```c++\n",
    "  Param& param;\n",
    "```\n",
    "and an integer value controlling the order of the formulas used for numerical quadrature:\n",
    "```c++\n",
    "  int incrementorder;\n",
    "```\n"
   ]
  },
  {
   "cell_type": "markdown",
   "id": "623ee70f",
   "metadata": {
    "hidden": true
   },
   "source": [
    "The class has an additional private method `diameter`:\n",
    "\n",
    "```c++\n",
    "template<class GEO>\n",
    "  typename GEO::ctype diameter (const GEO& geo) const\n",
    "  {\n",
    "    typedef typename GEO::ctype DF;\n",
    "    DF hmax = -1.0E00;\n",
    "    for (int i=0; i<geo.corners(); i++)\n",
    "      {\n",
    "        auto xi = geo.corner(i);\n",
    "        for (int j=i+1; j<geo.corners(); j++)\n",
    "          {\n",
    "            auto xj = geo.corner(j);\n",
    "            xj -= xi;\n",
    "            hmax = std::max(hmax,xj.two_norm());\n",
    "          }\n",
    "      }\n",
    "    return hmax;\n",
    "  }\n",
    "```\n",
    "\n",
    "This function iterates over all pairs of corners of a given entity and defines the maximum distance among these pairs as its diameter. This information is required to scale the element contributions and face contributions of the error estimate with the local mesh width.\n",
    "\n",
    "The public part of the class again starts with the definition of the flags controlling the generic assembly process. The `doPatternVolume` and `doPatternSkeleton` flags are both `false` to indicate that the sparsity pattern of the Jacobian can be skipped for this local operator:\n",
    "\n",
    "```c++\n",
    "  enum { doPatternVolume = false };\n",
    "  enum { doPatternSkeleton = false };\n",
    "```\n",
    "\n",
    "The residual assembly flags indicate that in this local operator we will provide the methods `lambda_volume`, `lambda_boundary`\n",
    "and `alpha_volume`:\n",
    "\n",
    "```c++\n",
    "  enum { doAlphaVolume  = true };\n",
    "  enum { doAlphaSkeleton  = true };\n",
    "  enum { doAlphaBoundary  = true };\n",
    "```\n",
    "\n",
    "Next comes the constructor taking as an argument a reference to a\n",
    "parameter object and the optional increment of the quadrature order:\n",
    "\n",
    "```c++\n",
    "NonlinearPoissonFEMEstimator (Param& param_, int incrementorder_=0)\n",
    "    : param(param_), incrementorder(incrementorder_)\n",
    "```"
   ]
  },
  {
   "cell_type": "markdown",
   "id": "77789c00",
   "metadata": {
    "heading_collapsed": true,
    "hidden": true
   },
   "source": [
    "### Method `alpha_volume`"
   ]
  },
  {
   "cell_type": "markdown",
   "id": "610ec602",
   "metadata": {
    "hidden": true
   },
   "source": [
    "This method assembles the error estimate contribution $R_T$ for a single element $T$.\n",
    "Its interface is\n",
    "```c++\n",
    "  template<typename EG, typename LFSU, typename X,\n",
    "    typename LFSV, typename R>\n",
    "  void alpha_volume (const EG& eg, const LFSU& lfsu,\n",
    "      const X& x, const LFSV& lfsv, R& r) const\n",
    "```\n",
    "This method is similar to the `alpha_volume` method of\n",
    "`NonlinearPoissonFEM`, but assembles a different function.\n",
    "The method starts by extracting the floating point type to be used for computations:\n",
    "```c++\n",
    "typedef decltype(makeZeroBasisFieldValue(lfsu)) RF;\n",
    "```\n",
    "Then a quadrature rule is selected\n",
    "```c++\n",
    "auto geo = eg.geometry();\n",
    "const int order =\n",
    "  incrementorder+2*lfsu.finiteElement().localBasis().order();\n",
    "auto rule = Dune::PDELab::quadratureRule(geo,order);\n",
    "```\n",
    "a variable `sum` to collect the contributions is created, and the quadrature loop is started\n",
    "```c++\n",
    "RF sum(0.0);\n",
    "for (const auto& ip : rule)\n",
    "  {\n",
    "```      \n",
    "Within the quadrature loop the basis functions are evaluated\n",
    "```c++     \n",
    "    // evaluate basis functions\n",
    "    auto& phihat = cache.evaluateFunction(\n",
    "      ip.position(),lfsu.finiteElement().localBasis());\n",
    "```\n",
    "and the value of $u_h$ at the quadrature point is computed.\n",
    "```c++\n",
    "  // evaluate u\n",
    "    RF u=0.0;\n",
    "    for (size_t i=0; i<lfsu.size(); i++) u += x(lfsu,i)*phihat[i];\n",
    "```\n",
    "We neglect contributions containing the gradient of $u_h$, since they would require second-order derivatives of the basis functions. This means we do not need to evaluate the gradients of the basis functions.\n",
    "\n",
    "The right hand side $f$ and the nonlinear term $q(u_h)$ are evaluated:\n",
    "```c++\n",
    "    // evaluate reaction term\n",
    "    auto q = param.q(u);\n",
    "\n",
    "    // evaluate right hand side parameter function\n",
    "    auto f = param.f(eg.entity(),ip.position());\n",
    "```\n",
    "and the local error estimate for this quadrature point is calculated:\n",
    "```c++\n",
    "  // integrate f^2\n",
    "    RF factor =\n",
    "      ip.weight() * geo.integrationElement(ip.position());\n",
    "    sum += (f-q)*(f-q)*factor;\n",
    "  }\n",
    "```\n",
    "After summing up all local contributions, we are in the position to finally compute the estimate on the element by multiplying with $h_T^2$:\n",
    "```c++\n",
    "// accumulate cell indicator\n",
    "  auto h_T = diameter(eg.geometry());\n",
    "  r.accumulate(lfsv,0,h_T*h_T*sum);\n",
    "}\n",
    "```"
   ]
  },
  {
   "cell_type": "markdown",
   "id": "443200c3",
   "metadata": {
    "heading_collapsed": true,
    "hidden": true
   },
   "source": [
    "### Metthod `alpha_skeleton`"
   ]
  },
  {
   "cell_type": "markdown",
   "id": "2481e1c7",
   "metadata": {
    "hidden": true
   },
   "source": [
    "This method has a structure that is very similar to the skeleton terms of the finite volume method from tutorial 02. It implements the error estimate contributions $R_F$ for the interior faces of the mesh and has the following interface:\n",
    "\n",
    "```c++\n",
    "template<typename IG, typename LFSU, typename X,\n",
    "  typename LFSV, typename R>\n",
    "void alpha_skeleton (const IG& ig,\n",
    "      const LFSU& lfsu_i, const X& x_i, const LFSV& lfsv_i,\n",
    "      const LFSU& lfsu_o, const X& x_o, const LFSV& lfsv_o,\n",
    "      R& r_i, R& r_o) const\n",
    "```\n",
    "\n",
    "s in tutorial 02, the arguments comprise an intersection, local trial function and local test space for both elements adjacent to the intersection and containers for the local residual contributions in both elements.\n",
    "The subscripts `_i` and `_o` correspond to\n",
    "``inside'' and ``outside''. W.r.t. our notation above ``inside'' corresponds to``-'' and ``outside'' corresponds to ``+''.\n",
    "\n",
    "As already noted in the context of the finite volume method of tutorial 02, the `alpha_skeleton` method needs to assemble contributions for `both` elements next to the intersection.\n",
    "\n",
    "It starts by extracting the geometries of the intersection relative to the two elements adjacent to the intersection\n",
    "```c++\n",
    "// geometries in local coordinates of the elements\n",
    "auto insidegeo = ig.geometryInInside();\n",
    "auto outsidegeo = ig.geometryInOutside();\n",
    "```\n",
    "the two elements themselves\n",
    "```c++\n",
    "// inside and outside cells\n",
    "auto cell_inside = ig.inside();\n",
    "auto cell_outside = ig.outside();\n",
    "```   \n",
    "and their geometries\n",
    "```c++\n",
    "// geometries from local to global in elements\n",
    "auto geo_i = cell_inside.geometry();\n",
    "auto geo_o = cell_outside.geometry();\n",
    "```\n",
    "Then the dimension of the intersection is extracted and a quadrature rule is created:\n",
    "```c++\n",
    "// dimensions\n",
    "const int dim = IG::Entity::dimension;\n",
    "\n",
    "// select quadrature rule\n",
    "auto globalgeo = ig.geometry();\n",
    "const int order =\n",
    "  incrementorder+2*lfsu_i.finiteElement().localBasis().order();\n",
    "auto rule = Dune::PDELab::quadratureRule(globalgeo,order);\n",
    "```\n",
    "\n",
    "The quadrature rule integrates over the intersection and collects contributions as the rule in `alpha_skeleton` did:\n",
    "```c++\n",
    "// loop over quadrature points and integrate normal flux\n",
    "typedef decltype(makeZeroBasisFieldValue(lfsu_i)) RF;\n",
    "RF sum(0.0);\n",
    "for (const auto& ip : rule)\n",
    "  { \n",
    "```   \n",
    "The coordinates on the intersection are translated to coordinates in the two elements to make the evaluation of $u_h$ and its gradient possible, and the unit vector on the intersection pointing from $T^-$ to $T^+$ is obtained.\n",
    "```c++\n",
    "    // position of quadrature point in local coordinates of elements\n",
    "    auto iplocal_i = insidegeo.global(ip.position());\n",
    "    auto iplocal_o = outsidegeo.global(ip.position());\n",
    "  \n",
    "    // unit outer normal direction\n",
    "    auto n_F = ig.unitOuterNormal(ip.position());\n",
    "```        \n",
    "The gradients of the basis functions are evaluated on the reference element, mapped onto the actual element, and used to calculate $(\\nabla u_h) \\cdot \\nu$ for the element $T_F^-$. Afterwards the same steps are performed for $T_F^+$, which is not repeated here.\n",
    "  \n",
    "```c++  \n",
    "    // gradient in normal direction in self\n",
    "    auto& gradphihat_i = cache.evaluateJacobian(\n",
    "        iplocal_i,lfsu_i.finiteElement().localBasis());\n",
    "    const auto S_i = geo_i.jacobianInverseTransposed(iplocal_i);\n",
    "    RF gradun_i = 0.0;\n",
    "    for (size_t i=0; i<lfsu_i.size(); i++)\n",
    "      {\n",
    "        Dune::FieldVector<RF,dim> v;\n",
    "        S_i.mv(gradphihat_i[i][0],v);\n",
    "        gradun_i += x_i(lfsu_i,i)*(v*n_F);\n",
    "      }\n",
    "```\n",
    "The face residual $R_F$ is calculated as the difference between the two directional derivatives of $u_h$ across the face, and its square is added to the sum.\n",
    "```c++\n",
    "    // integrate\n",
    "    RF factor =\n",
    "      ip.weight()*globalgeo.integrationElement(ip.position());\n",
    "    RF jump = gradun_i-gradun_o;\n",
    "    sum += jump*jump*factor;\n",
    "  }\n",
    "```\n",
    "After summing up all local contributions, the result is multiplied with $\\frac{1}{2} h_T$ and added to the estimate on the element:\n",
    "```c++\n",
    "    // accumulate indicator\n",
    "  auto h_T = diameter(globalgeo);\n",
    "  r_i.accumulate(lfsv_i,0,0.5*h_T*sum);\n",
    "  r_o.accumulate(lfsv_o,0,0.5*h_T*sum);\n",
    "}\n",
    "```"
   ]
  },
  {
   "cell_type": "markdown",
   "id": "45873119",
   "metadata": {
    "heading_collapsed": true,
    "hidden": true
   },
   "source": [
    "### Method `alpha_boundary`"
   ]
  },
  {
   "cell_type": "markdown",
   "id": "6be3a9ed",
   "metadata": {
    "hidden": true
   },
   "source": [
    "The method `alpha_boundary` is largely identical with `alpha_skeleton` and therefore isn't repeated here. All calculations\n",
    "concerning $T_F^+$ are dropped, and instead the Neumann boundary condition value $j$ is used in the calculation of the jump:\n",
    "\n",
    "```c++\n",
    "// Neumann boundary condition value\n",
    "auto j = param.j(ig.intersection(),ip.position());\n",
    "\n",
    "// integrate\n",
    "RF factor =\n",
    "  ip.weight()*globalgeo.integrationElement(ip.position());\n",
    "RF jump = gradun_i+j;\n",
    "sum += jump*jump*factor;\n",
    "```\n",
    "Additionally, the final accumulation scales with $h_T$, and not with\n",
    "$\\frac{1}{2} h_T$ as the `alpha_skeleton` method.\n",
    "\n",
    "```c++\n",
    "// accumulate indicator\n",
    "auto h_T = diameter(globalgeo);\n",
    "r_i.accumulate(lfsv_i,0,h_T*sum);\n",
    "```\n"
   ]
  },
  {
   "cell_type": "markdown",
   "id": "82dd0c42",
   "metadata": {
    "heading_collapsed": true
   },
   "source": [
    "# Exercises"
   ]
  },
  {
   "cell_type": "markdown",
   "id": "6aab6f88",
   "metadata": {
    "heading_collapsed": true,
    "hidden": true
   },
   "source": [
    "## Playing with the Parameters"
   ]
  },
  {
   "cell_type": "markdown",
   "id": "cfd5c324",
   "metadata": {
    "hidden": true,
    "solution2": "hidden",
    "solution2_first": true
   },
   "source": [
    "The adaptive finite element algorithm is controlled by several   parameters which can be set in the ini-file.  Besides the polynomial degree these are:\n",
    "\n",
    " - `steps`: how many times the solve-- adapt cycle is executed.\n",
    " - `uniformlevel` : how many times uniform mesh refinement is used before adaptive refinement starts.\n",
    " - `tol` : tolerance where the adaptive algorithm is stopped.\n",
    " - `fraction` : Remember that the global error is estimated from element-wise contributions:\n",
    "    $$\\gamma^2(u_h) = \\sum_{T\\in \\mathcal{T}_h} \\gamma_T^2(u_h).$$ The fraction parameter controls which elements are marked for   refinement. More precisely, the largest threshold $\\gamma^\\ast$ is   determined such that\n",
    "    $$\\sum_{\\{T\\in\\mathcal{T}_h \\,:\\, \\gamma_T(u_h)\\geq\\gamma^\\ast\\}}\n",
    "    \\gamma_T^2(u_h) \\geq \\text{fraction} \\cdot\n",
    "    \\gamma^2(u_h). $$\n",
    "\n",
    "If `fraction` is set to zero no elements need to be refined, i.e. $\\gamma^\\ast=\\infty$.  When`fraction` is set to one then all elements need to be refined, i.e. $\\gamma^\\ast=0$.  A smaller `fraction` parameter results in a more optimized mesh but needs more steps and thus might be more expensive. If `fraction` is chosen too  large then almost all elements are refined which might also be expensive, so there exists an (unknown) optimal value for `fraction`.\n",
    "\n",
    "Carry out the following experiments:\n",
    "\n",
    "1. Choose polynomial degree 1 and fix a tolerance, e.g. `tol`=0.01.  Set `steps` to a large number so that the algorithm is not stopped before the tolerance is reached. Set `uniformlevel` to zero. Now vary the `fraction` parameter and measure the execution time with\n",
    "  \n",
    "```bash\n",
    "$ time ./exercise05\n",
    "```\n",
    "\n",
    "2. Repeat the previous experiment with polynomial degrees two and\n",
    "three. Compare the optimal meshes generated for the different polynomial degrees.\n",
    "3. The idea of the heuristic refinement algorithm refining only   the elements with the largest contribution to the error is to    *equilibrate* the error. To check how well this is achieved use the calculator filter in ParaView (use cell data) to plot  $\\log(\\gamma_T(u_h))$. Note that the cell data exported by the   (unchanged) code is $\\gamma_T^2(u_h)$! Now check the minimum and   maximum error contributions. What happens directly at the singularity, i.e. the point $(0,0)$?"
   ]
  },
  {
   "cell_type": "markdown",
   "id": "ebacf026",
   "metadata": {
    "hidden": true,
    "solution2": "hidden"
   },
   "source": [
    "- *times for `degree` = 1, `tol` = 0.01, `steps` = 200 and `uniformlevel` = 0*\n",
    "\n",
    "| fraction|execution time|\n",
    "|--------:|-------------:|\n",
    "|      0.2|   9 min. 11s |\n",
    "|      0.4|   6 min. 28s |\n",
    "|      0.6|   5 min. 21s |\n",
    "|      0.8|   3 min. 34s |\n",
    "|      0.9|   5 min. 31s |\n",
    "|        1|  28 min. 18s |\n",
    "\n",
    "- *times for same setup as before, but `degree` = 2*\n",
    "| fraction|execution time|\n",
    "|--------:|-------------:|\n",
    "|      0.2|   0 min.12 s |\n",
    "|      0.4|   0 min. 8 s |\n",
    "|      0.6|   0 min. 6 s |\n",
    "|      0.8|   0 min. 6 s |\n",
    "|      0.9|   0 min. 8 s |\n",
    "|        1| 222 min.42 s |\n",
    "\n",
    "- *times for same setup as before, but `degree` = 3*\n",
    "| fraction|execution time|\n",
    "|--------:|-------------:|\n",
    "|      0.2|    53 s |\n",
    "|      0.4|    36 s |\n",
    "|      0.6|    19 s |\n",
    "|      0.8|    17 s |\n",
    "|      0.9|    17 s |\n",
    "\n",
    "- *examples for optimal meshes for polynomial degrees 1,2,3*\n",
    " \n",
    "<table>\n",
    "  <tr>\n",
    "    <th> <img src= \"images/meshdeg1.png\"></th> \n",
    "    <th> <img src= \"images/meshdeg2.png\"></th>\n",
    "    <th> <img src= \"images/meshdeg3.png\"></th> \n",
    "  </tr>  \n",
    "</table>\n",
    "\n",
    "- *example for $log(\\gamma(u_h))$ for degree = 3*\n",
    "\n",
    "<table>\n",
    "  <tr>\n",
    "    <th> <img src= \"images/loggamma.png\"></th> \n",
    "    <th> <img src= \"images/loggammaZoom.png\"></th>\n",
    "  </tr>  \n",
    "</table>"
   ]
  },
  {
   "cell_type": "markdown",
   "id": "95d50675",
   "metadata": {
    "heading_collapsed": true,
    "hidden": true
   },
   "source": [
    "## Compute the True $L_2$-Error"
   ]
  },
  {
   "cell_type": "markdown",
   "id": "7b04f11d",
   "metadata": {
    "hidden": true,
    "solution2": "hidden",
    "solution2_first": true
   },
   "source": [
    "*Disclaimer: In this exercise we compute and evalute the $L_2$-norm of the error. The residual based error estimator implemented in the code, however, estimates the $H^1$-seminorm (which is equivalent to the $H^1$-norm here) and thus also optimizes the mesh with respect to that norm.  This is done to make the exercise as simple as possible. It would be more appropriate to carry out the experiments either with the true $H^1$-norm or to change the estimator to the $L_2$-norm.*\n",
    "\n",
    "To do this exercise we need some more background on PDELab grid functions. The following code known from several tutorials by now constructs a PDELab grid function object `g`:\n",
    "\n",
    "```c++\n",
    "Problem<RF> problem(eta);\n",
    "auto glambda =\n",
    "[&](const auto& e, const auto& x){return problem.g(e,x);};\n",
    "auto g = Dune::PDELab::makeGridFunctionFromCallable(gv,glambda);\n",
    "```\n",
    "Also the following code segment used in many tutorials constructs a PDELab grid function object `zdgf` from a grid function space and a coefficient vector:\n",
    "\n",
    "```c++\n",
    "typedef Dune::PDELab::DiscreteGridFunction<GFS,Z> ZDGF;\n",
    "ZDGF zdgf(gfs,z);\n",
    "```\n",
    "\n",
    "PDELab grid functions can be evaluated in local coordinates given  by an element and a local coordinate within the corresponding   reference element. The result is stored in an additional argument   passed by reference.  Here is a code segment doing the job:\n",
    "```c++\n",
    "Dune::FieldVector<RF,1> truesolution(0.0);\n",
    "g.evaluate(e,x,truesolution);\n",
    "```\n",
    "Here we assume that `e` is an element and `x` is a local coordinate.  The result is stored in am`Dune::FieldVector` with one component of type `RF`. This allows also to return vector-valued results.\n",
    "\n",
    "Now here are your tasks:\n",
    "1. Extend the code in the notebook to provide a grid function that provides the error $u-u_h$. Note that the method `g` in the parameter class already returns the true solution (for $\\eta=0$).  You can solve this task by writing a lambda function subtracting the values returned by `g.evaluate` and `zdgf.evaluate`."
   ]
  },
  {
   "cell_type": "markdown",
   "id": "3c062771",
   "metadata": {
    "hidden": true,
    "solution2": "hidden"
   },
   "source": [
    "- *solution*\n",
    "\n",
    "```c++\n",
    "// =========================\n",
    "// compute true L2 error\n",
    "// =========================\n",
    "typedef Dune::PDELab::DiscreteGridFunction<GFS,Z> ZDGF;\n",
    "ZDGF zdgf(gfs,z); // the FE function as a grid function; moved from below\n",
    "auto errorlambda = // subtract exact solution from FE solution\n",
    "  [&](const auto& e, const auto& x){\n",
    "  Dune::FieldVector<RF,1> fesolution(0.0);\n",
    "  zdgf.evaluate(e,x,fesolution);\n",
    "  Dune::FieldVector<RF,1> truesolution(0.0);\n",
    "  g.evaluate(e,x,truesolution);\n",
    "  return truesolution[0]-fesolution[0];\n",
    "};\n",
    "auto error = Dune::PDELab::makeGridFunctionFromCallable(gv,errorlambda); // make grid function\n",
    "```"
   ]
  },
  {
   "cell_type": "markdown",
   "id": "c54c435d",
   "metadata": {
    "hidden": true,
    "solution2": "hidden",
    "solution2_first": true
   },
   "source": [
    "2. Compute the $L_2$-norm of the error, i.e. $\\|u-u_h\\|_0 = \\sqrt{\\int_\\Omega (u(x)-u_h(x))^2\\,dx}$. This can be done by creating a grid function with the squared error using    `Dune::PDELab::SqrGridFunctionAdapter` from    `<dune/pdelab/function/sqr.hh>` and the function `Dune::PDELab::integrateGridFunction` contained in the header file   `<dune/pdelab/common/functionutilities.hh>`. Output the result to the console by writing in a single line a tag like `L2ERROR`, the number of degrees of freedom using `gfs.globalSize()` and the $L_2$-norm. This lets you grep the results later for post-processing."
   ]
  },
  {
   "cell_type": "markdown",
   "id": "58d3b9a0",
   "metadata": {
    "hidden": true,
    "solution2": "hidden"
   },
   "source": [
    "- *solution*\n",
    "```c++\n",
    "typedef Dune::PDELab::SqrGridFunctionAdapter<decltype(error)> SQRERROR;  // square of the error\n",
    "SQRERROR sqrerror(error);\n",
    "Dune::FieldVector<RF,1> integral(0.0);\n",
    "Dune::PDELab::integrateGridFunction(sqrerror,integral,2*degree); // integrate grid function\n",
    "std::cout << \"L2ERROR \" << gfs.globalSize() << \" \" << sqrt(integral[0]) << std::endl;\n",
    "```"
   ]
  },
  {
   "cell_type": "markdown",
   "id": "4d6252f7",
   "metadata": {
    "hidden": true
   },
   "source": [
    "3. Investigate the $L_2$-error for different polynomial degrees. Run the code using different polynomial degrees and also uniform and adaptive (use your optimal `fraction`) refinement. Use `gnuplot` to produce graphs such as those in Figure 2. An example gnuplot file `plot.gp` is given.\n",
    "\n",
    " <img src = \"images/l2error.png\">\n",
    " <font color = \"grey\"> Figure 2: Comparison of $L_2$-error for different polynomial degrees and adaptive and   uniform meshes.</font>\n",
    "\n",
    " The graph shows that for uniform refinement polynomial degree 2 is better than polynomial degree 1 only by a   constant factor. For adaptive refinement a better convergence rate can be achieved. The plot also shows that for adaptive refinement the optimal convergence rate can be recovered. For $P_1$ finite elements and fully regular solution in $H^2(\\Omega)$ the a-priori estimate for uniform refinement yields $\\|u-u_h\\|_0\\leq C h^2$. Expressing $h$ in terms of the number of degrees of freedom $N$ yields $h\\sim N^{-1/d}$, so\n",
    "$\\|u-u_h\\|_0\\leq C h^2 \\leq C' N^{-1}$ for $d=2$. The curve $N^{-1}$ is shown for comparison in the plot. Clearly, the result for $P_1$ is parallel to that line."
   ]
  },
  {
   "cell_type": "markdown",
   "id": "827a9258",
   "metadata": {
    "hidden": true
   },
   "source": [
    "4. Optional: Also write the true error to the VTK output file."
   ]
  },
  {
   "cell_type": "markdown",
   "id": "1a25cd1e",
   "metadata": {},
   "source": [
    "# Bibliography"
   ]
  },
  {
   "cell_type": "markdown",
   "id": "ab5dab4e",
   "metadata": {},
   "source": [
    "[1] Ainsworth M. and J.T. Oden. *A posteriori error estimation in finite element analysis*. Wiley. 2000.\n",
    "\n",
    "[2] P. Bastian. *Lecture Notes on Scientific Computing with Partial Differential Equations*. 2014. http://conan.iwr.uni-heidelberg.de/teaching/numerik2_ss2014/num2.pdf. \n",
    "\n",
    "[3] Braess, D. *Finite Elemente*. Springer. 3rd edition. 2003.\n",
    "\n",
    "[4] Brenner, S. C. and Scott, L. R. *The mathematical theory of finite element methods*. Springer. 1994.\n",
    "\n",
    "[5] Ciarlet, P.G. *The finite element method for elliptic problems*. SIAM. Classics in Applied Mathematics. 2002.\n",
    "\n",
    "[6] Elman, H., Silvester, D. and Wathen, A. *Finite Elements and Fast Iterative Solvers*. Oxford University Press. 2005.\n",
    "\n",
    "[7] Eriksson, D., Estep, Hansbo,P. and Johnson, C. *Computational Differential Equations*. Cambridge University Press. 1996. http://www.csc.kth.se/~jjan/private/cde.pdf.\n",
    "\n",
    "[8] Ern, A. and Guermond, J.-L. *Theory and practice of finite element methods*. SIAM. Classics in Applied Mathematics. 2002.\n",
    "\n",
    "[9] Geuzaine, C. and Remacle, J.-F. *Gmsh: A 3-D finite element mesh generator with built-in pre- and post-processing facilities*. International Journal for Numerical Methods in Engineering. 2009.\n",
    "\n",
    "[10] Großmann, C. and Roos, H.-G. *Numerische Behandlung partieller Differentialgleichungen*. Teubner. 2006.\n",
    "\n",
    "[11] Hackbusch, W. *Theorie und Numerik elliptischer Differentialgleichungen*. Teubner. 1986. http://www.mis.mpg.de/preprints/ln/lecturenote-2805.pdf.\n",
    "\n",
    "[12] Rannacher, R.  *Einführung in die Numerische Mathematik II (Numerik partieller Differentialgleichungen)*. 2006. http://numerik.iwr.uni-heidelberg.de/~lehre/notes\n",
    "\n",
    "<a id = \"ref\"> </a>"
   ]
  }
 ],
 "metadata": {
  "kernelspec": {
   "display_name": "C++17 (DUNE)",
   "language": "C++17",
   "name": "90f694aa-4041-547e-bba1-934968691da0"
  },
  "language_info": {
   "codemirror_mode": "text/x-c++src",
   "file_extension": ".cpp",
   "mimetype": "text/x-c++src",
   "name": "c++",
   "version": "17"
  },
  "toc": {
   "base_numbering": 1,
   "nav_menu": {},
   "number_sections": true,
   "sideBar": true,
   "skip_h1_title": false,
   "title_cell": "Table of Contents",
   "title_sidebar": "Contents",
   "toc_cell": false,
   "toc_position": {},
   "toc_section_display": true,
   "toc_window_display": true
  }
 },
 "nbformat": 4,
 "nbformat_minor": 5
}
