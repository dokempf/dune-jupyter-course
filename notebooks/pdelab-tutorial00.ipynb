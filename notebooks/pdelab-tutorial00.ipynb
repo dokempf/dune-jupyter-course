{
 "cells": [
  {
   "cell_type": "markdown",
   "id": "selective-ecology",
   "metadata": {},
   "source": [
    "# Tutorial 00: P1 Finite Elements for the Poisson Equation"
   ]
  },
  {
   "cell_type": "markdown",
   "id": "annoying-chase",
   "metadata": {},
   "source": [
    "This is still Work in Progress. I will add the proper documentation when I have a fully functional version."
   ]
  },
  {
   "cell_type": "code",
   "execution_count": null,
   "id": "pointed-arnold",
   "metadata": {},
   "outputs": [],
   "source": [
    "#include<dune/jupyter.hh>\n",
    "#include\"poissonp1.hh\""
   ]
  },
  {
   "cell_type": "code",
   "execution_count": null,
   "id": "suffering-boost",
   "metadata": {},
   "outputs": [],
   "source": [
    "Dune::ParameterTree ptree;\n",
    "Dune::ParameterTreeParser::readINITree(\"tutorial00.ini\", ptree);"
   ]
  },
  {
   "cell_type": "code",
   "execution_count": null,
   "id": "necessary-supervision",
   "metadata": {},
   "outputs": [],
   "source": [
    "ptree"
   ]
  },
  {
   "cell_type": "code",
   "execution_count": null,
   "id": "duplicate-christmas",
   "metadata": {},
   "outputs": [],
   "source": [
    "const int dim = 2;\n",
    "using Grid = Dune::UGGrid<dim>;\n",
    "std::string filename = ptree.get(\"grid.twod.filename\", \"unitsquare.msh\");\n",
    "Dune::GridFactory<Grid> factory;\n",
    "Dune::GmshReader<Grid>::read(factory,filename,true,true);\n",
    "std::unique_ptr<Grid> grid(factory.createGrid());\n",
    "grid->globalRefine(ptree.get<int>(\"grid.refinement\"));"
   ]
  },
  {
   "cell_type": "code",
   "execution_count": null,
   "id": "affected-conversion",
   "metadata": {},
   "outputs": [],
   "source": [
    "grid"
   ]
  },
  {
   "cell_type": "code",
   "execution_count": null,
   "id": "abandoned-blink",
   "metadata": {},
   "outputs": [],
   "source": [
    "using DF = Grid::ctype;\n",
    "using RF = double;\n",
    "auto gv = grid->leafGridView();\n",
    "using GV = decltype(gv);"
   ]
  },
  {
   "cell_type": "code",
   "execution_count": null,
   "id": "returning-basket",
   "metadata": {},
   "outputs": [],
   "source": [
    "typedef Dune::PDELab::PkLocalFiniteElementMap<GV,DF,RF,1> FEM;\n",
    "FEM fem(gv);\n",
    "typedef Dune::PDELab::ConformingDirichletConstraints CON;\n",
    "typedef Dune::PDELab::ISTL::VectorBackend<> VBE;\n",
    "typedef Dune::PDELab::GridFunctionSpace<GV,FEM,CON,VBE> GFS;\n",
    "GFS gfs(gv,fem);\n",
    "gfs.name(\"P1\");"
   ]
  },
  {
   "cell_type": "code",
   "execution_count": null,
   "id": "individual-remains",
   "metadata": {},
   "outputs": [],
   "source": [
    "using Z = Dune::PDELab::Backend::Vector<GFS,RF>;\n",
    "Z z(gfs);"
   ]
  },
  {
   "cell_type": "markdown",
   "id": "variable-magnet",
   "metadata": {},
   "source": [
    "The nesting of the following block is *currently* necessary because of a bug in `xeus-cling` that does not allow the definition of lambdas in the context of `main`. I will report this upstream and check for a solution once I have the main stuff working."
   ]
  },
  {
   "cell_type": "code",
   "execution_count": null,
   "id": "french-split",
   "metadata": {},
   "outputs": [],
   "source": [
    "{\n",
    "    auto g = Dune::PDELab::makeGridFunctionFromCallable(\n",
    "        gv,\n",
    "        [](const auto& x){\n",
    "            RF s=0.0;\n",
    "            for (std::size_t i=0; i<x.size(); i++)\n",
    "                s+=x[i]*x[i];\n",
    "            return s;\n",
    "        }\n",
    "    );\n",
    "    Dune::PDELab::interpolate(g,gfs,z);\n",
    "}"
   ]
  },
  {
   "cell_type": "code",
   "execution_count": null,
   "id": "laughing-footage",
   "metadata": {},
   "outputs": [],
   "source": [
    "typedef typename GFS::template ConstraintsContainer<RF>::Type CC;\n",
    "CC cc;"
   ]
  },
  {
   "cell_type": "code",
   "execution_count": null,
   "id": "acquired-celebration",
   "metadata": {},
   "outputs": [],
   "source": [
    "{\n",
    "  auto b = Dune::PDELab::makeBoundaryConditionFromCallable(\n",
    "      gv,\n",
    "      [](const auto& x){return true;}\n",
    "  );\n",
    "  Dune::PDELab::constraints(b, gfs, cc);\n",
    "  std::cout << \"constrained dofs=\" << cc.size() << \" of \"\n",
    "            << gfs.globalSize() << std::endl;\n",
    "}"
   ]
  },
  {
   "cell_type": "markdown",
   "id": "ranging-faith",
   "metadata": {},
   "source": [
    "The `LocalOperator` has a problem. It gets passed a grid function constructed from a lambda. Not yet sure how that works with the `xeus-cling` bug."
   ]
  },
  {
   "cell_type": "code",
   "execution_count": null,
   "id": "printable-institute",
   "metadata": {},
   "outputs": [],
   "source": []
  }
 ],
 "metadata": {
  "kernelspec": {
   "display_name": "C++17 (DUNE)",
   "language": "C++17",
   "name": "90f694aa-4041-547e-bba1-934968691da0"
  },
  "language_info": {
   "codemirror_mode": "text/x-c++src",
   "file_extension": ".cpp",
   "mimetype": "text/x-c++src",
   "name": "c++",
   "version": "17"
  }
 },
 "nbformat": 4,
 "nbformat_minor": 5
}
