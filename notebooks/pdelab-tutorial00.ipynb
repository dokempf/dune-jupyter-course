{
 "cells": [
  {
   "cell_type": "markdown",
   "id": "selective-ecology",
   "metadata": {},
   "source": [
    "# Tutorial 00: P1 Finite Elements for the Poisson Equation"
   ]
  },
  {
   "cell_type": "markdown",
   "id": "annoying-chase",
   "metadata": {},
   "source": [
    "In this exercise, we will solve our first PDE:\n",
    "\n",
    "$$\n",
    "\\begin{aligned}\n",
    "-\\Delta u & = f && in\\ \\Omega \\\\\n",
    "u & = g && on\\ \\partial\\Omega\n",
    "\\end{aligned}\n",
    "$$"
   ]
  },
  {
   "cell_type": "markdown",
   "id": "rolled-trademark",
   "metadata": {},
   "source": [
    "Again, we include all the Dune sources through one convenience header:"
   ]
  },
  {
   "cell_type": "code",
   "execution_count": null,
   "id": "pointed-arnold",
   "metadata": {},
   "outputs": [],
   "source": [
    "#include<dune/jupyter.hh>"
   ]
  },
  {
   "cell_type": "markdown",
   "id": "looking-shock",
   "metadata": {},
   "source": [
    "The simulation code written below will depend on a number of runtime parameters that are provided in a configuration file `tutorial00.ini`. You find that file in the `notebooks` directory. Dune uses a nested data structured called `ParameterTree` for these configurations. In the following we parse the configuration, output it to the notebook and alter it from within the notebook:"
   ]
  },
  {
   "cell_type": "code",
   "execution_count": null,
   "id": "suffering-boost",
   "metadata": {},
   "outputs": [],
   "source": [
    "Dune::ParameterTree ptree;\n",
    "Dune::ParameterTreeParser::readINITree(\"tutorial00.ini\", ptree);"
   ]
  },
  {
   "cell_type": "code",
   "execution_count": null,
   "id": "necessary-supervision",
   "metadata": {},
   "outputs": [],
   "source": [
    "ptree"
   ]
  },
  {
   "cell_type": "code",
   "execution_count": null,
   "id": "present-eagle",
   "metadata": {},
   "outputs": [],
   "source": [
    "ptree[\"grid.refinement\"] = \"0\";"
   ]
  },
  {
   "cell_type": "markdown",
   "id": "collective-instrumentation",
   "metadata": {},
   "source": [
    "We are using a two-dimensional, unstructured mesh for this simulation. The mesh resolves the unit square $\\Omega = [0,1]^2$. The file is specified in the `unitsquare.msh` file that was generated using Gmsh."
   ]
  },
  {
   "cell_type": "code",
   "execution_count": null,
   "id": "duplicate-christmas",
   "metadata": {},
   "outputs": [],
   "source": [
    "const int dim = 2;\n",
    "using Grid = Dune::UGGrid<dim>;\n",
    "std::string filename = ptree.get(\"grid.twod.filename\", \"unitsquare.msh\");\n",
    "Dune::GridFactory<Grid> factory;\n",
    "Dune::GmshReader<Grid>::read(factory,filename,true,true);\n",
    "std::unique_ptr<Grid> grid(factory.createGrid());\n",
    "grid->globalRefine(ptree.get<int>(\"grid.refinement\"));\n",
    "auto gv = grid->leafGridView();\n",
    "using GV = decltype(gv);"
   ]
  },
  {
   "cell_type": "code",
   "execution_count": null,
   "id": "affected-conversion",
   "metadata": {},
   "outputs": [],
   "source": [
    "grid"
   ]
  },
  {
   "cell_type": "markdown",
   "id": "metallic-authority",
   "metadata": {},
   "source": [
    "With Dune making heavy use of C++ templates, the underlying floating point type of the simulation can be chosen quite freely. Looking for a solution $u: \\Omega\\rightarrow\\mathbb{R}$, the *domain field* type is the floating point type used to realize $\\Omega$ where as the *range field* type is used to realize $\\mathbb{R}$. `DF` is defined by the grid implementation (usually to `double`), but we can freely choose `RF` - typically also to `double`:"
   ]
  },
  {
   "cell_type": "code",
   "execution_count": null,
   "id": "abandoned-blink",
   "metadata": {},
   "outputs": [],
   "source": [
    "using DF = Grid::ctype;\n",
    "using RF = double;"
   ]
  },
  {
   "cell_type": "code",
   "execution_count": null,
   "id": "returning-basket",
   "metadata": {},
   "outputs": [],
   "source": [
    "using FEM = Dune::PDELab::PkLocalFiniteElementMap<GV,DF,RF,1>;\n",
    "FEM fem(gv);\n",
    "using CON = Dune::PDELab::ConformingDirichletConstraints;\n",
    "using VBE = Dune::PDELab::ISTL::VectorBackend<>;\n",
    "using GFS = Dune::PDELab::GridFunctionSpace<GV,FEM,CON,VBE>;\n",
    "GFS gfs(gv,fem);\n",
    "gfs.name(\"P1\");"
   ]
  },
  {
   "cell_type": "code",
   "execution_count": null,
   "id": "individual-remains",
   "metadata": {},
   "outputs": [],
   "source": [
    "using Z = Dune::PDELab::Backend::Vector<GFS,RF>;\n",
    "Z z(gfs);"
   ]
  },
  {
   "cell_type": "code",
   "execution_count": null,
   "id": "french-split",
   "metadata": {},
   "outputs": [],
   "source": [
    "auto g = Dune::PDELab::makeGridFunctionFromCallable(\n",
    "    gv,\n",
    "    [](const auto& x){\n",
    "        RF s=0.0;\n",
    "        for (std::size_t i=0; i<x.size(); i++)\n",
    "            s+=x[i]*x[i];\n",
    "        return s;\n",
    "    }\n",
    ");\n",
    "Dune::PDELab::interpolate(g,gfs,z);"
   ]
  },
  {
   "cell_type": "code",
   "execution_count": null,
   "id": "laughing-footage",
   "metadata": {},
   "outputs": [],
   "source": [
    "using CC = typename GFS::template ConstraintsContainer<RF>::Type;\n",
    "CC cc;"
   ]
  },
  {
   "cell_type": "code",
   "execution_count": null,
   "id": "acquired-celebration",
   "metadata": {},
   "outputs": [],
   "source": [
    "auto b = Dune::PDELab::makeBoundaryConditionFromCallable(\n",
    "    gv,\n",
    "    [](const auto& x){ return true; }\n",
    ");\n",
    "Dune::PDELab::constraints(b, gfs, cc);\n",
    "std::cout << \"constrained dofs=\" << cc.size() << \" of \"\n",
    "          << gfs.globalSize() << std::endl;"
   ]
  },
  {
   "cell_type": "code",
   "execution_count": null,
   "id": "printable-institute",
   "metadata": {},
   "outputs": [],
   "source": [
    "auto f = Dune::PDELab::makeGridFunctionFromCallable(\n",
    "    gv,\n",
    "    [](const auto& x){\n",
    "        return Dune::FieldVector<RF,1>(-2.0*x.size());\n",
    "    }\n",
    ");;"
   ]
  },
  {
   "cell_type": "markdown",
   "id": "tired-brazilian",
   "metadata": {},
   "source": [
    "Next, we will construct the local operator. We include the local operator implementation for P1-conforming finite elements from the file `poissonp1.hh`. You find this file in the `notebooks` folder. After making changes to the file, you need to restart and rerun this notebook."
   ]
  },
  {
   "cell_type": "code",
   "execution_count": null,
   "id": "tired-poster",
   "metadata": {},
   "outputs": [],
   "source": [
    "#include\"poissonp1.hh\"\n",
    "\n",
    "using LOP = PoissonP1<decltype(f),FEM>;\n",
    "LOP lop(f, fem.find(*gv.template begin<0>()));"
   ]
  },
  {
   "cell_type": "code",
   "execution_count": null,
   "id": "spatial-nudist",
   "metadata": {},
   "outputs": [],
   "source": [
    "using MBE = Dune::PDELab::ISTL::BCRSMatrixBackend<>;\n",
    "MBE mbe(1<<(dim+1)); // guess nonzeros per row\n",
    "using GO = Dune::PDELab::GridOperator<\n",
    "  GFS,GFS,  /* ansatz and test space */\n",
    "  LOP,      /* local operator */\n",
    "  MBE,      /* matrix backend */\n",
    "  RF,RF,RF, /* domain, range, jacobian field type*/\n",
    "  CC,CC     /* constraints for ansatz and test space */\n",
    "  >;\n",
    "GO go(gfs,cc,gfs,cc,lop,mbe);"
   ]
  },
  {
   "cell_type": "code",
   "execution_count": null,
   "id": "conscious-wrestling",
   "metadata": {},
   "outputs": [],
   "source": [
    "using LS = Dune::PDELab::ISTLBackend_SEQ_CG_AMG_SSOR<GO>;\n",
    "LS ls(100,2);"
   ]
  },
  {
   "cell_type": "code",
   "execution_count": null,
   "id": "pleasant-cloud",
   "metadata": {},
   "outputs": [],
   "source": [
    "using SLP = Dune::PDELab::StationaryLinearProblemSolver<GO,LS,Z>;\n",
    "SLP slp(go,ls,z,1e-10);\n",
    "slp.apply();"
   ]
  },
  {
   "cell_type": "code",
   "execution_count": null,
   "id": "approved-compensation",
   "metadata": {},
   "outputs": [],
   "source": [
    "using ZDGF = Dune::PDELab::DiscreteGridFunction<GFS,Z>;\n",
    "ZDGF zdgf(gfs,z);\n",
    "Z w(gfs); // Lagrange interpolation of exact solution\n",
    "Dune::PDELab::interpolate(g,gfs,w);\n",
    "ZDGF wdgf(gfs,w);\n",
    "Dune::VTKWriter<GV> vtkwriter(gv,Dune::VTK::conforming);\n",
    "using VTKF = Dune::PDELab::VTKGridFunctionAdapter<ZDGF>;\n",
    "vtkwriter.addVertexData(std::shared_ptr<VTKF>(new VTKF(zdgf,\"fesol\")));\n",
    "vtkwriter.addVertexData(std::shared_ptr<VTKF>(new VTKF(wdgf,\"exact\")));\n",
    "vtkwriter.write(ptree.get(\"output.filename\",\"output\"), Dune::VTK::appendedraw);"
   ]
  }
 ],
 "metadata": {
  "kernelspec": {
   "display_name": "C++17 (DUNE)",
   "language": "C++17",
   "name": "90f694aa-4041-547e-bba1-934968691da0"
  },
  "language_info": {
   "codemirror_mode": "text/x-c++src",
   "file_extension": ".cpp",
   "mimetype": "text/x-c++src",
   "name": "c++",
   "version": "17"
  }
 },
 "nbformat": 4,
 "nbformat_minor": 5
}
