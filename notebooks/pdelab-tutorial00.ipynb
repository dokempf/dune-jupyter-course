{
 "cells": [
  {
   "cell_type": "markdown",
   "id": "selective-ecology",
   "metadata": {
    "tags": []
   },
   "source": [
    "# Tutorial 00: P1 Finite Elements for the Poisson Equation"
   ]
  },
  {
   "cell_type": "markdown",
   "id": "9cfed47f-d871-4295-a24b-8c817a3b61fe",
   "metadata": {
    "tags": []
   },
   "source": [
    "## Problem Formulation"
   ]
  },
  {
   "cell_type": "markdown",
   "id": "annoying-chase",
   "metadata": {},
   "source": [
    "In this exercise, we will solve our first PDE, the *Poisson equation*:\n",
    "\n",
    "\n",
    "\\begin{equation}\n",
    "\\begin{aligned}\n",
    "-\\Delta u & = f && \\text{in}\\ \\Omega \\\\\n",
    "u & = g && \\text{on}\\ \\partial\\Omega \\label{eq:1a}\n",
    "\\end{aligned}\n",
    "\\end{equation}\n"
   ]
  },
  {
   "cell_type": "markdown",
   "id": "b6ee1b67-282e-43e0-b205-68308ab401ca",
   "metadata": {},
   "source": [
    "where $\\Omega \\in \\mathbb{R}^d$ is a given, polyhedral domain\n",
    "(elements with curved boundaries are possible in DUNE but will not be considered\n",
    "here). This problem is one of the basic equations of mathematical physics\n",
    "which describes gravitational and electric potential as well as stationary heat or\n",
    "groundwater flow. Poisson's equation is an instance of an *elliptic partial differential equation*.\n",
    "\n",
    "A function $u \\in C^2(\\Omega) \\cap C^0(\\bar{\\Omega})$ (the space of twice continuously differentiable functions in $\\Omega$ which are continous up to the boundary) is called a *strong solution* if it satisfies the above equations pointwise.\n",
    "\n",
    "Formally, one often reduces the equations to a problem with homogeneous Dirichlet boundary conditions g ≡ 0 as the starting point for theoretical considerations. We will deliberately not\n",
    "do this here as it is also not done in the computer implementation of the method."
   ]
  },
  {
   "cell_type": "markdown",
   "id": "b14087a6-3bb5-4b8f-b880-ed2374253661",
   "metadata": {
    "tags": []
   },
   "source": [
    "### Weak Formulation"
   ]
  },
  {
   "cell_type": "markdown",
   "id": "11a419ca-7afe-49cd-bd19-2ca550966267",
   "metadata": {},
   "source": [
    "Existence, uniqueness and stability of solutions, i.e. well-posedness in the sense of\n",
    "Hadamard, is easier to prove for so-called weak solutions. As the weak formulation\n",
    "is also the basis of the finite element method we explain it here."
   ]
  },
  {
   "cell_type": "markdown",
   "id": "50c28d06-20ca-4cb0-8256-3ac29f53cd04",
   "metadata": {},
   "source": [
    "As a start, suppose $u$ is a strong solution of the equations above and take \n",
    "*any* function\n",
    "$v\\in C^1(\\Omega)\\cap C^0(\\bar\\Omega)$ with $v=0$ on $\\partial\\Omega$, then we\n",
    "have by integration by parts:\n",
    "\\begin{equation*}\n",
    "\\int_\\Omega (-\\Delta u) v \\,dx = \n",
    "\\int_\\Omega \\nabla u \\cdot \\nabla v \\,dx= \\int_\\Omega fv \\,dx.\n",
    "\\end{equation*}\n",
    "Observe that the boundary integral $\\int_{\\partial\\Omega} \\nabla u\\cdot n v\\,dx$ vanishes\n",
    "due to the fact that $v=0$ on $\\partial\\Omega$. Loosely speaking $v=0$ is a consequence\n",
    "of the Dirichlet boundary condition $u=g$ on $\\partial\\Omega$."
   ]
  },
  {
   "cell_type": "markdown",
   "id": "00128dcb-5cc3-4e92-a5c1-2f3cee456603",
   "metadata": {},
   "source": [
    "Introducing the abbreviations\n",
    "\\begin{equation*}\n",
    "a(u,v) = \\int_\\Omega \\nabla u \\cdot \\nabla v \\,dx, \\qquad l(v) = \\int_\\Omega fv \\,dx\n",
    "\\end{equation*}\n",
    "one can on the other hand ask the question: Is there a class,\n",
    "more specific a vector space, of functions $V$ with $V_g=\\{v\\in V : \n",
    "\\text{$v=g$ on $\\partial\\Omega$}\\}$ and $V_0=\\{v\\in V : \n",
    "\\text{$v=0$ on $\\partial\\Omega$}\\}$ such that\n",
    "the problem\n",
    "\\begin{equation} \n",
    "u \\in V_g :\\qquad a(u,v) = l(v) \\qquad \\forall v\\in V_0 \\label{eq:weakform}\n",
    "\\end{equation}\n",
    "has a unique solution."
   ]
  },
  {
   "cell_type": "markdown",
   "id": "df095743-e3a9-42b0-91a2-27cc7e2425ee",
   "metadata": {},
   "source": [
    "The answer is yes and in particular one can prove the following:\n",
    "\n",
    "1. With $V=H^1(\\Omega)$, the Sobolev space of functions with square integrable\n",
    "weak derivatives, the problem \\eqref{eq:weakform} has a unique solution provided\n",
    "the bilinear form $a : V\\times V \\to \\mathbb{R}$ is continuous and coercive on the \n",
    "subspace $V_0\\subset V$ and the linear form $l: V \\to \\mathbb{R}$ is also continuous. \n",
    "Coercivity on $V_0$ follows from Friedrich's inequality and for the continuity of the right hand\n",
    "side functional $f\\in L^2(\\Omega)$ is a sufficient condition.\n",
    "2. If in addition $u\\in C^2(\\Omega)\\cap C^0(\\bar\\Omega)$, then the solutions\n",
    "of \\eqref{eq:weakform} and \\eqref{eq:1a} coincide.\n",
    "\n",
    "We call \\eqref{eq:weakform} the *weak formulation* of \\eqref{eq:1a}.\n",
    "As it has a unique solution under more general conditions than \\eqref{eq:1a},\n",
    "e.g. discontinuous right hand side functions $f$, it can be considered a generalization\n",
    "of the problem."
   ]
  },
  {
   "cell_type": "markdown",
   "id": "13777fb4-10c2-4b6d-9b97-82374ebc7cbf",
   "metadata": {},
   "source": [
    "## The Finite Element Method"
   ]
  },
  {
   "cell_type": "markdown",
   "id": "85c3293a-e022-44f4-82a7-1a41cea0c625",
   "metadata": {},
   "source": [
    "The (conforming) finite element method, in a nutshell, is based on the weak formulation where\n",
    "the function space $V$ is replaced by a subspace $V_h\\subset V$ \n",
    "which is *finite dimensional*. Here, the subscript $h$ relates to the dimension of the\n",
    "function space. One major part of the finite element method is to construct such so-called *finite element spaces*.\n",
    "Typically, finite element spaces consist of piecewise polynomial functions.\n",
    "We consider one particular choice, the space of linear functions on simplicial elements.\n",
    "For a more detailed description of the underlying finite element method, please refer to `tutorial00.pdf`. Additionally, there are many text books about the finite element method, which are listed in the further reading section at the end of this tutorial."
   ]
  },
  {
   "cell_type": "markdown",
   "id": "68620b6c-f941-4e6c-907c-71610b50a0bf",
   "metadata": {
    "tags": []
   },
   "source": [
    "## Implementation"
   ]
  },
  {
   "cell_type": "markdown",
   "id": "df901b2f",
   "metadata": {},
   "source": [
    "The code presented in this tutorial solves the elliptic equation \\eqref{eq:1a} with Dirichlet boundary conditions, where\n",
    "\\begin{align*}\n",
    "    f(x) = -2d \\quad\\text{and}\\quad  g(x) = \\sum_{i=1}^d (x)_i^2.\n",
    "\\end{align*}"
   ]
  },
  {
   "cell_type": "markdown",
   "id": "rolled-trademark",
   "metadata": {},
   "source": [
    "First, we again include all the Dune sources through one convenience header:"
   ]
  },
  {
   "cell_type": "code",
   "execution_count": null,
   "id": "pointed-arnold",
   "metadata": {},
   "outputs": [],
   "source": [
    "#include<dune/jupyter.hh>"
   ]
  },
  {
   "cell_type": "markdown",
   "id": "looking-shock",
   "metadata": {},
   "source": [
    "The simulation code written below will depend on a number of runtime parameters that are provided in a configuration file `tutorial00.ini`. You find that file in the `notebooks` directory. Dune uses a nested data structured called `ParameterTree` for these configurations. In the following we parse the configuration, output it to the notebook and alter it from within the notebook:"
   ]
  },
  {
   "cell_type": "code",
   "execution_count": null,
   "id": "suffering-boost",
   "metadata": {},
   "outputs": [],
   "source": [
    "Dune::ParameterTree ptree;\n",
    "Dune::ParameterTreeParser::readINITree(\"tutorial00.ini\", ptree);"
   ]
  },
  {
   "cell_type": "code",
   "execution_count": null,
   "id": "necessary-supervision",
   "metadata": {},
   "outputs": [],
   "source": [
    "ptree"
   ]
  },
  {
   "cell_type": "code",
   "execution_count": null,
   "id": "present-eagle",
   "metadata": {},
   "outputs": [],
   "source": [
    "ptree[\"grid.refinement\"] = \"0\";"
   ]
  },
  {
   "cell_type": "code",
   "execution_count": null,
   "id": "4f52d0e2-6f53-469b-97c7-2e7e68f1ddf8",
   "metadata": {},
   "outputs": [],
   "source": [
    "ptree"
   ]
  },
  {
   "cell_type": "markdown",
   "id": "collective-instrumentation",
   "metadata": {},
   "source": [
    "We are using a two-dimensional, unstructured mesh for this simulation. The mesh resolves the unit square $\\Omega = [0,1]^2$. The file is specified in the `unitsquare.msh` file that was generated using Gmsh."
   ]
  },
  {
   "cell_type": "code",
   "execution_count": null,
   "id": "duplicate-christmas",
   "metadata": {},
   "outputs": [],
   "source": [
    "const int dim = 2;\n",
    "using Grid = Dune::UGGrid<dim>;\n",
    "std::string filename = ptree.get(\"grid.twod.filename\", \"unitsquare.msh\");\n",
    "Dune::GridFactory<Grid> factory;\n",
    "Dune::GmshReader<Grid>::read(factory,filename,true,true);\n",
    "std::unique_ptr<Grid> grid(factory.createGrid());\n",
    "grid->globalRefine(ptree.get<int>(\"grid.refinement\"));\n",
    "auto gv = grid->leafGridView();\n",
    "using GV = decltype(gv);"
   ]
  },
  {
   "cell_type": "code",
   "execution_count": null,
   "id": "affected-conversion",
   "metadata": {},
   "outputs": [],
   "source": [
    "grid"
   ]
  },
  {
   "cell_type": "markdown",
   "id": "metallic-authority",
   "metadata": {},
   "source": [
    "With Dune making heavy use of C++ templates, the underlying floating point type of the simulation can be chosen quite freely. Looking for a solution $u: \\Omega\\rightarrow\\mathbb{R}$, the *domain field* type is the floating point type used to realize $\\Omega$ where as the *range field* type is used to realize $\\mathbb{R}$. `DF` is defined by the grid implementation (usually to `double`), but we can freely choose `RF` - typically also to `double`:"
   ]
  },
  {
   "cell_type": "code",
   "execution_count": null,
   "id": "abandoned-blink",
   "metadata": {},
   "outputs": [],
   "source": [
    "using DF = Grid::ctype;\n",
    "using RF = double;"
   ]
  },
  {
   "cell_type": "markdown",
   "id": "7fda8d48-78f4-4225-b0f1-4ac6b1eef48c",
   "metadata": {},
   "source": [
    "In the following, first a *local finite element map* of type `PkLocalFiniteElementMap` is set up. The finite element map associates finite element basis functions, defined on the corresponding reference element, with each element of the mesh. Additionally, information is provided on how the global finite element space $V_h$ is constructed from the local, element-wise pieces.\n",
    "\n",
    "The type `CON` provides a so-called constraints class, which provides a way to assemble constraints on a function space.\n",
    "\n",
    "The type `VBE` provides a vector backend, this allows for the direct filling of different types of data into these vectors, without a copy step. This is usefull, as PDELab can use different iterative solver libraries, which provide their own data types for vectors and (sparse) matrices. In this code, DUNE's own iterative solver library ISTL provides the vector backend.\n",
    "\n",
    "From the above described parameters, the type `GFS` from the class template `GridFunctionSpace`is defined. This combines all the given information to construct the global finite element space $V_h$ on a given grid view. In the last two lines an object of this class is instantiated and the space is given a name."
   ]
  },
  {
   "cell_type": "code",
   "execution_count": null,
   "id": "returning-basket",
   "metadata": {},
   "outputs": [],
   "source": [
    "using FEM = Dune::PDELab::PkLocalFiniteElementMap<GV,DF,RF,1>;\n",
    "FEM fem(gv);\n",
    "using CON = Dune::PDELab::ConformingDirichletConstraints;\n",
    "using VBE = Dune::PDELab::ISTL::VectorBackend<>;\n",
    "using GFS = Dune::PDELab::GridFunctionSpace<GV,FEM,CON,VBE>;\n",
    "GFS gfs(gv,fem);\n",
    "gfs.name(\"P1\");"
   ]
  },
  {
   "cell_type": "markdown",
   "id": "23d9fb87-e0ba-41bc-9474-22322af96616",
   "metadata": {},
   "source": [
    "In the next step, a variable that will later on contain the solution vector *z* is declared:"
   ]
  },
  {
   "cell_type": "code",
   "execution_count": null,
   "id": "individual-remains",
   "metadata": {},
   "outputs": [],
   "source": [
    "using Z = Dune::PDELab::Backend::Vector<GFS,RF>;\n",
    "Z z(gfs);"
   ]
  },
  {
   "cell_type": "markdown",
   "id": "c0b69c96-ea0b-4eec-b7c6-4ef51f935d1e",
   "metadata": {},
   "source": [
    "The function g extends the Dirichlet boundary values into the inerior. This function can be used to provide e.g. the exact solution of the problem for testing purposes or an initial guess for the iterative solvers."
   ]
  },
  {
   "cell_type": "code",
   "execution_count": null,
   "id": "french-split",
   "metadata": {
    "solution2": "hidden",
    "solution2_first": true
   },
   "outputs": [],
   "source": [
    "auto g = Dune::PDELab::makeGridFunctionFromCallable(\n",
    "    gv,\n",
    "    [](const auto& x){\n",
    "        RF s=0.0;\n",
    "        for (std::size_t i=0; i<x.size(); i++)\n",
    "            s+=x[i]*x[i];\n",
    "        return s;\n",
    "    }\n",
    ");\n",
    "Dune::PDELab::interpolate(g,gfs,z);"
   ]
  },
  {
   "cell_type": "markdown",
   "id": "1245e3fd",
   "metadata": {
    "solution2": "hidden"
   },
   "source": [
    "This is the solution for exercise 1.1:"
   ]
  },
  {
   "cell_type": "code",
   "execution_count": null,
   "id": "1ac7c5c4",
   "metadata": {
    "solution2": "hidden"
   },
   "outputs": [],
   "source": [
    "/*auto g = Dune::PDELab::makeGridFunctionFromCallable(\n",
    "    gv,\n",
    "    [](const auto& x){\n",
    "        RF s=0.0;\n",
    "        for (std::size_t i=0; i<x.size(); i++)\n",
    "            s+=x[i]*x[i]*x[i];\n",
    "        return s;\n",
    "    }\n",
    ");\n",
    "Dune::PDELab::interpolate(g,gfs,z);\n",
    "*/"
   ]
  },
  {
   "cell_type": "markdown",
   "id": "81c0091c-df35-4cf8-921c-478f8eabf69a",
   "metadata": {},
   "source": [
    "In the following, the constraints for a specific grid function space are determined from the boundary condition type function `b`. They are saved into the constraints container `cc` of type `CC`. The separation of the function space $V_h$ and the constraints set $\\mathcal{I}_h^{\\partial \\Omega}$ allows one to reuse the function space together with different constraints, e.g. for a system of partial differential equations."
   ]
  },
  {
   "cell_type": "code",
   "execution_count": null,
   "id": "laughing-footage",
   "metadata": {},
   "outputs": [],
   "source": [
    "using CC = typename GFS::template ConstraintsContainer<RF>::Type;\n",
    "CC cc;"
   ]
  },
  {
   "cell_type": "code",
   "execution_count": null,
   "id": "acquired-celebration",
   "metadata": {},
   "outputs": [],
   "source": [
    "auto b = Dune::PDELab::makeBoundaryConditionFromCallable(\n",
    "    gv,\n",
    "    [](const auto& x){ return true; }\n",
    ");\n",
    "Dune::PDELab::constraints(b, gfs, cc);\n",
    "std::cout << \"constrained dofs=\" << cc.size() << \" of \"\n",
    "          << gfs.globalSize() << std::endl;"
   ]
  },
  {
   "cell_type": "markdown",
   "id": "a2f1dc86-c040-4f23-a50d-3fa00c0ed3ef",
   "metadata": {},
   "source": [
    "The right hand side $f$ of the partial differential equation is denoted by the function `f`."
   ]
  },
  {
   "cell_type": "code",
   "execution_count": null,
   "id": "printable-institute",
   "metadata": {
    "solution2": "hidden",
    "solution2_first": true
   },
   "outputs": [],
   "source": [
    "auto f = Dune::PDELab::makeGridFunctionFromCallable(\n",
    "    gv,\n",
    "    [](const auto& x){\n",
    "        return Dune::FieldVector<RF,1>(-2.0*x.size());\n",
    "    }\n",
    ");;"
   ]
  },
  {
   "cell_type": "markdown",
   "id": "00872b0d",
   "metadata": {
    "solution2": "hidden"
   },
   "source": [
    "This is the solution to exercise 1.1:"
   ]
  },
  {
   "cell_type": "code",
   "execution_count": null,
   "id": "44235c23",
   "metadata": {
    "solution2": "hidden"
   },
   "outputs": [],
   "source": [
    "/*auto f = Dune::PDELab::makeGridFunctionFromCallable(\n",
    "    gv,\n",
    "    [](const auto& x){\n",
    "        RF s=0.0;\n",
    "        RF t=0.0;\n",
    "        for (std::size_t i=0; i<x.size(); i++){\n",
    "            s+=x[i];\n",
    "            t+=x[i]*x[i]*x[i];\n",
    "        }\n",
    "        return -6*s;\n",
    "    }\n",
    ");;\n",
    "*/"
   ]
  },
  {
   "cell_type": "markdown",
   "id": "tired-brazilian",
   "metadata": {},
   "source": [
    "Next, we will construct the local operator. We include the local operator implementation for P1-conforming finite elements from the file `poissonp1.hh`. You find this file in the `notebooks` folder. After making changes to the file, you need to restart and rerun this notebook."
   ]
  },
  {
   "cell_type": "code",
   "execution_count": null,
   "id": "02ede692",
   "metadata": {},
   "outputs": [],
   "source": [
    "#include \"poissonp1.hh\"\n",
    "\n",
    "using LOP = PoissonP1<decltype(f),FEM>;\n",
    "LOP lop(f, fem.find(*gv.template begin<0>()));"
   ]
  },
  {
   "cell_type": "markdown",
   "id": "9c1df320-002e-422c-b72c-d3930c7f5f1c",
   "metadata": {},
   "source": [
    "This local operator is used as one of the template arguments in the global assembler or grid operator, which additionally requires the types for ansatz and test space, a matrix backend, the types for the components of the coefficient vectors of ansatz and test space and the entries of the matrix *A* and finally the types of the constraints container for test and ansatz space.\n"
   ]
  },
  {
   "cell_type": "code",
   "execution_count": null,
   "id": "55b8435f-34d6-4c0d-ba1e-3c2c7f2e2871",
   "metadata": {},
   "outputs": [],
   "source": [
    "using MBE = Dune::PDELab::ISTL::BCRSMatrixBackend<>;\n",
    "MBE mbe(1<<(dim+1)); // guess nonzeros per row\n",
    "using GO = Dune::PDELab::GridOperator<\n",
    "  GFS,GFS,  /* ansatz and test space */\n",
    "  LOP,      /* local operator */\n",
    "  MBE,      /* matrix backend */\n",
    "  RF,RF,RF, /* domain, range, jacobian field type*/\n",
    "  CC,CC     /* constraints for ansatz and test space */\n",
    "  >;\n",
    "GO go(gfs,cc,gfs,cc,lop,mbe);"
   ]
  },
  {
   "cell_type": "markdown",
   "id": "02b1c2da-d359-439e-ab91-e12e8e456e80",
   "metadata": {},
   "source": [
    "Next, a linear solver for the linear system $Az = b$ is selected. Since ISTL backends for vectors and matrices are used, also a linear solver from the ISTL library is chosen.\n",
    "Complete solvers are packaged by PDELab for sequential and\n",
    "parallel computations. Here we select the conjugate gradient method with algebraic\n",
    "multigrid as preconditioner and symmetric successive overrelaxation as smoother in\n",
    "multigrid in its sequential implementation. The linear solver object `ls` is initialized\n",
    "with the maximum number of iterations and a verbose parameter:"
   ]
  },
  {
   "cell_type": "code",
   "execution_count": null,
   "id": "conscious-wrestling",
   "metadata": {
    "solution2": "hidden",
    "solution2_first": true
   },
   "outputs": [],
   "source": [
    "using LS = Dune::PDELab::ISTLBackend_SEQ_CG_AMG_SSOR<GO>;\n",
    "LS ls(100,2);"
   ]
  },
  {
   "cell_type": "markdown",
   "id": "d5dfd137",
   "metadata": {
    "solution2": "hidden"
   },
   "source": [
    "Different linear iterative solver (exercise 1.3):"
   ]
  },
  {
   "cell_type": "code",
   "execution_count": null,
   "id": "d50644f0",
   "metadata": {
    "solution2": "hidden"
   },
   "outputs": [],
   "source": [
    "// using LS = Dune::PDELab::ISTLBackend_SEQ_BCGS_SSOR;\n",
    "// LS ls(5000,true);"
   ]
  },
  {
   "cell_type": "markdown",
   "id": "3f419111-21a3-4c4c-8bc9-4e22882cd717",
   "metadata": {},
   "source": [
    "So far, no finite element computations have actually been performed, only the\n",
    "necessary components have been configured to now do the real work together. We\n",
    "can now set up the matrix *A* as well as the right hand side *b* and then solve the\n",
    "system. Since this is required often, there is a class in PDELab for this:"
   ]
  },
  {
   "cell_type": "code",
   "execution_count": null,
   "id": "pleasant-cloud",
   "metadata": {
    "tags": []
   },
   "outputs": [],
   "source": [
    "using SLP = Dune::PDELab::StationaryLinearProblemSolver<GO,LS,Z>;\n",
    "SLP slp(go,ls,z,1e-10);\n",
    "slp.apply(); // here all the work is done!"
   ]
  },
  {
   "cell_type": "markdown",
   "id": "90042bdb-b7b1-4225-af95-def12a9c003a",
   "metadata": {},
   "source": [
    "In the given example a problem with a known exact solution, which is given by\n",
    "the function *g* is solved. In order to compare the computed solution with the exact\n",
    "solution we initialize another coeffcient vector with the Lagrange interpolant of the\n",
    "exact solution and provide a grid function:"
   ]
  },
  {
   "cell_type": "code",
   "execution_count": null,
   "id": "approved-compensation",
   "metadata": {
    "tags": []
   },
   "outputs": [],
   "source": [
    "using ZDGF = Dune::PDELab::DiscreteGridFunction<GFS,Z>;\n",
    "ZDGF zdgf(gfs,z);\n",
    "Z w(gfs); // Lagrange interpolation of exact solution\n",
    "Dune::PDELab::interpolate(g,gfs,w);\n",
    "ZDGF wdgf(gfs,w);\n",
    "Dune::VTKWriter<GV> vtkwriter(gv,Dune::VTK::conforming);\n",
    "using VTKF = Dune::PDELab::VTKGridFunctionAdapter<ZDGF>;\n",
    "vtkwriter.addVertexData(std::shared_ptr<VTKF>(new VTKF(zdgf,\"fesol\")));\n",
    "vtkwriter.addVertexData(std::shared_ptr<VTKF>(new VTKF(wdgf,\"exact\")));"
   ]
  },
  {
   "cell_type": "markdown",
   "id": "victorian-heather",
   "metadata": {},
   "source": [
    "The visualization data can be generated in Jupyter by printing the VTKWriter instance:"
   ]
  },
  {
   "cell_type": "code",
   "execution_count": null,
   "id": "chemical-methodology",
   "metadata": {},
   "outputs": [],
   "source": [
    "vtkwriter"
   ]
  },
  {
   "cell_type": "markdown",
   "id": "e9615f6f",
   "metadata": {},
   "source": [
    "# Exercises"
   ]
  },
  {
   "cell_type": "markdown",
   "id": "e994109d",
   "metadata": {},
   "source": [
    "Some comment on how to work through the exercises "
   ]
  },
  {
   "cell_type": "markdown",
   "id": "9d1a511f-04c4-465e-b55a-a38b5a090327",
   "metadata": {
    "tags": []
   },
   "source": [
    "## Exercise 1"
   ]
  },
  {
   "cell_type": "markdown",
   "id": "3cc9d88a",
   "metadata": {},
   "source": [
    "1. **Warming up**\n",
    "\n",
    "   Run the program with different refinement levels. Visualize the solution in ParaView, use the Calculator\n",
    "   filter to visualize the difference $|u-u_h|$ and determine the\n",
    "   maximum error. Note that $u$ and $u_h$ are called `exact` and `fesol` in the paraview output."
   ]
  },
  {
   "cell_type": "markdown",
   "id": "ff23c579-58a7-4d1c-a573-85ebde9034e9",
   "metadata": {
    "tags": []
   },
   "source": [
    "2. **Solving a new problem**\n",
    "\n",
    "   Now consider\n",
    "   \\begin{equation}\n",
    "   f(x) = -\\sum_{i = 1}^{d} 6(x)_i \\quad \\text{and} \\quad g(x) = \\sum_{i = 1}^d(x)_i^2\n",
    "   \\end{equation}\n",
    "   and check that $u(x)=\\sum_{i=1}^d (x)_i^3$ solves the PDE. Implement the new $f$ and $g$ and rerun your program."
   ]
  },
  {
   "cell_type": "markdown",
   "id": "e9401ba6",
   "metadata": {},
   "source": [
    "3. **Analysis of finite element error**:\n",
    "\n",
    "  Produce a sequence of output files for different levels of mesh\n",
    "  refinements $0, 1, 2, \\ldots$ with suitable output\n",
    "  filenames. Visualize the error $|u-u_h|$ in Para\\-View and determine\n",
    "  the maximum error on each level.  If you want you can also try to\n",
    "  calculate the L2-norm of the error in paraview and determine the\n",
    "  convergence rate by hand. In a later exercise you will see how to\n",
    "  calculate the L2-norm directly in the c++ source."
   ]
  },
  {
   "cell_type": "markdown",
   "id": "8cf7b963",
   "metadata": {},
   "source": [
    "## solution"
   ]
  },
  {
   "cell_type": "markdown",
   "id": "379fd8a1",
   "metadata": {},
   "source": [
    "4. **Use a different solver**\n",
    "\n",
    "   You may also try to exchange the iterative linear solver, the lines for the new solver are already given as solution next to the old linear solver. Compare the number of iterations which is given by the following lines\n",
    "  in the output (here we have 12 iterations):\n"
   ]
  },
  {
   "cell_type": "markdown",
   "id": "c0ce433c",
   "metadata": {},
   "source": [
    "=== CGSolver\n",
    "\n",
    "12      1.9016e-09\n",
    "\n",
    "=== rate=0.144679, T=0.02362, TIT=0.00196833, IT=12"
   ]
  },
  {
   "cell_type": "markdown",
   "id": "0807ef80",
   "metadata": {},
   "source": [
    "## solution"
   ]
  },
  {
   "cell_type": "markdown",
   "id": "eb1d3b51",
   "metadata": {},
   "source": [
    "## Exercise 2"
   ]
  },
  {
   "cell_type": "markdown",
   "id": "4b0fbfef",
   "metadata": {},
   "source": [
    "# Further Reading"
   ]
  },
  {
   "cell_type": "markdown",
   "id": "dbb8d3ce-077a-4201-921c-43934da52064",
   "metadata": {},
   "source": [
    "Finite element method:\n",
    "1. K. Eriksson, D. Estep, P. Hansbo and C. Johnson. *Computational Differential Equations*. Cambridge University Press.1996. \n",
    "2. A. Ern and J.-L. Guermond. *Theory and practice of finite element methods*. Springer. 2004.\n",
    "3. P. G. Ciarlet. *The finite element method for elliptic problems*. SIAM. Classics in Applied Mathematics. 2002.\n",
    "4. D. Braess. *Finite Elemente*. Springer. 2003.\n",
    "5. S. C. Brenner and L. R. Scott. *The mathematical theory of finite element methods*. Springer. 1994.\n",
    "6. H. Elman, D. Silvester and A. Wathen.*Finite Elements and Fast Iterative Solvers*. Oxford University Press. 2005.\n",
    "7. C. Großmann and H.-G. Roos. *Numerische Behandlung partieller Differentialgleichungen*. Teubner. 2006.\n",
    "8. W. Hackbusch. *Theorie und Numerik elliptischer Differentialgleichungen*. Teubner. 1986.\n",
    "9. R. Rannacher. *Einführung in die Numerische Mathematik II (Numerik partieller Differentialgleichungen)*. 2006. http://numerik.iwr.uni-heidelberg.de/~lehre/notes.\n",
    "10. P. Bastian. *Lecture Notes on Scientific Computing with Partial Differential Equations*. 2014. https://conan.iwr.uni-heidelberg.de/data/teaching/finiteelements_ws2017/num2.pdf."
   ]
  },
  {
   "cell_type": "code",
   "execution_count": null,
   "id": "57a12eec-c35c-40b8-873f-4361a63a68f1",
   "metadata": {},
   "outputs": [],
   "source": []
  }
 ],
 "metadata": {
  "kernelspec": {
   "display_name": "C++17 (DUNE)",
   "language": "C++17",
   "name": "90f694aa-4041-547e-bba1-934968691da0"
  },
  "language_info": {
   "codemirror_mode": "text/x-c++src",
   "file_extension": ".cpp",
   "mimetype": "text/x-c++src",
   "name": "c++",
   "version": "17"
  },
  "toc-autonumbering": false,
  "toc-showtags": false
 },
 "nbformat": 4,
 "nbformat_minor": 5
}
