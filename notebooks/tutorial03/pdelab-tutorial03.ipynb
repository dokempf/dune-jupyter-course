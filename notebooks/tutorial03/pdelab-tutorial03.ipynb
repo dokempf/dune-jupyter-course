{
 "cells": [
  {
   "cell_type": "markdown",
   "id": "a1039eed",
   "metadata": {},
   "source": [
    "# Tutorial03: "
   ]
  },
  {
   "cell_type": "markdown",
   "id": "eaa60fbd",
   "metadata": {},
   "source": [
    "In this tutorial we extend the elliptic problem from tutorial 01 to the\n",
    "time dependent case. Following the method of lines a general approach to time-dependent\n",
    "problems is presented.\n",
    "This tutorial depends on tutorial 01."
   ]
  },
  {
   "cell_type": "markdown",
   "id": "7a18182b",
   "metadata": {
    "heading_collapsed": true
   },
   "source": [
    "# PDE Problem"
   ]
  },
  {
   "cell_type": "markdown",
   "id": "a108afee",
   "metadata": {
    "hidden": true
   },
   "source": [
    "In this tutorial we consider the following problem:\n",
    "\\begin{align*}\n",
    "\\partial_t u -\\Delta u + q(u) &= f &&\\text{in $\\Omega\\times\\Sigma$},\\\\\n",
    "u &= g &&\\text{on $\\Gamma_D\\subseteq\\partial\\Omega$},\\\\\n",
    "-\\nabla u\\cdot \\nu &= j &&\\text{on $\\Gamma_N=\\partial\\Omega\\setminus\\Gamma_D$},\\\\\n",
    "u &= u_0 &&\\text{at $t=0$}.\n",
    "\\end{align*}\n",
    "This problem is a straightforward extension of the stationary\n",
    "problem solved in tutorial 01.\n",
    "The parameter functions $f$, $g$, $j$ may now also depend on time\n",
    "and (with some restrictions) the subdivision into Dirichlet and Neumann boundary\n",
    "can be time-dependent as well. The initial\n",
    "condition $u_0$ is a function of $x\\in\\Omega$.\n",
    "\n",
    "Multiplying with a test function and integrating in space\n",
    "results in the following weak formulation <font color = 'red'>\\cite{Ern}</font>:\n",
    "Find $u\\in L_2(t_0,t_0+T;u_g+V(t))$:\n",
    "\\begin{equation}\n",
    "\\frac{d}{dt} \\int_\\Omega u v \\,dx+ \\int_\\Omega \\nabla u \\cdot \\nabla v\n",
    "+ q(u) v - f v \\, dx + \\int_{\\Gamma_N} jv \\, ds = 0 \\qquad\n",
    "\\begin{array}{l}\n",
    "\\forall v \\in V(t),\\\\\n",
    "t \\in \\Sigma,\n",
    "\\end{array}\n",
    "\\label{eq:WeakForm}\n",
    "\\end{equation}\n",
    "where $V(t) = \\{v\\in H^1(\\Omega)\\,:\\, \\text{$v=0$ on $\\Gamma_D(t)$}\\}$\n",
    "and $H^1(\\Omega)\\ni u_g(t)|_{\\Gamma_D}=g$. This can be written in a more compact way\n",
    "with residual forms as follows:\n",
    "\\begin{equation*}\n",
    "\\frac{d}{dt} m^{\\text{L2}}(u,v) + r^{\\text{NLP}}(u,v) = 0 \\quad \\forall v \\in V(t), t \\in \\Sigma.\n",
    "\\end{equation*}\n",
    "where\n",
    "\\begin{equation*}\n",
    "m^{\\text{L2}}(u,v) = \\int_\\Omega u v \\,dx\n",
    "\\end{equation*}\n",
    "is the new temporal residual form, actually the $L_2$ inner product, and\n",
    "\\begin{equation*}\n",
    "r^{\\text{NLP}}(u,v) = \\int_\\Omega \\nabla u \\cdot \\nabla v + (q(u)-f)v\\,dx + \\int_{\\Gamma_N} jv\\,ds ,\n",
    "\\end{equation*}\n",
    "is the spatial residual form known from tutorial 01.\n",
    "Under suitable assumptions it can be shown that problem \\eqref{eq:WeakForm} has\n",
    "a unique solution, <font color='red'>see </font>\\cite{Ern} for the linear case."
   ]
  },
  {
   "cell_type": "markdown",
   "id": "01163cca",
   "metadata": {
    "heading_collapsed": true
   },
   "source": [
    "# Finite Element Method"
   ]
  },
  {
   "cell_type": "markdown",
   "id": "1a2fe899",
   "metadata": {
    "hidden": true
   },
   "source": [
    "In order to arrive at a fully discrete formulation we follow the method of lines\n",
    "paradigm:\n",
    "\n",
    "1. Choose a finite-dimensional test space $V_h(t)\\subset V(t)$. Then \\eqref{eq:WeakForm} results in a system of ordinary differential equations for the coefficients $z_j(t)$ in the expansion of $u_h(t)=\\sum_{j=1}^n (z_j(t))_j \\phi_j$.\n",
    "2. Choose an appropriate method to integrate the system of ordinary differential equations (ODEs).\n",
    "\n",
    "The finite-dimensional space we choose here is just the conforming\n",
    "finite element space $V_h^{k,d}(\\mathcal{T}_h,t)$ introduced in tutorial 01.\n",
    "It may now depend also on time due to the time-dependent splitting of the boundary\n",
    "in Dirichlet and Neumann part. Also the function $u_{h,g}(t)$ depends on time\n",
    "and we have $u_h(t)\\in U_h(t) = u_{h,g}(t) + V_h(t)$.\n",
    "\n",
    "For the integration of the system of ODEs, subdivide the time interval into\n",
    "not necessarily equidistant subintervals:\n",
    "\\begin{equation*}\n",
    "\\overline{\\Sigma} = \\{t^{0}\\} \\cup (t^0,t^1] \\cup \\ldots \\cup (t^{N-1},t^N]\n",
    "\\end{equation*}\n",
    "with $t^0=t_0$, $t^N=t_0+T$, $t^{k-1}<t^k$ for $1\\leq k\\leq N$ and\n",
    "set  the time step to $\\Delta t^k=t^{k+1}-t^k$.\n",
    "\n",
    "One of the simplest ODE integrators is\n",
    "the one-step-$\\theta$ rule which reads:\n",
    "\\begin{equation}\n",
    "\\label{Eq:InstationaryProblem}\n",
    "\\begin{split}\n",
    "&\\text{Find $u_h^{k+1}\\in U_h(t^{k+1})$ s.t.:}\n",
    "\\ \\frac{1}{\\Delta t_k}(m_h^\\text{L2}(u_h^{k+1},v;t^{k+1})-m_h^\\text{L2}(u_h^{k},v;t^{k})) + \\\\\n",
    "&\\hspace{25mm}\\theta r_h^\\text{NLP}(u_h^{k+1},v;t^{k+1}) + (1-\\theta) r_h^\\text{NLP}(u_h^{k},v;t^{k}) = 0\n",
    "\\quad \\forall v\\in V_h(t^{k+1}).\n",
    "\\end{split}\n",
    "\\end{equation}\n",
    "\n",
    "Reordering terms shows that this method results in the solution\n",
    "of a nonlinear system per time step which has the same structure as before:\n",
    "\\begin{equation*}\n",
    "\\text{Find $u_h^{k+1}\\in U_h(t^{k+1})$ s.t.:}\n",
    "\\quad r_h^{\\theta,k} (u_h^{k+1},v) + s_h^{\\theta,k}(v) = 0\n",
    "\\quad \\forall v\\in V_h(t^{k+1}).\n",
    "\\end{equation*}\n",
    "where\n",
    "\\begin{align*}\n",
    "r^{\\theta,k}_h(u,v) &= m_h^\\text{L2}(u,v;t^{k+1})+\\Delta t^k \\theta r_h^\\text{NLP}(u,v;t^{k+1}) ,\\\\\n",
    "s^{\\theta,k}_h(v) &= -m_h^\\text{L2}(u^k_h,v;t^k) + \\Delta t^k (1-\\theta) r_h^\\text{NLP}(u_h^k,v;t^k) .\n",
    "\\end{align*}\n",
    "Implementation-wise the new residual form is comprised of a linear combination\n",
    "of temporal and spatial residual forms.\n",
    "\n",
    "The one step $\\theta$ method results in the implicit Euler method for $\\theta=1$,\n",
    "the Crank-Nicolson method for $\\theta=1/2$ and the explicit Euler method for $\\theta=0$.\n",
    "A large number of alternative methods are possible. In particular the class of\n",
    "Runge-Kutta methods is introduced below."
   ]
  },
  {
   "cell_type": "markdown",
   "id": "897a57e7",
   "metadata": {
    "hidden": true
   },
   "source": [
    "## Runge-Kutta Methods in Shu-Osher Form"
   ]
  },
  {
   "cell_type": "markdown",
   "id": "0a74704a",
   "metadata": {
    "hidden": true
   },
   "source": [
    "For the temporal and spatial residual forms $m_h$ and $r_h$, Runge-Kutta\n",
    "methods can be written in the Shu-Osher form\n",
    "<font color = 'red'> \\cite{shu_osher_88,gottlieb2011strong} </font>:\n",
    "\n",
    "\n",
    "1. $u_h^{(0)} = u_h^{k}$.\n",
    "2. For $i=1,\\ldots,s\\in\\mathbb{N}$, find $u_h^{(i)}\\in u_{h,g}(t^k+d_i \\Delta t^k)\n",
    "    + V_h(t^{k+1})$:\n",
    "\\begin{equation*}\n",
    "\\begin{split}\n",
    "\\sum\\limits_{j=0}^{s} \\biggl[a_{ij} m_h&\\left(u_h^{(j)},v;t^k+d_j \\Delta t^k\\right) \\\\\n",
    "&\\qquad + b_{ij} \\Delta t^k r_h\\left(u_h^{(j)}, v;t^k+d_j \\Delta t^k\\right) \\biggr] = 0\n",
    "\\qquad \\forall v\\in V_h(t^{k+1}).\n",
    "\\end{split}\n",
    "\\end{equation*}\n",
    "3. $u_h^{k+1} = u_h^{(s)}$.\n",
    "\n",
    "Here we assume that the same type of boundary condition\n",
    "holds through the interval $(t^k,t^{k+1}]$. The parameter $s$ denotes\n",
    "the number of stages of the scheme.\n",
    "An $s$-stage scheme is given by the parameters\n",
    "\\begin{equation*}\n",
    "A = \\left[\\begin{array}{ccc}\n",
    "a_{10} & \\ldots & a_{1s}\\\\\n",
    "\\vdots &  & \\vdots\\\\\n",
    "a_{s0} & \\ldots & a_{ss}\n",
    "\\end{array}\\right],\n",
    "\\quad B = \\left[\\begin{array}{ccc}\n",
    "b_{10} & \\ldots & b_{1s}\\\\\n",
    "\\vdots &  & \\vdots\\\\\n",
    "b_{s0} & \\ldots & b_{ss}\n",
    "\\end{array}\\right],\n",
    "\\quad d = \\left(\n",
    "d_{0}, \\ldots, d_{s}\n",
    "\\right)^T.\n",
    "\\end{equation*}\n",
    "*Explicit* schemes are characterized by $a_{ij} = 0$ for $j>i$ and $b_{ij}=0$ for $j\\geq i$.\n",
    "*Diagonally implicit* schemes are characterized by $a_{ij} = b_{ij}= 0$ for $j>i$.\n",
    "Fully implicit schemes where $A$ and $B$ are full are not considered in PDELab.\n",
    "Without loss of generality it can be assumed that $a_{ii}=1$. Moreover,\n",
    "some diagonally implicit schemes, in particular all those implemented in PDELab right\n",
    "now, satisfy $b_{ii}=b\\,\\forall i$. This means that in case of a linear problem the matrix is the\n",
    "same in all steps and needs to be assembled only once.\n",
    "PDELab allows you to add new schemes by specifying $A$, $B$ and $d$.\n",
    "All explicit Runge-Kutta methods and most implicit Runge-Kutta methods\n",
    "can be brought to the Shu-Osher form.\n",
    "Some examples are:\n",
    "\n",
    "\n",
    " - One step $\\theta$ scheme (introduced above):\n",
    "\\begin{equation*}\n",
    "A = \\left[\\begin{array}{cc}\n",
    "-1 & 1\n",
    "\\end{array}\\right],\n",
    "\\quad B = \\left[\\begin{array}{cc}\n",
    "1-\\theta & \\theta\n",
    "\\end{array}\\right],\n",
    "\\quad d = \\left(\n",
    "0, 1\n",
    "\\right)^T.\n",
    "\\end{equation*}\n",
    "Explicit/implicit Euler ($\\theta\\in\\{0,1\\}$), Crank-Nicolson ($\\theta=1/2$).\n",
    " -  Heun's second order explicit method\n",
    "\\begin{equation*}\n",
    "A = \\left[\\begin{array}{ccc}\n",
    "-1 & 1 & 0\\\\\n",
    "-1/2 & -1/2 & 1\\\\\n",
    "\\end{array}\\right],\n",
    "\\quad B = \\left[\\begin{array}{ccc}\n",
    "1 & 0 & 0\\\\\n",
    "0 & 1/2 & 0\\\\\n",
    "\\end{array}\\right],\n",
    "\\quad d = \\left(\n",
    "0, 1, 1\n",
    "\\right)^T.\n",
    "\\end{equation*}\n",
    " -  Alexander's two-stage second order strongly S-stable method \\cite{alexander:77}:\n",
    "\\begin{equation*}\n",
    "A = \\left[\\begin{array}{ccc}\n",
    "-1 & 1 & 0\\\\\n",
    "-1 & 0 & 1\\\\\n",
    "\\end{array}\\right],\n",
    "\\quad B = \\left[\\begin{array}{ccc}\n",
    "0 & \\alpha     & 0\\\\\n",
    "0 & 1-\\alpha & \\alpha\\\\\n",
    "\\end{array}\\right],\n",
    "\\quad d = \\left(\n",
    "0, \\alpha, 1\n",
    "\\right)^T\n",
    "\\end{equation*}\n",
    "with $\\alpha=1-\\sqrt{2}/{2}$.\n",
    " -  Fractional step $\\theta$ \\cite{Meidner201545}, three stage second order strongly A-stable scheme:\n",
    "\\begin{equation*}\n",
    "A = \\left[\\begin{array}{rrrr}\n",
    "-1 & 1 & 0 & 0\\\\\n",
    "0  & -1 & 1 & 0\\\\\n",
    "0  & 0 & -1 & 1\\\\\n",
    "\\end{array}\\right],\n",
    "\\quad B = \\left[\\begin{array}{rrrr}\n",
    "\\theta (1-\\alpha) & \\theta\\alpha & 0 & 0\\\\\n",
    "0 & \\theta'\\alpha & \\theta' (1-\\alpha) & 0\\\\\n",
    "0 & 0 & \\theta(1-\\alpha) & \\theta\\alpha\n",
    "\\end{array}\\right],\n",
    "\\quad d = \\left(\n",
    "0, \\theta, 1-\\theta, 1\n",
    "\\right)^T\n",
    "\\end{equation*}\n",
    "with $\\theta=1-\\sqrt{2}/{2}$, $\\alpha=2\\theta$, $\\theta' = 1-2\\theta = 1-\\alpha = \\sqrt{2}-1$.\n",
    "Note also that $\\theta\\alpha= \\theta' (1-\\alpha) = 2\\theta^2$.\n"
   ]
  },
  {
   "cell_type": "markdown",
   "id": "561b9b2e",
   "metadata": {
    "hidden": true
   },
   "source": [
    "## Explicit Time Stepping Schemes"
   ]
  },
  {
   "cell_type": "markdown",
   "id": "5b85f05a",
   "metadata": {
    "hidden": true
   },
   "source": [
    "Considering the case of the explicit Euler method ($\\theta=0$) in \\eqref{Eq:InstationaryProblem}\n",
    "results in the problem: Find $u_h^{k+1}\\in U_h(t^{k+1})$ s.t.:\n",
    "\\begin{equation*}\n",
    " m_h^\\text{L2}(u_h^{k+1},v;t)-m_h^\\text{L2}(u_h^{k},v;t) +\n",
    "\\Delta t^k r_h^\\text{NLP}(u_h^{k},v;t) = 0\n",
    "\\quad \\forall v\\in V_h(t^{k+1}).\n",
    "\\end{equation*}\n",
    "For certain spatial schemes, e.g. finite volume or discontinuous Galerkin,\n",
    "and exploiting that $m_h^\\text{L2}$ is bilinear, the corresponding algebraic system\n",
    "to be solved is (block-) diagonal:\n",
    "\\begin{equation}\n",
    "Dz^{k+1} = s^k - \\Delta t^k q^k.\n",
    "\\end{equation}\n",
    "Moreover, a stability condition restricting the time step $\\Delta t^k$\n",
    "has to be obeyed. The maximum allowable time step can be computed\n",
    "explicitly for the simplest schemes and depends on the mesh $\\mathcal{T}_h$.\n",
    "For explicit time-stepping schemes therefore the following algorithm is employed:\n",
    "1. While traversing the mesh assemble the vectors $s^k$ and\n",
    "$q^k$ separately and compute the maximum time step $\\Delta t^k$.\n",
    "2. Form the right hand side $b^k=s^k - \\Delta t^k q^k$ and ``solve'' the\n",
    "diagonal system $Dz^{k+1} = b^k$ (can be done in one step).\n",
    "\n",
    "This procedure can be applied also to more general time-stepping schemes\n",
    "such as strong stability preserving Runge-Kutta methods <font color='red'>\\cite{shu:88} </font>."
   ]
  },
  {
   "cell_type": "markdown",
   "id": "65b714bb",
   "metadata": {},
   "source": [
    "# Realization in PDELab"
   ]
  },
  {
   "cell_type": "code",
   "execution_count": null,
   "id": "68c631c5",
   "metadata": {},
   "outputs": [],
   "source": []
  },
  {
   "cell_type": "markdown",
   "id": "2a85ba1d",
   "metadata": {},
   "source": [
    "## Parameter Class in `problem.hh`"
   ]
  },
  {
   "cell_type": "markdown",
   "id": "5a4b4869",
   "metadata": {},
   "source": [
    "The parameter class provides all data of the PDE problem: Coefficient functions,\n",
    "boundary and initial conditions. They all may depend on time now in comparison to tutorial 01.\n",
    "In order to pass the time argument there are at least two options:\n",
    "\n",
    "1. Extend the interface of all methods by an additional time\n",
    "argument.\n",
    "2. Pass the evaluation time via a separate function and store the\n",
    "time in a private data member for subsequent spatial evaluations.\n",
    "\n",
    "The second approach is taken in PDELab as it allows the reuse\n",
    "of classes from the stationary case. Interfaces of methods are not changed\n",
    "and only an additional method needs to be provided.\n",
    "This new method on the class `Problem` has the following implementation:\n",
    "```c++ \n",
    "//! Set time in instationary case\n",
    "void setTime (Number t_)\n",
    "{\n",
    "  t = t_;\n",
    "}\n",
    "```\n",
    "The method just stores the given time in an internal data member.\n",
    "\n",
    "The use of the time is shown by the Dirichlet boundary condition\n",
    "extension method implementing the function\n",
    "$u_g(x,t) = \\sin(2\\pi t)*\\prod_{i=1}^{d-1} \\sin^2(\\pi x_i)\\sin^2(10\\pi x_i)$:\n",
    "\n",
    "```c++\n",
    "template<typename E, typename X>\n",
    "Number g (const E& e, const X& x) const\n",
    "{\n",
    "  auto global = e.geometry().global(x);\n",
    "  Number s=sin(2.0*M_PI*t);\n",
    "  for (std::size_t i=1; i<global.size(); i++)\n",
    "    s*=sin(global[i]*M_PI)*sin(global[i]*M_PI);\n",
    "  for (std::size_t i=1; i<global.size(); i++)\n",
    "    s*=sin(10*global[i]*M_PI)*sin(10*global[i]*M_PI);\n",
    "  return s;\n",
    " }\n",
    "```\n",
    "Note that there is no extra method for the initial condition. The method `g` is assumed to provide the initial condition for the initial time."
   ]
  },
  {
   "cell_type": "markdown",
   "id": "03d4afbd",
   "metadata": {},
   "source": [
    "# WIP Driver"
   ]
  },
  {
   "cell_type": "markdown",
   "id": "36314841",
   "metadata": {},
   "source": [
    "We now go through the changes which are due to instationarity. The first change concerns the initialization of simulation time and set-up of the parameter object:"
   ]
  },
  {
   "cell_type": "code",
   "execution_count": null,
   "id": "9cf224fb",
   "metadata": {},
   "outputs": [],
   "source": []
  }
 ],
 "metadata": {
  "kernelspec": {
   "display_name": "C++17 (DUNE)",
   "language": "C++17",
   "name": "90f694aa-4041-547e-bba1-934968691da0"
  },
  "language_info": {
   "codemirror_mode": "text/x-c++src",
   "file_extension": ".cpp",
   "mimetype": "text/x-c++src",
   "name": "c++",
   "version": "17"
  },
  "toc": {
   "base_numbering": 1,
   "nav_menu": {},
   "number_sections": true,
   "sideBar": true,
   "skip_h1_title": false,
   "title_cell": "Table of Contents",
   "title_sidebar": "Contents",
   "toc_cell": false,
   "toc_position": {},
   "toc_section_display": true,
   "toc_window_display": false
  }
 },
 "nbformat": 4,
 "nbformat_minor": 5
}
