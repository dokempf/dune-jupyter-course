{
 "cells": [
  {
   "cell_type": "markdown",
   "id": "a1039eed",
   "metadata": {},
   "source": [
    "# Instationary Parabolic Equations"
   ]
  },
  {
   "cell_type": "markdown",
   "id": "eaa60fbd",
   "metadata": {},
   "source": [
    "In this tutorial we extend the elliptic problem from tutorial 01 to the\n",
    "time dependent case. Following the method of lines a general approach to time-dependent\n",
    "problems is presented.\n",
    "This tutorial depends on tutorial 01."
   ]
  },
  {
   "cell_type": "markdown",
   "id": "7a18182b",
   "metadata": {},
   "source": [
    "# PDE Problem"
   ]
  },
  {
   "cell_type": "markdown",
   "id": "a108afee",
   "metadata": {},
   "source": [
    "In this tutorial we consider the following problem:\n",
    "\\begin{align}\\label{equ:problem}\n",
    "\\partial_t u -\\Delta u + q(u) &= f &&\\text{in $\\Omega\\times\\Sigma$},\\\\\n",
    "u &= g &&\\text{on $\\Gamma_D\\subseteq\\partial\\Omega$},\\\\\n",
    "-\\nabla u\\cdot \\nu &= j &&\\text{on $\\Gamma_N=\\partial\\Omega\\setminus\\Gamma_D$},\\\\\n",
    "u &= u_0 &&\\text{at $t=0$}. \\label{equ:problemEnd}\n",
    "\\end{align}\n",
    "This problem is a straightforward extension of the stationary\n",
    "problem solved in tutorial 01.\n",
    "The parameter functions $f$, $g$, $j$ may now also depend on time\n",
    "and (with some restrictions) the subdivision into Dirichlet and Neumann boundary\n",
    "can be time-dependent as well. The initial\n",
    "condition $u_0$ is a function of $x\\in\\Omega$.\n",
    "\n",
    "Multiplying with a test function and integrating in space\n",
    "results in the following weak formulation [[8]](#ern):\n",
    "Find $u\\in L_2(t_0,t_0+T;u_g+V(t))$:\n",
    "\\begin{equation}\n",
    "\\frac{d}{dt} \\int_\\Omega u v \\,dx+ \\int_\\Omega \\nabla u \\cdot \\nabla v\n",
    "+ q(u) v - f v \\, dx + \\int_{\\Gamma_N} jv \\, ds = 0 \\qquad\n",
    "\\begin{array}{l}\n",
    "\\forall v \\in V(t),\\\\\n",
    "t \\in \\Sigma,\n",
    "\\end{array}\n",
    "\\label{eq:WeakForm}\n",
    "\\end{equation}\n",
    "where $V(t) = \\{v\\in H^1(\\Omega)\\,:\\, \\text{$v=0$ on $\\Gamma_D(t)$}\\}$\n",
    "and $H^1(\\Omega)\\ni u_g(t)|_{\\Gamma_D}=g$. This can be written in a more compact way\n",
    "with residual forms as follows:\n",
    "\\begin{equation*}\n",
    "\\frac{d}{dt} m^{\\text{L2}}(u,v) + r^{\\text{NLP}}(u,v) = 0 \\quad \\forall v \\in V(t), t \\in \\Sigma.\n",
    "\\end{equation*}\n",
    "where\n",
    "\\begin{equation*}\n",
    "m^{\\text{L2}}(u,v) = \\int_\\Omega u v \\,dx\n",
    "\\end{equation*}\n",
    "is the new temporal residual form, actually the $L_2$ inner product, and\n",
    "\\begin{equation*}\n",
    "r^{\\text{NLP}}(u,v) = \\int_\\Omega \\nabla u \\cdot \\nabla v + (q(u)-f)v\\,dx + \\int_{\\Gamma_N} jv\\,ds ,\n",
    "\\end{equation*}\n",
    "is the spatial residual form known from tutorial 01.\n",
    "Under suitable assumptions it can be shown that problem \\eqref{eq:WeakForm} has\n",
    "a unique solution, [[8]](#ern) for the linear case."
   ]
  },
  {
   "cell_type": "markdown",
   "id": "01163cca",
   "metadata": {},
   "source": [
    "# Finite Element Method"
   ]
  },
  {
   "cell_type": "markdown",
   "id": "1a2fe899",
   "metadata": {},
   "source": [
    "In order to arrive at a fully discrete formulation we follow the method of lines\n",
    "paradigm:\n",
    "\n",
    "1. Choose a finite-dimensional test space $V_h(t)\\subset V(t)$. Then \\eqref{eq:WeakForm} results in a system of ordinary differential equations for the coefficients $z_j(t)$ in the expansion of $u_h(t)=\\sum_{j=1}^n (z_j(t))_j \\phi_j$.\n",
    "2. Choose an appropriate method to integrate the system of ordinary differential equations (ODEs).\n",
    "\n",
    "The finite-dimensional space we choose here is just the conforming\n",
    "finite element space $V_h^{k,d}(\\mathcal{T}_h,t)$ introduced in tutorial 01.\n",
    "It may now depend also on time due to the time-dependent splitting of the boundary\n",
    "in Dirichlet and Neumann part. Also the function $u_{h,g}(t)$ depends on time\n",
    "and we have $u_h(t)\\in U_h(t) = u_{h,g}(t) + V_h(t)$.\n",
    "\n",
    "For the integration of the system of ODEs, subdivide the time interval into\n",
    "not necessarily equidistant subintervals:\n",
    "\\begin{equation*}\n",
    "\\overline{\\Sigma} = \\{t^{0}\\} \\cup (t^0,t^1] \\cup \\ldots \\cup (t^{N-1},t^N]\n",
    "\\end{equation*}\n",
    "with $t^0=t_0$, $t^N=t_0+T$, $t^{k-1}<t^k$ for $1\\leq k\\leq N$ and\n",
    "set  the time step to $\\Delta t^k=t^{k+1}-t^k$.\n",
    "\n",
    "One of the simplest ODE integrators is\n",
    "the one-step-$\\theta$ rule which reads:\n",
    "\\begin{equation}\n",
    "\\label{Eq:InstationaryProblem}\n",
    "\\begin{split}\n",
    "&\\text{Find $u_h^{k+1}\\in U_h(t^{k+1})$ s.t.:}\n",
    "\\ \\frac{1}{\\Delta t_k}(m_h^\\text{L2}(u_h^{k+1},v;t^{k+1})-m_h^\\text{L2}(u_h^{k},v;t^{k})) + \\\\\n",
    "&\\hspace{25mm}\\theta r_h^\\text{NLP}(u_h^{k+1},v;t^{k+1}) + (1-\\theta) r_h^\\text{NLP}(u_h^{k},v;t^{k}) = 0\n",
    "\\quad \\forall v\\in V_h(t^{k+1}).\n",
    "\\end{split}\n",
    "\\end{equation}\n",
    "\n",
    "Reordering terms shows that this method results in the solution\n",
    "of a nonlinear system per time step which has the same structure as before:\n",
    "\\begin{equation*}\n",
    "\\text{Find $u_h^{k+1}\\in U_h(t^{k+1})$ s.t.:}\n",
    "\\quad r_h^{\\theta,k} (u_h^{k+1},v) + s_h^{\\theta,k}(v) = 0\n",
    "\\quad \\forall v\\in V_h(t^{k+1}).\n",
    "\\end{equation*}\n",
    "where\n",
    "\\begin{align*}\n",
    "r^{\\theta,k}_h(u,v) &= m_h^\\text{L2}(u,v;t^{k+1})+\\Delta t^k \\theta r_h^\\text{NLP}(u,v;t^{k+1}) ,\\\\\n",
    "s^{\\theta,k}_h(v) &= -m_h^\\text{L2}(u^k_h,v;t^k) + \\Delta t^k (1-\\theta) r_h^\\text{NLP}(u_h^k,v;t^k) .\n",
    "\\end{align*}\n",
    "Implementation-wise the new residual form is comprised of a linear combination\n",
    "of temporal and spatial residual forms.\n",
    "\n",
    "The one step $\\theta$ method results in the implicit Euler method for $\\theta=1$,\n",
    "the Crank-Nicolson method for $\\theta=1/2$ and the explicit Euler method for $\\theta=0$.\n",
    "A large number of alternative methods are possible. In particular the class of\n",
    "Runge-Kutta methods is introduced below."
   ]
  },
  {
   "cell_type": "markdown",
   "id": "897a57e7",
   "metadata": {},
   "source": [
    "## Runge-Kutta Methods in Shu-Osher Form"
   ]
  },
  {
   "cell_type": "markdown",
   "id": "0a74704a",
   "metadata": {},
   "source": [
    "For the temporal and spatial residual forms $m_h$ and $r_h$, Runge-Kutta\n",
    "methods can be written in the Shu-Osher form ([[9]](#ShuOsher88),[[10]](#gottlieb11)):\n",
    "\n",
    "\n",
    "1. $u_h^{(0)} = u_h^{k}$.\n",
    "2. For $i=1,\\ldots,s\\in\\mathbb{N}$, find $u_h^{(i)}\\in u_{h,g}(t^k+d_i \\Delta t^k)\n",
    "    + V_h(t^{k+1})$:\n",
    "\\begin{equation*}\n",
    "\\begin{split}\n",
    "\\sum\\limits_{j=0}^{s} \\biggl[a_{ij} m_h&\\left(u_h^{(j)},v;t^k+d_j \\Delta t^k\\right) \\\\\n",
    "&\\qquad + b_{ij} \\Delta t^k r_h\\left(u_h^{(j)}, v;t^k+d_j \\Delta t^k\\right) \\biggr] = 0\n",
    "\\qquad \\forall v\\in V_h(t^{k+1}).\n",
    "\\end{split}\n",
    "\\end{equation*}\n",
    "3. $u_h^{k+1} = u_h^{(s)}$.\n",
    "\n",
    "Here we assume that the same type of boundary condition\n",
    "holds through the interval $(t^k,t^{k+1}]$. The parameter $s$ denotes\n",
    "the number of stages of the scheme.\n",
    "An $s$-stage scheme is given by the parameters\n",
    "\\begin{equation*}\n",
    "A = \\left[\\begin{array}{ccc}\n",
    "a_{10} & \\ldots & a_{1s}\\\\\n",
    "\\vdots &  & \\vdots\\\\\n",
    "a_{s0} & \\ldots & a_{ss}\n",
    "\\end{array}\\right],\n",
    "\\quad B = \\left[\\begin{array}{ccc}\n",
    "b_{10} & \\ldots & b_{1s}\\\\\n",
    "\\vdots &  & \\vdots\\\\\n",
    "b_{s0} & \\ldots & b_{ss}\n",
    "\\end{array}\\right],\n",
    "\\quad d = \\left(\n",
    "d_{0}, \\ldots, d_{s}\n",
    "\\right)^T.\n",
    "\\end{equation*}\n",
    "*Explicit* schemes are characterized by $a_{ij} = 0$ for $j>i$ and $b_{ij}=0$ for $j\\geq i$.\n",
    "*Diagonally implicit* schemes are characterized by $a_{ij} = b_{ij}= 0$ for $j>i$.\n",
    "Fully implicit schemes where $A$ and $B$ are full are not considered in PDELab.\n",
    "Without loss of generality it can be assumed that $a_{ii}=1$. Moreover,\n",
    "some diagonally implicit schemes, in particular all those implemented in PDELab right\n",
    "now, satisfy $b_{ii}=b\\,\\forall i$. This means that in case of a linear problem the matrix is the\n",
    "same in all steps and needs to be assembled only once.\n",
    "PDELab allows you to add new schemes by specifying $A$, $B$ and $d$.\n",
    "All explicit Runge-Kutta methods and most implicit Runge-Kutta methods\n",
    "can be brought to the Shu-Osher form.\n",
    "Some examples are:\n",
    "\n",
    "\n",
    " - One step $\\theta$ scheme (introduced above):\n",
    "\\begin{equation*}\n",
    "A = \\left[\\begin{array}{cc}\n",
    "-1 & 1\n",
    "\\end{array}\\right],\n",
    "\\quad B = \\left[\\begin{array}{cc}\n",
    "1-\\theta & \\theta\n",
    "\\end{array}\\right],\n",
    "\\quad d = \\left(\n",
    "0, 1\n",
    "\\right)^T.\n",
    "\\end{equation*}\n",
    "Explicit/implicit Euler ($\\theta\\in\\{0,1\\}$), Crank-Nicolson ($\\theta=1/2$).\n",
    " -  Heun's second order explicit method\n",
    "\\begin{equation*}\n",
    "A = \\left[\\begin{array}{ccc}\n",
    "-1 & 1 & 0\\\\\n",
    "-1/2 & -1/2 & 1\\\\\n",
    "\\end{array}\\right],\n",
    "\\quad B = \\left[\\begin{array}{ccc}\n",
    "1 & 0 & 0\\\\\n",
    "0 & 1/2 & 0\\\\\n",
    "\\end{array}\\right],\n",
    "\\quad d = \\left(\n",
    "0, 1, 1\n",
    "\\right)^T.\n",
    "\\end{equation*}\n",
    " -  Alexander's two-stage second order strongly S-stable method \\cite{alexander:77}:\n",
    "\\begin{equation*}\n",
    "A = \\left[\\begin{array}{ccc}\n",
    "-1 & 1 & 0\\\\\n",
    "-1 & 0 & 1\\\\\n",
    "\\end{array}\\right],\n",
    "\\quad B = \\left[\\begin{array}{ccc}\n",
    "0 & \\alpha     & 0\\\\\n",
    "0 & 1-\\alpha & \\alpha\\\\\n",
    "\\end{array}\\right],\n",
    "\\quad d = \\left(\n",
    "0, \\alpha, 1\n",
    "\\right)^T\n",
    "\\end{equation*}\n",
    "with $\\alpha=1-\\sqrt{2}/{2}$.\n",
    " -  Fractional step $\\theta$ \\cite{Meidner201545}, three stage second order strongly A-stable scheme:\n",
    "\\begin{equation*}\n",
    "A = \\left[\\begin{array}{rrrr}\n",
    "-1 & 1 & 0 & 0\\\\\n",
    "0  & -1 & 1 & 0\\\\\n",
    "0  & 0 & -1 & 1\\\\\n",
    "\\end{array}\\right],\n",
    "\\quad B = \\left[\\begin{array}{rrrr}\n",
    "\\theta (1-\\alpha) & \\theta\\alpha & 0 & 0\\\\\n",
    "0 & \\theta'\\alpha & \\theta' (1-\\alpha) & 0\\\\\n",
    "0 & 0 & \\theta(1-\\alpha) & \\theta\\alpha\n",
    "\\end{array}\\right],\n",
    "\\quad d = \\left(\n",
    "0, \\theta, 1-\\theta, 1\n",
    "\\right)^T\n",
    "\\end{equation*}\n",
    "with $\\theta=1-\\sqrt{2}/{2}$, $\\alpha=2\\theta$, $\\theta' = 1-2\\theta = 1-\\alpha = \\sqrt{2}-1$.\n",
    "Note also that $\\theta\\alpha= \\theta' (1-\\alpha) = 2\\theta^2$.\n"
   ]
  },
  {
   "cell_type": "markdown",
   "id": "561b9b2e",
   "metadata": {},
   "source": [
    "## Explicit Time Stepping Schemes"
   ]
  },
  {
   "cell_type": "markdown",
   "id": "5b85f05a",
   "metadata": {},
   "source": [
    "Considering the case of the explicit Euler method ($\\theta=0$) in \\eqref{Eq:InstationaryProblem}\n",
    "results in the problem: Find $u_h^{k+1}\\in U_h(t^{k+1})$ s.t.:\n",
    "\\begin{equation*}\n",
    " m_h^\\text{L2}(u_h^{k+1},v;t)-m_h^\\text{L2}(u_h^{k},v;t) +\n",
    "\\Delta t^k r_h^\\text{NLP}(u_h^{k},v;t) = 0\n",
    "\\quad \\forall v\\in V_h(t^{k+1}).\n",
    "\\end{equation*}\n",
    "For certain spatial schemes, e.g. finite volume or discontinuous Galerkin,\n",
    "and exploiting that $m_h^\\text{L2}$ is bilinear, the corresponding algebraic system\n",
    "to be solved is (block-) diagonal:\n",
    "\\begin{equation}\n",
    "Dz^{k+1} = s^k - \\Delta t^k q^k.\n",
    "\\end{equation}\n",
    "Moreover, a stability condition restricting the time step $\\Delta t^k$\n",
    "has to be obeyed. The maximum allowable time step can be computed\n",
    "explicitly for the simplest schemes and depends on the mesh $\\mathcal{T}_h$.\n",
    "For explicit time-stepping schemes therefore the following algorithm is employed:\n",
    "1. While traversing the mesh assemble the vectors $s^k$ and\n",
    "$q^k$ separately and compute the maximum time step $\\Delta t^k$.\n",
    "2. Form the right hand side $b^k=s^k - \\Delta t^k q^k$ and ``solve'' the\n",
    "diagonal system $Dz^{k+1} = b^k$ (can be done in one step).\n",
    "\n",
    "This procedure can be applied also to more general time-stepping schemes\n",
    "such as strong stability preserving Runge-Kutta methods [[16]](#Shu)."
   ]
  },
  {
   "cell_type": "markdown",
   "id": "65b714bb",
   "metadata": {},
   "source": [
    "# Realization in PDELab"
   ]
  },
  {
   "cell_type": "markdown",
   "id": "2a85ba1d",
   "metadata": {},
   "source": [
    "## Parameter Class in `problem.hh`"
   ]
  },
  {
   "cell_type": "markdown",
   "id": "5a4b4869",
   "metadata": {},
   "source": [
    "The parameter class provides all data of the PDE problem: Coefficient functions,\n",
    "boundary and initial conditions. They all may depend on time now in comparison to tutorial 01.\n",
    "In order to pass the time argument there are at least two options:\n",
    "\n",
    "1. Extend the interface of all methods by an additional time\n",
    "argument.\n",
    "2. Pass the evaluation time via a separate function and store the\n",
    "time in a private data member for subsequent spatial evaluations.\n",
    "\n",
    "The second approach is taken in PDELab as it allows the reuse\n",
    "of classes from the stationary case. Interfaces of methods are not changed\n",
    "and only an additional method needs to be provided.\n",
    "This new method on the class `Problem` has the following implementation:\n",
    "```c++ \n",
    "//! Set time in instationary case\n",
    "void setTime (Number t_)\n",
    "{\n",
    "  t = t_;\n",
    "}\n",
    "```\n",
    "The method just stores the given time in an internal data member.\n",
    "\n",
    "The use of the time is shown by the Dirichlet boundary condition\n",
    "extension method implementing the function\n",
    "$u_g(x,t) = \\sin(2\\pi t)*\\prod_{i=1}^{d-1} \\sin^2(\\pi x_i)\\sin^2(10\\pi x_i)$:\n",
    "\n",
    "```c++\n",
    "template<typename E, typename X>\n",
    "Number g (const E& e, const X& x) const\n",
    "{\n",
    "  auto global = e.geometry().global(x);\n",
    "  Number s=sin(2.0*M_PI*t);\n",
    "  for (std::size_t i=1; i<global.size(); i++)\n",
    "    s*=sin(global[i]*M_PI)*sin(global[i]*M_PI);\n",
    "  for (std::size_t i=1; i<global.size(); i++)\n",
    "    s*=sin(10*global[i]*M_PI)*sin(10*global[i]*M_PI);\n",
    "  return s;\n",
    " }\n",
    "```\n",
    "Note that there is no extra method for the initial condition. The method `g` is assumed to provide the initial condition for the initial time."
   ]
  },
  {
   "cell_type": "markdown",
   "id": "5626ffb5",
   "metadata": {},
   "source": [
    "## Instantiating grid"
   ]
  },
  {
   "cell_type": "code",
   "execution_count": null,
   "id": "e972676c",
   "metadata": {},
   "outputs": [],
   "source": [
    "#include <dune/jupyter.hh>\n",
    "#include \"nonlinearheatfem.hh\"\n",
    "#include \"problem.hh\"\n",
    "#include <sys/stat.h>"
   ]
  },
  {
   "cell_type": "code",
   "execution_count": null,
   "id": "b6532717",
   "metadata": {},
   "outputs": [],
   "source": [
    "const int dim = 2;\n",
    "const int degree = 1;\n",
    "using RF = double; "
   ]
  },
  {
   "cell_type": "code",
   "execution_count": null,
   "id": "24c969fd",
   "metadata": {},
   "outputs": [],
   "source": [
    "Dune::ParameterTree ptree;\n",
    "Dune::ParameterTreeParser ptreeparser;\n",
    "ptreeparser.readINITree(\"tutorial03.ini\",ptree);\n",
    "\n",
    "// read ini file\n",
    "const int refinement = ptree.get<int>(\"grid.refinement\");"
   ]
  },
  {
   "cell_type": "code",
   "execution_count": null,
   "id": "2c335d6d",
   "metadata": {},
   "outputs": [],
   "source": [
    "//eine Mglk\n",
    "/*typedef Dune::YaspGrid<dim> Grid;\n",
    "typedef Grid::ctype DF;\n",
    "Dune::FieldVector<DF,dim> L;\n",
    "L[0] = ptree.get(\"grid.structured.LX\",(double)1.0);\n",
    "L[1] = ptree.get(\"grid.structured.LY\",(double)1.0);\n",
    "std::array<int,dim> N;\n",
    "N[0] = ptree.get(\"grid.structured.NX\",(int)10);\n",
    "N[1] = ptree.get(\"grid.structured.NY\",(int)10);\n",
    "std::shared_ptr<Grid> gridp = std::shared_ptr<Grid>(new Grid(L,N));\n",
    "*/"
   ]
  },
  {
   "cell_type": "code",
   "execution_count": null,
   "id": "4d7b655a",
   "metadata": {},
   "outputs": [],
   "source": [
    "//using grid factory\n",
    "using Grid = Dune::YaspGrid<dim>;\n",
    "using DF = Grid::ctype ;\n",
    "// define the extensions of the domain\n",
    "Dune::FieldVector<double,dim> lowerleft(0.0);\n",
    "Dune::FieldVector<double,dim> upperright;\n",
    "upperright[0] = ptree.get(\"grid.structured.LX\",(double)1.0);\n",
    "upperright[1] = ptree.get(\"grid.structured.LZ\",(double)1.0);\n",
    "\n",
    "std::array< unsigned int, dim> N;\n",
    "N[0] = ptree.get(\"grid.structured.NX\",(int)10);\n",
    "N[1] = ptree.get(\"grid.structured.NY\",(int)10);\n",
    "\n",
    "// build a structured grid\n",
    "auto grid = Dune::StructuredGridFactory<Grid>::createCubeGrid(lowerleft, upperright, N);"
   ]
  },
  {
   "cell_type": "code",
   "execution_count": null,
   "id": "bc0f1c47",
   "metadata": {},
   "outputs": [],
   "source": [
    "grid->globalRefine(refinement);\n",
    "using GV = Grid::LeafGridView ;\n",
    "GV gv=grid->leafGridView();\n",
    "using FEM = Dune::PDELab::QkLocalFiniteElementMap<GV,DF,double,degree>;\n",
    "FEM fem(gv);"
   ]
  },
  {
   "cell_type": "markdown",
   "id": "03d4afbd",
   "metadata": {},
   "source": [
    "## Changes due to Instationarity"
   ]
  },
  {
   "cell_type": "markdown",
   "id": "36314841",
   "metadata": {},
   "source": [
    "We now go through the changes which are due to instationarity. The first change concerns the initialization of simulation time and set-up of the parameter object:"
   ]
  },
  {
   "cell_type": "markdown",
   "id": "1c046aaa",
   "metadata": {},
   "source": [
    "The first change concerns the initialization of simulation time and set-up of the parameter object:"
   ]
  },
  {
   "cell_type": "code",
   "execution_count": null,
   "id": "ea00d7d4",
   "metadata": {},
   "outputs": [],
   "source": [
    "// make user functions and set initial time\n",
    "RF time = 0.0;\n",
    "RF eta = ptree.get(\"problem.eta\",(RF)1.0);\n",
    "Problem<RF> problem(eta);\n",
    "problem.setTime(time);"
   ]
  },
  {
   "cell_type": "markdown",
   "id": "915f3abf",
   "metadata": {},
   "source": [
    "Now a PDELab grid function can be constructed:"
   ]
  },
  {
   "cell_type": "code",
   "execution_count": null,
   "id": "fc157f71",
   "metadata": {},
   "outputs": [],
   "source": [
    "auto g = Dune::PDELab::\n",
    "makeInstationaryGridFunctionFromCallable(\n",
    "    gv,\n",
    "    [&](const auto& e, const auto& x){\n",
    "        return problem.g(e,x);},\n",
    "    problem);;"
   ]
  },
  {
   "cell_type": "markdown",
   "id": "bb9d26b6",
   "metadata": {},
   "source": [
    "A new function `makeInstationaryGridFunctionFromCallable` is provided since the grid function produced by it now also provides a method `setTime` to pass the time argument.\n",
    "Note that the lambda closure and the parameter object need to be\n",
    "provided as the `setTime` method is only on the parameter class\n",
    "and not on the lambda closure."
   ]
  },
  {
   "cell_type": "code",
   "execution_count": null,
   "id": "186f119f",
   "metadata": {},
   "outputs": [],
   "source": [
    "auto b = Dune::PDELab::\n",
    "makeBoundaryConditionFromCallable(\n",
    "    gv,\n",
    "    [&](const auto& i, const auto& x){\n",
    "        return problem.b(i,x);}\n",
    ");;"
   ]
  },
  {
   "cell_type": "markdown",
   "id": "7494c12a",
   "metadata": {},
   "source": [
    "Setting up the grid function space and interpolating the initial condition is the same as before. "
   ]
  },
  {
   "cell_type": "code",
   "execution_count": null,
   "id": "0d5e48ff",
   "metadata": {},
   "outputs": [],
   "source": [
    "// Make grid function space\n",
    "using CON = Dune::PDELab::ConformingDirichletConstraints;\n",
    "using VBE = Dune::PDELab::ISTL::VectorBackend<>;\n",
    "using GFS = Dune::PDELab::GridFunctionSpace<GV,FEM,CON,VBE>;\n",
    "GFS gfs(gv,fem);\n",
    "gfs.name(\"Vh\");\n",
    "\n",
    "// Assemble constraints\n",
    "using CC = typename GFS::template\n",
    "ConstraintsContainer<RF>::Type;\n",
    "CC cc;\n",
    "Dune::PDELab::constraints(b,gfs,cc); // assemble constraints\n",
    "std::cout << \"constrained dofs=\" << cc.size() << \" of \"\n",
    "        << gfs.globalSize() << std::endl;\n",
    "\n",
    "// A coefficient vector\n",
    "using Z = Dune::PDELab::Backend::Vector<GFS,RF>;\n",
    "Z z(gfs); // initial value\n",
    "\n",
    "// Make a grid function out of it\n",
    "using ZDGF = Dune::PDELab::DiscreteGridFunction<GFS,Z>;\n",
    "ZDGF zdgf(gfs,z);\n",
    "\n",
    "// initialize simulation time, the coefficient vector\n",
    "Dune::PDELab::interpolate(g,gfs,z);"
   ]
  },
  {
   "cell_type": "markdown",
   "id": "5ea97e04",
   "metadata": {},
   "source": [
    "Then the grid operator for the spatial part can be set up as in the stationary problem tutorial 01. We just use the new local operator `NonlinearHeatFEM`:"
   ]
  },
  {
   "cell_type": "code",
   "execution_count": null,
   "id": "4d119d2e",
   "metadata": {},
   "outputs": [],
   "source": [
    "// Make instationary grid operator\n",
    "using LOP = NonlinearHeatFEM<Problem<RF>,FEM>;\n",
    "LOP lop(problem);\n",
    "using MBE = Dune::PDELab::ISTL::BCRSMatrixBackend<>;\n",
    "int degree = ptree.get(\"fem.degree\",(int)1);\n",
    "MBE mbe((int)pow(1+2*degree,dim));\n",
    "using GO0 = Dune::PDELab::GridOperator<GFS,GFS,LOP,MBE,\n",
    "                                 RF,RF,RF,CC,CC>;\n",
    "GO0 go0(gfs,cc,gfs,cc,lop,mbe);"
   ]
  },
  {
   "cell_type": "markdown",
   "id": "20c14e22",
   "metadata": {},
   "source": [
    "The temporal part is done similarly and just employs another local operator\n",
    "`L2`:"
   ]
  },
  {
   "cell_type": "code",
   "execution_count": null,
   "id": "977fcd69",
   "metadata": {},
   "outputs": [],
   "source": [
    "using TLOP = L2<FEM>;\n",
    "TLOP tlop;\n",
    "using GO1 = Dune::PDELab::GridOperator<GFS,GFS,TLOP,MBE,\n",
    "                                 RF,RF,RF,CC,CC>;\n",
    "GO1 go1(gfs,cc,gfs,cc,tlop,mbe);"
   ]
  },
  {
   "cell_type": "markdown",
   "id": "18a459ef",
   "metadata": {},
   "source": [
    "Spatial and temporal part are now combined using the new class `OneStepGridOperator` which can assemble the linear combinations needed in the Runge-Kutta methods:"
   ]
  },
  {
   "cell_type": "code",
   "execution_count": null,
   "id": "ccc2c1c8",
   "metadata": {},
   "outputs": [],
   "source": [
    "using IGO = Dune::PDELab::OneStepGridOperator<GO0,GO1>;\n",
    "IGO igo(go0,go1);"
   ]
  },
  {
   "cell_type": "markdown",
   "id": "bd127dbf",
   "metadata": {},
   "source": [
    "Linear solver backend and Newton method can be set up in the same way as before, just using the `OneStepGridOperator`."
   ]
  },
  {
   "cell_type": "code",
   "execution_count": null,
   "id": "e7e3bf2d",
   "metadata": {},
   "outputs": [],
   "source": [
    "// Select a linear solver backend\n",
    "using LS = Dune::PDELab::ISTLBackend_SEQ_CG_AMG_SSOR<IGO>;\n",
    "LS ls(100,0);\n",
    "\n",
    "// solve nonlinear problem\n",
    "using PDESOLVER = Dune::PDELab::Newton<IGO,LS,Z>;\n",
    "PDESOLVER pdesolver(igo,z,ls);\n",
    "pdesolver.setReassembleThreshold(0.0);\n",
    "pdesolver.setVerbosityLevel(2);\n",
    "pdesolver.setReduction(1e-8);\n",
    "pdesolver.setMinLinearReduction(1e-4);\n",
    "pdesolver.setMaxIterations(25);\n",
    "pdesolver.setLineSearchMaxIterations(10);"
   ]
  },
  {
   "cell_type": "markdown",
   "id": "b8785fa3",
   "metadata": {},
   "source": [
    "Then a time-stepping scheme in the form of the matrices $A$, $B$ and the vector $d$ needs to be selected.\n",
    "Several classes are already provided and it is very easy to write your own class:"
   ]
  },
  {
   "cell_type": "code",
   "execution_count": null,
   "id": "cda74df1",
   "metadata": {},
   "outputs": [],
   "source": [
    "Dune::PDELab::OneStepThetaParameter<RF> method1(1.0);\n",
    "Dune::PDELab::Alexander2Parameter<RF> method2;\n",
    "Dune::PDELab::Alexander3Parameter<RF> method3;"
   ]
  },
  {
   "cell_type": "markdown",
   "id": "fb1ca806",
   "metadata": {},
   "source": [
    "The selection mechanism for the time-stepping scheme is implemented by setting a pointer to an appropriate method:"
   ]
  },
  {
   "cell_type": "code",
   "execution_count": null,
   "id": "363459d9",
   "metadata": {},
   "outputs": [],
   "source": [
    "int torder = ptree.get(\"fem.torder\",(int)1);\n",
    "Dune::PDELab::TimeSteppingParameterInterface<RF>*\n",
    "  pmethod=&method1;\n",
    "if (torder==1) pmethod = &method1;\n",
    "if (torder==2) pmethod = &method2;\n",
    "if (torder==3) pmethod = &method3;\n",
    "if (torder<1||torder>3)\n",
    "  std::cout<<\"torder not in [1,3]\"<<std::endl;"
   ]
  },
  {
   "cell_type": "markdown",
   "id": "d120fd0e",
   "metadata": {},
   "source": [
    "Note that`TimeSteppingParameterInterface` is the interface from which all time stepping parameter classes derive. \n",
    "\n",
    "Then an object of class`OneStepMethod` can be instantiated. This class is able to compute a single time step of a general Runge-Kutta one step method."
   ]
  },
  {
   "cell_type": "code",
   "execution_count": null,
   "id": "0ddb5e58",
   "metadata": {},
   "outputs": [],
   "source": [
    "using OSM = Dune::PDELab::OneStepMethod<RF,IGO,PDESOLVER,Z,Z>;\n",
    "OSM  osm(*pmethod,igo,pdesolver);\n",
    "osm.setVerbosityLevel(2);"
   ]
  },
  {
   "cell_type": "markdown",
   "id": "86713791",
   "metadata": {},
   "source": [
    "Before entering the time loop we set up VTK output for the instationary case.\n",
    "Paraview has several ways to handle sequences of output files. Here we use\n",
    "an advanced method that writes a special \\lstinline{pvd}-file providing the\n",
    "names of the files for each individual step and the associated absolute time. This\n",
    "is particularly useful when non-equidistant time steps are used. All the\n",
    "data files for the time steps are put in a subdirectory in order not to clog your file system.\n",
    "The following code creates a directory (the name is read from the ini-file):"
   ]
  },
  {
   "cell_type": "code",
   "execution_count": null,
   "id": "816bdd95",
   "metadata": {},
   "outputs": [],
   "source": [
    "// prepare VTK writer and write first file\n",
    "std::string filename=ptree.get(\"output.filename\",\"output\");\n",
    "struct stat st;\n",
    "if( stat( filename.c_str(), &st ) != 0 )\n",
    "{\n",
    "  int stat = 0;\n",
    "  stat = mkdir(filename.c_str(),S_IRWXU|S_IRWXG|S_IRWXO);\n",
    "  if( stat != 0 && stat != -1)\n",
    "    std::cout << \"Error: Cannot create directory \"\n",
    "              << filename << std::endl;\n",
    "}"
   ]
  },
  {
   "cell_type": "markdown",
   "id": "d6ffcfdd",
   "metadata": {},
   "source": [
    "Now a `SubsamplingVTKWriter` and a `VTKSequenceWriter` can be instantiated:"
   ]
  },
  {
   "cell_type": "code",
   "execution_count": null,
   "id": "cb65f0fa",
   "metadata": {},
   "outputs": [],
   "source": [
    "int subsampling=ptree.get(\"output.subsampling\",(int)1);\n",
    "using VTKWRITER = Dune::SubsamplingVTKWriter<GV>;\n",
    "VTKWRITER vtkwriter(gv,Dune::refinementIntervals(subsampling));\n",
    "using VTKSEQUENCEWRITER = Dune::VTKSequenceWriter<GV>;\n",
    "VTKSEQUENCEWRITER vtkSequenceWriter(\n",
    "  std::make_shared<VTKWRITER>(vtkwriter),filename,filename,\"\");"
   ]
  },
  {
   "cell_type": "markdown",
   "id": "f8a2fd28",
   "metadata": {},
   "source": [
    "filled with data"
   ]
  },
  {
   "cell_type": "code",
   "execution_count": null,
   "id": "bd6d9780",
   "metadata": {},
   "outputs": [],
   "source": [
    "using VTKF = Dune::PDELab::VTKGridFunctionAdapter<ZDGF>;\n",
    "vtkSequenceWriter.addVertexData(std::shared_ptr<VTKF>(\n",
    "                           new VTKF(zdgf,\"solution\")));"
   ]
  },
  {
   "cell_type": "markdown",
   "id": "dca72eee",
   "metadata": {},
   "source": [
    "and the first file is written"
   ]
  },
  {
   "cell_type": "code",
   "execution_count": null,
   "id": "a3365313",
   "metadata": {},
   "outputs": [],
   "source": [
    "vtkSequenceWriter.write(time,Dune::VTK::appendedraw);"
   ]
  },
  {
   "cell_type": "markdown",
   "id": "f4821ac3",
   "metadata": {},
   "source": [
    "Now the time loop is under user control:"
   ]
  },
  {
   "cell_type": "code",
   "execution_count": null,
   "id": "25a9c2c2",
   "metadata": {},
   "outputs": [],
   "source": [
    "RF T = ptree.get(\"problem.T\",(RF)1.0);\n",
    "RF dt = ptree.get(\"fem.dt\",(RF)0.1);\n",
    "while (time<T-1e-8)\n",
    "  {\n",
    "    // assemble constraints for new time step\n",
    "    problem.setTime(time+dt);\n",
    "    Dune::PDELab::constraints(b,gfs,cc);\n",
    "\n",
    "    // do time step\n",
    "    Z znew(z);\n",
    "    osm.apply(time,dt,z,g,znew);\n",
    "\n",
    "    // accept time step\n",
    "    z = znew;\n",
    "    time+=dt;\n",
    "\n",
    "    // output to VTK file\n",
    "    vtkSequenceWriter.write(time,Dune::VTK::appendedraw);\n",
    "  }"
   ]
  },
  {
   "cell_type": "code",
   "execution_count": null,
   "id": "0df4808a",
   "metadata": {},
   "outputs": [],
   "source": [
    "vtkSequenceWriter"
   ]
  },
  {
   "cell_type": "markdown",
   "id": "ee24b797",
   "metadata": {},
   "source": [
    "First the final time and time step are read from the parameter file. Then, for each time step the constraints are reassembled. Note that the boundary condition type is not supposed to change *within* a time step, so all stages of the Runge-Kutta Method\n",
    "will use the same constraints (but not necessarily the same values at the\n",
    "Dirichlet boundary).\n",
    "\n",
    "Then, the `apply` method of the one step method is used to advance one step in time. Its arguments are the current `time`, the size of the time step `dt`, the coefficient vector `z` of the oldtime step, the boundary condition function `g` used to interpolate\n",
    "boundary conditions for the stages and, as last argument, the new coefficient\n",
    "vector`znew` to be computed as a result.\n",
    "\n",
    "In order to advance to the next time step the coefficient vector is copied and the\n",
    "time variable is advanced. Finally, the output file for the time step is written.\n",
    "\n",
    "Intentionally, the time loop is under user control to allow other things to be done,\n",
    "e.g. choose adaptive time step size, proceeding to important absolute times,\n",
    "writing only  every $n$th output file and so on."
   ]
  },
  {
   "cell_type": "markdown",
   "id": "af096ea8",
   "metadata": {},
   "source": [
    "## Spatial Local Operator"
   ]
  },
  {
   "cell_type": "markdown",
   "id": "d446b206",
   "metadata": {},
   "source": [
    "The file `nonlinearheatfem.hh` contains the two local operators\n",
    "for the spatial and the temporal part. The class `NonlinearHeatFEM` implements the\n",
    "spatial part. It is actually very easy since the main part can be reused\n",
    "from the `NonlinearPoissonFEM` local operator  implemented in tutorial 01 through\n",
    "public inheritance:"
   ]
  },
  {
   "cell_type": "markdown",
   "id": "852e6b34",
   "metadata": {},
   "source": [
    "```c++\n",
    "template<typename Param, typename FEM>\n",
    "class NonlinearHeatFEM :\n",
    "  public NonlinearPoissonFEM<Param,FEM>,\n",
    "  public Dune::PDELab::\n",
    "    InstationaryLocalOperatorDefaultMethods<double>\n",
    "{\n",
    "  Param& param;\n",
    "public:\n",
    "  //! Pass on constructor\n",
    "  NonlinearHeatFEM (Param& param_, int incrementorder_=0)\n",
    "    : NonlinearPoissonFEM<Param,FEM>(param_,incrementorder_),\n",
    "    param(param_)\n",
    "  {}\n",
    "  //! set time for subsequent evaluation\n",
    "  void setTime (double t) {\n",
    "    param.setTime(t);\n",
    "  }\n",
    "};\n",
    "```"
   ]
  },
  {
   "cell_type": "markdown",
   "id": "18f02fd9",
   "metadata": {},
   "source": [
    "Just a few methods need to be added to the local operator.\n",
    "Default implementations can be inherited from `InstationaryLocalOperatorDefaultMethods`. Here only the method `setTime` needs to be implemented to pass on the time to the parameter class for subsequent evaluations.\n",
    "\n",
    "The following methods need to be provided by a local operator for instationary computations:"
   ]
  },
  {
   "cell_type": "markdown",
   "id": "8f3ed39c",
   "metadata": {},
   "source": [
    "```c++\n",
    "void setTime (R t_)\n",
    "```  \n",
    "to set the time for all subsequent method calls."
   ]
  },
  {
   "cell_type": "markdown",
   "id": "f06e7817",
   "metadata": {},
   "source": [
    "```c++\n",
    "R getTime () const\n",
    "```\n",
    "to get the time set previously."
   ]
  },
  {
   "cell_type": "markdown",
   "id": "1a13617e",
   "metadata": {},
   "source": [
    "```c++\n",
    "void preStep (RealType time, RealType dt, int stages)\n",
    "```\n",
    "This method is called at the beginning of a time step, before all stages."
   ]
  },
  {
   "cell_type": "markdown",
   "id": "59ac526f",
   "metadata": {},
   "source": [
    "```c++\n",
    "void postStep ()\n",
    "```\n",
    "This method is called at the end of a time step, after all stages."
   ]
  },
  {
   "cell_type": "markdown",
   "id": "2581b13a",
   "metadata": {},
   "source": [
    "```c++\n",
    "void preStage (RealType time, int r)\n",
    "```\n",
    "This method is called at the beginning of a Runge-Kutta stage, where $r$ is the number of the stage (starting with $r=1$)."
   ]
  },
  {
   "cell_type": "markdown",
   "id": "8c91a506",
   "metadata": {},
   "source": [
    "```c++\n",
    "int getStage () const\n",
    "```\n",
    "Return the number of the current stage."
   ]
  },
  {
   "cell_type": "markdown",
   "id": "082586c2",
   "metadata": {},
   "source": [
    "```c++\n",
    "void postStage ()\n",
    "```\n",
    "Called after the intermediate result of a stage has been computed."
   ]
  },
  {
   "cell_type": "markdown",
   "id": "07081fd7",
   "metadata": {},
   "source": [
    "```c++\n",
    "RealType suggestTimestep (RealType dt) const\n",
    "```\n",
    "In an explicit scheme this method can be called at the end of stage 1 to suggest a stable time step for the explicit scheme."
   ]
  },
  {
   "cell_type": "markdown",
   "id": "8a4daaff",
   "metadata": {},
   "source": [
    "## Temporal Local Operator"
   ]
  },
  {
   "cell_type": "markdown",
   "id": "2c470176",
   "metadata": {},
   "source": [
    "The temporal local operator needs to implement the residual form related to the $L_2$-inner product. It could also be used to compute an $L_2$ projection of some function.\n",
    "\n",
    "Like in the spatial local operator we provide a finite element map as template parameter and derive from some helpful classes to provide default implementations of some methods:\n",
    "```c++\n",
    "template<typename FEM>\n",
    "class L2\n",
    "  : public Dune::PDELab::FullVolumePattern,\n",
    "    public Dune::PDELab::LocalOperatorDefaultFlags,\n",
    "    public Dune::PDELab::\n",
    "  InstationaryLocalOperatorDefaultMethods<double>\n",
    "```\n",
    "\n",
    "The following flag indicates that we provide a `pattern_volume` method\n",
    "specifying the sparsity pattern. Actually, this method is provided from the base class\n",
    "`FullVolumePatter`:    \n",
    "```c++    \n",
    "enum { doPatternVolume = true };\n",
    "```\n",
    "\n",
    "The next flag indicates that just volume integrals depending on trial and test functions are required:\n",
    "```c++  \n",
    "enum { doAlphaVolume = true };\n",
    "```\n",
    "\n",
    "The implementation of `alpha_volume` is very similar to the reaction term in tutorial 01. For efficiency reasons also `jacobian_volume` is provided as well as the `*_apply_*` variants for matrix-free operation (which might be very useful here since the mass matrix is well conditioned).    "
   ]
  },
  {
   "cell_type": "markdown",
   "id": "9b4fecb1",
   "metadata": {},
   "source": [
    "# Exercise"
   ]
  },
  {
   "cell_type": "markdown",
   "id": "c54f52e5",
   "metadata": {},
   "source": [
    "The code of \\lstinline!tutorial03! solves the problem described in (\\ref{equ:problem}) - (\\ref{equ:problemEnd}), with the following choices applied:\n",
    "\n",
    "  \\begin{align}\n",
    "    \\label{ch1:first}\n",
    "    q(u) &= \\eta u^2 \\\\\n",
    "    f &= 0 \\\\\n",
    "    \\Gamma_D &= \\{x \\in\\partial\\Omega \\mid x_0 = 0 \\} \\\\\n",
    "    g(x,t) &= \\sin(2\\pi t) \\prod_{i=1}^{d-1} \\sin(\\pi x_i)^2\n",
    "    \\sin(10\\pi x_i)^2\\\\\n",
    "    j(x,t) &= 0 \\\\\n",
    "    u_0(x) &= g(x,0) = 0 \\\\\n",
    "    \\label{ch1:last}\n",
    "    t_0&=0 .\n",
    "  \\end{align}"
   ]
  },
  {
   "cell_type": "markdown",
   "id": "0bd1ad6f",
   "metadata": {},
   "source": [
    "## Getting to know the Code"
   ]
  },
  {
   "cell_type": "markdown",
   "id": "05c71edc",
   "metadata": {
    "solution2": "hidden",
    "solution2_first": true
   },
   "source": [
    " As in the previous exercises you can control most of the settings through the ini-file `tutorial03.ini` or directly within the notebook. Get an overview of the configurable settings and run the code.\n",
    "\n",
    "The program writes output with the extension `pvd`. This is one of several ways to write VTK output for the instationary case, c.f. the documentation of the `tutorial03`. The `pvd`-file can be visualized by ParaView and it consists of a collection of the corresponding `vtu`-files.\n",
    "One big advantage of this approach is that the physical time can be printed out. This can be achieved by using the ``AnnotateTimeFilter`` in ParaView."
   ]
  },
  {
   "cell_type": "markdown",
   "id": "4cc586fc",
   "metadata": {
    "solution2": "hidden"
   },
   "source": [
    " - *the video below shows the solution for the nonlinear heat equation*"
   ]
  },
  {
   "cell_type": "markdown",
   "id": "a85cfa8c",
   "metadata": {
    "solution2": "hidden"
   },
   "source": [
    "<video controls src=\"ex01nonLin.ogv\" width=\"100%\"/>"
   ]
  },
  {
   "cell_type": "markdown",
   "id": "a41ebbfa",
   "metadata": {},
   "source": [
    "## Making Discretizations easily exchangable"
   ]
  },
  {
   "cell_type": "markdown",
   "id": "964b468a",
   "metadata": {
    "solution2": "hidden",
    "solution2_first": true
   },
   "source": [
    "**Step 1: Switching to the linear heat equation**\n",
    " For the rest of the exercise we want to consider the linear heat equation. Therefore the reaction term has to be set to $q =  0$. Recompile and rerun `exercise03.cc` and investigate the difference to the nonlinear reaction term.\n",
    " \n"
   ]
  },
  {
   "cell_type": "markdown",
   "id": "899ee3b0",
   "metadata": {
    "solution2": "hidden"
   },
   "source": [
    " - *example video linear heat equation*"
   ]
  },
  {
   "cell_type": "markdown",
   "id": "3ddcf7c8",
   "metadata": {
    "solution2": "hidden"
   },
   "source": [
    "<video controls src=\"ex02lin.ogv\" width=\"100%\"/>"
   ]
  },
  {
   "cell_type": "markdown",
   "id": "49d97bbf",
   "metadata": {
    "solution2": "hidden"
   },
   "source": [
    "<video controls src=\"ex02diff.ogv\" width=\"100%\"/>"
   ]
  },
  {
   "cell_type": "markdown",
   "id": "b75e4cbf",
   "metadata": {},
   "source": [
    "**Hint for the rest of the exercise:** For different runs of the simulation you can change the output filename in `tutorial03.ini`.\n",
    "\n",
    "Since the initial problem was nonlinear, Newton's method is used to solve the discretized equations. For the linear case it is sufficient to use the class `StationaryLinearProblemSolver`. Search in the notebook for the lines starting with\n",
    "\n",
    "```c++\n",
    "using PDESOLVER = Dune::PDELab::Newton<IGO,LS,Z>;\n",
    "PDESOLVER pdesolver(igo,z,ls);\n",
    "```\n",
    "\n",
    "and change to the `StationaryLinearProblemSolver`.\n",
    "\n",
    "It has the same template arguments as the Newton solver. Give the instance of the class `StationaryLinearProblemSolver` also the name `pdesolver`. If you have problems with the construction of this solver consider for example the code in the driver of `tutorial00`. Compile and run again. The program reports the status of the solver. Get used to these different two outputs."
   ]
  },
  {
   "cell_type": "markdown",
   "id": "fd748c4a",
   "metadata": {},
   "source": [
    "```c++  \n",
    "//using PDESOLVER = Dune::PDELab::Newton<IGO,LS,Z>;\n",
    "//PDESOLVER pdesolver(igo,z,ls);\n",
    "\n",
    "using PDESOLVER = Dune::PDELab::StationaryLinearProblemSolver<IGO,LS,Z>;\n",
    "PDESOLVER pdesolver(igo,ls,z,1e-10);\n",
    "```"
   ]
  },
  {
   "cell_type": "markdown",
   "id": "60f2c0ad",
   "metadata": {
    "solution2": "hidden",
    "solution2_first": true
   },
   "source": [
    "As a next step we want to use two spatial discretizations, i.e. $\\mathcal{Q}_1$ and $\\mathcal{Q}_2$ elements. The degree of the spatial discretization can be changed in the ini-file. Currently $\\mathcal{Q}_1$ elements are used. Please change to $\\mathcal{Q}_2$ elements and rerun the simulation."
   ]
  },
  {
   "cell_type": "markdown",
   "id": "40198f19",
   "metadata": {
    "solution2": "hidden"
   },
   "source": [
    "- *the video shows a comparison between $\\mathcal{Q}_1$ (left) and $\\mathcal{Q}_2$ (right) elements*"
   ]
  },
  {
   "cell_type": "markdown",
   "id": "81aacc89",
   "metadata": {
    "solution2": "hidden"
   },
   "source": [
    "<video controls src=\"ex02deg2.ogv\" width=\"100%\"/>"
   ]
  },
  {
   "cell_type": "markdown",
   "id": "7b03c57f",
   "metadata": {},
   "source": [
    "**Step 2: Arbitrary one-step schemes** We want to examine the numerical solution under three different time\n",
    "  discretization schemes -- Implicit Euler, Crank-Nicolson and Fractional-Step-$\\theta$. In order to change the time discretization scheme you will have to go to the<font color = 'red'> file </font> `driver.hh` and search for the line\n",
    "```c++\n",
    "    Dune::PDELab::Alexander2Parameter<RF> pmethod;\n",
    "```\n",
    "\n",
    "Change this to use the`Dune::PDELab::ImplicitEulerParameter<RF>`, compile and rerun the simulation. The program reports the progress of the time stepping and the method used. Convince yourself that you are using indeed the Implicit Euler. The other two time stepping methods can be applied similarly.\n",
    "\n",
    "  **Note that** there is no special one step parameter class for Crank-Nicolson.  Crank-Nicolson is however the special case of the one step $\\theta$ scheme with $\\theta=0.5$.  So you can create a parameter\n",
    "  object for Crank-Nicolson with `Dune::PDELab::OneStepThetaParameter<RF>(0.5)`.  A parameter object for the Fractional Step $\\theta$ scheme can be created with `Dune::PDELab::FractionalStepParameter<RF>()`."
   ]
  },
  {
   "cell_type": "markdown",
   "id": "36db4a5f",
   "metadata": {},
   "source": [
    " - Implicit Euler method\n",
    " ```c++\n",
    " Dune::PDELab::ImplicitEulerParameter<RF> pmethod;\n",
    " ```\n",
    " - Crank-Nicolson method\n",
    " ```c++\n",
    "Dune::PDELab::OneStepThetaParameter<RF> pmethod(0.5);\n",
    "```\n",
    " - Fractional-Step-$\\theta$\n",
    "```c++\n",
    " Dune::PDELab::FractionalStepParameter<RF> pmethod;\n",
    "```"
   ]
  },
  {
   "cell_type": "markdown",
   "id": "b27dd778",
   "metadata": {
    "solution2": "hidden",
    "solution2_first": true
   },
   "source": [
    "**Step 3: Different Initial and Boundary Conditions** \n",
    "Consider the initial and boundary conditions\n",
    "  (\\ref{ch1:first})--(\\ref{ch1:last}) modified as follows:\n",
    "  \\begin{align}\n",
    "    \\label{ch2:first}\n",
    "    \\Gamma_D&=\\emptyset \\\\\n",
    "    u_0(x) &= g(x, 0) = \\prod_{i=0}^{d-1}\\min\\{1,\\max\\{0,\\tilde{f}(x_i)\\}\\} \\\\\n",
    "        & \\qquad\\qquad \\tilde{f}(\\xi):=0.5-8(|\\xi-0.5|-0.25) \\nonumber \\\\\n",
    "    \\label{ch2:last}\n",
    "    j(x,t)&=0 .\n",
    "  \\end{align}\n",
    "The initial condition given by $u_0$ models a block of constant 1 concentration in the middle, constant 0 concentration at the border and some linear decrease in between.\n",
    "\n",
    "<img src = \"initialBC.png\" width=\"40%\">\n",
    "\n",
    "On a $16\\times16$ or finer grid the initial values can be represented exactly by $\\mathcal{Q}_1$ and $\\mathcal{Q}_2$ finite elements. The exact solution will instantly become smooth and tend toward the mean over time.  A computed solution is only an approximation, and may show different behavior.  Most often it may\n",
    "take a long time for the solution to become smooth and, depending on the time stepping scheme used, there are spikes oscillating from one time step to the next.\n",
    "\n",
    "Please implement the initial and boundary conditions (\\ref{ch2:first})--(\\ref{ch2:last}). When implementing $u_0$ you may be tempted to use the function `abs()`. This is wrong, `abs()` is a function from the C-library to compute absolute values for *integers*. If a floating point value is plugged in, it is truncated to an integer. The correct way is to use `std::abs()` instead.\n",
    "\n",
    "Compile and run your program. Remember that the grid needs $16\\times16$ elements for the $\\mathcal{Q}_1$/$\\mathcal{Q}_2$ elements to resolve the initial condition exactly. What happens to the interpolated initial condition if you use a coarser mesh?"
   ]
  },
  {
   "cell_type": "markdown",
   "id": "82d85d0e",
   "metadata": {
    "solution2": "hidden"
   },
   "source": [
    "<video controls src=\"ex03BC.ogv\" width=\"100%\"/>"
   ]
  },
  {
   "cell_type": "markdown",
   "id": "501917ff",
   "metadata": {
    "solution2": "hidden"
   },
   "source": [
    " - *initial condition for grid with $8\\times8$ elements, using $\\mathcal{Q}_1$ elements*\n",
    "<img src = \"initBC.png\" width=\"70%\">"
   ]
  },
  {
   "cell_type": "markdown",
   "id": "35ad43e3",
   "metadata": {},
   "source": [
    "**Step 4: Investigate Maximum Principle**\n",
    "\n",
    "With these preparations done, it is now time to actually check how the different discretizations perform.  Run your program to produce some output that you can examine in ParaView. Change the settings in the ini-file to a $64\\times 64$ grid and the time step size `<dt>`$\\,=1/64=0.015625$. Run the simulation until `<tend>`$\\,=4 \\cdot\\text{dt}$.\n",
    " When examining the solution in ParaView, apply the \"Warp by Scalar\" filter to get an image distorted into the third dimension according to the values of the solution.\n",
    "\n",
    "After one time step, the solution computed by $\\mathcal{Q}_1$ finite elements with Implicit Euler time stepping should be completely smooth. The same goes for $\\mathcal{Q}_2$ with Implicit Euler.\n",
    "\n",
    "With both Crank-Nicolson and Fractional Step $\\theta$, both with $\\mathcal{Q}_1$ and $\\mathcal{Q}_2$ the solution should be quite non-smooth, i.e. there should be some edges visible. The Fractional Step $\\theta$ scheme should be smoother than Crank-Nicolson.\n",
    "\n",
    "Try to run the simulation with smaller time steps.  How small do you need to make the time steps to get smooth solutions with Fractional Step $\\theta$?\n",
    "\n",
    "Can you get the Crank-Nicolson scheme to produce smooth solutions as well?"
   ]
  },
  {
   "cell_type": "markdown",
   "id": "76710f6e",
   "metadata": {},
   "source": [
    "## Time Dependent $g$ and $j$"
   ]
  },
  {
   "cell_type": "markdown",
   "id": "c98fcb70",
   "metadata": {},
   "source": [
    "Consider now the initial and boundary conditions (\\ref{ch1:first})--(\\ref{ch1:last}) time dependent:\n",
    "\\begin{align}\n",
    "  \\label{ch3:first}\n",
    "  \\Gamma_D &= \\{ x\\in\\partial\\Omega \\mid x_0 = 0 \\} \\\\\n",
    "  g(x,t) &= t/10 \\\\\n",
    "  u_0(x) &= g(x,0) \\\\\n",
    "  \\label{ch3:last}\n",
    "  j(x,t) &= -(0.5 + \\cos(t)/2) .\n",
    "  \\end{align}\n",
    "Incorporating the time dependence into the functions $g$ and $j$ is easy even if they don't have the time variable as an argument. The problem parameter class possesses the member variable `t` and the member function\n",
    " ```c++\n",
    "    void setTime (Number t_)\n",
    "    {\n",
    "      t = t_;\n",
    "    }\n",
    " ```\n",
    "by means of which the correct time is always available. Please implement the conditions (\\ref{ch3:first})--(\\ref{ch3:last}), compile and rerun the program. You might also want to increase the final time of the simulation. Examine the results in ParaView with the \"Warp by Scalar\" filter.\n",
    "\n",
    "\n",
    "**A short note on time dependent $\\Gamma_D$ and $\\Gamma_N$:** In principle it is possible to implement time dependent $\\Gamma_D$ and $\\Gamma_N$ the same way as for $g$ and $j$. But for conforming spatial discretizations there is an important limiting assumption, namely that the type of boundary conditions do not change over a time step."
   ]
  },
  {
   "cell_type": "markdown",
   "id": "4bfb97b0",
   "metadata": {},
   "source": [
    "# Bibliographie"
   ]
  },
  {
   "cell_type": "markdown",
   "id": "253c1e3a",
   "metadata": {},
   "source": [
    "[1] Alexander, R. *Diagonally Implicit Runge-Kutta Methods for Stiff O. D. E.'s*. SIAM Journal on Numerical Analysis. Vol. 14. 1977."
   ]
  },
  {
   "cell_type": "markdown",
   "id": "77b34265",
   "metadata": {},
   "source": [
    "[2] Bastian, P. *Lecture Notes on Scientific Computing with Partial Differential Equations*. 2014. http://conan.iwr.uni-heidelberg.de/teaching/numerik2_ss2014/num2.pdf. "
   ]
  },
  {
   "cell_type": "markdown",
   "id": "a03ee400",
   "metadata": {},
   "source": [
    "[3] Braess, D. *Finite Elemente*. Springer. 2003."
   ]
  },
  {
   "cell_type": "markdown",
   "id": "0aeb8bed",
   "metadata": {},
   "source": [
    "[4] Brenner, S. C. and Scott, L.R. *The mathematical theory of finite element methods*. Springer. 1994."
   ]
  },
  {
   "cell_type": "markdown",
   "id": "e5bbdb9a",
   "metadata": {},
   "source": [
    "[5] Ciarlet, P. G. *The finite element method for elliptic problems*. SIAM. Classics in Applied Mathematics. 2002."
   ]
  },
  {
   "cell_type": "markdown",
   "id": "b151a18a",
   "metadata": {},
   "source": [
    "[6] Elman, H., Silvester, D. and Wathen, A. *Finite Elements and Fast Iterative Solvers*. Oxford University Press. 2005."
   ]
  },
  {
   "cell_type": "markdown",
   "id": "78c728a8",
   "metadata": {},
   "source": [
    "[7] Eriksson, K. ,Estep,D. Hansbo, P. and Johnson, C. *Computational Differential Equations*. Cambridge University Press. 1996. http://www.csc.kth.se/~jjan/private/cde.pdf."
   ]
  },
  {
   "cell_type": "markdown",
   "id": "3546a3e0",
   "metadata": {},
   "source": [
    "[8] Ern, A. and Guermond, J.-L. *Theory and practice of finite element methods*. Springer. 2004.\n",
    "<a id=\"ern\"> </a>"
   ]
  },
  {
   "cell_type": "markdown",
   "id": "38e0f8c7",
   "metadata": {},
   "source": [
    " [9] Shu, C. W. and Osher, S. *Efficient implementation of essentially non-oscillatory shock-capturing schemes*. J. Comput. Phys. Vol. 77. 1988.\n",
    " <a id=\"ShuOsher88\"> </a>"
   ]
  },
  {
   "cell_type": "markdown",
   "id": "4b4f538f",
   "metadata": {},
   "source": [
    "[10] Gottlieb, S., Ketcheson, D.I. and Shu, C.W. *Strong Stability Preserving Runge-Kutta and Multistep Time Discretizations*. World Scientific. 2011.\n",
    "<a id=\"gottlieb11\"> </a>"
   ]
  },
  {
   "cell_type": "markdown",
   "id": "8b0bf985",
   "metadata": {},
   "source": [
    "[11] Geuzaine, C. and Remacle, J.-F. *Gmsh: A 3-D finite element mesh generator with built-in pre- and post-processing facilities*. International Journal for Numerical Methods in Engineering. Vol. 79. 2009."
   ]
  },
  {
   "cell_type": "markdown",
   "id": "40e69ddd",
   "metadata": {},
   "source": [
    "[12] Großmann, C. and Roos, H.-G. *Numerische Behandlung partieller Differentialgleichungen*. Teubner. 2006."
   ]
  },
  {
   "cell_type": "markdown",
   "id": "a34d2ee2",
   "metadata": {},
   "source": [
    "[13] Hackbusch, W. *Theorie und Numerik elliptischer Differentialgleichungen*. Teubner. 1986. http://www.mis.mpg.de/preprints/ln/lecturenote-2805.pdf."
   ]
  },
  {
   "cell_type": "markdown",
   "id": "88d905c0",
   "metadata": {},
   "source": [
    "[14] Meidner, D. and Richter, T. *A posteriori error estimation for the fractional step theta discretization of the incompressible Navier–Stokes equations*. Computer Methods in Applied Mechanics and Engineering. 2015."
   ]
  },
  {
   "cell_type": "markdown",
   "id": "d0641025",
   "metadata": {},
   "source": [
    "[15] Rannacher, R. *Einführung in die Numerische Mathematik II (Numerik partieller Differentialgleichungen)*. 2006. http://numerik.iwr.uni-heidelberg.de/~lehre/notes. "
   ]
  },
  {
   "cell_type": "markdown",
   "id": "8a240ce0",
   "metadata": {},
   "source": [
    "[16] Shu, C.W. *Total-variation-diminishing time discretizations*. SIAM J. Sci. Stat. Comput. Vol. 9. 1988.\n",
    "<a id = \"Shu\"> </a>"
   ]
  }
 ],
 "metadata": {
  "kernelspec": {
   "display_name": "C++17 (DUNE)",
   "language": "C++17",
   "name": "90f694aa-4041-547e-bba1-934968691da0"
  },
  "language_info": {
   "codemirror_mode": "text/x-c++src",
   "file_extension": ".cpp",
   "mimetype": "text/x-c++src",
   "name": "c++",
   "version": "17"
  },
  "toc": {
   "base_numbering": 1,
   "nav_menu": {},
   "number_sections": true,
   "sideBar": true,
   "skip_h1_title": false,
   "title_cell": "Table of Contents",
   "title_sidebar": "Contents",
   "toc_cell": false,
   "toc_position": {},
   "toc_section_display": true,
   "toc_window_display": false
  }
 },
 "nbformat": 4,
 "nbformat_minor": 5
}
