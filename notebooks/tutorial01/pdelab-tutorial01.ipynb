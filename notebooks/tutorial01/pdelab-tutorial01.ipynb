{
 "cells": [
  {
   "cell_type": "markdown",
   "id": "a9b3f993",
   "metadata": {},
   "source": [
    "# Tutorial 01: Conforming Finite Element Method for a Nonlinear Poisson Equation"
   ]
  },
  {
   "cell_type": "markdown",
   "id": "e86293fc",
   "metadata": {},
   "source": [
    "In this tutorial we extend tutorial 00 in the following ways:\n",
    "\n",
    "1. Solve a nonlinear stationary partial differential equation (PDE).\n",
    "2. Use conforming finite element spaces of arbitrary order.\n",
    "3. Use different types of (conforming) meshes (simplicial, cubed and mixed).\n",
    "4. Use multiple types of boundary conditions.\n",
    "\n",
    "Combined with the fact that the implementation works in any dimension (note: it is not claimed to be efficient in high dimension $d>3$) this comprises already a relatively large space of different methods, so the example illustrates the flexibility of PDELab. Moreover, the finite element method developed in this tutorial will serve as a building block for instationary problems, adaptive mesh refinement and\n",
    "parallel solution in subsequent tutorials. This tutorial depends on tutorial 00 which discusses piecewise linear elements on simplicial elements. It is assumed that you have worked through tutorial 00 before."
   ]
  },
  {
   "cell_type": "markdown",
   "id": "f536b832",
   "metadata": {},
   "source": [
    "## Problem Formulation"
   ]
  },
  {
   "cell_type": "markdown",
   "id": "4db50e48",
   "metadata": {},
   "source": [
    "Here we consider the following nonlinear Poisson equation with\n",
    "Dirichlet and Neumann boundary conditions:\n",
    "\n",
    "\n",
    "\\begin{align}\\label{eq:ProblemStrong}\n",
    "-\\Delta u + q(u) &= f &&\\text{in $\\Omega$}, \\\\\n",
    "u &= g &&\\text{on $\\Gamma_D\\subseteq\\partial\\Omega$},\\\\\n",
    "-\\nabla u\\cdot \\nu &= j &&\\text{on $\\Gamma_N=\\partial\\Omega\\setminus\\Gamma_D$}.\n",
    "\\end{align}\n",
    "\n",
    "\n",
    "$\\Omega\\subset\\mathbb{R}^d$ is a domain, $q:\\mathbb{R}\\to\\mathbb{R}$ is a given, possibly\n",
    "nonlinear function and $f: \\Omega\\to\\mathbb{R}$ is the source term and\n",
    "$\\nu$ denotes the unit outer normal to the domain.\n",
    "\n",
    "The weak formulation of this problem is derived by multiplication with an appropriate\n",
    "test function and integrating by parts. This results in the abstract problem:\n",
    "\\begin{equation}\n",
    "\\text{Find $u\\in U$ s.t.:} \\quad r^{\\text{NLP}}(u,v)=0 \\quad \\forall v\\in V,\n",
    "\\label{Eq:BasicBuildingBlock}\n",
    "\\end{equation}\n",
    "\n",
    "with the continuous residual form\n",
    "\\begin{equation*}\n",
    "r^{\\text{NLP}}(u,v) = \\int_\\Omega \\nabla u \\cdot \\nabla v + (q(u)-f)v\\,dx + \\int_{\\Gamma_N} jv\\,ds\n",
    "\\label{eq:ResidualForm}\n",
    "\\end{equation*}\n",
    "and the function spaces \n",
    "$U= \\{v\\in H^1(\\Omega) \\,:\\, \\text{''$v=g$'' on $\\Gamma_D$}\\}$\n",
    "and $V= \\{v\\in H^1(\\Omega) \\,:\\, \\text{''$v=0$'' on $\\Gamma_D$}\\}$. \n",
    "We assume that $q$ is such that this problem has a unique solution."
   ]
  },
  {
   "cell_type": "markdown",
   "id": "40e99bda",
   "metadata": {},
   "source": [
    "## Finite Element Method"
   ]
  },
  {
   "cell_type": "markdown",
   "id": "9db0b689",
   "metadata": {},
   "source": [
    "## Realization in PDELab"
   ]
  },
  {
   "cell_type": "markdown",
   "id": "f35776e1",
   "metadata": {},
   "source": [
    "- [ ] is this produces the right output?\n",
    "- [x] include driver\n",
    "- [x] include problem.hh\n",
    "- [ ] include explanation of LOP class, same way as problem.hh\n",
    "- [ ] provide solutions for exercise1\n",
    "- [ ] make real exercises out of parts for exercise2"
   ]
  },
  {
   "cell_type": "markdown",
   "id": "6cf6a725",
   "metadata": {},
   "source": [
    "The structure of the code is very similar to that of tutorial 00. Again, all the Dune sources are included through one convenience header:"
   ]
  },
  {
   "cell_type": "code",
   "execution_count": null,
   "id": "a917938b",
   "metadata": {},
   "outputs": [],
   "source": [
    "#include <dune/jupyter.hh>\n",
    "#include \"nonlinearpoissonfem.hh\"\n",
    "//#include \"problem.hh\"\n",
    "#include \"driver.hh\" //put this in notebook"
   ]
  },
  {
   "cell_type": "markdown",
   "id": "794e14f7",
   "metadata": {},
   "source": [
    "As for the previous tutorial, a number of runtime paramters is provided in a configuration file `tutorial01.ini`, which can be found in the `notebooks/tutorial01` directory. Again the paramters are parsed into a `ParamterTree`."
   ]
  },
  {
   "cell_type": "code",
   "execution_count": null,
   "id": "c28f5029",
   "metadata": {},
   "outputs": [],
   "source": [
    "Dune::ParameterTree ptree;\n",
    "Dune::ParameterTreeParser ptreeparser;\n",
    "ptreeparser.readINITree(\"tutorial01.ini\",ptree);"
   ]
  },
  {
   "cell_type": "markdown",
   "id": "a4935d93",
   "metadata": {},
   "source": [
    "Ini File not that important for jupyter notebooks"
   ]
  },
  {
   "cell_type": "markdown",
   "id": "f78fae1a",
   "metadata": {},
   "source": [
    "**First, a DUNE grid object is instantiated**"
   ]
  },
  {
   "cell_type": "code",
   "execution_count": null,
   "id": "b948ae04",
   "metadata": {},
   "outputs": [],
   "source": [
    "// read ini file\n",
    "const int dim = 2;\n",
    "// const int dim = ptree.get<int>(\"grid.dim\");\n",
    "const int refinement = ptree.get<int>(\"grid.refinement\");\n",
    "//std::string gridmanager = ptree.get(\"grid.manager\",\"yasp\");\n",
    "//const int degree = ptree.get<int>(\"fem.degree\");"
   ]
  },
  {
   "cell_type": "markdown",
   "id": "21286272",
   "metadata": {},
   "source": [
    "Choose gridtype"
   ]
  },
  {
   "cell_type": "code",
   "execution_count": null,
   "id": "e5e57994",
   "metadata": {},
   "outputs": [],
   "source": [
    "using Grid = Dune::UGGrid<dim>; \n",
    "//using Grid = Dune::YaspGrid<dim>; "
   ]
  },
  {
   "cell_type": "markdown",
   "id": "729b3af4",
   "metadata": {},
   "source": [
    "As stated in the DUNE grid interface exercise, the biggest strength of the generic Grid API provided by Dune is that the ONE CODE can use different grid implementations. *There are however also more specific implementations that allow for xxx* *Note that here *\n",
    "We are using a two-dimensional, *unstructured *mesh for this simulation. The code below creates a 2x2 grid for the uinit square.he unit square $\\Omega = [0,1]^2$. "
   ]
  },
  {
   "cell_type": "code",
   "execution_count": null,
   "id": "c63edede",
   "metadata": {},
   "outputs": [],
   "source": [
    "//more general version\n",
    "Dune::FieldVector<double,dim> lowerleft(0.0);\n",
    "Dune::FieldVector<double,dim> upperright(1.0);\n",
    "auto N = Dune::filledArray<dim, unsigned int>(2);\n",
    "std::unique_ptr<Grid> gridp = Dune::StructuredGridFactory<Grid>::createCubeGrid(lowerleft, upperright, N);\n",
    "Dune::Timer timer;\n",
    "std::cout << \"Time for mesh refinement \" << timer.elapsed()<< \" seconds\" << std::endl;\n",
    "using GV = Grid::LeafGridView;\n",
    "using DF = Grid::ctype;\n",
    "GV gv = gridp->leafGridView();\n"
   ]
  },
  {
   "cell_type": "code",
   "execution_count": null,
   "id": "3c70314f",
   "metadata": {},
   "outputs": [],
   "source": [
    "gridp"
   ]
  },
  {
   "cell_type": "markdown",
   "id": "808a9d5e",
   "metadata": {},
   "source": [
    "Here, a polyniomial degree can bee chosen:"
   ]
  },
  {
   "cell_type": "code",
   "execution_count": null,
   "id": "97630889",
   "metadata": {},
   "outputs": [],
   "source": [
    "const int degree = 1;"
   ]
  },
  {
   "cell_type": "code",
   "execution_count": null,
   "id": "79fb8969",
   "metadata": {},
   "outputs": [],
   "source": [
    "using FEM = Dune::PDELab::QkLocalFiniteElementMap<GV,DF,double,degree>;\n",
    "FEM fem(gv);\n",
    "//driver(gv,fem,ptree);"
   ]
  },
  {
   "cell_type": "markdown",
   "id": "a3ca05ec",
   "metadata": {},
   "source": [
    "### Driver"
   ]
  },
  {
   "cell_type": "markdown",
   "id": "33b5a117",
   "metadata": {},
   "source": [
    "**Then/The driver instantiates the necessary PDELab classes for solving a nonlinear stationary problem and finally solves the problem**"
   ]
  },
  {
   "cell_type": "code",
   "execution_count": null,
   "id": "b4a23dbb",
   "metadata": {},
   "outputs": [],
   "source": [
    "// dimension and important types\n",
    "//  const int dim = GV::dimension;\n",
    "using RF = double; "
   ]
  },
  {
   "cell_type": "markdown",
   "id": "f8f5c774",
   "metadata": {},
   "source": [
    "The interface of the parameter class is defined by the implementor of the local operator and is not part of PDELab. As shown in tutorial 00 it is perfectly possible to have a local operator without a parameter class.\n",
    "The following code segment instantiates the problem class which is called `Problem` here (it is explained in detail below)"
   ]
  },
  {
   "cell_type": "code",
   "execution_count": null,
   "id": "3ff5d663",
   "metadata": {},
   "outputs": [],
   "source": [
    "#include \"problem.hh\"\n",
    "// make PDE parameter class\n",
    "RF eta = ptree.get(\"problem.eta\",(RF)1.0);\n",
    "Problem<RF> problem(eta);"
   ]
  },
  {
   "cell_type": "markdown",
   "id": "ed1f33de",
   "metadata": {},
   "source": [
    "Now there are two places where information from the PDE is used in PDELab. First of all we need to have an object that can be used as an argument to `Dune::PDELab::interpolate` to initialize a vector which represents the initial guess and the Dirichlet boundary conditions.\n",
    "The class `Problem` defines a method which we need to use to define a class with the interface of `Dune::PDELab::GridFunction`.\n",
    "This is accomplished by the following code using C++-14 generic lambdas:"
   ]
  },
  {
   "cell_type": "code",
   "execution_count": null,
   "id": "132dd2c8",
   "metadata": {},
   "outputs": [],
   "source": [
    "auto g = Dune::PDELab::makeGridFunctionFromCallable(\n",
    "    gv,\n",
    "    [&](const auto& e, const auto& x) {\n",
    "        return problem.g(e,x);\n",
    "    }                                             \n",
    ");"
   ]
  },
  {
   "cell_type": "markdown",
   "id": "8dd23ad3",
   "metadata": {},
   "source": [
    "Similarly, we need an object that can be passed to `Dune::PDELab::constraints` to fill a constraints container which is used to build a subspace of a function space. Again, the class `Problem` defines such a method which is extracted with a lambda function:"
   ]
  },
  {
   "cell_type": "code",
   "execution_count": null,
   "id": "be407c63",
   "metadata": {},
   "outputs": [],
   "source": [
    "auto b = Dune::PDELab::makeBoundaryConditionFromCallable(\n",
    "    gv,\n",
    "    [&](const auto& i, const auto& x){\n",
    "        return problem.b(i,x);\n",
    "    }\n",
    ");"
   ]
  },
  {
   "cell_type": "markdown",
   "id": "e898813e",
   "metadata": {},
   "source": [
    "The next step is to define the grid function space. This is\n",
    "exactly the same code as in tutorial 00."
   ]
  },
  {
   "cell_type": "code",
   "execution_count": null,
   "id": "9a1faee7",
   "metadata": {},
   "outputs": [],
   "source": [
    "// Make grid function space\n",
    "//== Exercise 2 {\n",
    "typedef Dune::PDELab::ConformingDirichletConstraints CON;\n",
    "// typedef Dune::PDELab::NoConstraints CON;\n",
    "//== }\n",
    "typedef Dune::PDELab::ISTL::VectorBackend<> VBE;\n",
    "typedef Dune::PDELab::GridFunctionSpace<GV,FEM,CON,VBE> GFS;\n",
    "GFS gfs(gv,fem);\n",
    "gfs.name(\"Vh\");"
   ]
  },
  {
   "cell_type": "markdown",
   "id": "350db06d",
   "metadata": {},
   "source": [
    "Now comes unchanged code to assemble the constraints, instantiate a coefficient vector, making a discrete grid function that can be used for visualization and interpolating the initial guess and Dirichlet boundary conditions:"
   ]
  },
  {
   "cell_type": "code",
   "execution_count": null,
   "id": "d10dfde7",
   "metadata": {},
   "outputs": [],
   "source": [
    "// Assemble constraints\n",
    "//== Exercise 2 {\n",
    "typedef typename GFS::template\n",
    "ConstraintsContainer<RF>::Type CC;\n",
    "CC cc;\n",
    "Dune::PDELab::constraints(b,gfs,cc); // assemble constraints\n",
    "std::cout << \"constrained dofs=\" << cc.size() << \" of \"\n",
    "        << gfs.globalSize() << std::endl;\n",
    "// typedef Dune::PDELab::EmptyTransformation CC;\n",
    "//== }\n",
    "\n",
    "// A coefficient vector\n",
    "using Z = Dune::PDELab::Backend::Vector<GFS,RF>;\n",
    "Z z(gfs); // initial value\n",
    "\n",
    "// Make a grid function out of it\n",
    "typedef Dune::PDELab::DiscreteGridFunction<GFS,Z> ZDGF;\n",
    "ZDGF zdgf(gfs,z);\n",
    "\n",
    "// Fill the coefficient vector\n",
    "Dune::PDELab::interpolate(g,gfs,z);"
   ]
  },
  {
   "cell_type": "markdown",
   "id": "614874dd",
   "metadata": {},
   "source": [
    "The next step is to instantiate a local operator, called `NonlinearPoissonFEM`, containing the implementation of the element-wise computations of the finite element method. As explained above the local operator is parametrized by the class \n",
    "`Problem`. In addition, also the finite element map is passed as a template parameter for reasons that will become clear below:"
   ]
  },
  {
   "cell_type": "code",
   "execution_count": null,
   "id": "4f5604f8",
   "metadata": {},
   "outputs": [],
   "source": [
    "// Make a local operator\n",
    "//== Exercise 2 {\n",
    "typedef NonlinearPoissonFEM<Problem<RF>,FEM> LOP;\n",
    "LOP lop(problem);\n",
    "// RF stab = ptree.get(\"fem.stab\",(RF)1);\n",
    "// typedef NitscheNonlinearPoissonFEM<Problem<RF>,FEM> LOP;\n",
    "// LOP lop(problem,stab);\n",
    "//== }"
   ]
  },
  {
   "cell_type": "markdown",
   "id": "3be0f007",
   "metadata": {},
   "source": [
    "Now the grid function space, local operator, matrix backend and\n",
    "constraints container are used to set up a grid operator facilitatingcthe global residual assembly, Jacobian assembly and matrix-free Jacobian application. The matrix backend is initialized with a guess of the approximate number\n",
    "of nonzero matrix entries per row."
   ]
  },
  {
   "cell_type": "code",
   "execution_count": null,
   "id": "0898b59d",
   "metadata": {},
   "outputs": [],
   "source": [
    "// Make a global operator\n",
    "typedef Dune::PDELab::ISTL::BCRSMatrixBackend<> MBE;\n",
    "int degree = ptree.get(\"fem.degree\",(int)1);\n",
    "MBE mbe((int)pow(1+2*degree,dim));\n",
    "typedef Dune::PDELab::GridOperator<\n",
    "GFS,GFS,  /* ansatz and test space */\n",
    "LOP,      /* local operator */\n",
    "MBE,      /* matrix backend */\n",
    "RF,RF,RF, /* domain, range, jacobian field type*/\n",
    "CC,CC     /* constraints for ansatz and test space */\n",
    "> GO;\n",
    "//== Exercise 2 {\n",
    "GO go(gfs,cc,gfs,cc,lop,mbe);\n",
    "// GO go(gfs,gfs,lop,mbe);\n",
    "//== }"
   ]
  },
  {
   "cell_type": "markdown",
   "id": "48c0c3f4",
   "metadata": {},
   "source": [
    "In order to prepare for the solution process an appropriate linear solver needs to be selected:"
   ]
  },
  {
   "cell_type": "code",
   "execution_count": null,
   "id": "0399d61f",
   "metadata": {},
   "outputs": [],
   "source": [
    "typedef Dune::PDELab::ISTLBackend_SEQ_CG_AMG_SSOR<GO> LS;\n",
    "LS ls(100,2);"
   ]
  },
  {
   "cell_type": "markdown",
   "id": "0448ec20",
   "metadata": {},
   "source": [
    "Since the problem is nonlinear we use the implementation of\n",
    "Newton's method in PDELab. It provides the inexact Newton method\n",
    "in the sense that the iterative solution of the linear subproblems is stopped early and uses line search as globalization strategy:"
   ]
  },
  {
   "cell_type": "code",
   "execution_count": null,
   "id": "b33141e0",
   "metadata": {},
   "outputs": [],
   "source": [
    "Dune::PDELab::Newton<GO,LS,Z> newton(go,z,ls);\n",
    "newton.setReassembleThreshold(0.0); // always reassemble J\n",
    "newton.setVerbosityLevel(3);        // be verbose\n",
    "newton.setReduction(1e-10);         // total reduction\n",
    "newton.setMinLinearReduction(1e-4); // min. red. in lin. solve\n",
    "newton.setMaxIterations(25);        // limit number of its\n",
    "newton.setLineSearchMaxIterations(10); // limit line search"
   ]
  },
  {
   "cell_type": "markdown",
   "id": "244d81de",
   "metadata": {},
   "source": [
    "Now, finally do all the work and solve the problem:"
   ]
  },
  {
   "cell_type": "code",
   "execution_count": null,
   "id": "cd55589f",
   "metadata": {},
   "outputs": [],
   "source": [
    "newton.apply();"
   ]
  },
  {
   "cell_type": "markdown",
   "id": "732910b2",
   "metadata": {},
   "source": [
    "At the end we can write the VTK file with subsampling:"
   ]
  },
  {
   "cell_type": "code",
   "execution_count": null,
   "id": "94ba7d8e",
   "metadata": {},
   "outputs": [],
   "source": [
    "// Write VTK output file\n",
    "int subsampling = ptree.get(\"output.subsampling\",(int)1);\n",
    "Dune::SubsamplingVTKWriter<GV> vtkwriter(gv,Dune::refinementIntervals(subsampling));\n",
    "typedef Dune::PDELab::VTKGridFunctionAdapter<ZDGF> VTKF;\n",
    "vtkwriter.addVertexData(std::shared_ptr<VTKF>(new VTKF(zdgf,\"fesol\")));\n",
    "vtkwriter.write(ptree.get(\"output.filename\",\"output\"), Dune::VTK::appendedraw);"
   ]
  },
  {
   "cell_type": "markdown",
   "id": "47f8c3af",
   "metadata": {},
   "source": [
    "The visualization data can be generated in Jupyter by printing the VTKWriter instance:"
   ]
  },
  {
   "cell_type": "code",
   "execution_count": null,
   "id": "bba191e3",
   "metadata": {},
   "outputs": [],
   "source": [
    "vtkwriter"
   ]
  },
  {
   "cell_type": "markdown",
   "id": "b04ec01e",
   "metadata": {
    "heading_collapsed": true
   },
   "source": [
    "### Problem.hh"
   ]
  },
  {
   "cell_type": "markdown",
   "id": "98b8fd1d",
   "metadata": {
    "hidden": true
   },
   "source": [
    "<font color= \"red\"> Note that the cells are note executable, as the class would not a allow for a seperation of cells. Changes can be made in the file `problem.hh` which is provided in the same folder as this notebook. </font>"
   ]
  },
  {
   "cell_type": "markdown",
   "id": "e92fa998",
   "metadata": {
    "hidden": true
   },
   "source": [
    "The class `Problem` contained in the file `problem.hh` provides all parameter functions for the PDE problem. It is parameterized with the floating point type to be used:"
   ]
  },
  {
   "cell_type": "markdown",
   "id": "2df328cd",
   "metadata": {
    "hidden": true
   },
   "source": [
    "```c++\n",
    "template<typename Number>\n",
    "class Problem\n",
    "```"
   ]
  },
  {
   "cell_type": "markdown",
   "id": "3d5f6c13",
   "metadata": {
    "hidden": true
   },
   "source": [
    "Its constructor takes a parameter $\\eta$ as argument:"
   ]
  },
  {
   "cell_type": "markdown",
   "id": "ef658349",
   "metadata": {
    "hidden": true
   },
   "source": [
    "```c++\n",
    "Problem (const Number& eta_) : eta(eta_) {}\n",
    "```"
   ]
  },
  {
   "cell_type": "markdown",
   "id": "116adeed",
   "metadata": {
    "hidden": true
   },
   "source": [
    "Now come the parameter functions defining the PDE problem.\n",
    "First is the nonlinearity $q(u)$:"
   ]
  },
  {
   "cell_type": "markdown",
   "id": "e01ab7d1",
   "metadata": {
    "hidden": true
   },
   "source": [
    "```c++\n",
    "Number q (Number u) const\n",
    "{\n",
    "  return eta*u*u;\n",
    "}\n",
    "```"
   ]
  },
  {
   "cell_type": "markdown",
   "id": "2c81d6f3",
   "metadata": {
    "hidden": true
   },
   "source": [
    "We also provide the derivative of the function $q$ as a seperate method:"
   ]
  },
  {
   "cell_type": "markdown",
   "id": "4178d70b",
   "metadata": {
    "hidden": true
   },
   "source": [
    "```c++\n",
    "Number qprime (Number u) const\n",
    "{\n",
    "  return 2*eta*u;\n",
    "}\n",
    "```"
   ]
  },
  {
   "cell_type": "markdown",
   "id": "02cd1f3e",
   "metadata": {
    "hidden": true
   },
   "source": [
    "This allows the implementation of an exact Jacobian later (illustrated in tutorial 02) and is actually not needed here as we will use a numerical Jacobian.\n",
    "\n",
    "Next is the right hand side function $f$ which gets an element `e` and a local coordinate `x` within\n",
    "the corresponding reference element as a parameter:"
   ]
  },
  {
   "cell_type": "markdown",
   "id": "1863ad08",
   "metadata": {
    "hidden": true
   },
   "source": [
    "```c++\n",
    "template<typename E, typename X>\n",
    "Number f (const E& e, const X& x) const\n",
    "{\n",
    "  return -2.0*x.size();\n",
    "}\n",
    "```"
   ]
  },
  {
   "cell_type": "markdown",
   "id": "a243bd1c",
   "metadata": {
    "hidden": true
   },
   "source": [
    "The argument `x` can be expected to be an instance of`Dune::FieldVector` which has a method `size`\n",
    "giving the number of components of the vector, i.e. the space dimension.\n",
    "\n",
    "The next method simply called `b` is the boundary condition type function. It should return true if the position given by intersection `i` and a local coordinate `x` within the reference element of the intersection is on the Dirichlet boundary.\n",
    "In the particular instance here we set $\\Gamma_D=\\partial\\Omega$:"
   ]
  },
  {
   "cell_type": "markdown",
   "id": "f2b786ad",
   "metadata": {
    "hidden": true
   },
   "source": [
    "```c++\n",
    "template<typename I, typename X>\n",
    "bool b (const I& i, const X& x) const\n",
    "{\n",
    "  return true;\n",
    "}\n",
    "```"
   ]
  },
  {
   "cell_type": "markdown",
   "id": "8165d0f4",
   "metadata": {
    "hidden": true
   },
   "source": [
    "The value of the Dirichlet boundary condition is now defined by the method `g`. <font color=\"red\">As explained above in Section</font> it\n",
    "is more appropriate to provide a function $u_g$ that can be evaluated\n",
    "on $\\overline{\\Omega}$ and gives the value of $g$ on the Dirichlet boundary\n",
    "and the initial guess for the nonlinear solver on all other points:"
   ]
  },
  {
   "cell_type": "markdown",
   "id": "cc71332d",
   "metadata": {
    "hidden": true
   },
   "source": [
    "```c++\n",
    "template<typename E, typename X>\n",
    "Number g (const E& e, const X& x) const\n",
    "{\n",
    "  auto global = e.geometry().global(x);\n",
    "  Number s=0.0;\n",
    "  for (std::size_t i=0; i<global.size(); i++) s+=global[i]*global[i];\n",
    "  return s;\n",
    "}\n",
    "```"
   ]
  },
  {
   "cell_type": "markdown",
   "id": "6eacbeff",
   "metadata": {
    "hidden": true
   },
   "source": [
    "As with the function `f` above the arguments are an element and a local coordinate\n",
    "in its reference element. Here we evaluate it as $u_g(e,x) = \\|\\mu_e(x)\\|^2$.\n",
    "\n",
    "Finally, there is a method defining the value of the Neumann boundary condition.\n",
    "Although there is no Neumann boundary here, the method has to be provided but is\n",
    "never called. The arguments of the method are the same as for the boundary\n",
    "condition type function `b`:"
   ]
  },
  {
   "cell_type": "markdown",
   "id": "1828fcb7",
   "metadata": {
    "hidden": true
   },
   "source": [
    "```c++\n",
    "template<typename I, typename X>\n",
    "Number j (const I& i, const X& x) const\n",
    "{\n",
    "  return 0.0;\n",
    "}\n",
    "```"
   ]
  },
  {
   "cell_type": "markdown",
   "id": "f080bbd3",
   "metadata": {},
   "source": [
    "# Exercises"
   ]
  },
  {
   "cell_type": "markdown",
   "id": "c62ca3cf",
   "metadata": {},
   "source": [
    "## Warming Up"
   ]
  },
  {
   "cell_type": "markdown",
   "id": "c713997c",
   "metadata": {},
   "source": [
    "1. Try out different grids, polynomial degrees and values for $\\eta$.  All these settings can be modified <font color='red'> within the notebook </font>. Here are some suggestions that could be interesting:\n",
    " - use higher values for $\\eta$\n",
    " - Try all combinations of `degree=1|2` and `subsampling=1|2` with appropriate `filename`.  Look at your solutions using paraview <font color='red'>(c++: output from subsampling vtkwriter must be enabled) </font>and the `warp by scalar` filter.  You can see the underlying grid by choosing `surface with edges` instead of `surface` in the paraview drop down menu. How does subsampling change the output?\n",
    " <font color='red'>(run the code with the following settings-check compatibility) </font>"
   ]
  },
  {
   "cell_type": "markdown",
   "id": "3fbcc4db",
   "metadata": {},
   "source": [
    "2. It is easy to implement different nonlinearities. Use $q(u)=\\exp(au)$ by <font color = 'red'> adjusting the file `problem.hh` </font>."
   ]
  },
  {
   "cell_type": "markdown",
   "id": "490ebd5a",
   "metadata": {},
   "source": [
    "3. Go back to $q(u)=\\eta u^2$.  Now we want to see how good our approximation is.  Change the function $f(x)$ in the file   <font color = 'red'> problem.hh </font> to $f(x)=-2d+\\eta(\\sum_{i=1}^d(x)_i^2)^2$ where $d$ is the dimension (and therefore size of $x$). Then $u(x)=\\sum_{i=1}^d(x)_i^2=g(x)$ is the exact solution.  Visualize the exact solution like it is done in tutorial00. We start with the ini file:... Use paraview to see how the maximal error $\\max|u-u_h|$ behaves for diferent refienement levels `refinement=1|...|5`. Then try again for `degree=2`.  What happens here? Does the behaviour change when you use `ug` instead of  `yasp`?"
   ]
  },
  {
   "cell_type": "markdown",
   "id": "a354fb4f",
   "metadata": {},
   "source": [
    "## Nitsche's Method for weak Dirichlet Boundary Conditions"
   ]
  },
  {
   "cell_type": "markdown",
   "id": "fa81897f",
   "metadata": {},
   "source": [
    "------------------------------------------------------"
   ]
  },
  {
   "cell_type": "markdown",
   "id": "60f3bf5b",
   "metadata": {},
   "source": [
    "# Collection of Cells"
   ]
  },
  {
   "cell_type": "code",
   "execution_count": null,
   "id": "0ca2949c",
   "metadata": {},
   "outputs": [],
   "source": [
    "typedef Dune::UGGrid<2> Grid;\n",
    "  std::string filename = ptree.get(\"grid.twod.filename\",\n",
    "                                 \"unitsquare.msh\");\n",
    "  Dune::GridFactory<Grid> factory;\n",
    "  Dune::GmshReader<Grid>::read(factory,filename,true,true);\n",
    "  std::shared_ptr<Grid> gridp(factory.createGrid());\n",
    "  Dune::Timer timer;\n",
    "  gridp->globalRefine(refinement);\n",
    "  std::cout << \"Time for mesh refinement \" << timer.elapsed()\n",
    "          << \" seconds\" << std::endl;\n",
    "  typedef Grid::LeafGridView GV;\n",
    "  typedef Grid::ctype DF;\n",
    "GV gv=gridp->leafGridView();"
   ]
  },
  {
   "cell_type": "code",
   "execution_count": null,
   "id": "0b176a64",
   "metadata": {},
   "outputs": [],
   "source": [
    "gridp"
   ]
  },
  {
   "cell_type": "markdown",
   "id": "f06f0e2d",
   "metadata": {},
   "source": [
    "UG Grid"
   ]
  },
  {
   "cell_type": "code",
   "execution_count": null,
   "id": "f577ae3e",
   "metadata": {},
   "outputs": [],
   "source": [
    "//try to get gridpointer out of if, to visualize the grid\n",
    "//using GridDefaultImplementation <dim, dim, double, UGGridFamily<dim>>\n",
    "//GridDefaultImplementation<dim,dim,typename Coordinates::ctype,YaspGridFamily<dim, Coordinates> >\n",
    "std::unique_ptr<Dune::GridDefaultImplementation<dim,dim,double,>> generalgridp;"
   ]
  },
  {
   "cell_type": "code",
   "execution_count": null,
   "id": "0d4e5128",
   "metadata": {},
   "outputs": [],
   "source": []
  },
  {
   "cell_type": "code",
   "execution_count": null,
   "id": "a2a668ce",
   "metadata": {},
   "outputs": [],
   "source": []
  },
  {
   "cell_type": "code",
   "execution_count": null,
   "id": "139ce677",
   "metadata": {},
   "outputs": [],
   "source": [
    "if (dim==2 && gridmanager==\"ug\"){\n",
    "  typedef Dune::UGGrid<2> Grid;\n",
    "}\n",
    "std::unique_ptr<Grid> gridp;\n",
    "\n",
    "if (dim==2 && gridmanager==\"ug\"){\n",
    "  std::string filename = ptree.get(\"grid.twod.filename\",\n",
    "                                 \"unitsquare.msh\");\n",
    "  Dune::GridFactory<Grid> factory;\n",
    "  Dune::GmshReader<Grid>::read(factory,filename,true,true);\n",
    "  std::unique_ptr<Grid> gridptemp(factory.createGrid());  \n",
    "  gridp = std::move(gridptemp);\n",
    "}\n",
    "  "
   ]
  },
  {
   "cell_type": "code",
   "execution_count": null,
   "id": "fd3ce103",
   "metadata": {},
   "outputs": [],
   "source": [
    "if (dim==2 && gridmanager==\"ug\"){\n",
    "  Dune::Timer timer;\n",
    "  gridp->globalRefine(refinement);\n",
    "  std::cout << \"Time for mesh refinement \" << timer.elapsed()\n",
    "          << \" seconds\" << std::endl;\n",
    "  typedef Grid::LeafGridView GV;\n",
    "  typedef Grid::ctype DF;\n",
    "  GV gv=gridp->leafGridView();\n",
    "  if (degree==1) {\n",
    "    typedef Dune::PDELab::PkLocalFiniteElementMap<GV,DF,double,1> FEM;\n",
    "    FEM fem(gv);\n",
    "    driver(gv,fem,ptree);\n",
    "  }\n",
    "  if (degree==2) {\n",
    "    typedef Dune::PDELab::PkLocalFiniteElementMap<GV,DF,double,2> FEM;\n",
    "    FEM fem(gv);\n",
    "    driver(gv,fem,ptree);\n",
    "  }\n",
    "}"
   ]
  },
  {
   "cell_type": "markdown",
   "id": "31fdc5e9",
   "metadata": {},
   "source": [
    "yasp- grid"
   ]
  },
  {
   "cell_type": "code",
   "execution_count": null,
   "id": "38afc387",
   "metadata": {},
   "outputs": [],
   "source": [
    "if (dim==2 && gridmanager==\"yasp\"){\n",
    "  const int dim=2;\n",
    "  typedef Dune::YaspGrid<dim> Grid;\n",
    "  typedef Grid::ctype DF;\n",
    "  Dune::FieldVector<DF,dim> L;\n",
    "  L[0] = ptree.get(\"grid.structured.LX\",(double)1.0);\n",
    "  L[1] = ptree.get(\"grid.structured.LY\",(double)1.0);\n",
    "  std::array<int,dim> N;\n",
    "  N[0] = ptree.get(\"grid.structured.NX\",(int)10);\n",
    "  N[1] = ptree.get(\"grid.structured.NY\",(int)10);\n",
    "  std::shared_ptr<Grid> gridp = std::shared_ptr<Grid>(new Grid(L,N));\n",
    "  gridp->globalRefine(refinement);\n",
    "  typedef Grid::LeafGridView GV;\n",
    "  GV gv=gridp->leafGridView();\n",
    "  if (degree==1) {\n",
    "    typedef Dune::PDELab::QkLocalFiniteElementMap<GV,DF,double,1> FEM;\n",
    "    FEM fem(gv);\n",
    "    driver(gv,fem,ptree);\n",
    "  }\n",
    "  if (degree==2) {\n",
    "    typedef Dune::PDELab::QkLocalFiniteElementMap<GV,DF,double,2> FEM;\n",
    "    FEM fem(gv);\n",
    "    driver(gv,fem,ptree);\n",
    "  }\n",
    "}"
   ]
  },
  {
   "cell_type": "code",
   "execution_count": null,
   "id": "fb6473c2",
   "metadata": {},
   "outputs": [],
   "source": []
  }
 ],
 "metadata": {
  "kernelspec": {
   "display_name": "C++17 (DUNE)",
   "language": "C++17",
   "name": "90f694aa-4041-547e-bba1-934968691da0"
  },
  "language_info": {
   "codemirror_mode": "text/x-c++src",
   "file_extension": ".cpp",
   "mimetype": "text/x-c++src",
   "name": "c++",
   "version": "17"
  },
  "toc": {
   "base_numbering": 1,
   "nav_menu": {},
   "number_sections": true,
   "sideBar": true,
   "skip_h1_title": false,
   "title_cell": "Table of Contents",
   "title_sidebar": "Contents",
   "toc_cell": false,
   "toc_position": {},
   "toc_section_display": true,
   "toc_window_display": false
  }
 },
 "nbformat": 4,
 "nbformat_minor": 5
}
