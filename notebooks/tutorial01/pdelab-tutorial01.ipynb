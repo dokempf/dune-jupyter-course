{
 "cells": [
  {
   "cell_type": "markdown",
   "id": "a9b3f993",
   "metadata": {},
   "source": [
    "# Tutorial 01: Conforming Finite Element Method for a Nonlinear Poisson Equation"
   ]
  },
  {
   "cell_type": "markdown",
   "id": "e86293fc",
   "metadata": {},
   "source": [
    "In this tutorial we extend tutorial 00 in the following ways:\n",
    "\n",
    "1. Solve a nonlinear stationary partial differential equation (PDE).\n",
    "2. Use conforming finite element spaces of arbitrary order.\n",
    "3. Use different types of (conforming) meshes (simplicial, cubed and mixed).\n",
    "4. Use multiple types of boundary conditions.\n",
    "\n",
    "Combined with the fact that the implementation works in any dimension (note: it is not claimed to be efficient in high dimension $d>3$) this comprises already a relatively large space of different methods, so the example illustrates the flexibility of PDELab. Moreover, the finite element method developed in this tutorial will serve as a building block for instationary problems, adaptive mesh refinement and\n",
    "parallel solution in subsequent tutorials. This tutorial depends on tutorial 00 which discusses piecewise linear elements on simplicial elements. It is assumed that you have worked through tutorial 00 before."
   ]
  },
  {
   "cell_type": "markdown",
   "id": "f536b832",
   "metadata": {},
   "source": [
    "## Problem Formulation"
   ]
  },
  {
   "cell_type": "markdown",
   "id": "4db50e48",
   "metadata": {},
   "source": [
    "Here we consider the following nonlinear Poisson equation with\n",
    "Dirichlet and Neumann boundary conditions:\n",
    "\n",
    "\n",
    "\\begin{align}\\label{eq:ProblemStrong}\n",
    "-\\Delta u + q(u) &= f &&\\text{in $\\Omega$}, \\\\\n",
    "u &= g &&\\text{on $\\Gamma_D\\subseteq\\partial\\Omega$},\\\\\n",
    "-\\nabla u\\cdot \\nu &= j &&\\text{on $\\Gamma_N=\\partial\\Omega\\setminus\\Gamma_D$}.\n",
    "\\end{align}\n",
    "\n",
    "\n",
    "$\\Omega\\subset\\mathbb{R}^d$ is a domain, $q:\\mathbb{R}\\to\\mathbb{R}$ is a given, possibly\n",
    "nonlinear function and $f: \\Omega\\to\\mathbb{R}$ is the source term and\n",
    "$\\nu$ denotes the unit outer normal to the domain.\n",
    "\n",
    "The weak formulation of this problem is derived by multiplication with an appropriate\n",
    "test function and integrating by parts. This results in the abstract problem:\n",
    "\\begin{equation}\n",
    "\\text{Find $u\\in U$ s.t.:} \\quad r^{\\text{NLP}}(u,v)=0 \\quad \\forall v\\in V,\n",
    "\\label{Eq:BasicBuildingBlock}\n",
    "\\end{equation}\n",
    "\n",
    "with the continuous residual form\n",
    "\\begin{equation*}\n",
    "r^{\\text{NLP}}(u,v) = \\int_\\Omega \\nabla u \\cdot \\nabla v + (q(u)-f)v\\,dx + \\int_{\\Gamma_N} jv\\,ds\n",
    "\\label{eq:ResidualForm}\n",
    "\\end{equation*}\n",
    "and the function spaces \n",
    "$U= \\{v\\in H^1(\\Omega) \\,:\\, \\text{''$v=g$'' on $\\Gamma_D$}\\}$\n",
    "and $V= \\{v\\in H^1(\\Omega) \\,:\\, \\text{''$v=0$'' on $\\Gamma_D$}\\}$. \n",
    "We assume that $q$ is such that this problem has a unique solution."
   ]
  },
  {
   "cell_type": "markdown",
   "id": "40e99bda",
   "metadata": {},
   "source": [
    "## Finite Element Method"
   ]
  },
  {
   "cell_type": "markdown",
   "id": "9db0b689",
   "metadata": {},
   "source": [
    "## Realization in PDELab"
   ]
  },
  {
   "cell_type": "markdown",
   "id": "f35776e1",
   "metadata": {},
   "source": [
    "- [ ] is this produces the right output?\n",
    "- [x] include driver\n",
    "- [x] include problem.hh\n",
    "- [ ] include explanation of LOP class, same way as problem.hh\n",
    "- [ ] provide solutions for exercise1\n",
    "- [ ] make real exercises out of parts for exercise2"
   ]
  },
  {
   "cell_type": "markdown",
   "id": "6cf6a725",
   "metadata": {},
   "source": [
    "The structure of the code is very similar to that of tutorial 00. Again, all the Dune sources are included through one convenience header:"
   ]
  },
  {
   "cell_type": "code",
   "execution_count": null,
   "id": "a917938b",
   "metadata": {},
   "outputs": [],
   "source": [
    "#include <dune/jupyter.hh>\n",
    "#include \"nonlinearpoissonfem.hh\"\n",
    "#include \"problem.hh\""
   ]
  },
  {
   "cell_type": "markdown",
   "id": "794e14f7",
   "metadata": {},
   "source": [
    "As for the previous tutorial, a number of runtime paramters is provided in a configuration file `tutorial01.ini`, which can be found in the `notebooks/tutorial01` directory. Again the paramters are parsed into a `ParamterTree`."
   ]
  },
  {
   "cell_type": "code",
   "execution_count": null,
   "id": "c28f5029",
   "metadata": {},
   "outputs": [],
   "source": [
    "Dune::ParameterTree ptree;\n",
    "Dune::ParameterTreeParser ptreeparser;\n",
    "ptreeparser.readINITree(\"tutorial01.ini\",ptree);"
   ]
  },
  {
   "cell_type": "markdown",
   "id": "a4935d93",
   "metadata": {},
   "source": [
    "Ini File not that important for jupyter notebooks"
   ]
  },
  {
   "cell_type": "markdown",
   "id": "86b6c48e",
   "metadata": {},
   "source": [
    "**First, a DUNE grid object is instantiated**"
   ]
  },
  {
   "cell_type": "code",
   "execution_count": null,
   "id": "b948ae04",
   "metadata": {},
   "outputs": [],
   "source": [
    "// read ini file\n",
    "const int dim = 2;\n",
    "// const int dim = ptree.get<int>(\"grid.dim\");\n",
    "const int refinement = ptree.get<int>(\"grid.refinement\");\n",
    "//std::string gridmanager = ptree.get(\"grid.manager\",\"yasp\");\n",
    "//const int degree = ptree.get<int>(\"fem.degree\");"
   ]
  },
  {
   "cell_type": "markdown",
   "id": "21286272",
   "metadata": {},
   "source": [
    "Choose gridtype"
   ]
  },
  {
   "cell_type": "code",
   "execution_count": null,
   "id": "e5e57994",
   "metadata": {},
   "outputs": [],
   "source": [
    "using Grid = Dune::UGGrid<dim>; \n",
    "//using Grid = Dune::YaspGrid<dim>; "
   ]
  },
  {
   "cell_type": "markdown",
   "id": "729b3af4",
   "metadata": {},
   "source": [
    "As stated in the DUNE grid interface exercise, the biggest strength of the generic Grid API provided by Dune is that the ONE CODE can use different grid implementations. *There are however also more specific implementations that allow for xxx* *Note that here *\n",
    "We are using a two-dimensional, *unstructured *mesh for this simulation. The code below creates a 2x2 grid for the uinit square.he unit square $\\Omega = [0,1]^2$. "
   ]
  },
  {
   "cell_type": "code",
   "execution_count": null,
   "id": "c63edede",
   "metadata": {},
   "outputs": [],
   "source": [
    "//more general version------\n",
    "Dune::FieldVector<double,dim> lowerleft(0.0);\n",
    "Dune::FieldVector<double,dim> upperright(1.0);\n",
    "auto N = Dune::filledArray<dim, unsigned int>(2);\n",
    "std::unique_ptr<Grid> gridp = Dune::StructuredGridFactory<Grid>::createCubeGrid(lowerleft, upperright, N);\n",
    "Dune::Timer timer;\n",
    "std::cout << \"Time for mesh refinement \" << timer.elapsed()<< \" seconds\" << std::endl;\n",
    "using GV = Grid::LeafGridView;\n",
    "using DF = Grid::ctype;\n",
    "GV gv = gridp->leafGridView();"
   ]
  },
  {
   "cell_type": "code",
   "execution_count": null,
   "id": "f534d880",
   "metadata": {},
   "outputs": [],
   "source": [
    "gridp"
   ]
  },
  {
   "cell_type": "markdown",
   "id": "7f871b5c",
   "metadata": {},
   "source": [
    "Here, a polyniomial degree can bee chosen:"
   ]
  },
  {
   "cell_type": "code",
   "execution_count": null,
   "id": "97630889",
   "metadata": {},
   "outputs": [],
   "source": [
    "const int degree = 1;"
   ]
  },
  {
   "cell_type": "code",
   "execution_count": null,
   "id": "79fb8969",
   "metadata": {},
   "outputs": [],
   "source": [
    "using FEM = Dune::PDELab::QkLocalFiniteElementMap<GV,DF,double,degree>;\n",
    "FEM fem(gv);\n",
    "//driver(gv,fem,ptree);"
   ]
  },
  {
   "cell_type": "markdown",
   "id": "89788e53",
   "metadata": {},
   "source": [
    "### Driver"
   ]
  },
  {
   "cell_type": "markdown",
   "id": "62308c0e",
   "metadata": {},
   "source": [
    "**Then/The driver instantiates the necessary PDELab classes for solving a nonlinear stationary problem and finally solves the problem**"
   ]
  },
  {
   "cell_type": "code",
   "execution_count": null,
   "id": "5cbdc69d",
   "metadata": {},
   "outputs": [],
   "source": [
    "// dimension and important types\n",
    "//  const int dim = GV::dimension;\n",
    "using RF = double; "
   ]
  },
  {
   "cell_type": "markdown",
   "id": "0b04e5c8",
   "metadata": {},
   "source": [
    "The interface of the parameter class is defined by the implementor of the local operator and is not part of PDELab. As shown in tutorial 00 it is perfectly possible to have a local operator without a parameter class.\n",
    "The following code segment instantiates the problem class which is called `Problem` here (it is explained in detail below)"
   ]
  },
  {
   "cell_type": "code",
   "execution_count": null,
   "id": "d4f76a9f",
   "metadata": {},
   "outputs": [],
   "source": [
    "// make PDE parameter class\n",
    "RF eta = ptree.get(\"problem.eta\",(RF)1.0);\n",
    "Problem<RF> problem(eta);"
   ]
  },
  {
   "cell_type": "markdown",
   "id": "be3946d1",
   "metadata": {},
   "source": [
    "Now there are two places where information from the PDE is used in PDELab. First of all we need to have an object that can be used as an argument to `Dune::PDELab::interpolate` to initialize a vector which represents the initial guess and the Dirichlet boundary conditions.\n",
    "The class `Problem` defines a method which we need to use to define a class with the interface of `Dune::PDELab::GridFunction`.\n",
    "This is accomplished by the following code using C++-14 generic lambdas:"
   ]
  },
  {
   "cell_type": "code",
   "execution_count": null,
   "id": "183e930c",
   "metadata": {},
   "outputs": [],
   "source": [
    "auto g = Dune::PDELab::makeGridFunctionFromCallable(\n",
    "    gv,\n",
    "    [&](const auto& e, const auto& x) {\n",
    "        return problem.g(e,x);\n",
    "    }                                             \n",
    ");;"
   ]
  },
  {
   "cell_type": "markdown",
   "id": "f43668cc",
   "metadata": {},
   "source": [
    "Similarly, we need an object that can be passed to `Dune::PDELab::constraints` to fill a constraints container which is used to build a subspace of a function space. Again, the class `Problem` defines such a method which is extracted with a lambda function:"
   ]
  },
  {
   "cell_type": "code",
   "execution_count": null,
   "id": "629dbd1c",
   "metadata": {},
   "outputs": [],
   "source": [
    "auto b = Dune::PDELab::makeBoundaryConditionFromCallable(\n",
    "    gv,\n",
    "    [&](const auto& i, const auto& x){\n",
    "        return problem.b(i,x);\n",
    "    }\n",
    ");;"
   ]
  },
  {
   "cell_type": "markdown",
   "id": "0dc8dac6",
   "metadata": {},
   "source": [
    "The next step is to define the grid function space. This is\n",
    "exactly the same code as in tutorial 00."
   ]
  },
  {
   "cell_type": "code",
   "execution_count": null,
   "id": "68869094",
   "metadata": {},
   "outputs": [],
   "source": [
    "// Make grid function space\n",
    "//== Exercise 2 {\n",
    "typedef Dune::PDELab::ConformingDirichletConstraints CON;\n",
    "// typedef Dune::PDELab::NoConstraints CON;\n",
    "//== }\n",
    "typedef Dune::PDELab::ISTL::VectorBackend<> VBE;\n",
    "typedef Dune::PDELab::GridFunctionSpace<GV,FEM,CON,VBE> GFS;\n",
    "GFS gfs(gv,fem);\n",
    "gfs.name(\"Vh\");"
   ]
  },
  {
   "cell_type": "markdown",
   "id": "6b1a2d10",
   "metadata": {},
   "source": [
    "Now comes unchanged code to assemble the constraints, instantiate a coefficient vector, making a discrete grid function that can be used for visualization and interpolating the initial guess and Dirichlet boundary conditions:"
   ]
  },
  {
   "cell_type": "code",
   "execution_count": null,
   "id": "06948deb",
   "metadata": {},
   "outputs": [],
   "source": [
    "// Assemble constraints\n",
    "//== Exercise 2 {\n",
    "typedef typename GFS::template\n",
    "ConstraintsContainer<RF>::Type CC;\n",
    "CC cc;\n",
    "Dune::PDELab::constraints(b,gfs,cc); // assemble constraints\n",
    "std::cout << \"constrained dofs=\" << cc.size() << \" of \"\n",
    "        << gfs.globalSize() << std::endl;\n",
    "// typedef Dune::PDELab::EmptyTransformation CC;\n",
    "//== }\n",
    "\n",
    "// A coefficient vector\n",
    "using Z = Dune::PDELab::Backend::Vector<GFS,RF>;\n",
    "Z z(gfs); // initial value\n",
    "\n",
    "// Make a grid function out of it\n",
    "typedef Dune::PDELab::DiscreteGridFunction<GFS,Z> ZDGF;\n",
    "ZDGF zdgf(gfs,z);\n",
    "\n",
    "// Fill the coefficient vector\n",
    "Dune::PDELab::interpolate(g,gfs,z);"
   ]
  },
  {
   "cell_type": "markdown",
   "id": "ed075f4b",
   "metadata": {},
   "source": [
    "The next step is to instantiate a local operator, called `NonlinearPoissonFEM`, containing the implementation of the element-wise computations of the finite element method. As explained above the local operator is parametrized by the class \n",
    "`Problem`. In addition, also the finite element map is passed as a template parameter for reasons that will become clear below:"
   ]
  },
  {
   "cell_type": "code",
   "execution_count": null,
   "id": "c389fba2",
   "metadata": {},
   "outputs": [],
   "source": [
    "// Make a local operator\n",
    "//== Exercise 2 {\n",
    "typedef NonlinearPoissonFEM<Problem<RF>,FEM> LOP;\n",
    "LOP lop(problem);\n",
    "// RF stab = ptree.get(\"fem.stab\",(RF)1);\n",
    "// typedef NitscheNonlinearPoissonFEM<Problem<RF>,FEM> LOP;\n",
    "// LOP lop(problem,stab);\n",
    "//== }"
   ]
  },
  {
   "cell_type": "markdown",
   "id": "7a0c06a4",
   "metadata": {},
   "source": [
    "Now the grid function space, local operator, matrix backend and\n",
    "constraints container are used to set up a grid operator facilitatingcthe global residual assembly, Jacobian assembly and matrix-free Jacobian application. The matrix backend is initialized with a guess of the approximate number\n",
    "of nonzero matrix entries per row."
   ]
  },
  {
   "cell_type": "code",
   "execution_count": null,
   "id": "311356f8",
   "metadata": {},
   "outputs": [],
   "source": [
    "// Make a global operator\n",
    "typedef Dune::PDELab::ISTL::BCRSMatrixBackend<> MBE;\n",
    "int degree = ptree.get(\"fem.degree\",(int)1);\n",
    "MBE mbe((int)pow(1+2*degree,dim));\n",
    "typedef Dune::PDELab::GridOperator<\n",
    "GFS,GFS,  /* ansatz and test space */\n",
    "LOP,      /* local operator */\n",
    "MBE,      /* matrix backend */\n",
    "RF,RF,RF, /* domain, range, jacobian field type*/\n",
    "CC,CC     /* constraints for ansatz and test space */\n",
    "> GO;\n",
    "//== Exercise 2 {\n",
    "GO go(gfs,cc,gfs,cc,lop,mbe);\n",
    "// GO go(gfs,gfs,lop,mbe);\n",
    "//== }"
   ]
  },
  {
   "cell_type": "markdown",
   "id": "eb316fe0",
   "metadata": {},
   "source": [
    "In order to prepare for the solution process an appropriate linear solver needs to be selected:"
   ]
  },
  {
   "cell_type": "code",
   "execution_count": null,
   "id": "075ef60d",
   "metadata": {},
   "outputs": [],
   "source": [
    "typedef Dune::PDELab::ISTLBackend_SEQ_CG_AMG_SSOR<GO> LS;\n",
    "LS ls(100,2);"
   ]
  },
  {
   "cell_type": "markdown",
   "id": "5c61ff0e",
   "metadata": {},
   "source": [
    "Since the problem is nonlinear we use the implementation of\n",
    "Newton's method in PDELab. It provides the inexact Newton method\n",
    "in the sense that the iterative solution of the linear subproblems is stopped early and uses line search as globalization strategy:"
   ]
  },
  {
   "cell_type": "code",
   "execution_count": null,
   "id": "a9752f33",
   "metadata": {},
   "outputs": [],
   "source": [
    "Dune::PDELab::Newton<GO,LS,Z> newton(go,z,ls);\n",
    "newton.setReassembleThreshold(0.0); // always reassemble J\n",
    "newton.setVerbosityLevel(3);        // be verbose\n",
    "newton.setReduction(1e-10);         // total reduction\n",
    "newton.setMinLinearReduction(1e-4); // min. red. in lin. solve\n",
    "newton.setMaxIterations(25);        // limit number of its\n",
    "newton.setLineSearchMaxIterations(10); // limit line search"
   ]
  },
  {
   "cell_type": "markdown",
   "id": "723b4f82",
   "metadata": {},
   "source": [
    "Now, finally do all the work and solve the problem:"
   ]
  },
  {
   "cell_type": "code",
   "execution_count": null,
   "id": "4a4af937",
   "metadata": {},
   "outputs": [],
   "source": [
    "newton.apply();"
   ]
  },
  {
   "cell_type": "markdown",
   "id": "308f121d",
   "metadata": {},
   "source": [
    "At the end we can write the VTK file with subsampling:"
   ]
  },
  {
   "cell_type": "code",
   "execution_count": null,
   "id": "fbf6aec3",
   "metadata": {},
   "outputs": [],
   "source": [
    "// Write VTK output file\n",
    "int subsampling = ptree.get(\"output.subsampling\",(int)1);\n",
    "Dune::SubsamplingVTKWriter<GV> vtkwriter(gv,Dune::refinementIntervals(subsampling));\n",
    "typedef Dune::PDELab::VTKGridFunctionAdapter<ZDGF> VTKF;\n",
    "vtkwriter.addVertexData(std::shared_ptr<VTKF>(new VTKF(zdgf,\"fesol\")));\n",
    "vtkwriter.write(ptree.get(\"output.filename\",\"output\"), Dune::VTK::appendedraw);"
   ]
  },
  {
   "cell_type": "markdown",
   "id": "ff6fcc33",
   "metadata": {},
   "source": [
    "The visualization data can be generated in Jupyter by printing the VTKWriter instance:"
   ]
  },
  {
   "cell_type": "code",
   "execution_count": null,
   "id": "b5d641db",
   "metadata": {},
   "outputs": [],
   "source": [
    "vtkwriter"
   ]
  },
  {
   "cell_type": "markdown",
   "id": "4c7e5bf1",
   "metadata": {
    "heading_collapsed": true
   },
   "source": [
    "### Problem.hh"
   ]
  },
  {
   "cell_type": "markdown",
   "id": "7d4ac988",
   "metadata": {
    "hidden": true
   },
   "source": [
    "<font color= \"red\"> Note that the cells are note executable, as the class would not a allow for a seperation of cells. Changes can be made in the file `problem.hh` which is provided in the same folder as this notebook. </font>"
   ]
  },
  {
   "cell_type": "markdown",
   "id": "00c36ec4",
   "metadata": {
    "hidden": true
   },
   "source": [
    "The class `Problem` contained in the file `problem.hh` provides all parameter functions for the PDE problem. It is parameterized with the floating point type to be used:"
   ]
  },
  {
   "cell_type": "markdown",
   "id": "c485b466",
   "metadata": {
    "hidden": true
   },
   "source": [
    "```c++\n",
    "template<typename Number>\n",
    "class Problem\n",
    "```"
   ]
  },
  {
   "cell_type": "markdown",
   "id": "4b01ab10",
   "metadata": {
    "hidden": true
   },
   "source": [
    "Its constructor takes a parameter $\\eta$ as argument:"
   ]
  },
  {
   "cell_type": "markdown",
   "id": "4a93920f",
   "metadata": {
    "hidden": true
   },
   "source": [
    "```c++\n",
    "Problem (const Number& eta_) : eta(eta_) {}\n",
    "```"
   ]
  },
  {
   "cell_type": "markdown",
   "id": "832378bc",
   "metadata": {
    "hidden": true
   },
   "source": [
    "Now come the parameter functions defining the PDE problem.\n",
    "First is the nonlinearity $q(u)$:"
   ]
  },
  {
   "cell_type": "markdown",
   "id": "946a6569",
   "metadata": {
    "hidden": true
   },
   "source": [
    "```c++\n",
    "Number q (Number u) const\n",
    "{\n",
    "  return eta*u*u;\n",
    "}\n",
    "```"
   ]
  },
  {
   "cell_type": "markdown",
   "id": "7aa67de5",
   "metadata": {
    "hidden": true
   },
   "source": [
    "We also provide the derivative of the function $q$ as a seperate method:"
   ]
  },
  {
   "cell_type": "markdown",
   "id": "e3b5a463",
   "metadata": {
    "hidden": true
   },
   "source": [
    "```c++\n",
    "Number qprime (Number u) const\n",
    "{\n",
    "  return 2*eta*u;\n",
    "}\n",
    "```"
   ]
  },
  {
   "cell_type": "markdown",
   "id": "3be41c08",
   "metadata": {
    "hidden": true
   },
   "source": [
    "This allows the implementation of an exact Jacobian later (illustrated in tutorial 02) and is actually not needed here as we will use a numerical Jacobian.\n",
    "\n",
    "Next is the right hand side function $f$ which gets an element `e` and a local coordinate `x` within\n",
    "the corresponding reference element as a parameter:"
   ]
  },
  {
   "cell_type": "markdown",
   "id": "d7e737ca",
   "metadata": {
    "hidden": true
   },
   "source": [
    "```c++\n",
    "template<typename E, typename X>\n",
    "Number f (const E& e, const X& x) const\n",
    "{\n",
    "  return -2.0*x.size();\n",
    "}\n",
    "```"
   ]
  },
  {
   "cell_type": "markdown",
   "id": "8d22bf6b",
   "metadata": {
    "hidden": true
   },
   "source": [
    "The argument `x` can be expected to be an instance of`Dune::FieldVector` which has a method `size`\n",
    "giving the number of components of the vector, i.e. the space dimension.\n",
    "\n",
    "The next method simply called `b` is the boundary condition type function. It should return true if the position given by intersection `i` and a local coordinate `x` within the reference element of the intersection is on the Dirichlet boundary.\n",
    "In the particular instance here we set $\\Gamma_D=\\partial\\Omega$:"
   ]
  },
  {
   "cell_type": "markdown",
   "id": "d968f6ae",
   "metadata": {
    "hidden": true
   },
   "source": [
    "```c++\n",
    "template<typename I, typename X>\n",
    "bool b (const I& i, const X& x) const\n",
    "{\n",
    "  return true;\n",
    "}\n",
    "```"
   ]
  },
  {
   "cell_type": "markdown",
   "id": "ae21f8b6",
   "metadata": {
    "hidden": true
   },
   "source": [
    "The value of the Dirichlet boundary condition is now defined by the method `g`. <font color=\"red\">As explained above in Section</font> it\n",
    "is more appropriate to provide a function $u_g$ that can be evaluated\n",
    "on $\\overline{\\Omega}$ and gives the value of $g$ on the Dirichlet boundary\n",
    "and the initial guess for the nonlinear solver on all other points:"
   ]
  },
  {
   "cell_type": "markdown",
   "id": "25e32cd8",
   "metadata": {
    "hidden": true
   },
   "source": [
    "```c++\n",
    "template<typename E, typename X>\n",
    "Number g (const E& e, const X& x) const\n",
    "{\n",
    "  auto global = e.geometry().global(x);\n",
    "  Number s=0.0;\n",
    "  for (std::size_t i=0; i<global.size(); i++) s+=global[i]*global[i];\n",
    "  return s;\n",
    "}\n",
    "```"
   ]
  },
  {
   "cell_type": "markdown",
   "id": "1353f625",
   "metadata": {
    "hidden": true
   },
   "source": [
    "As with the function `f` above the arguments are an element and a local coordinate\n",
    "in its reference element. Here we evaluate it as $u_g(e,x) = \\|\\mu_e(x)\\|^2$.\n",
    "\n",
    "Finally, there is a method defining the value of the Neumann boundary condition.\n",
    "Although there is no Neumann boundary here, the method has to be provided but is\n",
    "never called. The arguments of the method are the same as for the boundary\n",
    "condition type function `b`:"
   ]
  },
  {
   "cell_type": "markdown",
   "id": "b8695003",
   "metadata": {
    "hidden": true
   },
   "source": [
    "```c++\n",
    "template<typename I, typename X>\n",
    "Number j (const I& i, const X& x) const\n",
    "{\n",
    "  return 0.0;\n",
    "}\n",
    "```"
   ]
  },
  {
   "cell_type": "markdown",
   "id": "73dc7136",
   "metadata": {
    "heading_collapsed": true
   },
   "source": [
    "### Local Operator"
   ]
  },
  {
   "cell_type": "markdown",
   "id": "b0451bcc",
   "metadata": {
    "hidden": true
   },
   "source": [
    "We now turn to how the residual can be evaluated in practice. The residual form \\eqref{eq:ResidualForm} can be readily decomposed into elementwise contributions:\n",
    "\\begin{equation*}\n",
    "r^{\\text{NLP}}\\left(u,v\\right) =  \n",
    "\\sum_{T\\in\\mathcal{T}_h} \\alpha_T^V(u,v) \n",
    "  + \\sum_{T\\in\\mathcal{T}_h} \\lambda_T^V(v)\n",
    " + \\sum_{F\\in\\mathcal{F}_h^{\\partial\\Omega}}\\lambda_F^B(v)\n",
    "\\end{equation*}\n",
    "with\n",
    "\\begin{align*}\n",
    "\\alpha_T^V(u,v) &= \\int_T \\nabla u \\cdot \\nabla v + q(u) v \\,dx, &\n",
    "\\lambda_T^V(v) &= - \\int_T f v \\,dx, &\n",
    "\\lambda_F^B(v) &= \\int_{F\\cap\\Gamma_N} j v\\,ds.\n",
    "\\end{align*}"
   ]
  },
  {
   "cell_type": "markdown",
   "id": "037de877",
   "metadata": {
    "hidden": true
   },
   "source": [
    "Here $\\mathcal{F}_h^{\\partial\\Omega}$ is the set of intersections of elements with the domain boundary $\\partial\\Omega$.\n",
    "The element-wise computations can be classified on the one hand as volume integrals (superscript $V$), boundary integrals (superscript $B$) and skeleton integrals (superscript $S$, to be shown later) and on the\n",
    "other hand as integrals depending on trial and test functions ($\\alpha$-terms) and integrals depending only on test functions ($\\lambda$-terms). Here we need three of these six possible combinations.\n",
    "\n",
    "The three terms can now be evaluated using the techniques introduced in tutorial 00 with the small extension that for general maps $\\mu_T$ we have \n",
    "$$\\nabla w(\\mu_T(\\hat x)) = J_{\\mu_T}^{-1}(\\hat x) \\hat\\nabla \\hat w (\\hat x)$$\n",
    "with $J_{\\mu_T}(\\hat x)$ the Jacobian of $\\mu_T$ at point $\\hat x$."
   ]
  },
  {
   "cell_type": "code",
   "execution_count": null,
   "id": "494d8eaf",
   "metadata": {
    "hidden": true
   },
   "outputs": [],
   "source": []
  },
  {
   "cell_type": "code",
   "execution_count": null,
   "id": "c1b6a6a7",
   "metadata": {
    "hidden": true
   },
   "outputs": [],
   "source": []
  },
  {
   "cell_type": "markdown",
   "id": "530dc8ae",
   "metadata": {
    "hidden": true
   },
   "source": [
    "The class `NonlinearPoissonFEM` implements the element-wise computations of the finite element method\n",
    "<font color='red'>introduced in Section `Sec:ElementComputations` above </font>. Evaluation of the residual $R(z)$ is accomplished\n",
    "by the three types of contributions <font color='red'> shown in equation \\eqref{eq:FinalResidualEvaluation}. </font>\n",
    "In order to make things as simple as possible we chose to implement the evaluation of the Jacobian and the matrix-free Jacobian application with finite differences. \n",
    "\n",
    "The definition of class `NonlinearPoissonFEM` starts as follows:"
   ]
  },
  {
   "cell_type": "markdown",
   "id": "8bb3ce9f",
   "metadata": {
    "hidden": true
   },
   "source": [
    "```c++\n",
    "template<typename Param, typename FEM>\n",
    "class NonlinearPoissonFEM :\n",
    "  public Dune::PDELab::\n",
    "    NumericalJacobianVolume<NonlinearPoissonFEM<Param,FEM> >,\n",
    "  public Dune::PDELab::\n",
    "    NumericalJacobianApplyVolume<NonlinearPoissonFEM<Param,FEM> >,\n",
    "  public Dune::PDELab::FullVolumePattern,\n",
    "  public Dune::PDELab::LocalOperatorDefaultFlags\n",
    "``` "
   ]
  },
  {
   "cell_type": "markdown",
   "id": "078940af",
   "metadata": {
    "hidden": true
   },
   "source": [
    "The class is parametrized by a parameter class and a finite element map.\n",
    "Implementation of element-wise contributions to the Jacobian and matrix-free\n",
    "Jacobian evaluation is achieved through inheriting from the\n",
    "classes `NumericalJacobianVolume` and `NumericalJacobianApplyVolume`.\n",
    "Using the *curiously recurring template pattern* these classes provide \n",
    "the corresponding methods without any additional coding effort\n",
    "based on the `alpha_volume` method explained below.\n",
    "The other two base classes are the same as in tutorial 00."
   ]
  },
  {
   "cell_type": "markdown",
   "id": "1cdd6005",
   "metadata": {
    "hidden": true
   },
   "source": [
    "The private data members are a cache for evaluation of the basis functions on the reference element:"
   ]
  },
  {
   "cell_type": "markdown",
   "id": "2d55dd1d",
   "metadata": {
    "hidden": true
   },
   "source": [
    "```c++\n",
    "typedef typename FEM::Traits::FiniteElementType::\n",
    "     Traits::LocalBasisType LocalBasis;\n",
    "  Dune::PDELab::LocalBasisCache<LocalBasis> cache;\n",
    "```"
   ]
  },
  {
   "cell_type": "markdown",
   "id": "21b66ec0",
   "metadata": {
    "hidden": true
   },
   "source": [
    "a reference to the parameter object:"
   ]
  },
  {
   "cell_type": "markdown",
   "id": "57822fa8",
   "metadata": {
    "hidden": true
   },
   "source": [
    "```c++\n",
    "Param& param;\n",
    "```"
   ]
  },
  {
   "cell_type": "markdown",
   "id": "fd27e308",
   "metadata": {
    "hidden": true
   },
   "source": [
    "and an integer value controlling the order of the formulas used for numerical quadrature:"
   ]
  },
  {
   "cell_type": "markdown",
   "id": "d55c4587",
   "metadata": {
    "hidden": true
   },
   "source": [
    "```c++\n",
    "int incrementorder;\n",
    "```"
   ]
  },
  {
   "cell_type": "markdown",
   "id": "4416e9b7",
   "metadata": {
    "hidden": true
   },
   "source": [
    "The public part of the class starts with the definition of the flags controlling\n",
    "the generic assembly process. The `doPatternVolume` flag specifies that the sparsity pattern of the Jacobian is determined by couplings between degrees of freedom associated with single elements. The corresponding\n",
    "default pattern assembly method is inherited from the class `FullVolumePattern`:"
   ]
  },
  {
   "cell_type": "markdown",
   "id": "9868757c",
   "metadata": {
    "hidden": true
   },
   "source": [
    "```c++\n",
    "enum { doPatternVolume = true };\n",
    "```"
   ]
  },
  {
   "cell_type": "markdown",
   "id": "5904a4fe",
   "metadata": {
    "hidden": true
   },
   "source": [
    "The residual assembly flags indicate that in this local operator we will provide the methods `lambda_volume`, `lambda_boundary` and `alpha_volume`:"
   ]
  },
  {
   "cell_type": "markdown",
   "id": "50f3f0b4",
   "metadata": {
    "hidden": true
   },
   "source": [
    "```c++\n",
    "enum { doLambdaVolume = true };\n",
    "enum { doLambdaBoundary = true };\n",
    "enum { doAlphaVolume = true };\n",
    "```"
   ]
  },
  {
   "cell_type": "markdown",
   "id": "88d45850",
   "metadata": {
    "hidden": true
   },
   "source": [
    "Next comes the constructor taking as an argument a reference to a parameter object and the optional increment of the quadrature order:"
   ]
  },
  {
   "cell_type": "markdown",
   "id": "75c3bcc0",
   "metadata": {
    "hidden": true
   },
   "source": [
    "```c++\n",
    "NonlinearPoissonFEM (Param& param_, int incrementorder_=0)\n",
    "    : param(param_), incrementorder(incrementorder_)\n",
    "  {}\n",
    "```"
   ]
  },
  {
   "cell_type": "markdown",
   "id": "67d1695a",
   "metadata": {
    "heading_collapsed": true,
    "hidden": true
   },
   "source": [
    "#### Method `lambda_volume`"
   ]
  },
  {
   "cell_type": "markdown",
   "id": "5044fd3e",
   "metadata": {
    "hidden": true
   },
   "source": [
    "For any $(T,m)\\in C(i)$ we obtain \n",
    "\\begin{equation*}\n",
    "\\begin{split}\n",
    "\\lambda_T^V(\\phi_i) &= - \\int_T f \\phi_i \\,dx = \n",
    "- \\int_{\\hat T} f(\\mu_T(\\hat x)) p_m^{\\hat T}(\\hat x) |\\text{det} J_{\\mu_T}(\\hat x)|\\, d\\hat x .\n",
    "\\end{split}\n",
    "\\end{equation*}\n",
    "This integral on the reference element is then computed by employing numerical integration of appropriate order.\n",
    "The evaluation for all test functions with support on element $T$ may be collected in a vector \n",
    "\\begin{equation*}\n",
    "(\\mathcal{L}_T^V)_m = - \\int_{\\hat T} f(\\mu_T(\\hat x)) p_m^{\\hat T}(\\hat x) \n",
    "|\\text{det} J_{\\mu_T}(\\hat x)|\\, d\\hat x.\n",
    "\\end{equation*}"
   ]
  },
  {
   "cell_type": "markdown",
   "id": "b68ddd0b",
   "metadata": {
    "hidden": true
   },
   "source": [
    "<font color='red'> This method was also present in the local operator `PoissonP1` in tutorial00. It implements the term $\\mathcal{L}_T^V$ and has the interface: </font>"
   ]
  },
  {
   "cell_type": "markdown",
   "id": "92d478c8",
   "metadata": {
    "hidden": true
   },
   "source": [
    "```c++\n",
    "//! right hand side integral\n",
    "template<typename EG, typename LFSV, typename R>\n",
    "void lambda_volume (const EG& eg, const LFSV& lfsv, R& r) const\n",
    "```"
   ]
  },
  {
   "cell_type": "markdown",
   "id": "d7f16549",
   "metadata": {
    "hidden": true
   },
   "source": [
    "The implementation here uses numerical quadrature of sufficiently high order\n",
    "which is selected at the beginning of the method:"
   ]
  },
  {
   "cell_type": "markdown",
   "id": "d1633473",
   "metadata": {
    "hidden": true
   },
   "source": [
    "```c++\n",
    "auto geo = eg.geometry();\n",
    "const int order = incrementorder + 2*lfsv.finiteElement().localBasis().order();\n",
    "auto rule = Dune::PDELab::quadratureRule(geo,order);\n",
    "```"
   ]
  },
  {
   "cell_type": "markdown",
   "id": "2d8a37f6",
   "metadata": {
    "hidden": true
   },
   "source": [
    "The DUNE quadrature rules provide a container of quadrature points that can be iterated over:"
   ]
  },
  {
   "cell_type": "markdown",
   "id": "c4779e25",
   "metadata": {
    "hidden": true
   },
   "source": [
    "```c++\n",
    "for (const auto& ip : rule)\n",
    "      {\n",
    "        // evaluate basis functions\n",
    "        auto& phihat = cache.evaluateFunction(ip.position(), lfsv.finiteElement().localBasis());\n",
    "\n",
    "        // integrate -f*phi_i\n",
    "        decltype(ip.weight()) factor = ip.weight()*\n",
    "          geo.integrationElement(ip.position());\n",
    "        auto f=param.f(eg.entity(),ip.position());\n",
    "        for (size_t i=0; i<lfsv.size(); i++)\n",
    "          r.accumulate(lfsv,i,-f*phihat[i]*factor);\n",
    "      }\n",
    "```      "
   ]
  },
  {
   "cell_type": "markdown",
   "id": "22980083",
   "metadata": {
    "hidden": true
   },
   "source": [
    "At each quadrature point all basis functions are evaluated. The local function space argument `lfsv` provides all the basis functions on the reference element. Evaluations are cached for each point as the evaluation\n",
    "may be quite costly, especially for high order. In addition, copying of data is avoided as the cache returns only a reference to the data stored in the cache. The integration factor is the product of the weight of the quadrature point and the value of $|\\text{det} J_{\\mu_T}(\\hat x)|$. The implementation works also\n",
    "for non-affine element transformation. The quadrature order should be increased by providing a value for `incrementorder` in the constructor.\n",
    "Then the parameter function can be evaluated and finally the residual contributions for each test function are stored in the result object `r`."
   ]
  },
  {
   "cell_type": "markdown",
   "id": "84155027",
   "metadata": {
    "heading_collapsed": true,
    "hidden": true
   },
   "source": [
    "#### Method `lambda_boundary`"
   ]
  },
  {
   "cell_type": "markdown",
   "id": "447a4752",
   "metadata": {
    "hidden": true
   },
   "source": [
    "For $F\\in\\mathcal{F}_h^{\\partial\\Omega}$ with $F\\cap\\Gamma_N\\neq\\emptyset$ and $(T_F^-,m)\\in C(i)$ we obtain\n",
    "\\begin{equation*}\n",
    "\\begin{split}\n",
    "\\lambda_T^B(\\phi_i) &= \\int_{F} j v\\,ds = \n",
    "\\int_{\\hat F} j(\\mu_F(s)) p_m^{\\hat T}(\\eta_F(s)) \n",
    "\\sqrt{|\\text{det} (J^T_{\\mu_F}(s)J_{\\mu_F}(s))|} \\,ds\n",
    "\\end{split}\n",
    "\\end{equation*}\n",
    "Because integration is over a face of codimension 1 now, two mappings are involved. The map $\\mu_F$ maps the reference element $\\hat F$ of $F$ into global coordinates while the map $\\eta_F$ maps $\\hat F$ into the reference element $\\hat T$ of $T$. Also the integration element has to be redefined accordingly.\n",
    "Again, all contributions of the face $F$ can be collected in a vector:\n",
    "\\begin{equation*}\n",
    "(\\mathcal{L}_T^B)_m = \n",
    "\\int_{\\hat F} j(\\mu_F(s)) p_m^{\\hat T}(\\eta_F(s)) \n",
    "\\sqrt{|\\text{det} J^T_{\\mu_T}(s)J_{\\mu_T}(s)|} \\,ds .\n",
    "\\end{equation*}"
   ]
  },
  {
   "cell_type": "markdown",
   "id": "f2a1608e",
   "metadata": {
    "hidden": true
   },
   "source": [
    "<font color = 'red'>The `lambda_boundary` implements the residual contributions due to Neumann boundary conditions. \n",
    "It implements the term $\\mathcal{L}_T^B$ and has the following interface: </font>"
   ]
  },
  {
   "cell_type": "markdown",
   "id": "e27c4a45",
   "metadata": {
    "hidden": true
   },
   "source": [
    "```c++\n",
    "template<typename IG, typename LFSV, typename R>\n",
    "void lambda_boundary (const IG& ig, const LFSV& lfsv, R& r) const\n",
    " ``` "
   ]
  },
  {
   "cell_type": "markdown",
   "id": "e1d46c7a",
   "metadata": {
    "hidden": true
   },
   "source": [
    "The difference to `lambda_volume` is that now an intersection is provided as first argument."
   ]
  },
  {
   "cell_type": "markdown",
   "id": "fd7cbb1b",
   "metadata": {
    "hidden": true
   },
   "source": [
    "The method begins by evaluating the type of the boundary condition at the midpoint of the edge:"
   ]
  },
  {
   "cell_type": "markdown",
   "id": "25ade6cb",
   "metadata": {
    "hidden": true
   },
   "source": [
    "```c++\n",
    "auto localgeo = ig.geometryInInside();\n",
    "auto facecenterlocal = referenceElement(localgeo).position(0,0);\n",
    "bool isdirichlet = param.b(ig.intersection(),facecenterlocal);\n",
    "```"
   ]
  },
  {
   "cell_type": "markdown",
   "id": "44e08075",
   "metadata": {
    "hidden": true
   },
   "source": [
    "To that end the center of the reference element of the intersection is computed in the variable`facecenterlocal` before the parameter function can be called.\n",
    "\n",
    "If the boundary condition type evaluated at the face center is Dirichlet then the complete face is assumed to be part of the Dirichlet boundary:"
   ]
  },
  {
   "cell_type": "markdown",
   "id": "3a508c42",
   "metadata": {
    "hidden": true
   },
   "source": [
    "```c++\n",
    "// skip rest if we are on Dirichlet boundary\n",
    "if (isdirichlet) return;\n",
    "```"
   ]
  },
  {
   "cell_type": "markdown",
   "id": "4b9b2d61",
   "metadata": {
    "hidden": true
   },
   "source": [
    "It is thus assumed that the mesh resolves all positions where the boundary type changes."
   ]
  },
  {
   "cell_type": "markdown",
   "id": "4a0594cc",
   "metadata": {
    "hidden": true
   },
   "source": [
    "Now that we are on a Neumann boundary an appropriate quadrature rule is selected for integration:"
   ]
  },
  {
   "cell_type": "markdown",
   "id": "9305b05d",
   "metadata": {
    "hidden": true
   },
   "source": [
    "```c++\n",
    "auto globalgeo = ig.geometry();\n",
    "const int order = incrementorder + 2*lfsv.finiteElement().localBasis().order();\n",
    "auto rule = Dune::PDELab::quadratureRule(globalgeo,order);\n",
    "```"
   ]
  },
  {
   "cell_type": "markdown",
   "id": "553436c1",
   "metadata": {
    "hidden": true
   },
   "source": [
    "And here is the integral over the face:"
   ]
  },
  {
   "cell_type": "markdown",
   "id": "6209f36b",
   "metadata": {
    "hidden": true
   },
   "source": [
    "```c++\n",
    "// loop over quadrature points and integrate normal flux\n",
    "for (const auto& ip : rule)\n",
    "{\n",
    "  // quadrature point in local coordinates of element\n",
    "  auto local = localgeo.global(ip.position());\n",
    "\n",
    "  // evaluate shape functions (assume Galerkin method)\n",
    "  auto& phihat = cache.evaluateFunction(local,lfsv.finiteElement().localBasis());\n",
    "\n",
    "  // integrate j\n",
    "  decltype(ip.weight()) factor = ip.weight()*globalgeo.integrationElement(ip.position());\n",
    "  auto j = param.j(ig.intersection(),ip.position());\n",
    "  for (size_t i=0; i<lfsv.size(); i++)\n",
    "    r.accumulate(lfsv,i,j*phihat[i]*factor);\n",
    "}\n",
    "```      "
   ]
  },
  {
   "cell_type": "markdown",
   "id": "8db0348c",
   "metadata": {
    "hidden": true
   },
   "source": [
    "Every quadrature point on the face needs to be mapped to the reference of the volume element for evaluation of the basis functions. The evaluation uses the basis function cache. Then the integration factor is computed and the contributions for all the test functions are accumulated."
   ]
  },
  {
   "cell_type": "markdown",
   "id": "0ae1a071",
   "metadata": {
    "heading_collapsed": true,
    "hidden": true
   },
   "source": [
    "#### Method `alpha_volume`"
   ]
  },
  {
   "cell_type": "markdown",
   "id": "44ab7b65",
   "metadata": {
    "hidden": true
   },
   "source": [
    "For any $(T,m)\\in C(i)$ we get\n",
    "\\begin{equation*}\n",
    "\\begin{split}\n",
    "\\alpha_T^V(u_h,\\phi_i) &= \\int_T \\nabla u \\cdot \\nabla \\phi_i + q(u) \\phi_i \\,dx,\n",
    "= \\int_T \\sum_j (z)_j \\left(\\nabla \\phi_j \\cdot \\nabla \\phi_i \\right) \n",
    "+ q\\left( \\sum_j (z)_j \\phi_j \\right) \\phi_i \\,dx,\\\\\n",
    "&= \\int_{\\hat T} \\sum_{n} (z)_{g_T(n)} (J_{\\mu_T}^{-1}(\\hat x) \\hat\\nabla p_n^{\\hat T}(\\hat x) )\n",
    "\\cdot (J_{\\mu_T}^{-1}(\\hat x) \\hat\\nabla p_m^{\\hat T}(\\hat x) ) \\\\\n",
    "&\\hspace{40mm}+ q\\left( \\sum_n (z)_{g_T(n)} p_n^{\\hat T}(\\hat x) \\right) p_m^{\\hat T}(\\hat x) \n",
    "|\\text{det} J_{\\mu_T}(\\hat x)| \\,d\\hat x\n",
    "\\end{split}\n",
    "\\end{equation*}\n",
    "Again contributions for all test functions can be collected in a vector\n",
    "\\begin{equation*}\n",
    "\\begin{split}\n",
    "(\\mathcal{R}_T^V(R_T z))_m &=\n",
    "\\sum_{n} (z)_{g_T(n)} \\int_{\\hat T} (J_{\\mu_T}^{-1}(\\hat x) \\hat\\nabla p_n^{\\hat T}(\\hat x) )\n",
    "\\cdot (J_{\\mu_T}^{-1}(\\hat x) \\hat\\nabla p_m^{\\hat T}(\\hat x) ) |\\text{det} J_{\\mu_T}(\\hat x)| \\,d\\hat x\\\\\n",
    "&\\hspace{30mm}+ \\int_{\\hat T} q\\left( \\sum_n (z)_{g_T(n)} p_n^{\\hat T}(\\hat x) \\right) p_m^{\\hat T}(\\hat x) \n",
    "|\\text{det} J_{\\mu_T}(\\hat x)| \\,d\\hat x\n",
    "\\end{split}\n",
    "\\end{equation*}"
   ]
  },
  {
   "cell_type": "markdown",
   "id": "d64242e3",
   "metadata": {
    "hidden": true
   },
   "source": [
    "<font color = 'red'>This method was already present in tutorial00. It implements the term $\\mathcal{R}_T^V(R_T z)$ and its interface is </font>"
   ]
  },
  {
   "cell_type": "markdown",
   "id": "efcb05fd",
   "metadata": {
    "hidden": true
   },
   "source": [
    "```c++\n",
    "template<typename EG, typename LFSU, typename X,\n",
    "         typename LFSV, typename R>\n",
    "void alpha_volume (const EG& eg, const LFSU& lfsu, const X& x,\n",
    "                   const LFSV& lfsv, R& r) const\n",
    "```"
   ]
  },
  {
   "cell_type": "markdown",
   "id": "c723dbe2",
   "metadata": {
    "hidden": true
   },
   "source": [
    "The method starts by extracting the space dimension and the floating point type to be used for computations:"
   ]
  },
  {
   "cell_type": "markdown",
   "id": "41d8c480",
   "metadata": {
    "hidden": true
   },
   "source": [
    "```c++\n",
    "const int dim = EG::Entity::dimension;\n",
    "typedef decltype(Dune::PDELab::makeZeroBasisFieldValue(lfsu)) RF;\n",
    "```"
   ]
  },
  {
   "cell_type": "markdown",
   "id": "f507355e",
   "metadata": {
    "hidden": true
   },
   "source": [
    "Then a quadrature rule is selected"
   ]
  },
  {
   "cell_type": "markdown",
   "id": "8fffadbb",
   "metadata": {
    "hidden": true
   },
   "source": [
    "```c++\n",
    "auto geo = eg.geometry();\n",
    "const int order = incrementorder + 2*lfsu.finiteElement().localBasis().order();\n",
    "auto rule = Dune::PDELab::quadratureRule(geo,order);\n",
    "```  "
   ]
  },
  {
   "cell_type": "markdown",
   "id": "abe07b60",
   "metadata": {
    "hidden": true
   },
   "source": [
    "and the quadrature loop is started"
   ]
  },
  {
   "cell_type": "markdown",
   "id": "e658784e",
   "metadata": {
    "hidden": true
   },
   "source": [
    "```c++\n",
    "for (const auto& ip : rule)\n",
    "  {\n",
    "```  "
   ]
  },
  {
   "cell_type": "markdown",
   "id": "143d0eec",
   "metadata": {
    "hidden": true
   },
   "source": [
    "Within the quadrature loop the basis functions are evaluated"
   ]
  },
  {
   "cell_type": "markdown",
   "id": "e4bc1691",
   "metadata": {
    "hidden": true
   },
   "source": [
    "```c++\n",
    "auto& phihat = cache.evaluateFunction(ip.position(),lfsu.finiteElement().localBasis());\n",
    "```"
   ]
  },
  {
   "cell_type": "markdown",
   "id": "a9f6529e",
   "metadata": {
    "hidden": true
   },
   "source": [
    "and the value of $u_h$ at the quadrature point is computed."
   ]
  },
  {
   "cell_type": "markdown",
   "id": "19d2fc19",
   "metadata": {
    "hidden": true
   },
   "source": [
    "```c++\n",
    "RF u=0.0;\n",
    "for (size_t i=0; i<lfsu.size(); i++)\n",
    "  u += x(lfsu,i)*phihat[i];\n",
    "```"
   ]
  },
  {
   "cell_type": "markdown",
   "id": "04c1ec8c",
   "metadata": {
    "hidden": true
   },
   "source": [
    "Then the gradients of the basis functions on the reference element are evaluated via the evaluation cache:"
   ]
  },
  {
   "cell_type": "markdown",
   "id": "ecfd0331",
   "metadata": {
    "hidden": true
   },
   "source": [
    "```c++\n",
    "auto& gradphihat = cache.evaluateJacobian(ip.position(), lfsu.finiteElement().localBasis());\n",
    "```"
   ]
  },
  {
   "cell_type": "markdown",
   "id": "e4d25a97",
   "metadata": {
    "hidden": true
   },
   "source": [
    "Now the gradients need to be transformed from the reference element to the transformed element by multiplication with $J_{\\mu_T}^{-1}(\\hat x)$:"
   ]
  },
  {
   "cell_type": "markdown",
   "id": "0702853d",
   "metadata": {
    "hidden": true
   },
   "source": [
    "```c++\n",
    "// transform gradients of shape functions to real element\n",
    "const auto S = geo.jacobianInverseTransposed(ip.position());\n",
    "auto gradphi = makeJacobianContainer(lfsu);\n",
    "for (size_t i=0; i<lfsu.size(); i++)\n",
    "  S.mv(gradphihat[i][0],gradphi[i][0]);\n",
    "```  "
   ]
  },
  {
   "cell_type": "markdown",
   "id": "6fa7bcf5",
   "metadata": {
    "hidden": true
   },
   "source": [
    "Note that, as explained in tutorial00, DUNE allows basis functions in general to be vector valued. Therefore `gradphi[i][0]` contains the gradient (with $d$ components) of the component 0 of basis function number $i$.\n",
    "\n",
    "Now $\\nabla u_h$ can be computed"
   ]
  },
  {
   "cell_type": "markdown",
   "id": "2a7ebddb",
   "metadata": {
    "hidden": true
   },
   "source": [
    "```c++\n",
    "Dune::FieldVector<RF,dim> gradu(0.0);\n",
    "for (size_t i=0; i<lfsu.size(); i++)\n",
    "  gradu.axpy(x(lfsu,i),gradphi[i][0]);\n",
    "```"
   ]
  },
  {
   "cell_type": "markdown",
   "id": "c5571c7e",
   "metadata": {
    "hidden": true
   },
   "source": [
    "and we are in the position to finally compute the residual contributions:"
   ]
  },
  {
   "cell_type": "markdown",
   "id": "7da0e0fc",
   "metadata": {
    "hidden": true
   },
   "source": [
    "```c++\n",
    "// integrate (grad u)*grad phi_i + q(u)*phi_i\n",
    "auto factor = ip.weight()*\n",
    "  geo.integrationElement(ip.position());\n",
    "auto q = param.q(u);\n",
    "for (size_t i=0; i<lfsu.size(); i++)\n",
    "  r.accumulate(lfsu,i,(gradu*gradphi[i][0]+\n",
    "                       q*phihat[i])*factor);\n",
    "}\n",
    "```"
   ]
  },
  {
   "cell_type": "markdown",
   "id": "e55e2d83",
   "metadata": {
    "hidden": true
   },
   "source": [
    "<font color = 'red'> Ganzer Absatz sinnvoll/sinnvoll hier? </font>\n",
    "Now with these definitions in place the evaluation of the algebraic residual is\n",
    "\\begin{equation}\n",
    "R(z) = \n",
    "\\sum_{T\\in\\mathcal{T}_h} R_T^T \\mathcal{R}_T^V(R_T z)\n",
    "  + \\sum_{T\\in\\mathcal{T}_h} R_T^T \\mathcal{L}_T^V\n",
    " + \\sum_{F\\in\\mathcal{F}_h^{\\partial\\Omega}\\cap\\Gamma_N} R_T^T \\mathcal{L}_F^B\n",
    "\\label{eq:FinalResidualEvaluation}\n",
    "\\end{equation}\n",
    "\n",
    "The Jacobian of the residual is\n",
    "\\begin{equation*}\n",
    "(J(z))_{i,j} = \\frac{\\partial R_i}{\\partial z_j} (z) =\n",
    "\\sum_{(T,m,n) : (T,m)\\in C(i) \\wedge (T,n)\\in C(j)} \\frac{\\partial (\\mathcal{R}_T^V)_m}{\\partial z_n}\n",
    "(R_T z)\n",
    "\\end{equation*}\n",
    "Note that:\n",
    "1. Entries of the Jacobian can be computed element by element.\n",
    "2. The derivative is independent of the $\\lambda$-terms as they only depend on the test functions.\n",
    "3. In the implementation below the Jacobian is computed numerically by finite differences. This can be achieved automatically by deriving from an additional base class.\n"
   ]
  },
  {
   "cell_type": "markdown",
   "id": "4fb9243d",
   "metadata": {},
   "source": [
    "# Exercises"
   ]
  },
  {
   "cell_type": "markdown",
   "id": "af563e7e",
   "metadata": {},
   "source": [
    "## Warming Up"
   ]
  },
  {
   "cell_type": "markdown",
   "id": "d58eb30b",
   "metadata": {},
   "source": [
    "1. Try out different grids, polynomial degrees and values for $\\eta$.  All these settings can be modified <font color='red'> within the notebook </font>. Here are some suggestions that could be interesting:\n",
    " - use higher values for $\\eta$\n",
    " - Try all combinations of `degree=1|2` and `subsampling=1|2` with appropriate `filename`.  Look at your solutions using paraview <font color='red'>(c++: output from subsampling vtkwriter must be enabled) </font>and the `warp by scalar` filter.  You can see the underlying grid by choosing `surface with edges` instead of `surface` in the paraview drop down menu. How does subsampling change the output?\n",
    " <font color='red'>(run the code with the following settings-check compatibility) </font>"
   ]
  },
  {
   "cell_type": "code",
   "execution_count": null,
   "id": "f7c5125e",
   "metadata": {},
   "outputs": [],
   "source": []
  },
  {
   "cell_type": "markdown",
   "id": "6614e07a",
   "metadata": {},
   "source": [
    "2. It is easy to implement different nonlinearities. Use $q(u)=\\exp(au)$ by <font color = 'red'> adjusting the file `problem.hh` </font>."
   ]
  },
  {
   "cell_type": "markdown",
   "id": "47f8c2b2",
   "metadata": {},
   "source": [
    "3. Go back to $q(u)=\\eta u^2$.  Now we want to see how good our approximation is.  Change the function $f(x)$ in the file   <font color = 'red'> problem.hh </font> to $f(x)=-2d+\\eta(\\sum_{i=1}^d(x)_i^2)^2$ where $d$ is the dimension (and therefore size of $x$). Then $u(x)=\\sum_{i=1}^d(x)_i^2=g(x)$ is the exact solution.  Visualize the exact solution like it is done in tutorial00. We start with the ini file:... Use paraview to see how the maximal error $\\max|u-u_h|$ behaves for diferent refienement levels `refinement=1|...|5`. Then try again for `degree=2`.  What happens here? Does the behaviour change when you use `ug` instead of  `yasp`?"
   ]
  },
  {
   "cell_type": "markdown",
   "id": "1ff3e673",
   "metadata": {},
   "source": [
    "## Nitsche's Method for weak Dirichlet Boundary Conditions"
   ]
  },
  {
   "cell_type": "markdown",
   "id": "fa81897f",
   "metadata": {},
   "source": [
    "------------------------------------------------------"
   ]
  },
  {
   "cell_type": "markdown",
   "id": "ac24ec77",
   "metadata": {},
   "source": [
    "# Collection of Cells"
   ]
  },
  {
   "cell_type": "code",
   "execution_count": null,
   "id": "0ca2949c",
   "metadata": {},
   "outputs": [],
   "source": [
    "typedef Dune::UGGrid<2> Grid;\n",
    "  std::string filename = ptree.get(\"grid.twod.filename\",\n",
    "                                 \"unitsquare.msh\");\n",
    "  Dune::GridFactory<Grid> factory;\n",
    "  Dune::GmshReader<Grid>::read(factory,filename,true,true);\n",
    "  std::shared_ptr<Grid> gridp(factory.createGrid());\n",
    "  Dune::Timer timer;\n",
    "  gridp->globalRefine(refinement);\n",
    "  std::cout << \"Time for mesh refinement \" << timer.elapsed()\n",
    "          << \" seconds\" << std::endl;\n",
    "  typedef Grid::LeafGridView GV;\n",
    "  typedef Grid::ctype DF;\n",
    "GV gv=gridp->leafGridView();"
   ]
  },
  {
   "cell_type": "code",
   "execution_count": null,
   "id": "0b176a64",
   "metadata": {},
   "outputs": [],
   "source": [
    "gridp"
   ]
  },
  {
   "cell_type": "markdown",
   "id": "f06f0e2d",
   "metadata": {},
   "source": [
    "UG Grid"
   ]
  },
  {
   "cell_type": "code",
   "execution_count": null,
   "id": "f577ae3e",
   "metadata": {},
   "outputs": [],
   "source": [
    "//try to get gridpointer out of if, to visualize the grid\n",
    "//using GridDefaultImplementation <dim, dim, double, UGGridFamily<dim>>\n",
    "//GridDefaultImplementation<dim,dim,typename Coordinates::ctype,YaspGridFamily<dim, Coordinates> >\n",
    "std::unique_ptr<Dune::GridDefaultImplementation<dim,dim,double,>> generalgridp;"
   ]
  },
  {
   "cell_type": "code",
   "execution_count": null,
   "id": "0d4e5128",
   "metadata": {},
   "outputs": [],
   "source": []
  },
  {
   "cell_type": "code",
   "execution_count": null,
   "id": "a2a668ce",
   "metadata": {},
   "outputs": [],
   "source": []
  },
  {
   "cell_type": "code",
   "execution_count": null,
   "id": "139ce677",
   "metadata": {},
   "outputs": [],
   "source": [
    "if (dim==2 && gridmanager==\"ug\"){\n",
    "  typedef Dune::UGGrid<2> Grid;\n",
    "}\n",
    "std::unique_ptr<Grid> gridp;\n",
    "\n",
    "if (dim==2 && gridmanager==\"ug\"){\n",
    "  std::string filename = ptree.get(\"grid.twod.filename\",\n",
    "                                 \"unitsquare.msh\");\n",
    "  Dune::GridFactory<Grid> factory;\n",
    "  Dune::GmshReader<Grid>::read(factory,filename,true,true);\n",
    "  std::unique_ptr<Grid> gridptemp(factory.createGrid());  \n",
    "  gridp = std::move(gridptemp);\n",
    "}\n",
    "  "
   ]
  },
  {
   "cell_type": "code",
   "execution_count": null,
   "id": "fd3ce103",
   "metadata": {},
   "outputs": [],
   "source": [
    "if (dim==2 && gridmanager==\"ug\"){\n",
    "  Dune::Timer timer;\n",
    "  gridp->globalRefine(refinement);\n",
    "  std::cout << \"Time for mesh refinement \" << timer.elapsed()\n",
    "          << \" seconds\" << std::endl;\n",
    "  typedef Grid::LeafGridView GV;\n",
    "  typedef Grid::ctype DF;\n",
    "  GV gv=gridp->leafGridView();\n",
    "  if (degree==1) {\n",
    "    typedef Dune::PDELab::PkLocalFiniteElementMap<GV,DF,double,1> FEM;\n",
    "    FEM fem(gv);\n",
    "    driver(gv,fem,ptree);\n",
    "  }\n",
    "  if (degree==2) {\n",
    "    typedef Dune::PDELab::PkLocalFiniteElementMap<GV,DF,double,2> FEM;\n",
    "    FEM fem(gv);\n",
    "    driver(gv,fem,ptree);\n",
    "  }\n",
    "}"
   ]
  },
  {
   "cell_type": "markdown",
   "id": "31fdc5e9",
   "metadata": {},
   "source": [
    "yasp- grid"
   ]
  },
  {
   "cell_type": "code",
   "execution_count": null,
   "id": "38afc387",
   "metadata": {},
   "outputs": [],
   "source": [
    "if (dim==2 && gridmanager==\"yasp\"){\n",
    "  const int dim=2;\n",
    "  typedef Dune::YaspGrid<dim> Grid;\n",
    "  typedef Grid::ctype DF;\n",
    "  Dune::FieldVector<DF,dim> L;\n",
    "  L[0] = ptree.get(\"grid.structured.LX\",(double)1.0);\n",
    "  L[1] = ptree.get(\"grid.structured.LY\",(double)1.0);\n",
    "  std::array<int,dim> N;\n",
    "  N[0] = ptree.get(\"grid.structured.NX\",(int)10);\n",
    "  N[1] = ptree.get(\"grid.structured.NY\",(int)10);\n",
    "  std::shared_ptr<Grid> gridp = std::shared_ptr<Grid>(new Grid(L,N));\n",
    "  gridp->globalRefine(refinement);\n",
    "  typedef Grid::LeafGridView GV;\n",
    "  GV gv=gridp->leafGridView();\n",
    "  if (degree==1) {\n",
    "    typedef Dune::PDELab::QkLocalFiniteElementMap<GV,DF,double,1> FEM;\n",
    "    FEM fem(gv);\n",
    "    driver(gv,fem,ptree);\n",
    "  }\n",
    "  if (degree==2) {\n",
    "    typedef Dune::PDELab::QkLocalFiniteElementMap<GV,DF,double,2> FEM;\n",
    "    FEM fem(gv);\n",
    "    driver(gv,fem,ptree);\n",
    "  }\n",
    "}"
   ]
  },
  {
   "cell_type": "code",
   "execution_count": null,
   "id": "fb6473c2",
   "metadata": {},
   "outputs": [],
   "source": []
  }
 ],
 "metadata": {
  "kernelspec": {
   "display_name": "C++17 (DUNE)",
   "language": "C++17",
   "name": "90f694aa-4041-547e-bba1-934968691da0"
  },
  "language_info": {
   "codemirror_mode": "text/x-c++src",
   "file_extension": ".cpp",
   "mimetype": "text/x-c++src",
   "name": "c++",
   "version": "17"
  },
  "toc": {
   "base_numbering": 1,
   "nav_menu": {},
   "number_sections": true,
   "sideBar": true,
   "skip_h1_title": false,
   "title_cell": "Table of Contents",
   "title_sidebar": "Contents",
   "toc_cell": false,
   "toc_position": {},
   "toc_section_display": true,
   "toc_window_display": false
  }
 },
 "nbformat": 4,
 "nbformat_minor": 5
}
