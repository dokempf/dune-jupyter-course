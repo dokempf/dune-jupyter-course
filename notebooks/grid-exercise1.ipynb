{
 "cells": [
  {
   "cell_type": "markdown",
   "id": "dimensional-genius",
   "metadata": {},
   "source": [
    "# Dune Grid Interface exercise"
   ]
  },
  {
   "cell_type": "markdown",
   "id": "through-digit",
   "metadata": {},
   "source": [
    "In this exercise, we will explore the Grid API by iterating over a grid, calculating some quantities and integrating a function."
   ]
  },
  {
   "cell_type": "code",
   "execution_count": null,
   "id": "hungarian-virus",
   "metadata": {},
   "outputs": [],
   "source": [
    "#include<dune/jupyter.hh>"
   ]
  },
  {
   "cell_type": "markdown",
   "id": "computational-klein",
   "metadata": {},
   "source": [
    "After including all the necessary headers through above convenience header, the first step is to instantiate a grid. In this example, we use `YaspGrid<2>`, a two-dimensional, structured, equidistant grid that is shipped with `dune-grid`. However, the code below stays exactly the same when switching to a different grid implementation. This is the biggest strength of the generic Grid API provided by Dune. "
   ]
  },
  {
   "cell_type": "code",
   "execution_count": null,
   "id": "federal-samba",
   "metadata": {},
   "outputs": [],
   "source": [
    "static const int dim = 2;\n",
    "using Grid = Dune::YaspGrid<dim>;\n",
    "\n",
    "// define the extensions of the domain: a unit square with N by N cells\n",
    "Dune::FieldVector<double,dim> lowerleft(0.0);\n",
    "Dune::FieldVector<double,dim> upperright(1.0);\n",
    "auto N  = Dune::filledArray<dim, unsigned int>(4);\n",
    "\n",
    "// build a structured grid\n",
    "auto grid = Dune::StructuredGridFactory<Grid>::createCubeGrid(lowerleft, upperright, N);"
   ]
  },
  {
   "cell_type": "markdown",
   "id": "crucial-organic",
   "metadata": {},
   "source": [
    "The above code has created a 4x4 grid for the unit square. We will next have a look at a visualization of the grid, as well as some useful information about local and global indices etc. You can change the size of the grid above and rerun this visualization."
   ]
  },
  {
   "cell_type": "code",
   "execution_count": null,
   "id": "occupied-granny",
   "metadata": {},
   "outputs": [],
   "source": [
    "grid"
   ]
  },
  {
   "cell_type": "markdown",
   "id": "accomplished-budget",
   "metadata": {},
   "source": [
    "Remember from the lecture: Algorithms in Dune do not operate directly on the grid data structure, instead they operate on a *grid view* object. We use a *leaf view* here, which only exposes the leaf entities of the hierarchical grid object, but *level views* would be possible as well."
   ]
  },
  {
   "cell_type": "code",
   "execution_count": null,
   "id": "promotional-associate",
   "metadata": {},
   "outputs": [],
   "source": [
    "auto gridview = grid->leafGridView();"
   ]
  },
  {
   "cell_type": "markdown",
   "id": "featured-court",
   "metadata": {},
   "source": [
    "## Exercise 1: Iterating over a grid"
   ]
  },
  {
   "cell_type": "markdown",
   "id": "naked-element",
   "metadata": {},
   "source": [
    "In this first exercise, we will iterate over the grid elements and intersections and print some information. Feel free to do the following tasks or to explore other aspects of the Grid API that you are interested in. You might want to have a look at [the class documentation of the Geometry object](https://dune-project.org/doxygen/pdelab/master/classDune_1_1Geometry.html) while doing this (Inline documentation in Jupyter is on the TODO list, but there are some technical obstacles)."
   ]
  },
  {
   "cell_type": "markdown",
   "id": "painful-negative",
   "metadata": {},
   "source": [
    "*Task 1*: Calculate the center of each cell by summing up all corner vectors and dividing by the number of corners. Print the results. Also print the center as returned by `center() \n",
    "` method of the geometry."
   ]
  },
  {
   "cell_type": "code",
   "execution_count": null,
   "id": "billion-storm",
   "metadata": {},
   "outputs": [],
   "source": [
    "for (const auto& e : elements(gridview))\n",
    "{\n",
    "    auto geo = e.geometry();\n",
    "\n",
    "    // Fill your code here\n",
    "}"
   ]
  },
  {
   "cell_type": "markdown",
   "id": "crude-commitment",
   "metadata": {},
   "source": [
    "*Task 2*: Iterate over all the intersections in the grid and output the corner and center coordinates of each intersection (the methods corner and center return global coordinates)"
   ]
  },
  {
   "cell_type": "code",
   "execution_count": null,
   "id": "amended-spanking",
   "metadata": {},
   "outputs": [],
   "source": [
    "for (const auto& e : elements(gridview))\n",
    "{\n",
    "    for (const auto& is : intersections(gridview, e))\n",
    "    {\n",
    "        auto fgeo = is.geometry();\n",
    "        auto fgt = fgeo.type();\n",
    "        auto fgeo_self = is.geometryInInside();\n",
    "\n",
    "        // Fill your code here\n",
    "    }\n",
    "}"
   ]
  },
  {
   "cell_type": "markdown",
   "id": "varying-pleasure",
   "metadata": {},
   "source": [
    "*Task 3*: Iterate over all the interior intersections in the grid\n",
    "and output its center in terms of\n",
    "* global coordinates with respect to the domain origin\n",
    "* coordinates with respect to the current element\n",
    "* coordinates with respect to the neighboring element"
   ]
  },
  {
   "cell_type": "code",
   "execution_count": null,
   "id": "former-wireless",
   "metadata": {},
   "outputs": [],
   "source": [
    "for (const auto& e : elements(gridview))\n",
    "{\n",
    "    for (const auto& is : intersections(gridview, e))\n",
    "    {\n",
    "        auto fgeo = is.geometry();\n",
    "        auto fgt = fgeo.type();\n",
    "        auto fgeo_self = is.geometryInInside();\n",
    "\n",
    "        if(is.neighbor())\n",
    "        {\n",
    "            // Fill your code here\n",
    "        }\n",
    "    }\n",
    "}"
   ]
  },
  {
   "cell_type": "markdown",
   "id": "detailed-rabbit",
   "metadata": {},
   "source": [
    "*Task 4*: Iterate over all boundary intersections in the grid and output the coordinates of their center w.r.t. the owning element."
   ]
  },
  {
   "cell_type": "code",
   "execution_count": null,
   "id": "affected-chaos",
   "metadata": {},
   "outputs": [],
   "source": [
    "for (const auto& e : elements(gridview))\n",
    "{\n",
    "    for (const auto& is : intersections(gridview, e))\n",
    "    {\n",
    "        auto fgeo = is.geometry();\n",
    "        auto fgt = fgeo.type();\n",
    "        auto fgeo_self = is.geometryInInside();\n",
    "\n",
    "        if(is.boundary())\n",
    "        {\n",
    "            // Fill your code here\n",
    "        }\n",
    "    }\n",
    "}"
   ]
  },
  {
   "cell_type": "markdown",
   "id": "prescription-match",
   "metadata": {},
   "source": [
    "## Exercise 2: Integrating a function"
   ]
  },
  {
   "cell_type": "markdown",
   "id": "synthetic-filename",
   "metadata": {},
   "source": [
    "Integrating functions over the domain $\\Omega$ is a very common task when implementing finite elements. We will now perform the integration of a function $f(x)$ manually. We first define the function to integrate - feel free to change it later on and rerun the integration code:"
   ]
  },
  {
   "cell_type": "code",
   "execution_count": null,
   "id": "quantitative-argentina",
   "metadata": {},
   "outputs": [],
   "source": [
    "double f(Dune::FieldVector<double, 2> x)\n",
    "{\n",
    "    return std::exp(x[0]) * std::exp(x[1]);\n",
    "}"
   ]
  },
  {
   "cell_type": "markdown",
   "id": "spatial-plymouth",
   "metadata": {},
   "source": [
    "It is now your task to integrate $f(x)$ using a numerical quadrature formula on the reference element:\n",
    "\n",
    "$$\n",
    "\\int_\\Omega f(x)dx = \\sum_{T\\in\\mathcal{T}_h}\\int_Tf(x)dx = \\sum_{T\\in\\mathcal{T}_h}\\int_\\hat{T}f(\\mu_T(\\hat{x}))|\\det B_T|dx \\approx \\sum_{T\\in\\mathcal{T}_h}\\sum_{i}\\hat{\\omega}_if(\\hat{x}_i)|\\det B_T(\\hat{x}_i)|\n",
    "$$\n",
    "\n",
    "Dune provides such quadrature formula for all common reference elements and a large amount of degrees. We are using the quadrature formulae through PDELab here, as this will be the way that we will be accessing qudarature formulae for the rest of the course. The `qp` object represents a quadrature point and has methods `weight()` and `position()`."
   ]
  },
  {
   "cell_type": "code",
   "execution_count": null,
   "id": "functional-intensity",
   "metadata": {},
   "outputs": [],
   "source": [
    "double integral = 0.0;\n",
    "for (const auto& e : elements(gridview))\n",
    "{\n",
    "    auto geo = e.geometry();\n",
    "    auto rule = Dune::PDELab::quadratureRule(geo, 3);\n",
    "    for (const auto & qp : rule)\n",
    "    {\n",
    "        // Fill your code here\n",
    "    }\n",
    "}\n",
    "std::cout << \"Integrating f over Omega: \" << integral << std::endl;"
   ]
  }
 ],
 "metadata": {
  "kernelspec": {
   "display_name": "C++17 (DUNE)",
   "language": "C++17",
   "name": "90f694aa-4041-547e-bba1-934968691da0"
  },
  "language_info": {
   "codemirror_mode": "text/x-c++src",
   "file_extension": ".cpp",
   "mimetype": "text/x-c++src",
   "name": "c++",
   "version": "17"
  }
 },
 "nbformat": 4,
 "nbformat_minor": 5
}
