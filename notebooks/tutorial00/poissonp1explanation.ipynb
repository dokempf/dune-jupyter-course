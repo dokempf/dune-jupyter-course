{
 "cells": [
  {
   "cell_type": "markdown",
   "id": "9c8a14eb",
   "metadata": {},
   "source": [
    "# Local Operator "
   ]
  },
  {
   "cell_type": "markdown",
   "id": "9a745674",
   "metadata": {},
   "source": [
    "The finite element method itself is implemented in the so-called *local operator* realized by the class template\n",
    "`PoissonP1`. It provides all the necessary element-local computations as described **in Subsection 3.4** and is declared as follows:"
   ]
  },
  {
   "cell_type": "code",
   "execution_count": null,
   "id": "d903c64c",
   "metadata": {},
   "outputs": [],
   "source": [
    "template<typename F, typename FiniteElementMap>\n",
    "class PoissonP1 :\n",
    "\n",
    "  public Dune::PDELab::FullVolumePattern,\n",
    "  public Dune::PDELab::LocalOperatorDefaultFlags\n",
    "{"
   ]
  },
  {
   "cell_type": "markdown",
   "id": "3f8a588b",
   "metadata": {},
   "source": [
    "The first template parameter provides the right hand side function of the PDE and\n",
    "the second parameter provides a finite element map giving access to finite element\n",
    "basis functions on the reference element for all elements of the grid. The class derives\n",
    "from the PDELab classes `FullVolumePattern` and `LocalOperatorDefaultFlags` which provide some default constants and methods."
   ]
  },
  {
   "cell_type": "markdown",
   "id": "c03a7e1d",
   "metadata": {},
   "source": [
    "The basic assumption of this implementation of the finite element method is that all elements of the mesh are simplices of dimension d which use the same polynomial degree 1. In order to make the code faster it is a good idea to do the evaluation of the basis functions and their gradients on the reference element once before the\n",
    "computations start. This will be done in the constructor, but before we can do so we need to do some preparations."
   ]
  },
  {
   "cell_type": "markdown",
   "id": "5695272a",
   "metadata": {
    "heading_collapsed": true
   },
   "source": [
    "## Type Definitions and Data Members"
   ]
  },
  {
   "cell_type": "markdown",
   "id": "c8c36a0b",
   "metadata": {
    "hidden": true
   },
   "source": [
    "The class begins by extracting important types. The \u001c",
    "nite element map provides a finite element for each element of the map. Its type is"
   ]
  },
  {
   "cell_type": "code",
   "execution_count": null,
   "id": "6380bc61",
   "metadata": {
    "hidden": true
   },
   "outputs": [],
   "source": [
    "private:\n",
    "  // define useful types\n",
    "  typedef typename FiniteElementMap::Traits::FiniteElementType\n",
    "     FiniteElementType;"
   ]
  },
  {
   "cell_type": "markdown",
   "id": "dc8f4425",
   "metadata": {
    "hidden": true
   },
   "source": [
    "Among other things the finite element contains the basis functions on the reference element which can be accessed via the following type:"
   ]
  },
  {
   "cell_type": "code",
   "execution_count": null,
   "id": "9a1cd06d",
   "metadata": {
    "hidden": true
   },
   "outputs": [],
   "source": [
    "  typedef typename FiniteElementType::Traits::LocalBasisType\n",
    "     LocalBasisType;"
   ]
  },
  {
   "cell_type": "markdown",
   "id": "210acf23",
   "metadata": {
    "hidden": true
   },
   "source": [
    "DUNE thinks of basis functions on the reference element to be of\n",
    "the most general form \n",
    "$$\\hat\\phi : \\mathbb{A}^d \\to \\mathbb{B}^k, \\quad \n",
    "\\nabla\\hat\\phi : \\mathbb{A}^d \\to \\mathbb{B}^{k\\times d},$$\n",
    "i.e. they may be vector-valued. The following type definitions"
   ]
  },
  {
   "cell_type": "code",
   "execution_count": null,
   "id": "4ef4e649",
   "metadata": {
    "hidden": true
   },
   "outputs": [],
   "source": [
    "  typedef typename LocalBasisType::Traits::DomainType\n",
    "     DomainType;\n",
    "  typedef typename LocalBasisType::Traits::RangeFieldType\n",
    "     RF;\n",
    "  typedef typename LocalBasisType::Traits::RangeType\n",
    "     RangeType;\n",
    "  typedef typename LocalBasisType::Traits::JacobianType\n",
    "     JacobianType;"
   ]
  },
  {
   "cell_type": "markdown",
   "id": "c1379c5b",
   "metadata": {
    "hidden": true
   },
   "source": [
    "provide types to represent arguments and results of basis function\n",
    "evaluations. `DomainType` represents $\\mathbb{A}^d$,\n",
    "`RF` represents $\\mathbb{B}$, `RangeType`\n",
    "represents $\\mathbb{B}^k$ and finally `JacobianType`\n",
    "represents $\\mathbb{B}^{k\\times d}$."
   ]
  },
  {
   "cell_type": "markdown",
   "id": "351fff2c",
   "metadata": {
    "hidden": true
   },
   "source": [
    "Next, we extract some important constants, the dimension \n",
    "of the grid and the number of basis functions per element:"
   ]
  },
  {
   "cell_type": "code",
   "execution_count": null,
   "id": "959eddf7",
   "metadata": {
    "hidden": true
   },
   "outputs": [],
   "source": [
    "  // data members\n",
    "  enum {dim=LocalBasisType::Traits::dimDomain};\n",
    "  enum {n=dim+1};"
   ]
  },
  {
   "cell_type": "markdown",
   "id": "7a67ec31",
   "metadata": {
    "hidden": true
   },
   "source": [
    "As private data members the class stores an instance of the right hand side function `f` provided by the `driver`:"
   ]
  },
  {
   "cell_type": "code",
   "execution_count": null,
   "id": "faeb6aac",
   "metadata": {
    "hidden": true
   },
   "outputs": [],
   "source": [
    "  const F f;              // right hand side function"
   ]
  },
  {
   "cell_type": "markdown",
   "id": "4fc2a4e9",
   "metadata": {
    "hidden": true
   },
   "source": [
    "the midpoint quadrature rule"
   ]
  },
  {
   "cell_type": "code",
   "execution_count": null,
   "id": "d6de4a01",
   "metadata": {
    "hidden": true
   },
   "outputs": [],
   "source": [
    "  DomainType qp;          // center of mass of refelem\n",
    "  double weight;          // quadrature weight on refelem"
   ]
  },
  {
   "cell_type": "markdown",
   "id": "69ff7054",
   "metadata": {
    "hidden": true
   },
   "source": [
    "where `qp` is $\\hat S_d$ and `weight` is $w_d$, and the values of the basis functions at the quadrature\n",
    "point and their gradients:"
   ]
  },
  {
   "cell_type": "code",
   "execution_count": null,
   "id": "8db93247",
   "metadata": {
    "hidden": true
   },
   "outputs": [],
   "source": [
    "  double phihat[n];       // basis functions at qp\n",
    "  double gradhat[dim][n]; // coordinate x #basisfct"
   ]
  },
  {
   "cell_type": "markdown",
   "id": "31c5707a",
   "metadata": {
    "hidden": true
   },
   "source": [
    "Then, already in the public part, we need to define some constants that control the operation of the grid operator doing the global assembly:"
   ]
  },
  {
   "cell_type": "code",
   "execution_count": null,
   "id": "c8e05b58",
   "metadata": {
    "hidden": true
   },
   "outputs": [],
   "source": [
    "public:\n",
    "  // define flags controlling global assembler\n",
    "  enum { doPatternVolume = true };\n",
    "  enum { doAlphaVolume = true };\n",
    "  enum { doLambdaVolume = true };"
   ]
  },
  {
   "cell_type": "markdown",
   "id": "6a1e342a",
   "metadata": {
    "hidden": true
   },
   "source": [
    "These constants are evaluated at *compile time* and tell he grid operator class which methods have been implemented in the local operator by the user. Actually, the base class `LocalOperatorDefaultFlags` provides all possible flags ith the value`false` and we just need to overwrite the nes that are needed.\n",
    "The constant`doPatternVolume` ells the global assembler to determine the sparsity pattern of the\n",
    "matrix $A$ from a method `pattern_volume` which i inherited from the base class `FullVolumePattern`.\n",
    "This default implementation inserts nonzeros between all degrees f freedom of an element. The constants `doAlphaVolume` and `doLambdaVolume` determine that our finite element method contains a volume integral involving the finite element solution $u_h$ and a right hand side integral which does not involve the finite element solution.\n",
    "\n",
    "Setting `doAlphaVolume` to true implies that the local operator class implements the methods `alpha_volume`, \n",
    "`jacobian_apply_volume` and `jacobian_volume`.\n",
    "Setting `doLambdaVolume` to true implies that the method `lambda_volume` must be implemented."
   ]
  },
  {
   "cell_type": "markdown",
   "id": "a51649e7",
   "metadata": {
    "heading_collapsed": true
   },
   "source": [
    "## Constructor"
   ]
  },
  {
   "cell_type": "markdown",
   "id": "3362a522",
   "metadata": {
    "hidden": true
   },
   "source": [
    "The constructor of the class has the following signature:"
   ]
  },
  {
   "cell_type": "code",
   "execution_count": null,
   "id": "adccebc7",
   "metadata": {
    "hidden": true
   },
   "outputs": [],
   "source": [
    "  // Constructor precomputes element independent data\n",
    "  PoissonP1 (const F& f_, const FiniteElementType& fel)\n",
    "    : f(f_)"
   ]
  },
  {
   "cell_type": "markdown",
   "id": "81f98cbf",
   "metadata": {
    "hidden": true
   },
   "source": [
    "It takes the right hand side function `f` and a finite element `fel` as argument. The finite element is obtained from the finite element map and the first element of the grid in the function `driver`."
   ]
  },
  {
   "cell_type": "markdown",
   "id": "52f52d1d",
   "metadata": {
    "hidden": true
   },
   "source": [
    "First thing to do is to get the lowest order quadrature rule for simplices from DUNE and we check that this is actually the midpoint rule:"
   ]
  },
  {
   "cell_type": "code",
   "execution_count": null,
   "id": "59a3bea7",
   "metadata": {
    "hidden": true
   },
   "outputs": [],
   "source": [
    "  {\n",
    "    // select quadrature rule\n",
    "    Dune::GeometryType gt = fel.type();\n",
    "    const Dune::QuadratureRule<RF,dim>&\n",
    "      rule = Dune::QuadratureRules<RF,dim>::rule(gt,1);\n",
    "    if (rule.size()>1) {\n",
    "      std::cout << \"Wrong quadrature rule!\" << std::endl;\n",
    "      exit(1);\n",
    "    }"
   ]
  },
  {
   "cell_type": "markdown",
   "id": "13c37b34",
   "metadata": {
    "hidden": true
   },
   "source": [
    "Then we store the first quadrature point in the local data members:"
   ]
  },
  {
   "cell_type": "code",
   "execution_count": null,
   "id": "e1e0366c",
   "metadata": {
    "hidden": true
   },
   "outputs": [],
   "source": [
    "    // position and weight of the quadrature point\n",
    "    weight = rule[0].weight();\n",
    "    qp = rule[0].position();"
   ]
  },
  {
   "cell_type": "markdown",
   "id": "5e8d2c25",
   "metadata": {
    "hidden": true
   },
   "source": [
    "It is also a good idea to check that the basis given by the user has at least the correct size:"
   ]
  },
  {
   "cell_type": "code",
   "execution_count": null,
   "id": "3a7d8c5c",
   "metadata": {
    "hidden": true
   },
   "outputs": [],
   "source": [
    "    // check size of the basis\n",
    "    if (fel.localBasis().size()!=n) {\n",
    "      std::cout << \"Wrong basis!\" << std::endl;\n",
    "      exit(1);\n",
    "    }"
   ]
  },
  {
   "cell_type": "markdown",
   "id": "d10c838e",
   "metadata": {
    "hidden": true
   },
   "source": [
    "Now the basis functions can be evaluated at the quadrature point in the reference element and the results are stored in the data members of the class:"
   ]
  },
  {
   "cell_type": "code",
   "execution_count": null,
   "id": "11a399af",
   "metadata": {
    "hidden": true
   },
   "outputs": [],
   "source": [
    "    // evaluate basis functions on refelem\n",
    "    std::vector<RangeType> phi(n);\n",
    "    fel.localBasis().evaluateFunction(qp,phi);\n",
    "    for (int i=0; i<n; i++) phihat[i] = phi[i];"
   ]
  },
  {
   "cell_type": "markdown",
   "id": "8ac465ad",
   "metadata": {
    "hidden": true
   },
   "source": [
    "And the same now for the gradients:"
   ]
  },
  {
   "cell_type": "code",
   "execution_count": null,
   "id": "97a56656",
   "metadata": {
    "hidden": true
   },
   "outputs": [],
   "source": [
    "    // evaluate gradients of basis functions on refelem\n",
    "    std::vector<JacobianType> js(n);\n",
    "    fel.localBasis().evaluateJacobian(qp,js);\n",
    "    for (int i=0; i<n; i++)\n",
    "      for (int j=0; j<dim; j++)\n",
    "        gradhat[j][i] = js[i][0][j];\n",
    "  }"
   ]
  },
  {
   "cell_type": "markdown",
   "id": "d18caea0",
   "metadata": {
    "hidden": true
   },
   "source": [
    "Note that the last index loops over the number of basis functions. "
   ]
  },
  {
   "cell_type": "markdown",
   "id": "74d298f8",
   "metadata": {
    "heading_collapsed": true
   },
   "source": [
    "## Method `lambda_volume`"
   ]
  },
  {
   "cell_type": "markdown",
   "id": "249e545d",
   "metadata": {
    "hidden": true
   },
   "source": [
    "This method computes the contributions $b_T$ to the right hand side vector for a given element as given in Eq.XXX.\n",
    "It has the following signature:"
   ]
  },
  {
   "cell_type": "code",
   "execution_count": null,
   "id": "f2a614ca",
   "metadata": {
    "hidden": true
   },
   "outputs": [],
   "source": [
    "  // volume integral depending only on test functions\n",
    "  template<typename EG, typename LFSV, typename R>\n",
    "  void lambda_volume (const EG& eg, const LFSV& lfsv,\n",
    "                      R& r) const"
   ]
  },
  {
   "cell_type": "markdown",
   "id": "95438eb7",
   "metadata": {
    "hidden": true
   },
   "source": [
    "Argument`eg` provides the element $T$ in a wrapped form such that PDELab need not operate directly on a DUNE grid.\n",
    "With `eg.geometry()` the geometry of the element can be accessed in the form of a `Dune::Geometry`. With `eg.entity()` one can access the underlying codim 0 entity of the DUNE grid.\n",
    "The second argument `lfsv` provides the test functions on the reference element and `r` provides a container where the result should be stored.\n"
   ]
  },
  {
   "cell_type": "markdown",
   "id": "b8088b58",
   "metadata": {
    "hidden": true
   },
   "source": [
    "First thing to do is to evaluate the right hand side function at the quadrature point:"
   ]
  },
  {
   "cell_type": "code",
   "execution_count": null,
   "id": "5ba945d5",
   "metadata": {
    "hidden": true
   },
   "outputs": [],
   "source": [
    "  {\n",
    "    typename F::Traits::RangeType fval;\n",
    "    f.evaluate(eg.entity(),qp,fval);"
   ]
  },
  {
   "cell_type": "markdown",
   "id": "76bf98da",
   "metadata": {
    "hidden": true
   },
   "source": [
    "Next, we compute the factor that is common to all entries of $b_T$:"
   ]
  },
  {
   "cell_type": "code",
   "execution_count": null,
   "id": "8efd438a",
   "metadata": {
    "hidden": true
   },
   "outputs": [],
   "source": [
    "    RF factor=fval*weight*eg.geometry().integrationElement(qp);"
   ]
  },
  {
   "cell_type": "markdown",
   "id": "85a6e5db",
   "metadata": {
    "hidden": true
   },
   "source": [
    "Note that the method `integrationElement` on the geometry provides the value of $|\\det B_T|$."
   ]
  },
  {
   "cell_type": "markdown",
   "id": "a62f1bc0",
   "metadata": {
    "hidden": true
   },
   "source": [
    "Finally, we can compute the entries and store them in the results container:"
   ]
  },
  {
   "cell_type": "code",
   "execution_count": null,
   "id": "3f22bcf7",
   "metadata": {
    "hidden": true
   },
   "outputs": [],
   "source": [
    "    for (int i=0; i<n; i++)\n",
    "      r.accumulate(lfsv,i,-factor*phihat[i]);\n",
    "  }"
   ]
  },
  {
   "cell_type": "markdown",
   "id": "10e6a20d",
   "metadata": {
    "hidden": true
   },
   "source": [
    "Here it is important to note the minus sign because PDELab actually solves the weak formulation as \n",
    "$$r(u_h,v) = a(u_h,v)-l(v) = 0 \\quad \\forall v\\in V$$ since this is more appropriate in the case of nonlinear partial differential equations."
   ]
  },
  {
   "cell_type": "markdown",
   "id": "0f50f6c3",
   "metadata": {},
   "source": [
    "## Method `jacobian_volume`"
   ]
  },
  {
   "cell_type": "markdown",
   "id": "1ff609e7",
   "metadata": {},
   "source": [
    "Next we need to compute the element contributions to the stiffness matrix as described in Eq.XXX.\n",
    "This is done by the method `jacobian_volume` with"
   ]
  },
  {
   "cell_type": "code",
   "execution_count": null,
   "id": "99ea25ab",
   "metadata": {},
   "outputs": [],
   "source": [
    "  // jacobian of volume term\n",
    "  template<typename EG, typename LFSU, typename X,\n",
    "           typename LFSV, typename M>\n",
    "  void jacobian_volume (const EG& eg, const LFSU& lfsu,\n",
    "                        const X& x, const LFSV& lfsv,\n",
    "                        M& mat) const\n",
    "  {"
   ]
  },
  {
   "cell_type": "markdown",
   "id": "1a80e385",
   "metadata": {},
   "source": [
    "Its arguments are: `eg` providing the wrapped codim 0 entity $T$,`lfsu` providing the basis functions of the ansatz space, `x` providing the coefficients of the current iterate of the finite element solution, `lfsv` providing the test functions and `mat` a container to store the result."
   ]
  },
  {
   "cell_type": "markdown",
   "id": "98c19546",
   "metadata": {},
   "source": [
    "The `jacobian_volume` method works in the same way also for nonlinear problems. Nonlinear problems are solved iteratively, e.g. using Newton's method or a fixed-point iteration, where the method should provide a linearization at the current iterate given by the combination of `lfsu` and `x`.\n",
    "In our case of a linear problem the result *does not depend* on the current iterate.\n",
    "Moreover, the basis functions for the test space are precomputed so we need\n",
    "not access them via `lfsv`. Note also that in general the ansatz and test space might be different.\n",
    "\n",
    "First thing we need is to get $B_T^{-T}$ and store it into `S`:"
   ]
  },
  {
   "cell_type": "code",
   "execution_count": null,
   "id": "d36e132f",
   "metadata": {},
   "outputs": [],
   "source": [
    "    // get Jacobian and determinant\n",
    "    // assume the transformation is linear\n",
    "    const auto geo = eg.geometry();\n",
    "    const auto S = geo.jacobianInverseTransposed(qp);"
   ]
  },
  {
   "cell_type": "markdown",
   "id": "5700a669",
   "metadata": {},
   "source": [
    "Next, $|\\det B_T|$ is retrieved from the geometry and the factor that is common to all entries of the local stiffness matrix is computed:"
   ]
  },
  {
   "cell_type": "code",
   "execution_count": null,
   "id": "b5251742",
   "metadata": {},
   "outputs": [],
   "source": [
    "    RF factor = weight*geo.integrationElement(qp);"
   ]
  },
  {
   "cell_type": "markdown",
   "id": "200987d7",
   "metadata": {},
   "source": [
    "Now form the matrix of transformed gradients $G=B_T^{-T} \\hat G$ and store it in `grad`:"
   ]
  },
  {
   "cell_type": "code",
   "execution_count": null,
   "id": "8b821281",
   "metadata": {},
   "outputs": [],
   "source": [
    "    // compute gradients of basis functions in transformed element\n",
    "    double grad[dim][n] = {{0.0}}; // coordinate x #basisfct\n",
    "    for (int i=0; i<dim; i++) // rows of S\n",
    "      for (int k=0; k<dim; k++) // columns of S\n",
    "        for (int j=0; j<n; j++) // columns of gradhat\n",
    "          grad[i][j] += S[i][k] * gradhat[k][j];"
   ]
  },
  {
   "cell_type": "markdown",
   "id": "2ec0fdf0",
   "metadata": {},
   "source": [
    "The computations are arranged in such a way that the innermost loop has the dimension number of basis functions. In 3d there are four basis functions and the loop has a chance to get vectorized."
   ]
  },
  {
   "cell_type": "markdown",
   "id": "ffaa783b",
   "metadata": {},
   "source": [
    "Now the local stiffness matrix $A_T = G^T G$ (up to the factor $|\\det B_T| w_d$) is formed"
   ]
  },
  {
   "cell_type": "code",
   "execution_count": null,
   "id": "d043679b",
   "metadata": {},
   "outputs": [],
   "source": [
    "    // compute grad^T * grad\n",
    "    double A[n][n] = {{0.0}};\n",
    "    for (int i=0; i<n; i++)\n",
    "      for (int k=0; k<dim; k++)\n",
    "        for (int j=0; j<n; j++)\n",
    "          A[i][j] += grad[k][i]*grad[k][j];"
   ]
  },
  {
   "cell_type": "markdown",
   "id": "92f18771",
   "metadata": {},
   "source": [
    "and stored in the results container (now multiplying with the common factor):"
   ]
  },
  {
   "cell_type": "code",
   "execution_count": null,
   "id": "69a08be0",
   "metadata": {},
   "outputs": [],
   "source": [
    "    // store in result\n",
    "    for (int i=0; i<n; i++)\n",
    "      for (int j=0; j<n; j++)\n",
    "        mat.accumulate(lfsu,i,lfsu,j,A[i][j]*factor);\n",
    "  }"
   ]
  },
  {
   "cell_type": "markdown",
   "id": "270ef02e",
   "metadata": {},
   "source": [
    "## Method `alpha_volume`"
   ]
  },
  {
   "cell_type": "markdown",
   "id": "b23315e8",
   "metadata": {},
   "source": [
    "The method `alpha_volume` provides the element-local computations for the matrix-free evaluation of $a(u_h,\\phi_i)$ for all test functions $\\phi_i$ as given by Eq.XXX. It has the interface:"
   ]
  },
  {
   "cell_type": "code",
   "execution_count": null,
   "id": "64a47284",
   "metadata": {},
   "outputs": [],
   "source": [
    " // volume integral depending on test and ansatz functions\n",
    "  template<typename EG, typename LFSU, typename X,\n",
    "           typename LFSV, typename R>\n",
    "  void alpha_volume (const EG& eg, const LFSU& lfsu,\n",
    "                     const X& x, const LFSV& lfsv,\n",
    "                     R& r) const"
   ]
  },
  {
   "cell_type": "markdown",
   "id": "788f31f9",
   "metadata": {},
   "source": [
    "Its arguments are: `eg` providing the wrapped codim 0 entity $T$,`lfsu` providing the basis functions of the ansatz space,`x` providing the coefficients of the current iterate of the finite element solution, `lfsv` providing the test functions and `r` a container to store the result."
   ]
  },
  {
   "cell_type": "markdown",
   "id": "b46e965b",
   "metadata": {},
   "source": [
    "The computations are actually quite similar to those in `jacobian_volume`. In particular, the computation of $B_T^{-T}$, $|\\det B_T|$ and $G = B_T^{-T} \\hat G$ are the same."
   ]
  },
  {
   "cell_type": "code",
   "execution_count": null,
   "id": "0c61f322",
   "metadata": {},
   "outputs": [],
   "source": [
    "  {\n",
    "    // get Jacobian and determinant\n",
    "    // assume the transformation is linear\n",
    "    const auto geo = eg.geometry();\n",
    "    const auto S = geo.jacobianInverseTransposed(qp);\n",
    "    RF factor = weight*geo.integrationElement(qp);\n",
    "\n",
    "    // compute gradients of basis functions in transformed element\n",
    "    double grad[dim][n] = {{0.0}};  // coordinate x #basisfct\n",
    "    for (int i=0; i<dim; i++) // rows of S\n",
    "      for (int k=0; k<dim; k++) // columns of S\n",
    "        for (int j=0; j<n; j++) // columns of gradhat\n",
    "          grad[i][j] += S[i][k] * gradhat[k][j];"
   ]
  },
  {
   "cell_type": "markdown",
   "id": "85bc34ff",
   "metadata": {},
   "source": [
    "Extracting the element local coefficients $z_T = R_T z$ is done by:"
   ]
  },
  {
   "cell_type": "code",
   "execution_count": null,
   "id": "cd913df9",
   "metadata": {},
   "outputs": [],
   "source": [
    "    double z_T[n];\n",
    "    for (int j=0; j<n; j++) z_T[j] = x(lfsu,j); // read coeffs"
   ]
  },
  {
   "cell_type": "markdown",
   "id": "3784477f",
   "metadata": {},
   "source": [
    "Now we may compute $\\nabla u_h$ via $G z_T$:"
   ]
  },
  {
   "cell_type": "code",
   "execution_count": null,
   "id": "abc1119f",
   "metadata": {},
   "outputs": [],
   "source": [
    "    double graduh[dim] = {0.0};\n",
    "    for (int k=0; k<dim; k++) // rows of grad\n",
    "      for (int j=0; j<n; j++) // columns of grad\n",
    "        graduh[k] += grad[k][j]*z_T[j];"
   ]
  },
  {
   "cell_type": "markdown",
   "id": "1b9697e8",
   "metadata": {},
   "source": [
    "Finally, the result $a_T = G^T \\nabla u_h$ is formed:"
   ]
  },
  {
   "cell_type": "code",
   "execution_count": null,
   "id": "0d8552b4",
   "metadata": {},
   "outputs": [],
   "source": [
    "    // scalar products\n",
    "    double a_T[n] = {0.0};\n",
    "    for (int k=0; k<dim; k++) // rows of grad\n",
    "      for (int j=0; j<n; j++)\n",
    "        a_T[j] += grad[k][j]*graduh[k];\n"
   ]
  },
  {
   "cell_type": "markdown",
   "id": "3b68b0d6",
   "metadata": {},
   "source": [
    "and stored in the results container (while being multiplied with the common factor):"
   ]
  },
  {
   "cell_type": "code",
   "execution_count": null,
   "id": "7a855d6c",
   "metadata": {},
   "outputs": [],
   "source": [
    "    // store in result\n",
    "    for (int i=0; i<n; i++)\n",
    "      r.accumulate(lfsv,i,a_T[i]*factor);\n",
    "  }"
   ]
  },
  {
   "cell_type": "markdown",
   "id": "fa59c792",
   "metadata": {
    "heading_collapsed": true
   },
   "source": [
    "## Method `jacobian_apply_volume`"
   ]
  },
  {
   "cell_type": "markdown",
   "id": "c03d7c92",
   "metadata": {
    "hidden": true
   },
   "source": [
    "In the case of a *nonlinear* partial differential equation the finite element method results in a weak form \n",
    "$$u_h \\in V_h \\ : \\quad r(u_h,v) = \\alpha(u_h,v) - \\lambda(v) = 0 \\quad \\forall v\\in V_h$$\n",
    "which is *nonlinear* in its *first* argument. Inserting the finite element basis results in a nonlinear algebraic problem\n",
    "$$R(z) = 0$$\n",
    "with $(R(z))_i = r(\\text{FE}_h(z),\\phi_i)$ which is typically solved by Newton's iteration\n",
    "or some other iterative method. In case of Newton's method, each step\n",
    "involves the solution of a {\\em linear} system of the form\n",
    "$$J(z)\\, w = R(z)$$\n",
    "where $(J(z))_{i,j} = \\frac{(\\partial R(z))_i}{\\partial z_j} = \n",
    "\\frac{\\partial \\alpha(\\text{FE}_h(z),\\phi_i)}{\\partial z_j}$ is the Jacobian of \n",
    "the nonlinear map $R$.\n",
    "\n",
    "Naturally, the nonlinear case also includes the linear case described in this tutorial\n",
    "by setting $r(u,v) = a(u,v)-l(v)$. Then, due to the linearity of $a$ in its first\n",
    "argument, one can show that $J(z) = A$ and \n",
    "$$(J(z)\\, w)_i = (Aw)_i = a(\\text{FE}_h(w),\\phi_i).$$\n",
    "This is *not* true in the nonlinear case. There, the evaluation of the form $\\alpha(\\text{FE}_h(w),\\phi_i)$ and the application of the Jacobian $J w$ are different operations. Therefore, PDELab provides two functions with\n",
    "the application of the Jacobian implemented in `jacobian_apply_volume`\n",
    "with the interface:"
   ]
  },
  {
   "cell_type": "code",
   "execution_count": null,
   "id": "55b89fbb",
   "metadata": {
    "hidden": true
   },
   "outputs": [],
   "source": [
    "  //! apply local jacobian of the volume term\n",
    "  template<typename EG, typename LFSU, typename X,\n",
    "           typename LFSV, typename R>\n",
    "  void jacobian_apply_volume (const EG& eg, const LFSU& lfsu,\n",
    "                              const X& z, const LFSV& lfsv,\n",
    "                              R& r) const"
   ]
  },
  {
   "cell_type": "markdown",
   "id": "74d58a3a",
   "metadata": {
    "hidden": true
   },
   "source": [
    "Note, this is the same interface as for `alpha_volume`. Since our problem is linear, Jacobian application is identical to bilinear form evaluation and therefore we may just forward the call to the\n",
    "function `alpha_volume`:"
   ]
  },
  {
   "cell_type": "code",
   "execution_count": null,
   "id": "489c4687",
   "metadata": {
    "hidden": true
   },
   "outputs": [],
   "source": [
    "  {\n",
    "    alpha_volume(eg,lfsu,z,lfsv,r);\n",
    "  }"
   ]
  },
  {
   "cell_type": "markdown",
   "id": "593a7b29",
   "metadata": {
    "hidden": true
   },
   "source": [
    "END Tut00.pdf, what about his second function for jacobian_apll_vol?"
   ]
  },
  {
   "cell_type": "code",
   "execution_count": null,
   "id": "989927e4",
   "metadata": {
    "hidden": true
   },
   "outputs": [],
   "source": [
    "\n",
    "\n",
    "\n",
    "  //! apply local jacobian of the volume term\n",
    "  template<typename EG, typename LFSU, typename X,\n",
    "           typename LFSV, typename R>\n",
    "  void jacobian_apply_volume (const EG& eg, const LFSU& lfsu,\n",
    "                              const X& x, const X& z, const LFSV& lfsv,\n",
    "                              R& r) const\n",
    "  {\n",
    "    alpha_volume(eg,lfsu,z,lfsv,r);\n",
    "  }\n",
    "};\n",
    "%%%block-end"
   ]
  },
  {
   "cell_type": "code",
   "execution_count": null,
   "id": "f19235b9",
   "metadata": {
    "hidden": true
   },
   "outputs": [],
   "source": []
  }
 ],
 "metadata": {
  "celltoolbar": "Initialization Cell",
  "kernelspec": {
   "display_name": "C++17 (DUNE)",
   "language": "C++17",
   "name": "90f694aa-4041-547e-bba1-934968691da0"
  },
  "language_info": {
   "codemirror_mode": "text/x-c++src",
   "file_extension": ".cpp",
   "mimetype": "text/x-c++src",
   "name": "c++",
   "version": "17"
  },
  "toc": {
   "base_numbering": 1,
   "nav_menu": {},
   "number_sections": true,
   "sideBar": true,
   "skip_h1_title": false,
   "title_cell": "Table of Contents",
   "title_sidebar": "Contents",
   "toc_cell": false,
   "toc_position": {},
   "toc_section_display": true,
   "toc_window_display": true
  }
 },
 "nbformat": 4,
 "nbformat_minor": 5
}
