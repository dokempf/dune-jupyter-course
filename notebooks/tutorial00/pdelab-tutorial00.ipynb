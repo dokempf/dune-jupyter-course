{
 "cells": [
  {
   "cell_type": "markdown",
   "id": "selective-ecology",
   "metadata": {
    "tags": []
   },
   "source": [
    "# Tutorial 00: P1 Finite Elements for the Poisson Equation"
   ]
  },
  {
   "cell_type": "markdown",
   "id": "9cfed47f-d871-4295-a24b-8c817a3b61fe",
   "metadata": {
    "heading_collapsed": true,
    "tags": []
   },
   "source": [
    "## Problem Formulation"
   ]
  },
  {
   "cell_type": "markdown",
   "id": "annoying-chase",
   "metadata": {
    "hidden": true
   },
   "source": [
    "In this exercise, we will solve our first PDE, the *Poisson equation*:\n",
    "\n",
    "\\begin{align}\\label{eq:1a}\n",
    "\\begin{array}{rcll}\n",
    "-\\Delta u & = f && \\text{in}\\ \\Omega, \\\\\n",
    "u & = g && \\text{on}\\ \\partial\\Omega, \n",
    "\\end{array}\n",
    "\\end{align}\n"
   ]
  },
  {
   "cell_type": "markdown",
   "id": "b6ee1b67-282e-43e0-b205-68308ab401ca",
   "metadata": {
    "hidden": true
   },
   "source": [
    "where $\\Omega \\in \\mathbb{R}^d$ is a given, polyhedral domain\n",
    "(elements with curved boundaries are possible in DUNE but will not be considered\n",
    "here). This problem is one of the basic equations of mathematical physics\n",
    "which describes gravitational and electric potential as well as stationary heat or\n",
    "groundwater flow. Poisson's equation is an instance of an *elliptic partial differential equation*.\n",
    "\n",
    "A function $u \\in C^2(\\Omega) \\cap C^0(\\bar{\\Omega})$ (the space of twice continuously differentiable functions in $\\Omega$ which are continuous up to the boundary) is called a *strong solution* if it satisfies the above equations pointwise.\n",
    "\n",
    "Formally, one often reduces the equations to a problem with homogeneous Dirichlet boundary conditions g ≡ 0 as the starting point for theoretical considerations. We will deliberately not do this here, as it is also not done in the computer implementation of the method."
   ]
  },
  {
   "cell_type": "markdown",
   "id": "b14087a6-3bb5-4b8f-b880-ed2374253661",
   "metadata": {
    "hidden": true,
    "tags": []
   },
   "source": [
    "### Weak Formulation\n",
    "<a id='weakFormulation'> </a>"
   ]
  },
  {
   "cell_type": "markdown",
   "id": "11a419ca-7afe-49cd-bd19-2ca550966267",
   "metadata": {
    "hidden": true
   },
   "source": [
    "Existence, uniqueness and stability of solutions, i.e. well-posedness in the sense of\n",
    "Hadamard, is easier to prove for so-called weak solutions. As the weak formulation\n",
    "is also the basis of the finite element method we explain it here."
   ]
  },
  {
   "cell_type": "markdown",
   "id": "50c28d06-20ca-4cb0-8256-3ac29f53cd04",
   "metadata": {
    "hidden": true
   },
   "source": [
    "As a start, suppose $u$ is a strong solution of the equations above and take \n",
    "*any* function\n",
    "$v\\in C^1(\\Omega)\\cap C^0(\\bar\\Omega)$ with $v=0$ on $\\partial\\Omega$, then we\n",
    "have by integration by parts:\n",
    "\\begin{equation}\n",
    "\\int_\\Omega (-\\Delta u) v \\,dx = \n",
    "\\int_\\Omega \\nabla u \\cdot \\nabla v \\,dx= \\int_\\Omega fv \\,dx.\n",
    "\\end{equation}\n",
    "Observe, that the boundary integral $\\int_{\\partial\\Omega} \\nabla u\\cdot n v\\,dx$ vanishes\n",
    "due to the fact that $v=0$ on $\\partial\\Omega$. Loosely speaking $v=0$ is a consequence\n",
    "of the Dirichlet boundary condition $u=g$ on $\\partial\\Omega$."
   ]
  },
  {
   "cell_type": "markdown",
   "id": "00128dcb-5cc3-4e92-a5c1-2f3cee456603",
   "metadata": {
    "hidden": true
   },
   "source": [
    "Introducing the abbreviations\n",
    "\\begin{equation}\n",
    "a(u,v) = \\int_\\Omega \\nabla u \\cdot \\nabla v \\,dx, \\qquad l(v) = \\int_\\Omega fv \\,dx\n",
    "\\end{equation}\n",
    "one can on the other hand ask the question: Is there a class,\n",
    "more specific a vector space, of functions $V$ with $V_g=\\{v\\in V : \n",
    "\\text{$v=g$ on $\\partial\\Omega$}\\}$ and $V_0=\\{v\\in V : \n",
    "\\text{$v=0$ on $\\partial\\Omega$}\\}$ such that\n",
    "the problem\n",
    "\\begin{equation} \n",
    "u \\in V_g :\\qquad a(u,v) = l(v) \\qquad \\forall v\\in V_0 \\label{eq:weakform}\n",
    "\\end{equation}\n",
    "has a unique solution."
   ]
  },
  {
   "cell_type": "markdown",
   "id": "df095743-e3a9-42b0-91a2-27cc7e2425ee",
   "metadata": {
    "hidden": true
   },
   "source": [
    "The answer is yes and in particular one can prove the following:\n",
    "\n",
    "1. With $V=H^1(\\Omega)$, the Sobolev space of functions with square integrable\n",
    "weak derivatives, the problem \\eqref{eq:weakform} has a unique solution provided\n",
    "the bilinear form $a : V\\times V \\to \\mathbb{R}$ is continuous and coercive on the \n",
    "subspace $V_0\\subset V$ and the linear form $l: V \\to \\mathbb{R}$ is also continuous. \n",
    "Coercivity on $V_0$ follows from Friedrich's inequality and for the continuity of the right hand\n",
    "side functional $f\\in L^2(\\Omega)$ is a sufficient condition.\n",
    "2. If in addition $u\\in C^2(\\Omega)\\cap C^0(\\bar\\Omega)$, then the solutions\n",
    "of \\eqref{eq:weakform} and \\eqref{eq:1a} coincide.\n",
    "\n",
    "We call \\eqref{eq:weakform} the *weak formulation* of \\eqref{eq:1a}.\n",
    "As it has a unique solution under more general conditions than \\eqref{eq:1a},\n",
    "e.g. for discontinuous right hand side functions $f$, it can be considered a generalization\n",
    "of the problem."
   ]
  },
  {
   "cell_type": "markdown",
   "id": "13777fb4-10c2-4b6d-9b97-82374ebc7cbf",
   "metadata": {
    "heading_collapsed": true
   },
   "source": [
    "## The Finite Element Method"
   ]
  },
  {
   "cell_type": "markdown",
   "id": "85c3293a-e022-44f4-82a7-1a41cea0c625",
   "metadata": {
    "hidden": true
   },
   "source": [
    "The (conforming) finite element method, in a nutshell, is based on the weak formulation where\n",
    "the function space $V$ is replaced by a subspace $V_h\\subset V$ \n",
    "which is *finite dimensional*. Here, the subscript $h$ relates to the dimension of the\n",
    "function space. One major part of the finite element method is to construct such so-called *finite element spaces*.\n",
    "Typically, finite element spaces consist of piecewise polynomial functions.\n",
    "We consider one particular choice, the space of linear functions on simplicial elements.\n",
    "For a more detailed description of the underlying finite element method, please refer to `tutorial00.pdf`. Additionally, there are many text books about the finite element method, which are listed in the [further reading section](#FurtherReading) at the end of this tutorial."
   ]
  },
  {
   "cell_type": "markdown",
   "id": "68620b6c-f941-4e6c-907c-71610b50a0bf",
   "metadata": {
    "heading_collapsed": true,
    "tags": []
   },
   "source": [
    "## Implementation"
   ]
  },
  {
   "cell_type": "markdown",
   "id": "df901b2f",
   "metadata": {
    "hidden": true
   },
   "source": [
    "The code presented in this tutorial solves the elliptic equation \\eqref{eq:1a} with Dirichlet boundary conditions, where\n",
    "\\begin{align}\n",
    "    f(x) = -2d \\quad\\text{and}\\quad  g(x) = \\sum_{i=1}^d (x)_i^2.\n",
    "\\end{align}"
   ]
  },
  {
   "cell_type": "markdown",
   "id": "2a1e5667",
   "metadata": {
    "hidden": true
   },
   "source": [
    "*Note that throughout this section there are 'show solution buttons' included. \n",
    "They only become relevant for the exercises in [section 2](#Exercises), as these exercises require some modification within the code.*"
   ]
  },
  {
   "cell_type": "markdown",
   "id": "rolled-trademark",
   "metadata": {
    "hidden": true
   },
   "source": [
    "First, we include all the Dune sources through one convenience header:"
   ]
  },
  {
   "cell_type": "code",
   "execution_count": null,
   "id": "pointed-arnold",
   "metadata": {
    "hidden": true
   },
   "outputs": [],
   "source": [
    "#include<dune/jupyter.hh>"
   ]
  },
  {
   "cell_type": "markdown",
   "id": "looking-shock",
   "metadata": {
    "hidden": true
   },
   "source": [
    "The simulation code written below will depend on a number of runtime parameters that are provided in a configuration file `tutorial00.ini`. You find that file in the `notebooks` directory. Dune uses a nested data structured called `ParameterTree` for these configurations. In the following we parse the configuration, output it to the notebook and alter it from within the notebook:"
   ]
  },
  {
   "cell_type": "code",
   "execution_count": null,
   "id": "suffering-boost",
   "metadata": {
    "hidden": true
   },
   "outputs": [],
   "source": [
    "Dune::ParameterTree ptree;\n",
    "Dune::ParameterTreeParser::readINITree(\"tutorial00.ini\", ptree);"
   ]
  },
  {
   "cell_type": "code",
   "execution_count": null,
   "id": "necessary-supervision",
   "metadata": {
    "hidden": true
   },
   "outputs": [],
   "source": [
    "ptree"
   ]
  },
  {
   "cell_type": "code",
   "execution_count": null,
   "id": "present-eagle",
   "metadata": {
    "hidden": true
   },
   "outputs": [],
   "source": [
    "ptree[\"grid.refinement\"] = \"0\";"
   ]
  },
  {
   "cell_type": "code",
   "execution_count": null,
   "id": "4f52d0e2-6f53-469b-97c7-2e7e68f1ddf8",
   "metadata": {
    "hidden": true
   },
   "outputs": [],
   "source": [
    "ptree"
   ]
  },
  {
   "cell_type": "markdown",
   "id": "collective-instrumentation",
   "metadata": {
    "hidden": true
   },
   "source": [
    "We are using a two-dimensional, unstructured mesh for this simulation. The mesh resolves the unit square $\\Omega = [0,1]^2$. The file is specified in the `unitsquare.msh` file that was generated using Gmsh."
   ]
  },
  {
   "cell_type": "code",
   "execution_count": null,
   "id": "duplicate-christmas",
   "metadata": {
    "hidden": true
   },
   "outputs": [],
   "source": [
    "const int dim = 2;\n",
    "using Grid = Dune::UGGrid<dim>;\n",
    "std::string filename = ptree.get(\"grid.twod.filename\", \"unitsquare.msh\");\n",
    "Dune::GridFactory<Grid> factory;\n",
    "Dune::GmshReader<Grid>::read(factory,filename,true,true);\n",
    "std::unique_ptr<Grid> grid(factory.createGrid());\n",
    "grid->globalRefine(ptree.get<int>(\"grid.refinement\"));\n",
    "auto gv = grid->leafGridView();\n",
    "using GV = decltype(gv);"
   ]
  },
  {
   "cell_type": "code",
   "execution_count": null,
   "id": "affected-conversion",
   "metadata": {
    "hidden": true
   },
   "outputs": [],
   "source": [
    "grid"
   ]
  },
  {
   "cell_type": "markdown",
   "id": "metallic-authority",
   "metadata": {
    "hidden": true
   },
   "source": [
    "With Dune making heavy use of C++ templates, the underlying floating point type of the simulation can be chosen quite freely. Looking for a solution $u: \\Omega\\rightarrow\\mathbb{R}$, the *domain field* type is the floating point type used to realize $\\Omega$ where as the *range field* type is used to realize $\\mathbb{R}$. `DF` is defined by the grid implementation (usually to `double`), but we can freely choose `RF` - typically also to `double`:"
   ]
  },
  {
   "cell_type": "code",
   "execution_count": null,
   "id": "abandoned-blink",
   "metadata": {
    "hidden": true
   },
   "outputs": [],
   "source": [
    "using DF = Grid::ctype;\n",
    "using RF = double;"
   ]
  },
  {
   "cell_type": "markdown",
   "id": "7fda8d48-78f4-4225-b0f1-4ac6b1eef48c",
   "metadata": {
    "hidden": true
   },
   "source": [
    "In the following, first a *local finite element map* of type `PkLocalFiniteElementMap` is set up. The finite element map associates finite element basis functions, defined on the corresponding reference element, with each element of the mesh. Additionally, information is provided on how the global finite element space $V_h$ is constructed from the local, element-wise pieces.\n",
    "\n",
    "The type `CON` provides a so-called constraints class, which provides a way to assemble constraints on a function space.\n",
    "\n",
    "The type `VBE` provides a vector backend, this allows for the direct filling of different types of data into these vectors, without a copy step. This is usefull, as PDELab can use different iterative solver libraries, which provide their own data types for vectors and (sparse) matrices. In this code, DUNE's own iterative solver library ISTL provides the vector backend.\n",
    "\n",
    "From the above described parameters, the type `GFS` from the class template `GridFunctionSpace`is defined. This combines all the given information to construct the global finite element space $V_h$ on a given grid view. In the last two lines an object of this class is instantiated and the space is given a name."
   ]
  },
  {
   "cell_type": "code",
   "execution_count": null,
   "id": "returning-basket",
   "metadata": {
    "hidden": true
   },
   "outputs": [],
   "source": [
    "using FEM = Dune::PDELab::PkLocalFiniteElementMap<GV,DF,RF,1>;\n",
    "FEM fem(gv);\n",
    "using CON = Dune::PDELab::ConformingDirichletConstraints;\n",
    "using VBE = Dune::PDELab::ISTL::VectorBackend<>;\n",
    "using GFS = Dune::PDELab::GridFunctionSpace<GV,FEM,CON,VBE>;\n",
    "GFS gfs(gv,fem);\n",
    "gfs.name(\"P1\");"
   ]
  },
  {
   "cell_type": "markdown",
   "id": "23d9fb87-e0ba-41bc-9474-22322af96616",
   "metadata": {
    "hidden": true
   },
   "source": [
    "In the next step, a variable that will later on contain the solution vector *z* is declared:"
   ]
  },
  {
   "cell_type": "code",
   "execution_count": null,
   "id": "individual-remains",
   "metadata": {
    "hidden": true
   },
   "outputs": [],
   "source": [
    "using Z = Dune::PDELab::Backend::Vector<GFS,RF>;\n",
    "Z z(gfs);"
   ]
  },
  {
   "cell_type": "markdown",
   "id": "c0b69c96-ea0b-4eec-b7c6-4ef51f935d1e",
   "metadata": {
    "hidden": true
   },
   "source": [
    "The function g extends the Dirichlet boundary values into the inerior. This function can be used to provide e.g. the exact solution of the problem for testing purposes or an initial guess for the iterative solvers. *Note that as stated above, one exercise at the end of this notebook requires a change of this function. The solution for this part can be accessed through the \"show solution\" button below.*\n",
    "<a id='newfandg'> </a>"
   ]
  },
  {
   "cell_type": "code",
   "execution_count": null,
   "id": "french-split",
   "metadata": {
    "hidden": true,
    "solution2": "hidden",
    "solution2_first": true
   },
   "outputs": [],
   "source": [
    "auto g = Dune::PDELab::makeGridFunctionFromCallable(\n",
    "    gv,\n",
    "    [](const auto& x){\n",
    "        RF s=0.0;\n",
    "        for (std::size_t i=0; i<x.size(); i++)\n",
    "            s+=x[i]*x[i];\n",
    "        return s;\n",
    "    }\n",
    ");\n",
    "Dune::PDELab::interpolate(g,gfs,z);"
   ]
  },
  {
   "cell_type": "markdown",
   "id": "1245e3fd",
   "metadata": {
    "hidden": true,
    "solution2": "hidden"
   },
   "source": [
    "*This is the solution for exercise 1.2. Note that you need to comment out the above lines before executing the notebook with the new function g.*"
   ]
  },
  {
   "cell_type": "code",
   "execution_count": null,
   "id": "1ac7c5c4",
   "metadata": {
    "hidden": true,
    "solution2": "hidden"
   },
   "outputs": [],
   "source": [
    "//solution to exercise 1.2\n",
    "/*\n",
    "auto g = Dune::PDELab::makeGridFunctionFromCallable(\n",
    "    gv,\n",
    "    [](const auto& x){\n",
    "        RF s=0.0;\n",
    "        for (std::size_t i=0; i<x.size(); i++)\n",
    "            s+=x[i]*x[i]*x[i];\n",
    "        return s;\n",
    "    }\n",
    ");\n",
    "Dune::PDELab::interpolate(g,gfs,z);\n",
    "*/"
   ]
  },
  {
   "cell_type": "markdown",
   "id": "81c0091c-df35-4cf8-921c-478f8eabf69a",
   "metadata": {
    "hidden": true
   },
   "source": [
    "In the following, the constraints for a specific grid function space are determined from the boundary condition type function `b`. They are saved into the constraints container `cc` of type `CC`. The separation of the function space $V_h$ and the constraints set $\\mathcal{I}_h^{\\partial \\Omega}$ allows one to reuse the function space together with different constraints, e.g. for a system of partial differential equations."
   ]
  },
  {
   "cell_type": "code",
   "execution_count": null,
   "id": "laughing-footage",
   "metadata": {
    "hidden": true
   },
   "outputs": [],
   "source": [
    "using CC = typename GFS::template ConstraintsContainer<RF>::Type;\n",
    "CC cc;"
   ]
  },
  {
   "cell_type": "code",
   "execution_count": null,
   "id": "acquired-celebration",
   "metadata": {
    "hidden": true
   },
   "outputs": [],
   "source": [
    "auto b = Dune::PDELab::makeBoundaryConditionFromCallable(\n",
    "    gv,\n",
    "    [](const auto& x){ return true; }\n",
    ");\n",
    "Dune::PDELab::constraints(b, gfs, cc);\n",
    "std::cout << \"constrained dofs=\" << cc.size() << \" of \"\n",
    "          << gfs.globalSize() << std::endl;"
   ]
  },
  {
   "cell_type": "markdown",
   "id": "a2f1dc86-c040-4f23-a50d-3fa00c0ed3ef",
   "metadata": {
    "hidden": true
   },
   "source": [
    "The right hand side $f$ of the partial differential equation is denoted by the function `f`. *Note that the exercise also requires a change of the function f, thus there is another solution.*"
   ]
  },
  {
   "cell_type": "code",
   "execution_count": null,
   "id": "printable-institute",
   "metadata": {
    "hidden": true,
    "solution2": "hidden",
    "solution2_first": true
   },
   "outputs": [],
   "source": [
    "auto f = Dune::PDELab::makeGridFunctionFromCallable(\n",
    "    gv,\n",
    "    [](const auto& x){\n",
    "        return Dune::FieldVector<RF,1>(-2.0*x.size());\n",
    "    }\n",
    ");;"
   ]
  },
  {
   "cell_type": "markdown",
   "id": "b0d86874",
   "metadata": {
    "hidden": true,
    "solution2": "hidden"
   },
   "source": [
    "*This is the solution to exercise 1.2. Again make sure only one of the cells containg the function f is executed.*"
   ]
  },
  {
   "cell_type": "code",
   "execution_count": null,
   "id": "a4c9bcff",
   "metadata": {
    "hidden": true,
    "solution2": "hidden"
   },
   "outputs": [],
   "source": [
    "//solution to exercise 1.2\n",
    "/*\n",
    "auto f = Dune::PDELab::makeGridFunctionFromCallable(\n",
    "    gv,\n",
    "    [](const auto& x){\n",
    "        RF s=0.0;\n",
    "        RF t=0.0;\n",
    "        for (std::size_t i=0; i<x.size(); i++){\n",
    "          s+=x[i];\n",
    "          t+=x[i]*x[i]*x[i];\n",
    "        }\n",
    "        return -6*s;\n",
    "    }\n",
    ");;\n",
    "*/"
   ]
  },
  {
   "cell_type": "markdown",
   "id": "2c043a2d",
   "metadata": {
    "hidden": true,
    "solution2": "hidden",
    "solution2_first": true
   },
   "source": [
    "*Exercise 2 requires additional changes, the solution can be found below.*\n",
    "<a id='solex2'> </a>"
   ]
  },
  {
   "cell_type": "code",
   "execution_count": null,
   "id": "6eeb0e38",
   "metadata": {
    "hidden": true,
    "solution2": "hidden"
   },
   "outputs": [],
   "source": [
    "/*\n",
    "auto k = Dune::PDELab::makeGridFunctionFromCallable(\n",
    "    gv, \n",
    "    [](const auto& x){\n",
    "      return x[0];\n",
    "    }\n",
    ");;\n",
    "*/"
   ]
  },
  {
   "cell_type": "code",
   "execution_count": null,
   "id": "ec6592e3",
   "metadata": {
    "hidden": true,
    "solution2": "hidden"
   },
   "outputs": [],
   "source": [
    "/*\n",
    "auto a = Dune::PDELab::makeGridFunctionFromCallable(\n",
    "   gv, \n",
    "   [](const auto& x) {\n",
    "       RF s=0.0;\n",
    "       for (std::size_t i=0; i<x.size(); i++)\n",
    "         s+=x[i];\n",
    "       return s;\n",
    "   }\n",
    ");;\n",
    "*/"
   ]
  },
  {
   "cell_type": "markdown",
   "id": "tired-brazilian",
   "metadata": {
    "hidden": true
   },
   "source": [
    "Next, we will construct the local operator. We include the local operator implementation for P1-conforming finite elements from the file `poissonp1.hh`. You find this file in the `notebooks` folder. After making changes to the file, you need to restart and rerun this notebook.\n",
    "<a id='poissonp1.hh'> </a>"
   ]
  },
  {
   "cell_type": "code",
   "execution_count": null,
   "id": "02ede692",
   "metadata": {
    "hidden": true
   },
   "outputs": [],
   "source": [
    "#include \"poissonp1.hh\"\n",
    "\n",
    "using LOP = PoissonP1<decltype(f),FEM>;\n",
    "LOP lop(f, fem.find(*gv.template begin<0>()));"
   ]
  },
  {
   "cell_type": "markdown",
   "id": "0fadc73e",
   "metadata": {
    "hidden": true,
    "solution2": "hidden",
    "solution2_first": true
   },
   "source": [
    "*The following solutions are again for exercise 2*\n",
    "<a id='solex2LOP'> </a>"
   ]
  },
  {
   "cell_type": "markdown",
   "id": "cac0a7ed",
   "metadata": {
    "hidden": true,
    "solution2": "hidden"
   },
   "source": [
    "*The cell beneath can be either executed with your own modification of the poisson class `mypoisson1.hh` or with the solution `solutionpoissonp1.hh`.*"
   ]
  },
  {
   "cell_type": "code",
   "execution_count": null,
   "id": "71e63155",
   "metadata": {
    "hidden": true,
    "solution2": "hidden"
   },
   "outputs": [],
   "source": [
    "/*#include \"mypoissonp1.hh\"\n",
    "//#include \"solutionpoissonp1.hh\"\n",
    "\n",
    "using LOP = PoissonP1<decltype(f),decltype(k),decltype(a),FEM>;\n",
    "LOP lop(f,k,a,fem.find(*gv.template begin<0>()));*/"
   ]
  },
  {
   "cell_type": "markdown",
   "id": "9c1df320-002e-422c-b72c-d3930c7f5f1c",
   "metadata": {
    "hidden": true
   },
   "source": [
    "This local operator is used as one of the template arguments in the global assembler or grid operator, which additionally requires the types for ansatz and test space, a matrix backend, the types for the components of the coefficient vectors of ansatz and test space and the entries of the matrix *A* and finally the types of the constraints container for test and ansatz space.\n"
   ]
  },
  {
   "cell_type": "code",
   "execution_count": null,
   "id": "55b8435f-34d6-4c0d-ba1e-3c2c7f2e2871",
   "metadata": {
    "hidden": true
   },
   "outputs": [],
   "source": [
    "using MBE = Dune::PDELab::ISTL::BCRSMatrixBackend<>;\n",
    "MBE mbe(1<<(dim+1)); // guess nonzeros per row\n",
    "using GO = Dune::PDELab::GridOperator<\n",
    "  GFS,GFS,  /* ansatz and test space */\n",
    "  LOP,      /* local operator */\n",
    "  MBE,      /* matrix backend */\n",
    "  RF,RF,RF, /* domain, range, jacobian field type*/\n",
    "  CC,CC     /* constraints for ansatz and test space */\n",
    "  >;\n",
    "GO go(gfs,cc,gfs,cc,lop,mbe);"
   ]
  },
  {
   "cell_type": "markdown",
   "id": "02b1c2da-d359-439e-ab91-e12e8e456e80",
   "metadata": {
    "hidden": true
   },
   "source": [
    "Next, a linear solver for the linear system $Az = b$ is selected. Since ISTL backends for vectors and matrices are used, also a linear solver from the ISTL library is chosen.\n",
    "Complete solvers are packaged by PDELab for sequential and\n",
    "parallel computations. Here we select the conjugate gradient method with algebraic\n",
    "multigrid as preconditioner and symmetric successive overrelaxation as smoother in\n",
    "multigrid in its sequential implementation. The linear solver object `ls` is initialized\n",
    "with the maximum number of iterations and a verbose parameter:"
   ]
  },
  {
   "cell_type": "code",
   "execution_count": null,
   "id": "conscious-wrestling",
   "metadata": {
    "hidden": true,
    "solution2": "hidden",
    "solution2_first": true
   },
   "outputs": [],
   "source": [
    "using LS = Dune::PDELab::ISTLBackend_SEQ_CG_AMG_SSOR<GO>;\n",
    "LS ls(100,2);"
   ]
  },
  {
   "cell_type": "markdown",
   "id": "e4b13c8e",
   "metadata": {
    "hidden": true,
    "solution2": "hidden"
   },
   "source": [
    "*The following cell contains a different linear iterative solver (see exercise 1.3). Again, only one of the cells should be executed.*"
   ]
  },
  {
   "cell_type": "code",
   "execution_count": null,
   "id": "d50644f0",
   "metadata": {
    "hidden": true,
    "solution2": "hidden"
   },
   "outputs": [],
   "source": [
    " //using LS = Dune::PDELab::ISTLBackend_SEQ_BCGS_SSOR;\n",
    " //LS ls(5000,true);"
   ]
  },
  {
   "cell_type": "markdown",
   "id": "3f419111-21a3-4c4c-8bc9-4e22882cd717",
   "metadata": {
    "hidden": true
   },
   "source": [
    "So far, no finite element computations have actually been performed, only the\n",
    "necessary components have been configured to now do the real work together. We\n",
    "can now set up the matrix *A* as well as the right hand side *b* and then solve the\n",
    "system. Since this is required often, there is a class in PDELab for this:"
   ]
  },
  {
   "cell_type": "code",
   "execution_count": null,
   "id": "pleasant-cloud",
   "metadata": {
    "hidden": true,
    "tags": []
   },
   "outputs": [],
   "source": [
    "using SLP = Dune::PDELab::StationaryLinearProblemSolver<GO,LS,Z>;\n",
    "SLP slp(go,ls,z,1e-10);\n",
    "slp.apply(); // here all the work is done!"
   ]
  },
  {
   "cell_type": "markdown",
   "id": "90042bdb-b7b1-4225-af95-def12a9c003a",
   "metadata": {
    "hidden": true
   },
   "source": [
    "In the given example a problem with a known exact solution, which is given by\n",
    "the function *g* is solved. In order to compare the computed solution with the exact\n",
    "solution we initialize another coeffcient vector with the Lagrange interpolant of the\n",
    "exact solution and provide a grid function:"
   ]
  },
  {
   "cell_type": "code",
   "execution_count": null,
   "id": "approved-compensation",
   "metadata": {
    "hidden": true,
    "tags": []
   },
   "outputs": [],
   "source": [
    "using ZDGF = Dune::PDELab::DiscreteGridFunction<GFS,Z>;\n",
    "ZDGF zdgf(gfs,z);\n",
    "Z w(gfs); // Lagrange interpolation of exact solution\n",
    "Dune::PDELab::interpolate(g,gfs,w);\n",
    "ZDGF wdgf(gfs,w);\n",
    "Dune::VTKWriter<GV> vtkwriter(gv,Dune::VTK::conforming);\n",
    "using VTKF = Dune::PDELab::VTKGridFunctionAdapter<ZDGF>;\n",
    "vtkwriter.addVertexData(std::shared_ptr<VTKF>(new VTKF(zdgf,\"fesol\")));\n",
    "vtkwriter.addVertexData(std::shared_ptr<VTKF>(new VTKF(wdgf,\"exact\")));"
   ]
  },
  {
   "cell_type": "markdown",
   "id": "victorian-heather",
   "metadata": {
    "hidden": true
   },
   "source": [
    "The visualization data can be generated in Jupyter by printing the VTKWriter instance:"
   ]
  },
  {
   "cell_type": "code",
   "execution_count": null,
   "id": "chemical-methodology",
   "metadata": {
    "hidden": true
   },
   "outputs": [],
   "source": [
    "vtkwriter"
   ]
  },
  {
   "cell_type": "markdown",
   "id": "dfe0b6cb",
   "metadata": {
    "heading_collapsed": true
   },
   "source": [
    "# Local Operator "
   ]
  },
  {
   "cell_type": "markdown",
   "id": "1deb7649",
   "metadata": {
    "hidden": true
   },
   "source": [
    "The finite element method itself is implemented in the so-called *local operator* realized by the class template\n",
    "`PoissonP1`. It provides all the necessary element-local computations as described **in Subsection 3.4** and is declared as follows:\n",
    "\n",
    "```c++\n",
    "template<typename F, typename FiniteElementMap>\n",
    "class PoissonP1 :\n",
    "\n",
    "  public Dune::PDELab::FullVolumePattern,\n",
    "  public Dune::PDELab::LocalOperatorDefaultFlags\n",
    "```\n",
    "The first template parameter provides the right hand side function of the PDE and\n",
    "the second parameter provides a finite element map giving access to finite element\n",
    "basis functions on the reference element for all elements of the grid. The class derives\n",
    "from the PDELab classes `FullVolumePattern` and `LocalOperatorDefaultFlags` which provide some default constants and methods.\n",
    "\n",
    "The basic assumption of this implementation of the finite element method is that all elements of the mesh are simplices of dimension d which use the same polynomial degree 1. In order to make the code faster it is a good idea to do the evaluation of the basis functions and their gradients on the reference element once before the\n",
    "computations start. This will be done in the constructor, but before we can do so we need to do some preparations."
   ]
  },
  {
   "cell_type": "markdown",
   "id": "65c58815",
   "metadata": {
    "hidden": true
   },
   "source": [
    "## Type Definitions and Data Members"
   ]
  },
  {
   "cell_type": "markdown",
   "id": "b3aef5ad",
   "metadata": {
    "hidden": true
   },
   "source": [
    "The class begins by extracting important types. The finite element map provides a finite element for each element of the map. Its type is\n",
    "```c++\n",
    "private:\n",
    "  // define useful types\n",
    "  typedef typename FiniteElementMap::Traits::FiniteElementType\n",
    "     FiniteElementType;\n",
    "```     \n",
    "Among other things the finite element contains the basis functions on the reference element which can be accessed via the following type:\n",
    "```c++\n",
    "  typedef typename FiniteElementType::Traits::LocalBasisType\n",
    "     LocalBasisType;\n",
    "```     \n",
    "DUNE thinks of basis functions on the reference element to be of\n",
    "the most general form \n",
    "$$\\hat\\phi : \\mathbb{A}^d \\to \\mathbb{B}^k, \\quad \n",
    "\\nabla\\hat\\phi : \\mathbb{A}^d \\to \\mathbb{B}^{k\\times d},$$\n",
    "i.e. they may be vector-valued. The following type definitions     \n",
    "```c++\n",
    "  typedef typename LocalBasisType::Traits::DomainType\n",
    "     DomainType;\n",
    "  typedef typename LocalBasisType::Traits::RangeFieldType\n",
    "     RF;\n",
    "  typedef typename LocalBasisType::Traits::RangeType\n",
    "     RangeType;\n",
    "  typedef typename LocalBasisType::Traits::JacobianType\n",
    "     JacobianType;\n",
    "```     \n",
    "provide types to represent arguments and results of basis function\n",
    "evaluations. `DomainType` represents $\\mathbb{A}^d$,\n",
    "`RF` represents $\\mathbb{B}$, `RangeType`\n",
    "represents $\\mathbb{B}^k$ and finally `JacobianType`\n",
    "represents $\\mathbb{B}^{k\\times d}$.   \n",
    "\n",
    "Next, we extract some important constants, the dimension \n",
    "of the grid and the number of basis functions per element:\n",
    "```c++\n",
    "  // data members\n",
    "  enum {dim=LocalBasisType::Traits::dimDomain};\n",
    "  enum {n=dim+1};\n",
    "```  \n",
    "As private data members the class stores an instance of the right hand side function `f` provided by the `driver`:\n",
    "```c++\n",
    "  const F f;              // right hand side function\n",
    "```  \n",
    "the midpoint quadrature rule\n",
    "```c++\n",
    "  DomainType qp;          // center of mass of refelem\n",
    "  double weight;          // quadrature weight on refelem\n",
    "```  \n",
    "where `qp` is $\\hat S_d$ and `weight` is $w_d$, and the values of the basis functions at the quadrature\n",
    "point and their gradients:\n",
    "```c++\n",
    "  double phihat[n];       // basis functions at qp\n",
    "  double gradhat[dim][n]; // coordinate x #basisfct\n",
    "```  \n",
    "Then, already in the public part, we need to define some constants that control the operation of the grid operator doing the global assembly:\n",
    "```c++\n",
    "public:\n",
    "  // define flags controlling global assembler\n",
    "  enum { doPatternVolume = true };\n",
    "  enum { doAlphaVolume = true };\n",
    "  enum { doLambdaVolume = true };\n",
    "```  \n",
    "These constants are evaluated at *compile time* and tell he grid operator class which methods have been implemented in the local operator by the user. Actually, the base class `LocalOperatorDefaultFlags` provides all possible flags ith the value`false` and we just need to overwrite the nes that are needed.\n",
    "The constant`doPatternVolume` ells the global assembler to determine the sparsity pattern of the\n",
    "matrix $A$ from a method `pattern_volume` which i inherited from the base class `FullVolumePattern`.\n",
    "This default implementation inserts nonzeros between all degrees f freedom of an element. The constants `doAlphaVolume` and `doLambdaVolume` determine that our finite element method contains a volume integral involving the finite element solution $u_h$ and a right hand side integral which does not involve the finite element solution.\n",
    "\n",
    "Setting `doAlphaVolume` to true implies that the local operator class implements the methods `alpha_volume`, \n",
    "`jacobian_apply_volume` and `jacobian_volume`.\n",
    "Setting `doLambdaVolume` to true implies that the method `lambda_volume` must be implemented."
   ]
  },
  {
   "cell_type": "markdown",
   "id": "7689b834",
   "metadata": {
    "hidden": true
   },
   "source": [
    "## Constructor"
   ]
  },
  {
   "cell_type": "markdown",
   "id": "a6df00c3",
   "metadata": {
    "hidden": true
   },
   "source": [
    "The constructor of the class has the following signature:\n",
    "```c++\n",
    " // Constructor precomputes element independent data\n",
    "  PoissonP1 (const F& f_, const FiniteElementType& fel)\n",
    "    : f(f_)\n",
    "```\n",
    "\n",
    "It takes the right hand side function `f` and a finite element `fel` as argument. The finite element is obtained from the finite element map and the first element of the grid in the function `driver`.\n",
    "First thing to do is to get the lowest order quadrature rule for simplices from DUNE and we check that this is actually the midpoint rule:\n",
    "```c++\n",
    "  {\n",
    "    // select quadrature rule\n",
    "    Dune::GeometryType gt = fel.type();\n",
    "    const Dune::QuadratureRule<RF,dim>&\n",
    "      rule = Dune::QuadratureRules<RF,dim>::rule(gt,1);\n",
    "    if (rule.size()>1) {\n",
    "      std::cout << \"Wrong quadrature rule!\" << std::endl;\n",
    "      exit(1);\n",
    "    }\n",
    "```\n",
    "Then we store the first quadrature point in the local data members:\n",
    "```c++\n",
    "    // position and weight of the quadrature point\n",
    "    weight = rule[0].weight();\n",
    "    qp = rule[0].position();\n",
    "```    \n",
    "It is also a good idea to check that the basis given by the user has at least the correct size:\n",
    "```c++\n",
    "    // check size of the basis\n",
    "    if (fel.localBasis().size()!=n) {\n",
    "      std::cout << \"Wrong basis!\" << std::endl;\n",
    "      exit(1);\n",
    "    }\n",
    "```    \n",
    "Now the basis functions can be evaluated at the quadrature point in the reference element and the results are stored in the data members of the class:\n",
    "```c++\n",
    "    // evaluate basis functions on refelem\n",
    "    std::vector<RangeType> phi(n);\n",
    "    fel.localBasis().evaluateFunction(qp,phi);\n",
    "    for (int i=0; i<n; i++) phihat[i] = phi[i];\n",
    "```    \n",
    "And the same now for the gradients:\n",
    "```c++\n",
    "    // evaluate gradients of basis functions on refelem\n",
    "    std::vector<JacobianType> js(n);\n",
    "    fel.localBasis().evaluateJacobian(qp,js);\n",
    "    for (int i=0; i<n; i++)\n",
    "      for (int j=0; j<dim; j++)\n",
    "        gradhat[j][i] = js[i][0][j];\n",
    "  }\n",
    "```  \n",
    "Note that the last index loops over the number of basis functions. "
   ]
  },
  {
   "cell_type": "markdown",
   "id": "f36304fc",
   "metadata": {
    "hidden": true
   },
   "source": [
    "## Method `lambda_volume`"
   ]
  },
  {
   "cell_type": "markdown",
   "id": "1d0ef55b",
   "metadata": {
    "hidden": true
   },
   "source": [
    "This method computes the contributions $b_T$ to the right hand side vector for a given element. It has the following signature:\n",
    "```c++\n",
    "  // volume integral depending only on test functions\n",
    "  template<typename EG, typename LFSV, typename R>\n",
    "  void lambda_volume (const EG& eg, const LFSV& lfsv,\n",
    "                      R& r) const\n",
    "```                      \n",
    "Argument`eg` provides the element $T$ in a wrapped form such that PDELab need not operate directly on a DUNE grid.\n",
    "With `eg.geometry()` the geometry of the element can be accessed in the form of a `Dune::Geometry`. With `eg.entity()` one can access the underlying codim 0 entity of the DUNE grid.\n",
    "The second argument `lfsv` provides the test functions on the reference element and `r` provides a container where the result should be stored.\n",
    "First thing to do is to evaluate the right hand side function at the quadrature point:\n",
    "```c++\n",
    "  {\n",
    "    typename F::Traits::RangeType fval;\n",
    "    f.evaluate(eg.entity(),qp,fval);\n",
    "```    \n",
    "Next, we compute the factor that is common to all entries of $b_T$: \n",
    "```c++ \n",
    "    RF factor=fval*weight*eg.geometry().integrationElement(qp);\n",
    "```  \n",
    "\n",
    "Note that the method `integrationElement` on the geometry provides the value of $|\\det B_T|$.\n",
    "Finally, we can compute the entries and store them in the results container:\n",
    "\n",
    "```c++\n",
    "    for (int i=0; i<n; i++)\n",
    "      r.accumulate(lfsv,i,-factor*phihat[i]);\n",
    "  }\n",
    "```  \n",
    "Here it is important to note the minus sign because PDELab actually solves the weak formulation as \n",
    "$$r(u_h,v) = a(u_h,v)-l(v) = 0 \\quad \\forall v\\in V$$ since this is more appropriate in the case of nonlinear partial differential equations."
   ]
  },
  {
   "cell_type": "markdown",
   "id": "880ceae7",
   "metadata": {
    "hidden": true
   },
   "source": [
    "## Method `jacobian_volume`"
   ]
  },
  {
   "cell_type": "markdown",
   "id": "a9fab0d4",
   "metadata": {
    "hidden": true
   },
   "source": [
    "Next we need to compute the element contributions to the stiffness matrix.\n",
    "This is done by the method `jacobian_volume` with\n",
    "```c++\n",
    "  // jacobian of volume term\n",
    "  template<typename EG, typename LFSU, typename X,\n",
    "           typename LFSV, typename M>\n",
    "  void jacobian_volume (const EG& eg, const LFSU& lfsu,\n",
    "                        const X& x, const LFSV& lfsv,\n",
    "                        M& mat) const\n",
    "  {\n",
    "```  \n",
    "Its arguments are: `eg` providing the wrapped codim 0 entity $T$,`lfsu` providing the basis functions of the ansatz space, `x` providing the coefficients of the current iterate of the finite element solution, `lfsv` providing the test functions and `mat` a container to store the result.\n",
    "\n",
    "The `jacobian_volume` method works in the same way also for nonlinear problems. Nonlinear problems are solved iteratively, e.g. using Newton's method or a fixed-point iteration, where the method should provide a linearization at the current iterate given by the combination of `lfsu` and `x`.\n",
    "In our case of a linear problem the result *does not depend* on the current iterate.\n",
    "Moreover, the basis functions for the test space are precomputed so we need\n",
    "not access them via `lfsv`. Note also that in general the ansatz and test space might be different.\n",
    "\n",
    "First thing we need is to get $B_T^{-T}$ and store it into `S`:\n",
    "```c++\n",
    "    // get Jacobian and determinant\n",
    "    // assume the transformation is linear\n",
    "    const auto geo = eg.geometry();\n",
    "    const auto S = geo.jacobianInverseTransposed(qp);\n",
    "```    \n",
    "Next, $|\\det B_T|$ is retrieved from the geometry and the factor that is common to all entries of the local stiffness matrix is computed:\n",
    "```c++\n",
    "RF factor = weight*geo.integrationElement(qp);\n",
    "```\n",
    "Now form the matrix of transformed gradients $G=B_T^{-T} \\hat G$ and store it in `grad`:\n",
    "```c++\n",
    "  // compute gradients of basis functions in transformed element\n",
    "    double grad[dim][n] = {{0.0}}; // coordinate x #basisfct\n",
    "    for (int i=0; i<dim; i++) // rows of S\n",
    "      for (int k=0; k<dim; k++) // columns of S\n",
    "        for (int j=0; j<n; j++) // columns of gradhat\n",
    "          grad[i][j] += S[i][k] * gradhat[k][j];\n",
    "```          \n",
    "The computations are arranged in such a way that the innermost loop has the dimension number of basis functions. In 3d there are four basis functions and the loop has a chance to get vectorized.\n",
    " \n",
    "Now the local stiffness matrix $A_T = G^T G$ (up to the factor $|\\det B_T| w_d$) is formed\n",
    "```c++\n",
    "    // compute grad^T * grad\n",
    "    double A[n][n] = {{0.0}};\n",
    "    for (int i=0; i<n; i++)\n",
    "      for (int k=0; k<dim; k++)\n",
    "        for (int j=0; j<n; j++)\n",
    "          A[i][j] += grad[k][i]*grad[k][j];\n",
    "```          \n",
    "and stored in the results container (now multiplying with the common factor):\n",
    "```c++\n",
    "    // store in result\n",
    "    for (int i=0; i<n; i++)\n",
    "      for (int j=0; j<n; j++)\n",
    "        mat.accumulate(lfsu,i,lfsu,j,A[i][j]*factor);\n",
    "  }\n",
    "```"
   ]
  },
  {
   "cell_type": "markdown",
   "id": "7a103a6f",
   "metadata": {
    "hidden": true
   },
   "source": [
    "## Method `alpha_volume`"
   ]
  },
  {
   "cell_type": "markdown",
   "id": "e4995043",
   "metadata": {
    "hidden": true
   },
   "source": [
    "The method `alpha_volume` provides the element-local computations for the matrix-free evaluation of $a(u_h,\\phi_i)$ for all test functions $\\phi_i$. It has the interface:\n",
    "```c++\n",
    " // volume integral depending on test and ansatz functions\n",
    "  template<typename EG, typename LFSU, typename X,\n",
    "           typename LFSV, typename R>\n",
    "  void alpha_volume (const EG& eg, const LFSU& lfsu,\n",
    "                     const X& x, const LFSV& lfsv,\n",
    "                     R& r) const\n",
    "```                     \n",
    "Its arguments are: `eg` providing the wrapped codim 0 entity $T$,`lfsu` providing the basis functions of the ansatz space,`x` providing the coefficients of the current iterate of the finite element solution, `lfsv` providing the test functions and `r` a container to store the result. \n",
    "\n",
    "The computations are actually quite similar to those in `jacobian_volume`. In particular, the computation of $B_T^{-T}$, $|\\det B_T|$ and $G = B_T^{-T} \\hat G$ are the same.\n",
    "```c++\n",
    "  {\n",
    "    // get Jacobian and determinant\n",
    "    // assume the transformation is linear\n",
    "    const auto geo = eg.geometry();\n",
    "    const auto S = geo.jacobianInverseTransposed(qp);\n",
    "    RF factor = weight*geo.integrationElement(qp);\n",
    "\n",
    "    // compute gradients of basis functions in transformed element\n",
    "    double grad[dim][n] = {{0.0}};  // coordinate x #basisfct\n",
    "    for (int i=0; i<dim; i++) // rows of S\n",
    "      for (int k=0; k<dim; k++) // columns of S\n",
    "        for (int j=0; j<n; j++) // columns of gradhat\n",
    "          grad[i][j] += S[i][k] * gradhat[k][j];\n",
    "```          \n",
    "Extracting the element local coefficients $z_T = R_T z$ is done by:\n",
    "```c++\n",
    "    double z_T[n];\n",
    "    for (int j=0; j<n; j++) z_T[j] = x(lfsu,j); // read coeffs\n",
    "```    \n",
    "Now we may compute $\\nabla u_h$ via $G z_T$:\n",
    "```c++\n",
    "    double graduh[dim] = {0.0};\n",
    "    for (int k=0; k<dim; k++) // rows of grad\n",
    "      for (int j=0; j<n; j++) // columns of grad\n",
    "        graduh[k] += grad[k][j]*z_T[j];\n",
    "```        \n",
    "Finally, the result $a_T = G^T \\nabla u_h$ is formed:\n",
    "```c++\n",
    "    // scalar products\n",
    "    double a_T[n] = {0.0};\n",
    "    for (int k=0; k<dim; k++) // rows of grad\n",
    "      for (int j=0; j<n; j++)\n",
    "        a_T[j] += grad[k][j]*graduh[k];\n",
    "```\n",
    "and stored in the results container (while being multiplied with the common factor):\n",
    "```c++\n",
    "    // store in result\n",
    "    for (int i=0; i<n; i++)\n",
    "      r.accumulate(lfsv,i,a_T[i]*factor);\n",
    "  }\n",
    "```"
   ]
  },
  {
   "cell_type": "markdown",
   "id": "bb374b36",
   "metadata": {
    "hidden": true
   },
   "source": [
    "## Method `jacobian_apply_volume`"
   ]
  },
  {
   "cell_type": "markdown",
   "id": "13b8d7d5",
   "metadata": {
    "hidden": true
   },
   "source": [
    "In the case of a *nonlinear* partial differential equation the finite element method results in a weak form \n",
    "$$u_h \\in V_h \\ : \\quad r(u_h,v) = \\alpha(u_h,v) - \\lambda(v) = 0 \\quad \\forall v\\in V_h$$\n",
    "which is *nonlinear* in its *first* argument. Inserting the finite element basis results in a nonlinear algebraic problem\n",
    "$$R(z) = 0$$\n",
    "with $(R(z))_i = r(\\text{FE}_h(z),\\phi_i)$ which is typically solved by Newton's iteration\n",
    "or some other iterative method. In case of Newton's method, each step\n",
    "involves the solution of a {\\em linear} system of the form\n",
    "$$J(z)\\, w = R(z)$$\n",
    "where $(J(z))_{i,j} = \\frac{(\\partial R(z))_i}{\\partial z_j} = \n",
    "\\frac{\\partial \\alpha(\\text{FE}_h(z),\\phi_i)}{\\partial z_j}$ is the Jacobian of \n",
    "the nonlinear map $R$.\n",
    "\n",
    "Naturally, the nonlinear case also includes the linear case described in this tutorial\n",
    "by setting $r(u,v) = a(u,v)-l(v)$. Then, due to the linearity of $a$ in its first\n",
    "argument, one can show that $J(z) = A$ and \n",
    "$$(J(z)\\, w)_i = (Aw)_i = a(\\text{FE}_h(w),\\phi_i).$$\n",
    "This is *not* true in the nonlinear case. There, the evaluation of the form $\\alpha(\\text{FE}_h(w),\\phi_i)$ and the application of the Jacobian $J w$ are different operations. Therefore, PDELab provides two functions with\n",
    "the application of the Jacobian implemented in `jacobian_apply_volume`\n",
    "with the interface:\n",
    "```c++\n",
    "  //! apply local jacobian of the volume term\n",
    "  template<typename EG, typename LFSU, typename X,\n",
    "           typename LFSV, typename R>\n",
    "  void jacobian_apply_volume (const EG& eg, const LFSU& lfsu,\n",
    "                              const X& z, const LFSV& lfsv,\n",
    "                              R& r) const\n",
    "```                              \n",
    "Note, this is the same interface as for `alpha_volume`. Since our problem is linear, Jacobian application is identical to bilinear form evaluation and therefore we may just forward the call to the\n",
    "function `alpha_volume`: \n",
    "\n",
    "```c++\n",
    "  {\n",
    "    alpha_volume(eg,lfsu,z,lfsv,r);\n",
    "  }\n",
    "``` "
   ]
  },
  {
   "cell_type": "markdown",
   "id": "e9615f6f",
   "metadata": {
    "heading_collapsed": true,
    "solution": "hidden"
   },
   "source": [
    "# Exercises\n",
    "<a id='Exercises'> </a>"
   ]
  },
  {
   "cell_type": "markdown",
   "id": "9d1a511f-04c4-465e-b55a-a38b5a090327",
   "metadata": {
    "hidden": true,
    "tags": []
   },
   "source": [
    "## Exercise 1"
   ]
  },
  {
   "cell_type": "markdown",
   "id": "3cc9d88a",
   "metadata": {
    "hidden": true,
    "solution2": "hidden",
    "solution2_first": true
   },
   "source": [
    "1. **Warming up**\n",
    "\n",
    "   Run the program with different refinement levels. Visualize the solution in ParaView, use the Calculator\n",
    "   filter to visualize the difference $|u-u_h|$ and determine the\n",
    "   maximum error. Note that $u$ and $u_h$ are called `exact` and `fesol` in the paraview output."
   ]
  },
  {
   "cell_type": "markdown",
   "id": "6af746d9",
   "metadata": {
    "hidden": true,
    "solution2": "hidden"
   },
   "source": [
    "- *In the following $|u-u_h|$ for different refinement levels is depicted.*"
   ]
  },
  {
   "cell_type": "markdown",
   "id": "c50d6909",
   "metadata": {
    "hidden": true,
    "solution2": "hidden"
   },
   "source": [
    "<table  style=\"width:100%\">\n",
    "  <tr>\n",
    "    <td><img src=\"images/ref0.png\"></td>\n",
    "    <td><img src=\"images/ref1.png\"></td>\n",
    "  </tr>\n",
    "  <tr>\n",
    "    <td><img src=\"images/ref2.png\"></td>\n",
    "    <td><img src=\"images/ref3.png\"></td>\n",
    "  </tr>"
   ]
  },
  {
   "cell_type": "markdown",
   "id": "ff23c579-58a7-4d1c-a573-85ebde9034e9",
   "metadata": {
    "hidden": true,
    "solution2": "hidden",
    "solution2_first": true,
    "tags": []
   },
   "source": [
    "2. **Solving a new problem**\n",
    "\n",
    "   Now consider\n",
    "   \\begin{equation}\n",
    "   f(x) = -\\sum_{i = 1}^{d} 6(x)_i \\quad \\text{and} \\quad g(x) = \\sum_{i = 1}^d(x)_i^3\n",
    "   \\end{equation}\n",
    "   and check that $u(x)=\\sum_{i=1}^d (x)_i^3$ solves the PDE. Implement the new $f$ and $g$ and rerun your program."
   ]
  },
  {
   "cell_type": "markdown",
   "id": "0f8e117c",
   "metadata": {
    "hidden": true,
    "solution2": "hidden"
   },
   "source": [
    "- *The solution for the new implementation of f and g is embedded in the notebook, directly at the place of the defintions ([go to solution](#newfandg)). When running all cells, ensure that only one of the definitions is uncommented (a cell that is hidden through the 'Show/Hide Solution' button is still executed).*"
   ]
  },
  {
   "cell_type": "markdown",
   "id": "0428541c",
   "metadata": {
    "hidden": true,
    "solution2": "hidden"
   },
   "source": [
    "<img src=\"images/ex12.png\" style = \"width:50%; margin-bottom: 0.5em\">  "
   ]
  },
  {
   "cell_type": "markdown",
   "id": "e9401ba6",
   "metadata": {
    "hidden": true,
    "solution2": "hidden",
    "solution2_first": true
   },
   "source": [
    "3. **Analysis of finite element error**:\n",
    "\n",
    "  Produce a sequence of output files for different levels of mesh\n",
    "  refinements $0, 1, 2, \\ldots$ with suitable output\n",
    "  filenames. Visualize the error $|u-u_h|$ in Para\\-View and determine\n",
    "  the maximum error on each level.  If you want you can also try to\n",
    "  calculate the L2-norm of the error in paraview and determine the\n",
    "  convergence rate by hand. In a later exercise you will see how to\n",
    "  calculate the L2-norm directly in the c++ source."
   ]
  },
  {
   "cell_type": "markdown",
   "id": "49220145",
   "metadata": {
    "hidden": true,
    "solution2": "hidden"
   },
   "source": [
    " - *The following table shows the maximum norm,which is given as $||f||_{\\max} := \\max|f(x)|$ and the L2-norm as $||f||_{0,\\Omega} = \\left( \\int_{\\Omega} f(x)^2 dx \\right)^{1/2} $ for different mesh refinements. The L2 error is depicted in the graph on the right side.* "
   ]
  },
  {
   "cell_type": "markdown",
   "id": "9b997fa1",
   "metadata": {
    "hidden": true,
    "solution2": "hidden"
   },
   "source": [
    "<table  style=\"width:100% \">\n",
    "<tr>\n",
    "<td>\n",
    "<table  style=\"border:1px dotted; width:100%\">\n",
    "  <tr style=\"border:1px dotted\">\n",
    "    <th>refinement</th>\n",
    "    <th>${||u-u_h||}_\\max$</th>\n",
    "    <th>${||u-u_h||}_{0,\\Omega}$</th>\n",
    "  </tr>\n",
    "  <tr>\n",
    "    <td>0</td>\n",
    "    <td>1.18978e-05</td>\n",
    "    <td>1.161176e-03</td>\n",
    "  </tr>\n",
    "  <tr>\n",
    "    <td>1</td>\n",
    "    <td>1.76823e-06</td>\n",
    "    <td>2.59592e-04</td>\n",
    "  </tr>\n",
    "  <tr>\n",
    "    <td>2</td>\n",
    "    <td>2.02272e-07</td>\n",
    "    <td>6.0531e-05</td>\n",
    "  </tr> \n",
    "  <tr>\n",
    "    <td>3</td>\n",
    "    <td>1.9762e-08</td>\n",
    "    <td>1.4689e-05</td>\n",
    "  </tr>\n",
    "  <tr>\n",
    "    <td>4</td>\n",
    "    <td>1.7708e-09</td>\n",
    "    <td>3.635e-06</td>\n",
    "  </tr>\n",
    "  <tr>\n",
    "    <td>5</td>\n",
    "    <td>1.50032e-10</td>\n",
    "    <td>9.06e-07</td>\n",
    "  </tr>     \n",
    "</table> \n",
    "</td>\n",
    "\n",
    "<td>\n",
    "<img src=\"images/L2norm.png\" style = \"width:1000%\" align = \"top\">    \n",
    "</td>\n",
    "    \n",
    " </tr>"
   ]
  },
  {
   "cell_type": "markdown",
   "id": "c4860e21",
   "metadata": {
    "hidden": true,
    "solution2": "hidden"
   },
   "source": [
    " - *In general the convergence behaviour of the finite element method is\n",
    "$$ {||u-u_h||}_{j,\\Omega} \\rightarrow 0 \\quad \\text{for } h \\rightarrow 0,$$\n",
    "with $j = 0$ for the L2-norm. It can be profen that\n",
    "$${||u-u_h||}_{j,\\Omega} \\leq Ch^{\\beta},$$\n",
    "where the exponent $\\beta$ depends on the polynomial degree, the norm in which the error is measured and the regularity of the solution (more details can be found [here](#FurtherReading)). The exponent $\\beta$ is called the* convergence rate *of the method (w.r.t a given norm). With $\\beta = k + 1 $, where k denotes the polynomial degree, the finite element method with polynomials of degree 1 has a convergence rate of $\\beta = 2$ w.r.t th L2-norm. The plot on the right depicts the error in the L2-norm with respect to the mesh size, clearly indicating a quadratic convergence rate.*"
   ]
  },
  {
   "cell_type": "markdown",
   "id": "90dee0fa",
   "metadata": {
    "hidden": true,
    "solution2": "hidden"
   },
   "source": [
    " - *These are the basic steps in order to determine the L2-norm of the error in paraview/by hand:*   \n",
    "     1. *use the calculator for $(u(x)-u_h(x))^2$*\n",
    "     2. *use 'integrate variables' filter for $\\int_{\\Omega}(u(x)-u_h(x))^2 \\,dx$*\n",
    "     3. *determine $\\left( \\int_{\\Omega}(u(x)-u_h(x))^2 \\right)^{1/2}$ by hand*"
   ]
  },
  {
   "cell_type": "markdown",
   "id": "379fd8a1",
   "metadata": {
    "hidden": true
   },
   "source": [
    "4. **Use a different solver**\n",
    "\n",
    "   You may also try to exchange the iterative linear solver, the lines for the new solver are already given as solution next to the old linear solver. Compare the number of iterations which is given by the following lines\n",
    "  in the output (here we have 12 iterations):\n"
   ]
  },
  {
   "cell_type": "markdown",
   "id": "e65c1228",
   "metadata": {
    "hidden": true,
    "solution2": "hidden",
    "solution2_first": true
   },
   "source": [
    "```bash\n",
    "=== CGSolver\n",
    "\n",
    "12      1.9016e-09\n",
    "\n",
    "=== rate=0.144679, T=0.02362, TIT=0.00196833, IT=12\n",
    "```"
   ]
  },
  {
   "cell_type": "markdown",
   "id": "4bff9f54",
   "metadata": {
    "hidden": true,
    "solution2": "hidden"
   },
   "source": [
    "*The previous solver uses 7 iterations and the new solver uses 10 iterations.*"
   ]
  },
  {
   "cell_type": "markdown",
   "id": "eb1d3b51",
   "metadata": {
    "hidden": true
   },
   "source": [
    "## Exercise 2"
   ]
  },
  {
   "cell_type": "markdown",
   "id": "0aab5784",
   "metadata": {
    "hidden": true
   },
   "source": [
    "Now consider the extended equation of the form\n",
    "\\begin{align}\n",
    "    \\begin{array}{rcll}\n",
    "      -\\nabla\\cdot (k(x) \\nabla u) +a(x) u  & = & f & \\text{ in } \\Omega, \\\\\n",
    "      u & = & g & \\text{ on } \\partial\\Omega,\n",
    "    \\end{array}\n",
    "\\end{align}\n",
    "with scalar functions $k(x)$, $a(x)$.\n",
    "\n",
    "This is the linear convection-diffusion equation, with $k(x)$ being the diffusion coefficient and $a(x)$ the reaction term."
   ]
  },
  {
   "cell_type": "markdown",
   "id": "6984ec49",
   "metadata": {
    "hidden": true,
    "solution2": "hidden",
    "solution2_first": true
   },
   "source": [
    "1. In a first step show that the weak formulation of the problem\n",
    "  involves the new bilinear form\n",
    "  \\begin{align}\n",
    "    a(u,v) = \\int_\\Omega k(x) \\nabla u(x) \\cdot \\nabla v(x) + a(x) u(x) v(x) \\,dx .\n",
    "  \\end{align}\n",
    "<a id='newBilinearForm'> </a>"
   ]
  },
  {
   "cell_type": "markdown",
   "id": "6ec64fff",
   "metadata": {
    "hidden": true,
    "solution2": "hidden"
   },
   "source": [
    "*This closely follows the derivation of the bilinear form as shown in section [Weak Formulation](#weakFormulation)  for the unextended equation.*"
   ]
  },
  {
   "cell_type": "markdown",
   "id": "e022fdf6",
   "metadata": {
    "hidden": true,
    "solution2": "hidden",
    "solution2_first": true
   },
   "source": [
    "2. The main work is to extend the local operator given by the class\n",
    "  `PoissonP1`. Your modifications should be done in the file `mypoissonp1.hh`, which is simply a copy of `poissonp1.hh`. The extension can be done in several steps:\n",
    "\n",
    " - Provide analytic functions for $k(x)$ and $a(x)$ and pass\n",
    "    grid functions to the local operator like it is done for $f(x)$.\n",
    " - Extend the local operator to first handle $k(x)$ by assuming the\n",
    "    function $k(x)$ to be *constant* on mesh elements.\n",
    " - Now extend the local operator (in `mypoissonp1.hh`) to handle $a(x) u(x)$. Also assume the function $a(x)$ to be *constant* on mesh elements.\n"
   ]
  },
  {
   "cell_type": "markdown",
   "id": "47486417",
   "metadata": {
    "hidden": true,
    "solution2": "hidden"
   },
   "source": [
    "- *The solution for providing the analytic functions and passing grid functions to the local operator are embedded in the notebook [(go to solution)](#solex2)*. \n",
    "- *The place to include your modified local operator or the solution can be found [here](solex2LOP)*.\n",
    "- *The solution for changes within the local operator can be found in `solutionpoissonp1.hh`. Additionally, in the following an overview of the main changes within the local operator is provided*."
   ]
  },
  {
   "cell_type": "markdown",
   "id": "4cf286b7",
   "metadata": {
    "hidden": true,
    "solution2": "hidden"
   },
   "source": [
    "Overview Changes in `poissonp1.hh`\n",
    " - *The local operator is implemented as the class PoissonP1. In order to extend the local operator to handle the functions $k(x)$ and $a(x)$, it is provided with two additional data members, k and a. Note, that these are **scalars**, as $k(x)$ and $a(x)$ are constant on mesh elements. As these are provided from outside the local operator, the constructor needs to be adapted as well.*"
   ]
  },
  {
   "cell_type": "markdown",
   "id": "1aa40434",
   "metadata": {
    "hidden": true,
    "solution2": "hidden"
   },
   "source": [
    "```cpp\n",
    "// data members\n",
    "  ...\n",
    "  const K k;              // diffusion coefficient\n",
    "  const T a;              // reaction term\n",
    "\n",
    "// Constructor precomputes element independent data\n",
    "  PoissonP1 (const F& f_, const K& k_, const T& a_, const FiniteElementType& fel)\n",
    "    : f(f_), k(k_), a(a_)\n",
    "```"
   ]
  },
  {
   "cell_type": "markdown",
   "id": "aef17938",
   "metadata": {
    "hidden": true,
    "solution2": "hidden"
   },
   "source": [
    "- *As described before, the method `jacobian_volume` computes the element contributions to the stiffness matrix for a given element. As the [new bilinear form $a(u,v)$](#newBilinearForm) includes $a(x)$ and $k(x)$, these need to be included in `jacobian_volume` as well.*"
   ]
  },
  {
   "cell_type": "markdown",
   "id": "af43c0ac",
   "metadata": {
    "hidden": true,
    "solution2": "hidden"
   },
   "source": [
    "```cpp\n",
    "void jacobian_volume (...) const \n",
    "{\n",
    "    // evaluate diffusion coefficient\n",
    "    typename K::Traits::RangeType kval;\n",
    "    k.evaluate(eg.entity(),qp,kval);\n",
    "\n",
    "    // evaluate reaction coefficient\n",
    "    typename T::Traits::RangeType aval;\n",
    "    a.evaluate(eg.entity(),qp,aval);           \n",
    "               ...                \n",
    "    mat.accumulate(lfsu,i,lfsu,j,(kval*A[i][j]+aval*phihat[j]*phihat[i] )*factor);\n",
    "}\n",
    "```"
   ]
  },
  {
   "cell_type": "markdown",
   "id": "df882afa",
   "metadata": {
    "hidden": true,
    "solution2": "hidden"
   },
   "source": [
    "- *Hence also the method `alpha_volume` needs to be adadpted. As a reminder, it provides the element-local computations for the matrix-free evaluation of $a(u_h,\\phi_i)$ for all test functions $\\phi_i$.*"
   ]
  },
  {
   "cell_type": "markdown",
   "id": "dc10f309",
   "metadata": {
    "hidden": true,
    "solution2": "hidden"
   },
   "source": [
    "```cpp\n",
    "void alpha_volume (...) const{\n",
    "    // evaluate diffusion coefficient\n",
    "    typename K::Traits::RangeType kval;\n",
    "    k.evaluate(eg.entity(),qp,kval);\n",
    "\n",
    "    // evaluate reaction coefficient\n",
    "    typename T::Traits::RangeType aval;\n",
    "    a.evaluate(eg.entity(),qp,aval);           \n",
    "    ...\n",
    "    r.accumulate(lfsv,i,(kval*a_T[i]+aval*u*phihat[i])*factor);\n",
    "}\n",
    "```"
   ]
  },
  {
   "cell_type": "markdown",
   "id": "822d4dcf",
   "metadata": {
    "hidden": true,
    "solution2": "hidden",
    "solution2_first": true
   },
   "source": [
    "3. Use your new local operator and test it. In the solution the code is tested for $k(x) = (x)_1$,\n",
    "  $a(x)=\\sum_{i=1}^{d}(x)_i$ and $g=\\sum_{i=1}^d (x)_i^3$ by choosing  the right hand side $f(x)$ in such a way that $u(x)=\\sum_{i=1}^d (x)_i^3$ solves the PDE."
   ]
  },
  {
   "cell_type": "markdown",
   "id": "aa4be945",
   "metadata": {
    "hidden": true,
    "solution2": "hidden"
   },
   "source": [
    " - *Reversed engineering yields $f(x) = - \\left[6 \\left(\\sum_{i=1}^{d}(x)_i - (x)_1\\right)+ 9(x)_1 \\right] \\cdot x_1 + \\sum_{i=1}^{d}(x)_i \\cdot \\sum_{j=1}^{d}(x)^3_i$.* \n",
    " \n",
    "*Below the solution is depicted.*"
   ]
  },
  {
   "cell_type": "markdown",
   "id": "a1e95b6b",
   "metadata": {
    "hidden": true,
    "solution2": "hidden"
   },
   "source": [
    "<img src=\"images/ex2.png\" style = \"width:80%; margin-bottom: 0.5em\">"
   ]
  },
  {
   "cell_type": "markdown",
   "id": "4b0fbfef",
   "metadata": {
    "heading_collapsed": true
   },
   "source": [
    "# Further Reading"
   ]
  },
  {
   "cell_type": "markdown",
   "id": "dbb8d3ce-077a-4201-921c-43934da52064",
   "metadata": {
    "hidden": true
   },
   "source": [
    "Finite element method:\n",
    "1. K. Eriksson, D. Estep, P. Hansbo and C. Johnson. *Computational Differential Equations*. Cambridge University Press.1996. \n",
    "2. A. Ern and J.-L. Guermond. *Theory and practice of finite element methods*. Springer. 2004.\n",
    "3. P. G. Ciarlet. *The finite element method for elliptic problems*. SIAM. Classics in Applied Mathematics. 2002.\n",
    "4. D. Braess. *Finite Elemente*. Springer. 2003.\n",
    "5. S. C. Brenner and L. R. Scott. *The mathematical theory of finite element methods*. Springer. 1994.\n",
    "6. H. Elman, D. Silvester and A. Wathen.*Finite Elements and Fast Iterative Solvers*. Oxford University Press. 2005.\n",
    "7. C. Großmann and H.-G. Roos. *Numerische Behandlung partieller Differentialgleichungen*. Teubner. 2006.\n",
    "8. W. Hackbusch. *Theorie und Numerik elliptischer Differentialgleichungen*. Teubner. 1986.\n",
    "9. R. Rannacher. *Einführung in die Numerische Mathematik II (Numerik partieller Differentialgleichungen)*. 2006. http://numerik.iwr.uni-heidelberg.de/~lehre/notes.\n",
    "10. P. Bastian. *Lecture Notes on Scientific Computing with Partial Differential Equations*. 2014. https://conan.iwr.uni-heidelberg.de/data/teaching/finiteelements_ws2017/num2.pdf.\n",
    "\n",
    "<a id='FurtherReading'> </a>"
   ]
  }
 ],
 "metadata": {
  "kernelspec": {
   "display_name": "C++17 (DUNE)",
   "language": "C++17",
   "name": "90f694aa-4041-547e-bba1-934968691da0"
  },
  "language_info": {
   "codemirror_mode": "text/x-c++src",
   "file_extension": ".cpp",
   "mimetype": "text/x-c++src",
   "name": "c++",
   "version": "17"
  },
  "toc": {
   "base_numbering": 1,
   "nav_menu": {},
   "number_sections": true,
   "sideBar": true,
   "skip_h1_title": false,
   "title_cell": "Table of Contents",
   "title_sidebar": "Contents",
   "toc_cell": false,
   "toc_position": {},
   "toc_section_display": true,
   "toc_window_display": true
  },
  "toc-autonumbering": false,
  "toc-showtags": false
 },
 "nbformat": 4,
 "nbformat_minor": 5
}
