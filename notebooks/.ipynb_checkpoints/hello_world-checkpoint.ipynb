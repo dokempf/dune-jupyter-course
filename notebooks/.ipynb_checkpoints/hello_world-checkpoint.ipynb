{
 "cells": [
  {
   "cell_type": "code",
   "execution_count": 1,
   "id": "executed-asian",
   "metadata": {},
   "outputs": [],
   "source": [
    "#include<dune/common/fvector.hh>"
   ]
  },
  {
   "cell_type": "code",
   "execution_count": 2,
   "id": "sporting-adobe",
   "metadata": {},
   "outputs": [],
   "source": [
    "Dune::FieldVector<double, 3> x(1.0);"
   ]
  },
  {
   "cell_type": "code",
   "execution_count": 3,
   "id": "younger-trace",
   "metadata": {},
   "outputs": [
    {
     "data": {
      "text/plain": [
       "{ 1.0000000, 1.0000000, 1.0000000 }"
      ]
     },
     "execution_count": 3,
     "metadata": {},
     "output_type": "execute_result"
    }
   ],
   "source": [
    "x"
   ]
  }
 ],
 "metadata": {
  "kernelspec": {
   "display_name": "C++17 (DUNE)",
   "language": "C++17",
   "name": "90f694aa-4041-547e-bba1-934968691da0"
  },
  "language_info": {
   "codemirror_mode": "text/x-c++src",
   "file_extension": ".cpp",
   "mimetype": "text/x-c++src",
   "name": "c++",
   "version": "17"
  }
 },
 "nbformat": 4,
 "nbformat_minor": 5
}
